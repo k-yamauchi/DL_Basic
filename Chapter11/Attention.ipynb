{
 "cells": [
  {
   "cell_type": "markdown",
   "metadata": {},
   "source": [
    "## Attentionを用いた機械翻訳モデルの実装"
   ]
  },
  {
   "cell_type": "code",
<<<<<<< HEAD
<<<<<<< HEAD
<<<<<<< HEAD
<<<<<<< HEAD
   "execution_count": 222,
   "metadata": {},
   "outputs": [],
=======
=======
>>>>>>> 1c7d0f143dc936c9b28e0e156f720b0fce55eafd
=======
>>>>>>> 1c7d0f143dc936c9b28e0e156f720b0fce55eafd
=======
>>>>>>> 1c7d0f143dc936c9b28e0e156f720b0fce55eafd
   "execution_count": 1,
   "metadata": {},
   "outputs": [
    {
     "name": "stderr",
     "output_type": "stream",
     "text": [
      "Using TensorFlow backend.\n"
     ]
    }
   ],
<<<<<<< HEAD
<<<<<<< HEAD
<<<<<<< HEAD
>>>>>>> 1c7d0f143dc936c9b28e0e156f720b0fce55eafd
=======
>>>>>>> 1c7d0f143dc936c9b28e0e156f720b0fce55eafd
=======
>>>>>>> 1c7d0f143dc936c9b28e0e156f720b0fce55eafd
=======
>>>>>>> 1c7d0f143dc936c9b28e0e156f720b0fce55eafd
   "source": [
    "%matplotlib inline\n",
    "\n",
    "import os\n",
    "\n",
    "import matplotlib\n",
    "import numpy as np\n",
    "import tensorflow as tf\n",
    "import matplotlib.pyplot as plt\n",
    "from keras.preprocessing.sequence import pad_sequences\n",
    "from sklearn.model_selection import train_test_split\n",
    "\n",
    "rng = np.random.RandomState(1234)\n",
    "random_state = 42"
   ]
  },
  {
   "cell_type": "markdown",
   "metadata": {},
   "source": [
    "### 1. データセットの読み込みと単語・品詞のID化"
   ]
  },
  {
   "cell_type": "markdown",
   "metadata": {},
   "source": [
    "前回と同様Tanaka Corpusの一部を抽出したデータセット (https://github.com/odashi/small_parallel_enja) を使います."
   ]
  },
  {
   "cell_type": "code",
<<<<<<< HEAD
<<<<<<< HEAD
<<<<<<< HEAD
<<<<<<< HEAD
   "execution_count": 223,
=======
   "execution_count": 2,
>>>>>>> 1c7d0f143dc936c9b28e0e156f720b0fce55eafd
=======
   "execution_count": 2,
>>>>>>> 1c7d0f143dc936c9b28e0e156f720b0fce55eafd
=======
   "execution_count": 2,
>>>>>>> 1c7d0f143dc936c9b28e0e156f720b0fce55eafd
=======
   "execution_count": 2,
>>>>>>> 1c7d0f143dc936c9b28e0e156f720b0fce55eafd
   "metadata": {
    "collapsed": true
   },
   "outputs": [],
   "source": [
    "def build_vocab(file_path, target):\n",
    "    vocab = set()\n",
    "    for line in open(file_path, encoding='utf-8'):\n",
    "        words = line.strip().split()\n",
    "        vocab.update(words)\n",
    "\n",
    "    if target:\n",
<<<<<<< HEAD
<<<<<<< HEAD
<<<<<<< HEAD
<<<<<<< HEAD
    "        w2i = {w: np.int32(i+3) for i, w in enumerate(vocab)}\n",
    "        w2i['<s>'], w2i['</s>'] = np.int32(1), np.int32(2) # 文の先頭・終端記号\n",
    "    else:\n",
    "        w2i = {w: np.int32(i) for i, w in enumerate(vocab)}\n",
    "    w2i['<pad>'] = np.int32(0)  \n",
=======
=======
>>>>>>> 1c7d0f143dc936c9b28e0e156f720b0fce55eafd
=======
>>>>>>> 1c7d0f143dc936c9b28e0e156f720b0fce55eafd
=======
>>>>>>> 1c7d0f143dc936c9b28e0e156f720b0fce55eafd
    "        w2i = {w: np.int32(i+2) for i, w in enumerate(vocab)}\n",
    "        w2i['<s>'], w2i['</s>'] = np.int32(0), np.int32(1) # 文の先頭・終端記号\n",
    "    else:\n",
    "        w2i = {w: np.int32(i) for i, w in enumerate(vocab)}\n",
    "\n",
<<<<<<< HEAD
<<<<<<< HEAD
<<<<<<< HEAD
>>>>>>> 1c7d0f143dc936c9b28e0e156f720b0fce55eafd
=======
>>>>>>> 1c7d0f143dc936c9b28e0e156f720b0fce55eafd
=======
>>>>>>> 1c7d0f143dc936c9b28e0e156f720b0fce55eafd
=======
>>>>>>> 1c7d0f143dc936c9b28e0e156f720b0fce55eafd
    "    return w2i\n",
    "\n",
    "def encode(sentence, w2i):\n",
    "    encoded_sentence = []\n",
    "    for w in sentence:\n",
    "        encoded_sentence.append(w2i[w])\n",
    "    return encoded_sentence\n",
    "\n",
    "def load_data(file_path, vocab=None, w2i=None, target=True):\n",
    "    if vocab is None and w2i is None:\n",
    "        w2i = build_vocab(file_path, target)\n",
    "    \n",
    "    data = []\n",
    "    for line in open(file_path, encoding='utf-8'):\n",
    "        s = line.strip().split()\n",
    "        if target:\n",
    "            s = ['<s>'] + s + ['</s>']\n",
    "        enc = encode(s, w2i)\n",
    "        data.append(enc)\n",
    "    i2w = {i: w for w, i in w2i.items()}\n",
    "    return data, w2i, i2w"
   ]
  },
  {
   "cell_type": "code",
<<<<<<< HEAD
<<<<<<< HEAD
<<<<<<< HEAD
<<<<<<< HEAD
   "execution_count": 224,
   "metadata": {
    "collapsed": true
   },
=======
   "execution_count": 5,
   "metadata": {},
>>>>>>> 1c7d0f143dc936c9b28e0e156f720b0fce55eafd
=======
   "execution_count": 5,
   "metadata": {},
>>>>>>> 1c7d0f143dc936c9b28e0e156f720b0fce55eafd
=======
   "execution_count": 5,
   "metadata": {},
>>>>>>> 1c7d0f143dc936c9b28e0e156f720b0fce55eafd
=======
   "execution_count": 5,
   "metadata": {},
>>>>>>> 1c7d0f143dc936c9b28e0e156f720b0fce55eafd
   "outputs": [],
   "source": [
    "# 出力系列にのみ'<s>', '</s>'をつける\n",
    "train_X, e_w2i, e_i2w = load_data('train.en', target=False)\n",
    "train_y, j_w2i, j_i2w = load_data('train.ja', target=True)\n",
    "\n",
    "train_X, test_X, train_y, test_y = train_test_split(train_X, train_y, test_size=0.1, random_state=random_state)\n",
    "train_X, valid_X, train_y, valid_y = train_test_split(train_X, train_y, test_size=0.1, random_state=random_state)"
   ]
  },
  {
   "cell_type": "code",
<<<<<<< HEAD
<<<<<<< HEAD
<<<<<<< HEAD
<<<<<<< HEAD
   "execution_count": 228,
=======
   "execution_count": 6,
>>>>>>> 1c7d0f143dc936c9b28e0e156f720b0fce55eafd
=======
   "execution_count": 6,
>>>>>>> 1c7d0f143dc936c9b28e0e156f720b0fce55eafd
=======
   "execution_count": 6,
>>>>>>> 1c7d0f143dc936c9b28e0e156f720b0fce55eafd
=======
   "execution_count": 6,
>>>>>>> 1c7d0f143dc936c9b28e0e156f720b0fce55eafd
   "metadata": {
    "collapsed": true
   },
   "outputs": [],
   "source": [
    "train_X_lens = [len(com) for com in train_X]\n",
    "valid_X_lens = [len(com) for com in valid_X]\n",
    "sorted_train_indexes = sorted(range(len(train_X_lens)), key=lambda x: -train_X_lens[x])\n",
    "sorted_valid_indexes = sorted(range(len(valid_X_lens)), key=lambda x: -valid_X_lens[x])\n",
    "\n",
    "train_X = [train_X[ind] for ind in sorted_train_indexes]\n",
    "train_y = [train_y[ind] for ind in sorted_train_indexes]\n",
    "valid_X = [valid_X[ind] for ind in sorted_valid_indexes]\n",
    "valid_y = [valid_y[ind] for ind in sorted_valid_indexes]"
   ]
  },
  {
   "cell_type": "markdown",
   "metadata": {},
   "source": [
    "### 2. 各層クラスの実装"
   ]
  },
  {
   "cell_type": "markdown",
   "metadata": {},
   "source": [
    "Embedding, LSTM, Denseクラスは前回用いたものと同じです."
   ]
  },
  {
   "cell_type": "code",
<<<<<<< HEAD
<<<<<<< HEAD
<<<<<<< HEAD
<<<<<<< HEAD
   "execution_count": 230,
=======
   "execution_count": 7,
>>>>>>> 1c7d0f143dc936c9b28e0e156f720b0fce55eafd
=======
   "execution_count": 7,
>>>>>>> 1c7d0f143dc936c9b28e0e156f720b0fce55eafd
=======
   "execution_count": 7,
>>>>>>> 1c7d0f143dc936c9b28e0e156f720b0fce55eafd
=======
   "execution_count": 7,
>>>>>>> 1c7d0f143dc936c9b28e0e156f720b0fce55eafd
   "metadata": {
    "collapsed": true
   },
   "outputs": [],
   "source": [
    "class Embedding:\n",
    "    def __init__(self, vocab_size, emb_dim, scale=0.08):\n",
    "        self.V = tf.Variable(rng.randn(vocab_size, emb_dim).astype('float32') * scale, name='V')\n",
    "\n",
    "    def f_prop(self, x):\n",
    "        return tf.nn.embedding_lookup(self.V, x)\n",
    "    \n",
    "    def f_prop_test(self, x_t):\n",
    "        return tf.nn.embedding_lookup(self.V, x_t)"
   ]
  },
  {
   "cell_type": "code",
<<<<<<< HEAD
<<<<<<< HEAD
<<<<<<< HEAD
<<<<<<< HEAD
   "execution_count": 231,
=======
   "execution_count": 8,
>>>>>>> 1c7d0f143dc936c9b28e0e156f720b0fce55eafd
=======
   "execution_count": 8,
>>>>>>> 1c7d0f143dc936c9b28e0e156f720b0fce55eafd
=======
   "execution_count": 8,
>>>>>>> 1c7d0f143dc936c9b28e0e156f720b0fce55eafd
=======
   "execution_count": 8,
>>>>>>> 1c7d0f143dc936c9b28e0e156f720b0fce55eafd
   "metadata": {
    "collapsed": true
   },
   "outputs": [],
   "source": [
    "class LSTM:\n",
    "    def __init__(self, in_dim, hid_dim, m, h_0=None, c_0=None):\n",
    "        self.in_dim = in_dim\n",
    "        self.hid_dim = hid_dim\n",
    "\n",
    "        # input gate\n",
    "        self.W_xi = tf.Variable(tf.random_uniform([in_dim, hid_dim], minval=-0.08, maxval=0.08, dtype=tf.float32), name='W_xi')\n",
    "        self.W_hi = tf.Variable(tf.random_uniform([hid_dim, hid_dim], minval=-0.08, maxval=0.08, dtype=tf.float32), name='W_hi')\n",
    "        self.b_i  = tf.Variable(tf.random_uniform([hid_dim], minval=-0.08, maxval=0.08, dtype=tf.float32), name='b_i')\n",
    "        \n",
    "        # forget gate\n",
    "        self.W_xf = tf.Variable(tf.random_uniform([in_dim, hid_dim], minval=-0.08, maxval=0.08, dtype=tf.float32), name='W_xf')\n",
    "        self.W_hf = tf.Variable(tf.random_uniform([hid_dim, hid_dim], minval=-0.08, maxval=0.08, dtype=tf.float32), name='W_xf')\n",
    "        self.b_f  = tf.Variable(tf.random_uniform([hid_dim], minval=-0.08, maxval=0.08, dtype=tf.float32), name='b_f')\n",
    "\n",
    "        # output gate\n",
    "        self.W_xo = tf.Variable(tf.random_uniform([in_dim, hid_dim], minval=-0.08, maxval=0.08, dtype=tf.float32), name='W_xo')\n",
    "        self.W_ho = tf.Variable(tf.random_uniform([hid_dim, hid_dim], minval=-0.08, maxval=0.08, dtype=tf.float32), name='W_ho')\n",
    "        self.b_o  = tf.Variable(tf.random_uniform([hid_dim], minval=-0.08, maxval=0.08, dtype=tf.float32), name='b_o')\n",
    "\n",
    "        # cell state\n",
    "        self.W_xc = tf.Variable(tf.random_uniform([in_dim, hid_dim], minval=-0.08, maxval=0.08, dtype=tf.float32), name='W_xc')\n",
    "        self.W_hc = tf.Variable(tf.random_uniform([hid_dim, hid_dim], minval=-0.08, maxval=0.08, dtype=tf.float32), name='W_hc')\n",
    "        self.b_c  = tf.Variable(tf.random_uniform([hid_dim], minval=-0.08, maxval=0.08, dtype=tf.float32), name='b_c')\n",
    "\n",
    "        # initial state\n",
    "        self.h_0 = h_0\n",
    "        self.c_0 = c_0\n",
    "\n",
    "        # mask\n",
    "        self.m = m\n",
    "\n",
    "    def f_prop(self, x):\n",
    "        def fn(tm1, x_and_m):\n",
    "            h_tm1 = tm1[0]\n",
    "            c_tm1 = tm1[1]\n",
    "            x_t = x_and_m[0]\n",
    "            m_t = x_and_m[1]\n",
    "            # input gate\n",
    "            i_t = tf.nn.sigmoid(tf.matmul(x_t, self.W_xi) + tf.matmul(h_tm1, self.W_hi) + self.b_i)\n",
    "\n",
    "            # forget gate\n",
    "            f_t = tf.nn.sigmoid(tf.matmul(x_t, self.W_xf) + tf.matmul(h_tm1, self.W_hf) + self.b_f)\n",
    "\n",
    "            # output gate\n",
    "            o_t = tf.nn.sigmoid(tf.matmul(x_t, self.W_xo) + tf.matmul(h_tm1, self.W_ho) + self.b_o)\n",
    "\n",
    "            # cell state\n",
    "            c_t = f_t * c_tm1 + i_t * tf.nn.tanh(tf.matmul(x_t, self.W_xc) + tf.matmul(h_tm1, self.W_hc) + self.b_c)\n",
    "            c_t = m_t[:, np.newaxis] * c_t + (1. - m_t[:, np.newaxis]) * c_tm1 # Mask\n",
    "\n",
    "            # hidden state\n",
    "            h_t = o_t * tf.nn.tanh(c_t)\n",
    "            h_t = m_t[:, np.newaxis] * h_t + (1. - m_t[:, np.newaxis]) * h_tm1 # Mask\n",
    "\n",
    "            return [h_t, c_t]\n",
    "\n",
    "        _x = tf.transpose(x, perm=[1, 0, 2])\n",
    "        _m = tf.transpose(self.m)\n",
    "\n",
    "        if self.h_0 == None:\n",
    "            self.h_0 = tf.matmul(x[:, 0, :], tf.zeros([self.in_dim, self.hid_dim]))\n",
    "        if self.c_0 == None:\n",
    "            self.c_0 = tf.matmul(x[:, 0, :], tf.zeros([self.in_dim, self.hid_dim]))\n",
    "\n",
    "        h, c = tf.scan(fn=fn, elems=[_x, _m], initializer=[self.h_0, self.c_0])\n",
    "        return tf.transpose(h, perm=[1, 0, 2]), tf.transpose(c, perm=[1, 0, 2])\n",
    "    \n",
    "    def f_prop_test(self, x_t):\n",
    "        # input gate\n",
    "        i_t = tf.nn.sigmoid(tf.matmul(x_t, self.W_xi) + tf.matmul(self.h_0, self.W_hi) + self.b_i)\n",
    "\n",
    "        # forget gate\n",
    "        f_t = tf.nn.sigmoid(tf.matmul(x_t, self.W_xf) + tf.matmul(self.h_0, self.W_hf) + self.b_f)\n",
    "\n",
    "        # output gate\n",
    "        o_t = tf.nn.sigmoid(tf.matmul(x_t, self.W_xo) + tf.matmul(self.h_0, self.W_ho) + self.b_o)\n",
    "\n",
    "        # cell state\n",
    "        c_t = f_t * self.c_0 + i_t * tf.nn.tanh(tf.matmul(x_t, self.W_xc) + tf.matmul(self.h_0, self.W_hc) + self.b_c)\n",
    "\n",
    "        # hidden state\n",
    "        h_t = o_t * tf.nn.tanh(c_t)\n",
    "\n",
    "        return [h_t, c_t]"
   ]
  },
  {
   "cell_type": "code",
<<<<<<< HEAD
<<<<<<< HEAD
<<<<<<< HEAD
<<<<<<< HEAD
   "execution_count": 232,
   "metadata": {
    "collapsed": true
   },
=======
   "execution_count": 10,
   "metadata": {},
>>>>>>> 1c7d0f143dc936c9b28e0e156f720b0fce55eafd
=======
   "execution_count": 10,
   "metadata": {},
>>>>>>> 1c7d0f143dc936c9b28e0e156f720b0fce55eafd
=======
   "execution_count": 10,
   "metadata": {},
>>>>>>> 1c7d0f143dc936c9b28e0e156f720b0fce55eafd
=======
   "execution_count": 10,
   "metadata": {},
>>>>>>> 1c7d0f143dc936c9b28e0e156f720b0fce55eafd
   "outputs": [],
   "source": [
    "class Dense:\n",
    "    def __init__(self, in_dim, out_dim, function=lambda x: x):\n",
    "        # Xavier\n",
    "        self.W = tf.Variable(rng.uniform(\n",
    "                        low=-np.sqrt(6/(in_dim + out_dim)),\n",
    "                        high=np.sqrt(6/(in_dim + out_dim)),\n",
    "                        size=(in_dim, out_dim)\n",
    "                    ).astype('float32'), name='W')\n",
    "        self.b = tf.Variable(tf.zeros([out_dim], dtype=tf.float32), name='b')\n",
    "        self.function = function\n",
    "\n",
    "    def f_prop(self, x):\n",
    "        return self.function(tf.einsum('ijk,kl->ijl', x, self.W) + self.b)\n",
    "\n",
    "    def f_prop_test(self, x_t):\n",
    "        return self.function(tf.matmul(x_t, self.W) + self.b)"
   ]
  },
  {
   "cell_type": "markdown",
   "metadata": {},
   "source": [
    "#### 2.1. Attention層"
   ]
  },
  {
   "cell_type": "markdown",
   "metadata": {},
   "source": [
    "今回は Luong et al., 2015のGlobal attentionモデルを実装します.\n",
    "\n",
    "- \"Effective Approaches to Attention-based Neural Machine Translation\", Minh-Thang Luong et al., EMNLP 2015 https://arxiv.org/abs/1508.04025\n",
    "\n",
    "前回実装したモデルは左図, 今回実装するモデルは右図になります."
   ]
  },
  {
   "cell_type": "markdown",
   "metadata": {},
   "source": [
    "<img src=\"img/attention-1.png\" width=\"1000mm\">"
   ]
  },
  {
   "cell_type": "markdown",
   "metadata": {},
   "source": [
    "#### Decoderの各ステップにおける計算の手順\n",
    "\n",
    "Encoderの各ステップの隠れ層を\n",
    "\n",
    "$$\n",
    "    \\bar{h} = \\{\\bar{h}_1, \\bar{h}_2, \\ldots, \\bar{h}_s, \\ldots, \\bar{h}_S\\}\n",
    "$$\n",
    "\n",
    "Decoderの各ステップの隠れ層を\n",
    "\n",
    "$$\n",
    "    h = \\{h_1, h_2, \\ldots, h_t, \\ldots, h_T\\}\n",
    "$$\n",
    "\n",
    "とします."
   ]
  },
  {
   "cell_type": "markdown",
   "metadata": {},
   "source": [
    "Attention Layerの計算手順は以下のようになります.\n",
    "\n",
    "1. まずRNN (or LSTM, GRU, etc.) により, 隠れ層ベクトルを計算します.\n",
    "$$\n",
    "    h_t = \\mathrm{RNN}(h_{t-1}, x_t)\n",
    "$$\n",
    "2. 次に, 入力系列のどのステップに注目するのかの**重み**$a_t(s)$を, score関数 (後述) により計算します.\n",
    "$$\n",
    "    a_t(s) = \\frac{\\exp(\\mathrm{score}(\\bar{h}_s, h_t))}{\\sum^S_{s'=1}\\exp(\\mathrm{score}(\\bar{h}_s, h_t))}\n",
    "$$\n",
    "3. 2.で計算した重みをもとに, Encoderの各ステップの隠れ層に対する重み付き平均ベクトル (**文脈ベクトル**) $c_t$ を計算します.\n",
    "$$\n",
    "    c_t = \\sum^S_{s=1} a_t(s) \\bar{h}_s\n",
    "$$\n",
    "4. 3.で計算した文脈ベクトルと1.で計算した隠れ層ベクトルから, 新しい出力ベクトルを計算します.\n",
    "$$\n",
    "    \\tilde{h}_t = \\tanh(W_h h_t + W_c c_t + b)\n",
    "$$\n",
    "5. 新しい出力ベクトル$\\tilde{h}_t$をもとに各単語の出力確率を計算します.\n",
    "$$\n",
    "    y_t = \\mathrm{softmax}(W_{out}\\tilde{h}_t + b_{out})\n",
    "$$\n",
    "\n",
    "論文では$\\tilde{h}_t$が次のタイムステップのLSTMにfeedされる方法も示されています. 他の論文でもそのようにしているものも多いです. その場合, Attention層とLSTM層は分けずに, 同じクラスで書くことになります."
   ]
  },
  {
   "cell_type": "markdown",
   "metadata": {},
   "source": [
    "#### score関数について\n",
    "\n",
    "Encoderのどこに注目するかを決める関数です. 今回の実装では,\n",
    "\n",
    "$$\n",
    "   \\mathrm{score}(\\bar{h}_s, h_t) = h_t^{\\mathrm{T}} W_a \\bar{h}_s\n",
    "$$\n",
    "\n",
    "としています. これ以外にも, たとえば以下の様なものが提案されています.\n",
    "\n",
    "$$\n",
    "\\mathrm{score}(\\bar{h}_s, h_t) =\n",
    "\\begin{cases}\n",
    "    {h_t}^{\\mathrm{T}} \\bar{h}_s \\\\\n",
    "    v^{\\mathrm{T}} \\tanh(W_{ad} h_t + W_{ae} \\bar{h}_s)\n",
    "\\end{cases}\n",
    "$$"
   ]
  },
  {
   "cell_type": "markdown",
   "metadata": {},
   "source": [
    "#### Attentionのマスクについて\n",
    "\n",
    "前回と同様, 今回のモデルにおいてもミニバッチ化の際には短い系列に対してpaddingを行います.\n",
    "\n",
    "Encoderのpaddingした部分に対してはattendしたくないので, $\\exp(\\mathrm{score}(\\bar{h}_s, h_t))$ がゼロになるように (score関数の値がとても小さな値になるように) マスクをかけます. 具体的に下の実装では, 実際に単語がある部分に対しては1, paddingの部分には$-10^{10}$をかけるようにしています."
   ]
  },
  {
   "cell_type": "code",
<<<<<<< HEAD
<<<<<<< HEAD
<<<<<<< HEAD
<<<<<<< HEAD
   "execution_count": 233,
=======
   "execution_count": 12,
>>>>>>> 1c7d0f143dc936c9b28e0e156f720b0fce55eafd
=======
   "execution_count": 12,
>>>>>>> 1c7d0f143dc936c9b28e0e156f720b0fce55eafd
=======
   "execution_count": 12,
>>>>>>> 1c7d0f143dc936c9b28e0e156f720b0fce55eafd
=======
   "execution_count": 12,
>>>>>>> 1c7d0f143dc936c9b28e0e156f720b0fce55eafd
   "metadata": {
    "collapsed": true
   },
   "outputs": [],
   "source": [
    "class Attention:\n",
    "    def __init__(self, e_hid_dim, d_hid_dim, out_dim, h_enc, m_h_enc):\n",
    "        self.W_cc = tf.Variable(rng.uniform(low=-0.08, high=0.08, size=[e_hid_dim, out_dim]).astype('float32'), name='W_cc')\n",
    "        self.W_ch = tf.Variable(rng.uniform(low=-0.08, high=0.08, size=[d_hid_dim, out_dim]).astype('float32'), name='W_ch')\n",
    "        self.W_a  = tf.Variable(rng.uniform(low=-0.08, high=0.08, size=[e_hid_dim, d_hid_dim]).astype('float32'), name='W_a')\n",
    "        self.b    = tf.Variable(np.zeros([out_dim]).astype('float32'), name='b')\n",
    "        self.h_enc = h_enc\n",
    "        self.m_h_enc = m_h_enc\n",
    "\n",
    "    def f_prop(self, h_dec):\n",
    "        # self.h_enc: [batch_size(i), enc_length(j), e_hid_dim(k)]\n",
    "        # self.W_a  : [e_hid_dim(k), d_hid_dim(l)]\n",
    "        # -> h_enc: [batch_size(i), enc_length(j), d_hid_dim(l)]\n",
<<<<<<< HEAD
<<<<<<< HEAD
<<<<<<< HEAD
<<<<<<< HEAD
    "        h_enc = tf.einsum('ijk,kl->ijl', self.h_enc, self.W_a) \n",
=======
    "        h_enc = tf.einsum('ijk,kl->ijl', self.h_enc, self.W_a)\n",
>>>>>>> 1c7d0f143dc936c9b28e0e156f720b0fce55eafd
=======
    "        h_enc = tf.einsum('ijk,kl->ijl', self.h_enc, self.W_a)\n",
>>>>>>> 1c7d0f143dc936c9b28e0e156f720b0fce55eafd
=======
    "        h_enc = tf.einsum('ijk,kl->ijl', self.h_enc, self.W_a)\n",
>>>>>>> 1c7d0f143dc936c9b28e0e156f720b0fce55eafd
=======
    "        h_enc = tf.einsum('ijk,kl->ijl', self.h_enc, self.W_a)\n",
>>>>>>> 1c7d0f143dc936c9b28e0e156f720b0fce55eafd
    "        \n",
    "        # h_dec: [batch_size(i), dec_length(j), d_hid_dim(k)]\n",
    "        # h_enc: [batch_size(i), enc_length(l), d_hid_dim(k)]\n",
    "        # -> score: [batch_size(i), dec_length(j), enc_length(l)]\n",
    "        score = tf.einsum('ijk,ilk->ijl', h_dec, h_enc) # Attention score\n",
    "        \n",
    "        # score  : [batch_size, dec_length, enc_length]\n",
    "        # m_h_enc: [batch_size, enc_length] -> [batch_size, np.newaxis, enc_length]\n",
    "        score = score * self.m_h_enc[:, np.newaxis, :] # Mask\n",
    "        \n",
    "        # encoderのステップにそって正規化する\n",
    "        self.a = tf.nn.softmax(score) # Attention weight\n",
    "        \n",
    "        # self.a  : [batch_size(i), dec_length(j), enc_length(k)]\n",
    "        # self.enc: [batch_size(i), enc_length(k), e_hid_dim(l)]\n",
    "        # -> c: [batch_size(i), dec_length(j), e_hid_dim(l)]\n",
    "        c = tf.einsum('ijk,ikl->ijl', self.a, self.h_enc) # Context vector\n",
    "        \n",
    "        return tf.nn.tanh(tf.einsum('ijk,kl->ijl', c, self.W_cc) + tf.einsum('ijk,kl->ijl', h_dec, self.W_ch) + self.b)\n",
    "    \n",
    "    def f_prop_test(self, h_dec_t):\n",
    "        # self.h_enc: [batch_size(i), enc_length(j), e_hid_dim(k)]\n",
    "        # self.W_a  : [e_hid_dim(k), d_hid_dim(l)]\n",
    "        # -> h_enc: [batch_size(i), enc_length(j), d_hid_dim(l)]\n",
    "        h_enc = tf.einsum('ijk,kl->ijl', self.h_enc, self.W_a)\n",
    "        \n",
    "        # h_dec_t: [batch_size(i), d_hid_dim(j)]\n",
    "        # h_enc  : [batch_size(i), enc_length(k), d_hid_dim(j)]\n",
    "        # -> score: [batch_size(i), enc_length(k)]\n",
    "        score = tf.einsum('ij,ikj->ik', h_dec_t, h_enc) # Attention score\n",
    "        \n",
    "        # score       : [batch_size(i), enc_length(k)]\n",
    "        # self.m_h_enc: [batch_size(i), enc_length(k)]\n",
    "        score = score * self.m_h_enc # Mask\n",
    "        \n",
    "        self.a = tf.nn.softmax(score) # Attention weight\n",
    "        \n",
    "        # self.a    : [batch_size(i), enc_length(j)]\n",
    "        # self.h_enc: [batch_size(i), enc_length(j), e_hid_dim(k)]\n",
    "        # -> c: [batch_size(i), e_hid_dim(k)]\n",
    "        c = tf.einsum('ij,ijk->ik', self.a, self.h_enc) # Context vector\n",
    "\n",
    "        return tf.nn.tanh(tf.matmul(c, self.W_cc) + tf.matmul(h_dec_t, self.W_ch) + self.b)"
   ]
  },
  {
   "cell_type": "markdown",
   "metadata": {},
   "source": [
    "### 3. 計算グラフ構築 & パラメータの更新設定"
   ]
  },
  {
   "cell_type": "code",
<<<<<<< HEAD
<<<<<<< HEAD
<<<<<<< HEAD
<<<<<<< HEAD
   "execution_count": 234,
   "metadata": {},
=======
=======
>>>>>>> 1c7d0f143dc936c9b28e0e156f720b0fce55eafd
=======
>>>>>>> 1c7d0f143dc936c9b28e0e156f720b0fce55eafd
=======
>>>>>>> 1c7d0f143dc936c9b28e0e156f720b0fce55eafd
   "execution_count": 13,
   "metadata": {
    "collapsed": true
   },
<<<<<<< HEAD
<<<<<<< HEAD
<<<<<<< HEAD
>>>>>>> 1c7d0f143dc936c9b28e0e156f720b0fce55eafd
=======
>>>>>>> 1c7d0f143dc936c9b28e0e156f720b0fce55eafd
=======
>>>>>>> 1c7d0f143dc936c9b28e0e156f720b0fce55eafd
=======
>>>>>>> 1c7d0f143dc936c9b28e0e156f720b0fce55eafd
   "outputs": [],
   "source": [
    "e_vocab_size = len(e_w2i)\n",
    "j_vocab_size = len(j_w2i)\n",
    "emb_dim = 128\n",
    "e_hid_dim = 128\n",
    "d_hid_dim = 128\n",
    "\n",
    "x = tf.placeholder(tf.int32, [None, None], name='x')\n",
<<<<<<< HEAD
<<<<<<< HEAD
<<<<<<< HEAD
<<<<<<< HEAD
    "m = tf.cast(tf.not_equal(x, 0), tf.float32)\n",
=======
    "m = tf.cast(tf.not_equal(x, -1), tf.float32)\n",
>>>>>>> 1c7d0f143dc936c9b28e0e156f720b0fce55eafd
=======
    "m = tf.cast(tf.not_equal(x, -1), tf.float32)\n",
>>>>>>> 1c7d0f143dc936c9b28e0e156f720b0fce55eafd
=======
    "m = tf.cast(tf.not_equal(x, -1), tf.float32)\n",
>>>>>>> 1c7d0f143dc936c9b28e0e156f720b0fce55eafd
=======
    "m = tf.cast(tf.not_equal(x, -1), tf.float32)\n",
>>>>>>> 1c7d0f143dc936c9b28e0e156f720b0fce55eafd
    "d = tf.placeholder(tf.int32, [None, None], name='d')\n",
    "d_in = d[:, :-1]\n",
    "d_out = d[:, 1:]\n",
    "d_out_one_hot = tf.one_hot(d_out, depth=j_vocab_size, dtype=tf.float32)\n",
    "\n",
    "# Encoderの各ステップにたいするattentionのmask\n",
    "# tf.where: https://www.tensorflow.org/api_docs/python/tf/where\n",
    "# 引数\n",
    "# - condition: bool値のtensor\n",
    "# - x: bool値がTrueであるときに入力される値\n",
    "# - y: bool値がFalseであるときに入力される値\n",
    "m_h_enc = tf.where(\n",
<<<<<<< HEAD
<<<<<<< HEAD
<<<<<<< HEAD
<<<<<<< HEAD
    "    condition=tf.equal(x, 0),\n",
=======
    "    condition=tf.equal(x, -1),\n",
>>>>>>> 1c7d0f143dc936c9b28e0e156f720b0fce55eafd
=======
    "    condition=tf.equal(x, -1),\n",
>>>>>>> 1c7d0f143dc936c9b28e0e156f720b0fce55eafd
=======
    "    condition=tf.equal(x, -1),\n",
>>>>>>> 1c7d0f143dc936c9b28e0e156f720b0fce55eafd
=======
    "    condition=tf.equal(x, -1),\n",
>>>>>>> 1c7d0f143dc936c9b28e0e156f720b0fce55eafd
    "    x=tf.ones_like(x, dtype=tf.float32)*np.float32(-1e+10), # padding(-1)の部分には-10^10\n",
    "    y=tf.ones_like(x, dtype=tf.float32) # 実際の単語の部分には1\n",
    ")\n",
    "\n",
    "def f_props(layers, x):\n",
    "    for layer in layers:\n",
    "        x = layer.f_prop(x)\n",
    "    return x\n",
    "\n",
    "encoder = [\n",
    "    Embedding(e_vocab_size, emb_dim),\n",
    "    LSTM(emb_dim, e_hid_dim, m)\n",
    "]\n",
    "\n",
    "h_enc, c_enc = f_props(encoder, x)\n",
    "\n",
    "decoder_pre = [\n",
    "    Embedding(j_vocab_size, emb_dim),\n",
    "    LSTM(emb_dim, d_hid_dim, m=tf.ones_like(d_in, dtype='float32'), h_0=h_enc[:, -1, :], c_0=c_enc[:, -1, :])\n",
    "]\n",
    "\n",
    "decoder_post = [\n",
    "    Attention(e_hid_dim, d_hid_dim, d_hid_dim, h_enc, m_h_enc),\n",
    "    Dense(d_hid_dim, j_vocab_size, tf.nn.softmax)\n",
    "]\n",
    "\n",
    "h_dec, c_dec = f_props(decoder_pre, d_in)\n",
    "y = f_props(decoder_post, h_dec)\n",
    "\n",
    "cost = -tf.reduce_mean(tf.reduce_sum(d_out_one_hot * tf.log(tf.clip_by_value(y, 1e-10, 1.0)), axis=[1, 2]))\n",
    "\n",
    "train = tf.train.AdamOptimizer().minimize(cost)"
   ]
  },
  {
   "cell_type": "markdown",
   "metadata": {},
   "source": [
    "### 4. 学習"
   ]
  },
  {
   "cell_type": "code",
<<<<<<< HEAD
<<<<<<< HEAD
<<<<<<< HEAD
<<<<<<< HEAD
   "execution_count": 235,
=======
   "execution_count": 15,
>>>>>>> 1c7d0f143dc936c9b28e0e156f720b0fce55eafd
=======
   "execution_count": 15,
>>>>>>> 1c7d0f143dc936c9b28e0e156f720b0fce55eafd
=======
   "execution_count": 15,
>>>>>>> 1c7d0f143dc936c9b28e0e156f720b0fce55eafd
=======
   "execution_count": 15,
>>>>>>> 1c7d0f143dc936c9b28e0e156f720b0fce55eafd
   "metadata": {
    "scrolled": false
   },
   "outputs": [
    {
<<<<<<< HEAD
<<<<<<< HEAD
<<<<<<< HEAD
<<<<<<< HEAD
     "name": "stdout",
     "output_type": "stream",
     "text": [
      "EPOCH: 1, Training cost: 68.553, Validation cost: 54.779\n",
      "EPOCH: 2, Training cost: 46.591, Validation cost: 46.308\n",
      "EPOCH: 3, Training cost: 40.703, Validation cost: 42.256\n",
      "EPOCH: 4, Training cost: 37.285, Validation cost: 39.720\n",
      "EPOCH: 5, Training cost: 34.814, Validation cost: 37.010\n",
      "EPOCH: 6, Training cost: 32.600, Validation cost: 35.050\n",
      "EPOCH: 7, Training cost: 30.614, Validation cost: 33.564\n",
      "EPOCH: 8, Training cost: 28.810, Validation cost: 32.174\n",
      "EPOCH: 9, Training cost: 27.066, Validation cost: 30.643\n",
      "EPOCH: 10, Training cost: 25.356, Validation cost: 29.263\n"
=======
=======
>>>>>>> 1c7d0f143dc936c9b28e0e156f720b0fce55eafd
=======
>>>>>>> 1c7d0f143dc936c9b28e0e156f720b0fce55eafd
=======
>>>>>>> 1c7d0f143dc936c9b28e0e156f720b0fce55eafd
     "ename": "InvalidArgumentError",
     "evalue": "indices[34,15] = -1 is not in [0, 6634)\n\t [[Node: embedding_lookup = Gather[Tindices=DT_INT32, Tparams=DT_FLOAT, _class=[\"loc:@V\"], validate_indices=true, _device=\"/job:localhost/replica:0/task:0/cpu:0\"](V/read, _recv_x_0)]]\n\nCaused by op 'embedding_lookup', defined at:\n  File \"/Users/satoutakumi/.pyenv/versions/anaconda3-5.0.1/lib/python3.6/runpy.py\", line 193, in _run_module_as_main\n    \"__main__\", mod_spec)\n  File \"/Users/satoutakumi/.pyenv/versions/anaconda3-5.0.1/lib/python3.6/runpy.py\", line 85, in _run_code\n    exec(code, run_globals)\n  File \"/Users/satoutakumi/.pyenv/versions/anaconda3-5.0.1/lib/python3.6/site-packages/ipykernel_launcher.py\", line 16, in <module>\n    app.launch_new_instance()\n  File \"/Users/satoutakumi/.pyenv/versions/anaconda3-5.0.1/lib/python3.6/site-packages/traitlets/config/application.py\", line 658, in launch_instance\n    app.start()\n  File \"/Users/satoutakumi/.pyenv/versions/anaconda3-5.0.1/lib/python3.6/site-packages/ipykernel/kernelapp.py\", line 477, in start\n    ioloop.IOLoop.instance().start()\n  File \"/Users/satoutakumi/.pyenv/versions/anaconda3-5.0.1/lib/python3.6/site-packages/zmq/eventloop/ioloop.py\", line 177, in start\n    super(ZMQIOLoop, self).start()\n  File \"/Users/satoutakumi/.pyenv/versions/anaconda3-5.0.1/lib/python3.6/site-packages/tornado/ioloop.py\", line 888, in start\n    handler_func(fd_obj, events)\n  File \"/Users/satoutakumi/.pyenv/versions/anaconda3-5.0.1/lib/python3.6/site-packages/tornado/stack_context.py\", line 277, in null_wrapper\n    return fn(*args, **kwargs)\n  File \"/Users/satoutakumi/.pyenv/versions/anaconda3-5.0.1/lib/python3.6/site-packages/zmq/eventloop/zmqstream.py\", line 440, in _handle_events\n    self._handle_recv()\n  File \"/Users/satoutakumi/.pyenv/versions/anaconda3-5.0.1/lib/python3.6/site-packages/zmq/eventloop/zmqstream.py\", line 472, in _handle_recv\n    self._run_callback(callback, msg)\n  File \"/Users/satoutakumi/.pyenv/versions/anaconda3-5.0.1/lib/python3.6/site-packages/zmq/eventloop/zmqstream.py\", line 414, in _run_callback\n    callback(*args, **kwargs)\n  File \"/Users/satoutakumi/.pyenv/versions/anaconda3-5.0.1/lib/python3.6/site-packages/tornado/stack_context.py\", line 277, in null_wrapper\n    return fn(*args, **kwargs)\n  File \"/Users/satoutakumi/.pyenv/versions/anaconda3-5.0.1/lib/python3.6/site-packages/ipykernel/kernelbase.py\", line 283, in dispatcher\n    return self.dispatch_shell(stream, msg)\n  File \"/Users/satoutakumi/.pyenv/versions/anaconda3-5.0.1/lib/python3.6/site-packages/ipykernel/kernelbase.py\", line 235, in dispatch_shell\n    handler(stream, idents, msg)\n  File \"/Users/satoutakumi/.pyenv/versions/anaconda3-5.0.1/lib/python3.6/site-packages/ipykernel/kernelbase.py\", line 399, in execute_request\n    user_expressions, allow_stdin)\n  File \"/Users/satoutakumi/.pyenv/versions/anaconda3-5.0.1/lib/python3.6/site-packages/ipykernel/ipkernel.py\", line 196, in do_execute\n    res = shell.run_cell(code, store_history=store_history, silent=silent)\n  File \"/Users/satoutakumi/.pyenv/versions/anaconda3-5.0.1/lib/python3.6/site-packages/ipykernel/zmqshell.py\", line 533, in run_cell\n    return super(ZMQInteractiveShell, self).run_cell(*args, **kwargs)\n  File \"/Users/satoutakumi/.pyenv/versions/anaconda3-5.0.1/lib/python3.6/site-packages/IPython/core/interactiveshell.py\", line 2698, in run_cell\n    interactivity=interactivity, compiler=compiler, result=result)\n  File \"/Users/satoutakumi/.pyenv/versions/anaconda3-5.0.1/lib/python3.6/site-packages/IPython/core/interactiveshell.py\", line 2802, in run_ast_nodes\n    if self.run_code(code, result):\n  File \"/Users/satoutakumi/.pyenv/versions/anaconda3-5.0.1/lib/python3.6/site-packages/IPython/core/interactiveshell.py\", line 2862, in run_code\n    exec(code_obj, self.user_global_ns, self.user_ns)\n  File \"<ipython-input-13-95fe9cbdc7f0>\", line 36, in <module>\n    h_enc, c_enc = f_props(encoder, x)\n  File \"<ipython-input-13-95fe9cbdc7f0>\", line 28, in f_props\n    x = layer.f_prop(x)\n  File \"<ipython-input-7-026c194f0d54>\", line 6, in f_prop\n    return tf.nn.embedding_lookup(self.V, x)\n  File \"/Users/satoutakumi/.pyenv/versions/anaconda3-5.0.1/lib/python3.6/site-packages/tensorflow/python/ops/embedding_ops.py\", line 119, in embedding_lookup\n    params[0], ids, validate_indices=validate_indices, name=name))\n  File \"/Users/satoutakumi/.pyenv/versions/anaconda3-5.0.1/lib/python3.6/site-packages/tensorflow/python/ops/embedding_ops.py\", line 41, in _do_gather\n    params, ids, name=name, validate_indices=validate_indices)\n  File \"/Users/satoutakumi/.pyenv/versions/anaconda3-5.0.1/lib/python3.6/site-packages/tensorflow/python/ops/gen_array_ops.py\", line 1207, in gather\n    validate_indices=validate_indices, name=name)\n  File \"/Users/satoutakumi/.pyenv/versions/anaconda3-5.0.1/lib/python3.6/site-packages/tensorflow/python/framework/op_def_library.py\", line 768, in apply_op\n    op_def=op_def)\n  File \"/Users/satoutakumi/.pyenv/versions/anaconda3-5.0.1/lib/python3.6/site-packages/tensorflow/python/framework/ops.py\", line 2336, in create_op\n    original_op=self._default_original_op, op_def=op_def)\n  File \"/Users/satoutakumi/.pyenv/versions/anaconda3-5.0.1/lib/python3.6/site-packages/tensorflow/python/framework/ops.py\", line 1228, in __init__\n    self._traceback = _extract_stack()\n\nInvalidArgumentError (see above for traceback): indices[34,15] = -1 is not in [0, 6634)\n\t [[Node: embedding_lookup = Gather[Tindices=DT_INT32, Tparams=DT_FLOAT, _class=[\"loc:@V\"], validate_indices=true, _device=\"/job:localhost/replica:0/task:0/cpu:0\"](V/read, _recv_x_0)]]\n",
     "output_type": "error",
     "traceback": [
      "\u001b[0;31m---------------------------------------------------------------------------\u001b[0m",
      "\u001b[0;31mInvalidArgumentError\u001b[0m                      Traceback (most recent call last)",
      "\u001b[0;32m~/.pyenv/versions/anaconda3-5.0.1/lib/python3.6/site-packages/tensorflow/python/client/session.py\u001b[0m in \u001b[0;36m_do_call\u001b[0;34m(self, fn, *args)\u001b[0m\n\u001b[1;32m   1038\u001b[0m     \u001b[0;32mtry\u001b[0m\u001b[0;34m:\u001b[0m\u001b[0;34m\u001b[0m\u001b[0m\n\u001b[0;32m-> 1039\u001b[0;31m       \u001b[0;32mreturn\u001b[0m \u001b[0mfn\u001b[0m\u001b[0;34m(\u001b[0m\u001b[0;34m*\u001b[0m\u001b[0margs\u001b[0m\u001b[0;34m)\u001b[0m\u001b[0;34m\u001b[0m\u001b[0m\n\u001b[0m\u001b[1;32m   1040\u001b[0m     \u001b[0;32mexcept\u001b[0m \u001b[0merrors\u001b[0m\u001b[0;34m.\u001b[0m\u001b[0mOpError\u001b[0m \u001b[0;32mas\u001b[0m \u001b[0me\u001b[0m\u001b[0;34m:\u001b[0m\u001b[0;34m\u001b[0m\u001b[0m\n",
      "\u001b[0;32m~/.pyenv/versions/anaconda3-5.0.1/lib/python3.6/site-packages/tensorflow/python/client/session.py\u001b[0m in \u001b[0;36m_run_fn\u001b[0;34m(session, feed_dict, fetch_list, target_list, options, run_metadata)\u001b[0m\n\u001b[1;32m   1020\u001b[0m                                  \u001b[0mfeed_dict\u001b[0m\u001b[0;34m,\u001b[0m \u001b[0mfetch_list\u001b[0m\u001b[0;34m,\u001b[0m \u001b[0mtarget_list\u001b[0m\u001b[0;34m,\u001b[0m\u001b[0;34m\u001b[0m\u001b[0m\n\u001b[0;32m-> 1021\u001b[0;31m                                  status, run_metadata)\n\u001b[0m\u001b[1;32m   1022\u001b[0m \u001b[0;34m\u001b[0m\u001b[0m\n",
      "\u001b[0;32m~/.pyenv/versions/anaconda3-5.0.1/lib/python3.6/contextlib.py\u001b[0m in \u001b[0;36m__exit__\u001b[0;34m(self, type, value, traceback)\u001b[0m\n\u001b[1;32m     87\u001b[0m             \u001b[0;32mtry\u001b[0m\u001b[0;34m:\u001b[0m\u001b[0;34m\u001b[0m\u001b[0m\n\u001b[0;32m---> 88\u001b[0;31m                 \u001b[0mnext\u001b[0m\u001b[0;34m(\u001b[0m\u001b[0mself\u001b[0m\u001b[0;34m.\u001b[0m\u001b[0mgen\u001b[0m\u001b[0;34m)\u001b[0m\u001b[0;34m\u001b[0m\u001b[0m\n\u001b[0m\u001b[1;32m     89\u001b[0m             \u001b[0;32mexcept\u001b[0m \u001b[0mStopIteration\u001b[0m\u001b[0;34m:\u001b[0m\u001b[0;34m\u001b[0m\u001b[0m\n",
      "\u001b[0;32m~/.pyenv/versions/anaconda3-5.0.1/lib/python3.6/site-packages/tensorflow/python/framework/errors_impl.py\u001b[0m in \u001b[0;36mraise_exception_on_not_ok_status\u001b[0;34m()\u001b[0m\n\u001b[1;32m    465\u001b[0m           \u001b[0mcompat\u001b[0m\u001b[0;34m.\u001b[0m\u001b[0mas_text\u001b[0m\u001b[0;34m(\u001b[0m\u001b[0mpywrap_tensorflow\u001b[0m\u001b[0;34m.\u001b[0m\u001b[0mTF_Message\u001b[0m\u001b[0;34m(\u001b[0m\u001b[0mstatus\u001b[0m\u001b[0;34m)\u001b[0m\u001b[0;34m)\u001b[0m\u001b[0;34m,\u001b[0m\u001b[0;34m\u001b[0m\u001b[0m\n\u001b[0;32m--> 466\u001b[0;31m           pywrap_tensorflow.TF_GetCode(status))\n\u001b[0m\u001b[1;32m    467\u001b[0m   \u001b[0;32mfinally\u001b[0m\u001b[0;34m:\u001b[0m\u001b[0;34m\u001b[0m\u001b[0m\n",
      "\u001b[0;31mInvalidArgumentError\u001b[0m: indices[34,15] = -1 is not in [0, 6634)\n\t [[Node: embedding_lookup = Gather[Tindices=DT_INT32, Tparams=DT_FLOAT, _class=[\"loc:@V\"], validate_indices=true, _device=\"/job:localhost/replica:0/task:0/cpu:0\"](V/read, _recv_x_0)]]",
      "\nDuring handling of the above exception, another exception occurred:\n",
      "\u001b[0;31mInvalidArgumentError\u001b[0m                      Traceback (most recent call last)",
      "\u001b[0;32m<ipython-input-15-22e5bd58331c>\u001b[0m in \u001b[0;36m<module>\u001b[0;34m()\u001b[0m\n\u001b[1;32m     17\u001b[0m         \u001b[0mtrain_y_mb\u001b[0m \u001b[0;34m=\u001b[0m \u001b[0mnp\u001b[0m\u001b[0;34m.\u001b[0m\u001b[0marray\u001b[0m\u001b[0;34m(\u001b[0m\u001b[0mpad_sequences\u001b[0m\u001b[0;34m(\u001b[0m\u001b[0mtrain_y\u001b[0m\u001b[0;34m[\u001b[0m\u001b[0mstart\u001b[0m\u001b[0;34m:\u001b[0m\u001b[0mend\u001b[0m\u001b[0;34m]\u001b[0m\u001b[0;34m,\u001b[0m \u001b[0mpadding\u001b[0m\u001b[0;34m=\u001b[0m\u001b[0;34m'post'\u001b[0m\u001b[0;34m,\u001b[0m \u001b[0mvalue\u001b[0m\u001b[0;34m=\u001b[0m\u001b[0;34m-\u001b[0m\u001b[0;36m1\u001b[0m\u001b[0;34m)\u001b[0m\u001b[0;34m)\u001b[0m\u001b[0;34m\u001b[0m\u001b[0m\n\u001b[1;32m     18\u001b[0m \u001b[0;34m\u001b[0m\u001b[0m\n\u001b[0;32m---> 19\u001b[0;31m         \u001b[0m_\u001b[0m\u001b[0;34m,\u001b[0m \u001b[0mtrain_cost\u001b[0m \u001b[0;34m=\u001b[0m \u001b[0msess\u001b[0m\u001b[0;34m.\u001b[0m\u001b[0mrun\u001b[0m\u001b[0;34m(\u001b[0m\u001b[0;34m[\u001b[0m\u001b[0mtrain\u001b[0m\u001b[0;34m,\u001b[0m \u001b[0mcost\u001b[0m\u001b[0;34m]\u001b[0m\u001b[0;34m,\u001b[0m \u001b[0mfeed_dict\u001b[0m\u001b[0;34m=\u001b[0m\u001b[0;34m{\u001b[0m\u001b[0mx\u001b[0m\u001b[0;34m:\u001b[0m \u001b[0mtrain_X_mb\u001b[0m\u001b[0;34m,\u001b[0m \u001b[0md\u001b[0m\u001b[0;34m:\u001b[0m \u001b[0mtrain_y_mb\u001b[0m\u001b[0;34m}\u001b[0m\u001b[0;34m)\u001b[0m\u001b[0;34m\u001b[0m\u001b[0m\n\u001b[0m\u001b[1;32m     20\u001b[0m         \u001b[0mtrain_costs\u001b[0m\u001b[0;34m.\u001b[0m\u001b[0mappend\u001b[0m\u001b[0;34m(\u001b[0m\u001b[0mtrain_cost\u001b[0m\u001b[0;34m)\u001b[0m\u001b[0;34m\u001b[0m\u001b[0m\n\u001b[1;32m     21\u001b[0m \u001b[0;34m\u001b[0m\u001b[0m\n",
      "\u001b[0;32m~/.pyenv/versions/anaconda3-5.0.1/lib/python3.6/site-packages/tensorflow/python/client/session.py\u001b[0m in \u001b[0;36mrun\u001b[0;34m(self, fetches, feed_dict, options, run_metadata)\u001b[0m\n\u001b[1;32m    776\u001b[0m     \u001b[0;32mtry\u001b[0m\u001b[0;34m:\u001b[0m\u001b[0;34m\u001b[0m\u001b[0m\n\u001b[1;32m    777\u001b[0m       result = self._run(None, fetches, feed_dict, options_ptr,\n\u001b[0;32m--> 778\u001b[0;31m                          run_metadata_ptr)\n\u001b[0m\u001b[1;32m    779\u001b[0m       \u001b[0;32mif\u001b[0m \u001b[0mrun_metadata\u001b[0m\u001b[0;34m:\u001b[0m\u001b[0;34m\u001b[0m\u001b[0m\n\u001b[1;32m    780\u001b[0m         \u001b[0mproto_data\u001b[0m \u001b[0;34m=\u001b[0m \u001b[0mtf_session\u001b[0m\u001b[0;34m.\u001b[0m\u001b[0mTF_GetBuffer\u001b[0m\u001b[0;34m(\u001b[0m\u001b[0mrun_metadata_ptr\u001b[0m\u001b[0;34m)\u001b[0m\u001b[0;34m\u001b[0m\u001b[0m\n",
      "\u001b[0;32m~/.pyenv/versions/anaconda3-5.0.1/lib/python3.6/site-packages/tensorflow/python/client/session.py\u001b[0m in \u001b[0;36m_run\u001b[0;34m(self, handle, fetches, feed_dict, options, run_metadata)\u001b[0m\n\u001b[1;32m    980\u001b[0m     \u001b[0;32mif\u001b[0m \u001b[0mfinal_fetches\u001b[0m \u001b[0;32mor\u001b[0m \u001b[0mfinal_targets\u001b[0m\u001b[0;34m:\u001b[0m\u001b[0;34m\u001b[0m\u001b[0m\n\u001b[1;32m    981\u001b[0m       results = self._do_run(handle, final_targets, final_fetches,\n\u001b[0;32m--> 982\u001b[0;31m                              feed_dict_string, options, run_metadata)\n\u001b[0m\u001b[1;32m    983\u001b[0m     \u001b[0;32melse\u001b[0m\u001b[0;34m:\u001b[0m\u001b[0;34m\u001b[0m\u001b[0m\n\u001b[1;32m    984\u001b[0m       \u001b[0mresults\u001b[0m \u001b[0;34m=\u001b[0m \u001b[0;34m[\u001b[0m\u001b[0;34m]\u001b[0m\u001b[0;34m\u001b[0m\u001b[0m\n",
      "\u001b[0;32m~/.pyenv/versions/anaconda3-5.0.1/lib/python3.6/site-packages/tensorflow/python/client/session.py\u001b[0m in \u001b[0;36m_do_run\u001b[0;34m(self, handle, target_list, fetch_list, feed_dict, options, run_metadata)\u001b[0m\n\u001b[1;32m   1030\u001b[0m     \u001b[0;32mif\u001b[0m \u001b[0mhandle\u001b[0m \u001b[0;32mis\u001b[0m \u001b[0;32mNone\u001b[0m\u001b[0;34m:\u001b[0m\u001b[0;34m\u001b[0m\u001b[0m\n\u001b[1;32m   1031\u001b[0m       return self._do_call(_run_fn, self._session, feed_dict, fetch_list,\n\u001b[0;32m-> 1032\u001b[0;31m                            target_list, options, run_metadata)\n\u001b[0m\u001b[1;32m   1033\u001b[0m     \u001b[0;32melse\u001b[0m\u001b[0;34m:\u001b[0m\u001b[0;34m\u001b[0m\u001b[0m\n\u001b[1;32m   1034\u001b[0m       return self._do_call(_prun_fn, self._session, handle, feed_dict,\n",
      "\u001b[0;32m~/.pyenv/versions/anaconda3-5.0.1/lib/python3.6/site-packages/tensorflow/python/client/session.py\u001b[0m in \u001b[0;36m_do_call\u001b[0;34m(self, fn, *args)\u001b[0m\n\u001b[1;32m   1050\u001b[0m         \u001b[0;32mexcept\u001b[0m \u001b[0mKeyError\u001b[0m\u001b[0;34m:\u001b[0m\u001b[0;34m\u001b[0m\u001b[0m\n\u001b[1;32m   1051\u001b[0m           \u001b[0;32mpass\u001b[0m\u001b[0;34m\u001b[0m\u001b[0m\n\u001b[0;32m-> 1052\u001b[0;31m       \u001b[0;32mraise\u001b[0m \u001b[0mtype\u001b[0m\u001b[0;34m(\u001b[0m\u001b[0me\u001b[0m\u001b[0;34m)\u001b[0m\u001b[0;34m(\u001b[0m\u001b[0mnode_def\u001b[0m\u001b[0;34m,\u001b[0m \u001b[0mop\u001b[0m\u001b[0;34m,\u001b[0m \u001b[0mmessage\u001b[0m\u001b[0;34m)\u001b[0m\u001b[0;34m\u001b[0m\u001b[0m\n\u001b[0m\u001b[1;32m   1053\u001b[0m \u001b[0;34m\u001b[0m\u001b[0m\n\u001b[1;32m   1054\u001b[0m   \u001b[0;32mdef\u001b[0m \u001b[0m_extend_graph\u001b[0m\u001b[0;34m(\u001b[0m\u001b[0mself\u001b[0m\u001b[0;34m)\u001b[0m\u001b[0;34m:\u001b[0m\u001b[0;34m\u001b[0m\u001b[0m\n",
      "\u001b[0;31mInvalidArgumentError\u001b[0m: indices[34,15] = -1 is not in [0, 6634)\n\t [[Node: embedding_lookup = Gather[Tindices=DT_INT32, Tparams=DT_FLOAT, _class=[\"loc:@V\"], validate_indices=true, _device=\"/job:localhost/replica:0/task:0/cpu:0\"](V/read, _recv_x_0)]]\n\nCaused by op 'embedding_lookup', defined at:\n  File \"/Users/satoutakumi/.pyenv/versions/anaconda3-5.0.1/lib/python3.6/runpy.py\", line 193, in _run_module_as_main\n    \"__main__\", mod_spec)\n  File \"/Users/satoutakumi/.pyenv/versions/anaconda3-5.0.1/lib/python3.6/runpy.py\", line 85, in _run_code\n    exec(code, run_globals)\n  File \"/Users/satoutakumi/.pyenv/versions/anaconda3-5.0.1/lib/python3.6/site-packages/ipykernel_launcher.py\", line 16, in <module>\n    app.launch_new_instance()\n  File \"/Users/satoutakumi/.pyenv/versions/anaconda3-5.0.1/lib/python3.6/site-packages/traitlets/config/application.py\", line 658, in launch_instance\n    app.start()\n  File \"/Users/satoutakumi/.pyenv/versions/anaconda3-5.0.1/lib/python3.6/site-packages/ipykernel/kernelapp.py\", line 477, in start\n    ioloop.IOLoop.instance().start()\n  File \"/Users/satoutakumi/.pyenv/versions/anaconda3-5.0.1/lib/python3.6/site-packages/zmq/eventloop/ioloop.py\", line 177, in start\n    super(ZMQIOLoop, self).start()\n  File \"/Users/satoutakumi/.pyenv/versions/anaconda3-5.0.1/lib/python3.6/site-packages/tornado/ioloop.py\", line 888, in start\n    handler_func(fd_obj, events)\n  File \"/Users/satoutakumi/.pyenv/versions/anaconda3-5.0.1/lib/python3.6/site-packages/tornado/stack_context.py\", line 277, in null_wrapper\n    return fn(*args, **kwargs)\n  File \"/Users/satoutakumi/.pyenv/versions/anaconda3-5.0.1/lib/python3.6/site-packages/zmq/eventloop/zmqstream.py\", line 440, in _handle_events\n    self._handle_recv()\n  File \"/Users/satoutakumi/.pyenv/versions/anaconda3-5.0.1/lib/python3.6/site-packages/zmq/eventloop/zmqstream.py\", line 472, in _handle_recv\n    self._run_callback(callback, msg)\n  File \"/Users/satoutakumi/.pyenv/versions/anaconda3-5.0.1/lib/python3.6/site-packages/zmq/eventloop/zmqstream.py\", line 414, in _run_callback\n    callback(*args, **kwargs)\n  File \"/Users/satoutakumi/.pyenv/versions/anaconda3-5.0.1/lib/python3.6/site-packages/tornado/stack_context.py\", line 277, in null_wrapper\n    return fn(*args, **kwargs)\n  File \"/Users/satoutakumi/.pyenv/versions/anaconda3-5.0.1/lib/python3.6/site-packages/ipykernel/kernelbase.py\", line 283, in dispatcher\n    return self.dispatch_shell(stream, msg)\n  File \"/Users/satoutakumi/.pyenv/versions/anaconda3-5.0.1/lib/python3.6/site-packages/ipykernel/kernelbase.py\", line 235, in dispatch_shell\n    handler(stream, idents, msg)\n  File \"/Users/satoutakumi/.pyenv/versions/anaconda3-5.0.1/lib/python3.6/site-packages/ipykernel/kernelbase.py\", line 399, in execute_request\n    user_expressions, allow_stdin)\n  File \"/Users/satoutakumi/.pyenv/versions/anaconda3-5.0.1/lib/python3.6/site-packages/ipykernel/ipkernel.py\", line 196, in do_execute\n    res = shell.run_cell(code, store_history=store_history, silent=silent)\n  File \"/Users/satoutakumi/.pyenv/versions/anaconda3-5.0.1/lib/python3.6/site-packages/ipykernel/zmqshell.py\", line 533, in run_cell\n    return super(ZMQInteractiveShell, self).run_cell(*args, **kwargs)\n  File \"/Users/satoutakumi/.pyenv/versions/anaconda3-5.0.1/lib/python3.6/site-packages/IPython/core/interactiveshell.py\", line 2698, in run_cell\n    interactivity=interactivity, compiler=compiler, result=result)\n  File \"/Users/satoutakumi/.pyenv/versions/anaconda3-5.0.1/lib/python3.6/site-packages/IPython/core/interactiveshell.py\", line 2802, in run_ast_nodes\n    if self.run_code(code, result):\n  File \"/Users/satoutakumi/.pyenv/versions/anaconda3-5.0.1/lib/python3.6/site-packages/IPython/core/interactiveshell.py\", line 2862, in run_code\n    exec(code_obj, self.user_global_ns, self.user_ns)\n  File \"<ipython-input-13-95fe9cbdc7f0>\", line 36, in <module>\n    h_enc, c_enc = f_props(encoder, x)\n  File \"<ipython-input-13-95fe9cbdc7f0>\", line 28, in f_props\n    x = layer.f_prop(x)\n  File \"<ipython-input-7-026c194f0d54>\", line 6, in f_prop\n    return tf.nn.embedding_lookup(self.V, x)\n  File \"/Users/satoutakumi/.pyenv/versions/anaconda3-5.0.1/lib/python3.6/site-packages/tensorflow/python/ops/embedding_ops.py\", line 119, in embedding_lookup\n    params[0], ids, validate_indices=validate_indices, name=name))\n  File \"/Users/satoutakumi/.pyenv/versions/anaconda3-5.0.1/lib/python3.6/site-packages/tensorflow/python/ops/embedding_ops.py\", line 41, in _do_gather\n    params, ids, name=name, validate_indices=validate_indices)\n  File \"/Users/satoutakumi/.pyenv/versions/anaconda3-5.0.1/lib/python3.6/site-packages/tensorflow/python/ops/gen_array_ops.py\", line 1207, in gather\n    validate_indices=validate_indices, name=name)\n  File \"/Users/satoutakumi/.pyenv/versions/anaconda3-5.0.1/lib/python3.6/site-packages/tensorflow/python/framework/op_def_library.py\", line 768, in apply_op\n    op_def=op_def)\n  File \"/Users/satoutakumi/.pyenv/versions/anaconda3-5.0.1/lib/python3.6/site-packages/tensorflow/python/framework/ops.py\", line 2336, in create_op\n    original_op=self._default_original_op, op_def=op_def)\n  File \"/Users/satoutakumi/.pyenv/versions/anaconda3-5.0.1/lib/python3.6/site-packages/tensorflow/python/framework/ops.py\", line 1228, in __init__\n    self._traceback = _extract_stack()\n\nInvalidArgumentError (see above for traceback): indices[34,15] = -1 is not in [0, 6634)\n\t [[Node: embedding_lookup = Gather[Tindices=DT_INT32, Tparams=DT_FLOAT, _class=[\"loc:@V\"], validate_indices=true, _device=\"/job:localhost/replica:0/task:0/cpu:0\"](V/read, _recv_x_0)]]\n"
<<<<<<< HEAD
<<<<<<< HEAD
<<<<<<< HEAD
>>>>>>> 1c7d0f143dc936c9b28e0e156f720b0fce55eafd
=======
>>>>>>> 1c7d0f143dc936c9b28e0e156f720b0fce55eafd
=======
>>>>>>> 1c7d0f143dc936c9b28e0e156f720b0fce55eafd
=======
>>>>>>> 1c7d0f143dc936c9b28e0e156f720b0fce55eafd
     ]
    }
   ],
   "source": [
    "sess = tf.Session()\n",
    "sess.run(tf.global_variables_initializer())\n",
    "\n",
<<<<<<< HEAD
<<<<<<< HEAD
<<<<<<< HEAD
<<<<<<< HEAD
    "n_epochs = 10\n",
=======
    "n_epochs = 20\n",
>>>>>>> 1c7d0f143dc936c9b28e0e156f720b0fce55eafd
=======
    "n_epochs = 20\n",
>>>>>>> 1c7d0f143dc936c9b28e0e156f720b0fce55eafd
=======
    "n_epochs = 20\n",
>>>>>>> 1c7d0f143dc936c9b28e0e156f720b0fce55eafd
=======
    "n_epochs = 20\n",
>>>>>>> 1c7d0f143dc936c9b28e0e156f720b0fce55eafd
    "batch_size = 128\n",
    "n_batches_train = len(train_X)//batch_size\n",
    "n_batches_valid = len(valid_X)//batch_size\n",
    "\n",
    "for epoch in range(n_epochs):\n",
    "    # Train\n",
    "    train_costs = []\n",
    "    for i in range(n_batches_train):\n",
    "        start = i * batch_size\n",
    "        end = start + batch_size\n",
    "        \n",
<<<<<<< HEAD
<<<<<<< HEAD
<<<<<<< HEAD
<<<<<<< HEAD
    "        train_X_mb = np.array(pad_sequences(train_X[start:end], padding='post', value=0))\n",
    "        train_y_mb = np.array(pad_sequences(train_y[start:end], padding='post', value=0))\n",
    "        \n",
    "        #print(train_y_mb[:10])\n",
=======
    "        train_X_mb = np.array(pad_sequences(train_X[start:end], padding='post', value=-1))\n",
    "        train_y_mb = np.array(pad_sequences(train_y[start:end], padding='post', value=-1))\n",
    "        \n",
>>>>>>> 1c7d0f143dc936c9b28e0e156f720b0fce55eafd
=======
    "        train_X_mb = np.array(pad_sequences(train_X[start:end], padding='post', value=-1))\n",
    "        train_y_mb = np.array(pad_sequences(train_y[start:end], padding='post', value=-1))\n",
    "        \n",
>>>>>>> 1c7d0f143dc936c9b28e0e156f720b0fce55eafd
=======
    "        train_X_mb = np.array(pad_sequences(train_X[start:end], padding='post', value=-1))\n",
    "        train_y_mb = np.array(pad_sequences(train_y[start:end], padding='post', value=-1))\n",
    "        \n",
>>>>>>> 1c7d0f143dc936c9b28e0e156f720b0fce55eafd
=======
    "        train_X_mb = np.array(pad_sequences(train_X[start:end], padding='post', value=-1))\n",
    "        train_y_mb = np.array(pad_sequences(train_y[start:end], padding='post', value=-1))\n",
    "        \n",
>>>>>>> 1c7d0f143dc936c9b28e0e156f720b0fce55eafd
    "        _, train_cost = sess.run([train, cost], feed_dict={x: train_X_mb, d: train_y_mb})\n",
    "        train_costs.append(train_cost)\n",
    "\n",
    "    # Valid\n",
    "    valid_costs = []\n",
    "    for i in range(n_batches_valid):\n",
    "        start = i * batch_size\n",
    "        end = start + batch_size\n",
    "        \n",
<<<<<<< HEAD
<<<<<<< HEAD
<<<<<<< HEAD
<<<<<<< HEAD
    "        valid_X_mb = np.array(pad_sequences(valid_X[start:end], padding='post', value=0))\n",
    "        valid_y_mb = np.array(pad_sequences(valid_y[start:end], padding='post', value=0))\n",
=======
    "        valid_X_mb = np.array(pad_sequences(valid_X[start:end], padding='post', value=-1))\n",
    "        valid_y_mb = np.array(pad_sequences(valid_y[start:end], padding='post', value=-1))\n",
>>>>>>> 1c7d0f143dc936c9b28e0e156f720b0fce55eafd
=======
    "        valid_X_mb = np.array(pad_sequences(valid_X[start:end], padding='post', value=-1))\n",
    "        valid_y_mb = np.array(pad_sequences(valid_y[start:end], padding='post', value=-1))\n",
>>>>>>> 1c7d0f143dc936c9b28e0e156f720b0fce55eafd
=======
    "        valid_X_mb = np.array(pad_sequences(valid_X[start:end], padding='post', value=-1))\n",
    "        valid_y_mb = np.array(pad_sequences(valid_y[start:end], padding='post', value=-1))\n",
>>>>>>> 1c7d0f143dc936c9b28e0e156f720b0fce55eafd
=======
    "        valid_X_mb = np.array(pad_sequences(valid_X[start:end], padding='post', value=-1))\n",
    "        valid_y_mb = np.array(pad_sequences(valid_y[start:end], padding='post', value=-1))\n",
>>>>>>> 1c7d0f143dc936c9b28e0e156f720b0fce55eafd
    "        \n",
    "        valid_cost = sess.run(cost, feed_dict={x: valid_X_mb, d: valid_y_mb})\n",
    "        valid_costs.append(valid_cost)\n",
    "\n",
    "    print('EPOCH: %i, Training cost: %.3f, Validation cost: %.3f' % (epoch+1, np.mean(train_costs), np.mean(valid_costs)))"
   ]
  },
  {
   "cell_type": "markdown",
   "metadata": {},
   "source": [
    "### 5. 翻訳文の生成とattention weightの可視化"
   ]
  },
  {
   "cell_type": "markdown",
   "metadata": {},
   "source": [
    "#### 5.1. グラフの構築"
   ]
  },
  {
   "cell_type": "code",
<<<<<<< HEAD
<<<<<<< HEAD
<<<<<<< HEAD
<<<<<<< HEAD
   "execution_count": 236,
=======
   "execution_count": 16,
>>>>>>> 1c7d0f143dc936c9b28e0e156f720b0fce55eafd
=======
   "execution_count": 16,
>>>>>>> 1c7d0f143dc936c9b28e0e156f720b0fce55eafd
=======
   "execution_count": 16,
>>>>>>> 1c7d0f143dc936c9b28e0e156f720b0fce55eafd
=======
   "execution_count": 16,
>>>>>>> 1c7d0f143dc936c9b28e0e156f720b0fce55eafd
   "metadata": {
    "collapsed": true
   },
   "outputs": [],
   "source": [
    "t_0 = tf.constant(0)\n",
    "h_0 = tf.placeholder(tf.float32, [None, None], name='h_0')\n",
    "c_0 = tf.placeholder(tf.float32, [None, None], name='c_0')\n",
    "y_0 = tf.placeholder(tf.int32, [None, None], name='y_0')\n",
    "a_0 = tf.zeros_like(decoder_post[0].h_enc[:, :, :1], dtype=tf.float32, name='a_0')\n",
    "f_0 = tf.cast(tf.zeros_like(y_0[:, 0]), dtype=tf.bool) # バッチ内の各サンプルに対して</s>が出たかどうかのflag\n",
    "\n",
    "f_0_size = tf.reduce_sum(tf.ones_like(f_0, dtype=tf.int32))\n",
    "max_len = tf.placeholder(tf.int32, name='max_len') # iterationの繰り返し回数の限度\n",
    "\n",
    "def f_props_test(layers, x_t):\n",
    "    for layer in layers:\n",
    "        x_t = layer.f_prop_test(x_t)\n",
    "    return x_t\n",
    "\n",
    "def cond(t, h_t, c_t, y_t, a_t, f_t):\n",
    "    num_true = tf.reduce_sum(tf.cast(f_t, tf.int32)) # Trueの数\n",
    "    unfinished = tf.not_equal(num_true, f_0_size)\n",
    "    return tf.logical_and(t+1 < max_len, unfinished)\n",
    "\n",
    "def body(t, h_tm1, c_tm1, y, a, f_tm1):\n",
    "    y_tm1 = y[:, -1]\n",
    "\n",
    "    decoder_pre[1].h_0 = h_tm1\n",
    "    decoder_pre[1].c_0 = c_tm1\n",
    "    h_t, c_t = f_props_test(decoder_pre, y_tm1)\n",
    "    y_t = tf.cast(tf.argmax(f_props_test(decoder_post, h_t), axis=1), tf.int32)\n",
    "    a_t = decoder_post[0].a\n",
    "    \n",
    "    y = tf.concat([y, y_t[:, np.newaxis]], axis=1)\n",
    "    a = tf.concat([a, a_t[:, :, np.newaxis]], axis=2)\n",
    "    \n",
    "    f_t = tf.logical_or(f_tm1, tf.equal(y_t, 1))\n",
    "    \n",
    "    return [t+1, h_t, c_t, y, a, f_t]\n",
    "\n",
    "res = tf.while_loop(\n",
    "    cond,\n",
    "    body,\n",
    "    loop_vars=[t_0, h_0, c_0, y_0, a_0, f_0],\n",
    "    shape_invariants=[\n",
    "        t_0.get_shape(),\n",
    "        tf.TensorShape([None, None]),\n",
    "        tf.TensorShape([None, None]),\n",
    "        tf.TensorShape([None, None]),\n",
    "        tf.TensorShape([None, None, None]),\n",
    "        tf.TensorShape([None])\n",
    "    ]\n",
    ")"
   ]
  },
  {
   "cell_type": "markdown",
   "metadata": {},
   "source": [
    "#### 5.2. 初期値$\\bar{h}, h_0, c_0, y_0$の獲得"
   ]
  },
  {
   "cell_type": "code",
<<<<<<< HEAD
<<<<<<< HEAD
<<<<<<< HEAD
<<<<<<< HEAD
   "execution_count": 237,
   "metadata": {},
   "outputs": [],
   "source": [
    "valid_X_mb = pad_sequences(valid_X[:100], padding='post', value=0)\n",
    "_y_0 = np.zeros_like(valid_X[:100], dtype='int32')[:, np.newaxis]\n",
    "_m_h_enc, _h_enc, _c_enc = sess.run([m_h_enc, h_enc, c_enc], feed_dict={x: valid_X_mb})\n",
    "_h_0 = _h_enc[:, -1, :]\n",
    "_c_0 = _c_enc[:, -1, :]"
   ]
  },
  {
   "cell_type": "markdown",
   "metadata": {
    "collapsed": true
   },
   "source": [
    "#### 5.3. 生成"
   ]
  },
  {
   "cell_type": "code",
   "execution_count": 238,
   "metadata": {},
   "outputs": [],
   "source": [
    "_, _, _, pred_y, att_weights, _ = sess.run(res, feed_dict={\n",
    "    decoder_post[0].m_h_enc: _m_h_enc,\n",
    "    decoder_post[0].h_enc: _h_enc,\n",
    "    y_0: _y_0,\n",
    "    h_0: _h_0,\n",
    "    c_0: _c_0,\n",
    "    max_len: 100\n",
    "})"
   ]
  },
  {
   "cell_type": "markdown",
   "metadata": {},
   "source": [
    "#### 5.4. 生成例"
   ]
  },
  {
   "cell_type": "code",
   "execution_count": 239,
   "metadata": {},
   "outputs": [
    {
     "name": "stdout",
     "output_type": "stream",
     "text": [
      "[0, 5301, 389, 6522, 4416, 1333, 5301, 2538, 3544, 1604, 4903, 4274, 917, 8624, 6612, 2538, 389, 3010, 7440, 8624, 7229, 2, 0, 0, 0, 0, 0, 0, 0, 0, 0, 0, 0, 0, 0, 0, 0, 0, 0, 0, 0, 0, 0, 0, 0, 0, 0, 0, 0, 0, 0, 0, 0, 0, 0, 0, 0, 0, 0, 0, 0, 0, 0, 0, 0, 0, 0, 0, 0, 0, 0, 0, 0, 0, 0, 0, 0, 0, 0, 0, 0, 0, 0, 0, 0, 0, 0, 0, 0, 0, 0, 0, 0, 0, 0, 0, 0, 0, 0, 0]\n",
      "元の文: no matter how fast you may walk , you can 't catch up with him .\n",
      "生成文された文: 彼 は 誰 も 、 彼 の こと を 持 っ て い る の は しれ な い 。\n",
      "正解文: どんな に 速 く 歩 い て も あなた は 彼 に 追いつけ な い 。\n"
     ]
    }
   ],
   "source": [
    "num = 5\n",
    "\n",
    "origx = valid_X[num]\n",
    "print(pred_y[num].tolist())\n",
    "predy = pred_y[num].tolist()[1:pred_y[num].tolist().index(2)]\n",
    "truey = valid_y[num][1:-1]\n",
    "\n",
    "print('元の文:', ' '.join([e_i2w[com] for com in origx]))\n",
    "print('生成文された文:', ' '.join([j_i2w[com] for com in predy]))\n",
    "print('正解文:', ' '.join([j_i2w[com] for com in truey]))"
   ]
  },
  {
   "cell_type": "markdown",
   "metadata": {},
   "source": [
    "#### 5.5. アテンションの可視化"
   ]
  },
  {
   "cell_type": "markdown",
   "metadata": {},
   "source": [
    "matplotlibで日本語を出力するために日本語フォントをインストールします."
   ]
  },
  {
   "cell_type": "code",
   "execution_count": 240,
   "metadata": {},
   "outputs": [
    {
     "name": "stderr",
     "output_type": "stream",
     "text": [
      "bash: line 1: wget: command not found\n",
      "mv: rename TakaoPGothic.ttf to /usr/local/share/fonts/: No such file or directory\n"
=======
=======
>>>>>>> 1c7d0f143dc936c9b28e0e156f720b0fce55eafd
=======
>>>>>>> 1c7d0f143dc936c9b28e0e156f720b0fce55eafd
=======
>>>>>>> 1c7d0f143dc936c9b28e0e156f720b0fce55eafd
   "execution_count": 17,
   "metadata": {},
   "outputs": [
    {
     "ename": "InvalidArgumentError",
     "evalue": "indices[6,15] = -1 is not in [0, 6634)\n\t [[Node: embedding_lookup = Gather[Tindices=DT_INT32, Tparams=DT_FLOAT, _class=[\"loc:@V\"], validate_indices=true, _device=\"/job:localhost/replica:0/task:0/cpu:0\"](V/read, _recv_x_0)]]\n\nCaused by op 'embedding_lookup', defined at:\n  File \"/Users/satoutakumi/.pyenv/versions/anaconda3-5.0.1/lib/python3.6/runpy.py\", line 193, in _run_module_as_main\n    \"__main__\", mod_spec)\n  File \"/Users/satoutakumi/.pyenv/versions/anaconda3-5.0.1/lib/python3.6/runpy.py\", line 85, in _run_code\n    exec(code, run_globals)\n  File \"/Users/satoutakumi/.pyenv/versions/anaconda3-5.0.1/lib/python3.6/site-packages/ipykernel_launcher.py\", line 16, in <module>\n    app.launch_new_instance()\n  File \"/Users/satoutakumi/.pyenv/versions/anaconda3-5.0.1/lib/python3.6/site-packages/traitlets/config/application.py\", line 658, in launch_instance\n    app.start()\n  File \"/Users/satoutakumi/.pyenv/versions/anaconda3-5.0.1/lib/python3.6/site-packages/ipykernel/kernelapp.py\", line 477, in start\n    ioloop.IOLoop.instance().start()\n  File \"/Users/satoutakumi/.pyenv/versions/anaconda3-5.0.1/lib/python3.6/site-packages/zmq/eventloop/ioloop.py\", line 177, in start\n    super(ZMQIOLoop, self).start()\n  File \"/Users/satoutakumi/.pyenv/versions/anaconda3-5.0.1/lib/python3.6/site-packages/tornado/ioloop.py\", line 888, in start\n    handler_func(fd_obj, events)\n  File \"/Users/satoutakumi/.pyenv/versions/anaconda3-5.0.1/lib/python3.6/site-packages/tornado/stack_context.py\", line 277, in null_wrapper\n    return fn(*args, **kwargs)\n  File \"/Users/satoutakumi/.pyenv/versions/anaconda3-5.0.1/lib/python3.6/site-packages/zmq/eventloop/zmqstream.py\", line 440, in _handle_events\n    self._handle_recv()\n  File \"/Users/satoutakumi/.pyenv/versions/anaconda3-5.0.1/lib/python3.6/site-packages/zmq/eventloop/zmqstream.py\", line 472, in _handle_recv\n    self._run_callback(callback, msg)\n  File \"/Users/satoutakumi/.pyenv/versions/anaconda3-5.0.1/lib/python3.6/site-packages/zmq/eventloop/zmqstream.py\", line 414, in _run_callback\n    callback(*args, **kwargs)\n  File \"/Users/satoutakumi/.pyenv/versions/anaconda3-5.0.1/lib/python3.6/site-packages/tornado/stack_context.py\", line 277, in null_wrapper\n    return fn(*args, **kwargs)\n  File \"/Users/satoutakumi/.pyenv/versions/anaconda3-5.0.1/lib/python3.6/site-packages/ipykernel/kernelbase.py\", line 283, in dispatcher\n    return self.dispatch_shell(stream, msg)\n  File \"/Users/satoutakumi/.pyenv/versions/anaconda3-5.0.1/lib/python3.6/site-packages/ipykernel/kernelbase.py\", line 235, in dispatch_shell\n    handler(stream, idents, msg)\n  File \"/Users/satoutakumi/.pyenv/versions/anaconda3-5.0.1/lib/python3.6/site-packages/ipykernel/kernelbase.py\", line 399, in execute_request\n    user_expressions, allow_stdin)\n  File \"/Users/satoutakumi/.pyenv/versions/anaconda3-5.0.1/lib/python3.6/site-packages/ipykernel/ipkernel.py\", line 196, in do_execute\n    res = shell.run_cell(code, store_history=store_history, silent=silent)\n  File \"/Users/satoutakumi/.pyenv/versions/anaconda3-5.0.1/lib/python3.6/site-packages/ipykernel/zmqshell.py\", line 533, in run_cell\n    return super(ZMQInteractiveShell, self).run_cell(*args, **kwargs)\n  File \"/Users/satoutakumi/.pyenv/versions/anaconda3-5.0.1/lib/python3.6/site-packages/IPython/core/interactiveshell.py\", line 2698, in run_cell\n    interactivity=interactivity, compiler=compiler, result=result)\n  File \"/Users/satoutakumi/.pyenv/versions/anaconda3-5.0.1/lib/python3.6/site-packages/IPython/core/interactiveshell.py\", line 2802, in run_ast_nodes\n    if self.run_code(code, result):\n  File \"/Users/satoutakumi/.pyenv/versions/anaconda3-5.0.1/lib/python3.6/site-packages/IPython/core/interactiveshell.py\", line 2862, in run_code\n    exec(code_obj, self.user_global_ns, self.user_ns)\n  File \"<ipython-input-13-95fe9cbdc7f0>\", line 36, in <module>\n    h_enc, c_enc = f_props(encoder, x)\n  File \"<ipython-input-13-95fe9cbdc7f0>\", line 28, in f_props\n    x = layer.f_prop(x)\n  File \"<ipython-input-7-026c194f0d54>\", line 6, in f_prop\n    return tf.nn.embedding_lookup(self.V, x)\n  File \"/Users/satoutakumi/.pyenv/versions/anaconda3-5.0.1/lib/python3.6/site-packages/tensorflow/python/ops/embedding_ops.py\", line 119, in embedding_lookup\n    params[0], ids, validate_indices=validate_indices, name=name))\n  File \"/Users/satoutakumi/.pyenv/versions/anaconda3-5.0.1/lib/python3.6/site-packages/tensorflow/python/ops/embedding_ops.py\", line 41, in _do_gather\n    params, ids, name=name, validate_indices=validate_indices)\n  File \"/Users/satoutakumi/.pyenv/versions/anaconda3-5.0.1/lib/python3.6/site-packages/tensorflow/python/ops/gen_array_ops.py\", line 1207, in gather\n    validate_indices=validate_indices, name=name)\n  File \"/Users/satoutakumi/.pyenv/versions/anaconda3-5.0.1/lib/python3.6/site-packages/tensorflow/python/framework/op_def_library.py\", line 768, in apply_op\n    op_def=op_def)\n  File \"/Users/satoutakumi/.pyenv/versions/anaconda3-5.0.1/lib/python3.6/site-packages/tensorflow/python/framework/ops.py\", line 2336, in create_op\n    original_op=self._default_original_op, op_def=op_def)\n  File \"/Users/satoutakumi/.pyenv/versions/anaconda3-5.0.1/lib/python3.6/site-packages/tensorflow/python/framework/ops.py\", line 1228, in __init__\n    self._traceback = _extract_stack()\n\nInvalidArgumentError (see above for traceback): indices[6,15] = -1 is not in [0, 6634)\n\t [[Node: embedding_lookup = Gather[Tindices=DT_INT32, Tparams=DT_FLOAT, _class=[\"loc:@V\"], validate_indices=true, _device=\"/job:localhost/replica:0/task:0/cpu:0\"](V/read, _recv_x_0)]]\n",
     "output_type": "error",
     "traceback": [
      "\u001b[0;31m---------------------------------------------------------------------------\u001b[0m",
      "\u001b[0;31mInvalidArgumentError\u001b[0m                      Traceback (most recent call last)",
      "\u001b[0;32m~/.pyenv/versions/anaconda3-5.0.1/lib/python3.6/site-packages/tensorflow/python/client/session.py\u001b[0m in \u001b[0;36m_do_call\u001b[0;34m(self, fn, *args)\u001b[0m\n\u001b[1;32m   1038\u001b[0m     \u001b[0;32mtry\u001b[0m\u001b[0;34m:\u001b[0m\u001b[0;34m\u001b[0m\u001b[0m\n\u001b[0;32m-> 1039\u001b[0;31m       \u001b[0;32mreturn\u001b[0m \u001b[0mfn\u001b[0m\u001b[0;34m(\u001b[0m\u001b[0;34m*\u001b[0m\u001b[0margs\u001b[0m\u001b[0;34m)\u001b[0m\u001b[0;34m\u001b[0m\u001b[0m\n\u001b[0m\u001b[1;32m   1040\u001b[0m     \u001b[0;32mexcept\u001b[0m \u001b[0merrors\u001b[0m\u001b[0;34m.\u001b[0m\u001b[0mOpError\u001b[0m \u001b[0;32mas\u001b[0m \u001b[0me\u001b[0m\u001b[0;34m:\u001b[0m\u001b[0;34m\u001b[0m\u001b[0m\n",
      "\u001b[0;32m~/.pyenv/versions/anaconda3-5.0.1/lib/python3.6/site-packages/tensorflow/python/client/session.py\u001b[0m in \u001b[0;36m_run_fn\u001b[0;34m(session, feed_dict, fetch_list, target_list, options, run_metadata)\u001b[0m\n\u001b[1;32m   1020\u001b[0m                                  \u001b[0mfeed_dict\u001b[0m\u001b[0;34m,\u001b[0m \u001b[0mfetch_list\u001b[0m\u001b[0;34m,\u001b[0m \u001b[0mtarget_list\u001b[0m\u001b[0;34m,\u001b[0m\u001b[0;34m\u001b[0m\u001b[0m\n\u001b[0;32m-> 1021\u001b[0;31m                                  status, run_metadata)\n\u001b[0m\u001b[1;32m   1022\u001b[0m \u001b[0;34m\u001b[0m\u001b[0m\n",
      "\u001b[0;32m~/.pyenv/versions/anaconda3-5.0.1/lib/python3.6/contextlib.py\u001b[0m in \u001b[0;36m__exit__\u001b[0;34m(self, type, value, traceback)\u001b[0m\n\u001b[1;32m     87\u001b[0m             \u001b[0;32mtry\u001b[0m\u001b[0;34m:\u001b[0m\u001b[0;34m\u001b[0m\u001b[0m\n\u001b[0;32m---> 88\u001b[0;31m                 \u001b[0mnext\u001b[0m\u001b[0;34m(\u001b[0m\u001b[0mself\u001b[0m\u001b[0;34m.\u001b[0m\u001b[0mgen\u001b[0m\u001b[0;34m)\u001b[0m\u001b[0;34m\u001b[0m\u001b[0m\n\u001b[0m\u001b[1;32m     89\u001b[0m             \u001b[0;32mexcept\u001b[0m \u001b[0mStopIteration\u001b[0m\u001b[0;34m:\u001b[0m\u001b[0;34m\u001b[0m\u001b[0m\n",
      "\u001b[0;32m~/.pyenv/versions/anaconda3-5.0.1/lib/python3.6/site-packages/tensorflow/python/framework/errors_impl.py\u001b[0m in \u001b[0;36mraise_exception_on_not_ok_status\u001b[0;34m()\u001b[0m\n\u001b[1;32m    465\u001b[0m           \u001b[0mcompat\u001b[0m\u001b[0;34m.\u001b[0m\u001b[0mas_text\u001b[0m\u001b[0;34m(\u001b[0m\u001b[0mpywrap_tensorflow\u001b[0m\u001b[0;34m.\u001b[0m\u001b[0mTF_Message\u001b[0m\u001b[0;34m(\u001b[0m\u001b[0mstatus\u001b[0m\u001b[0;34m)\u001b[0m\u001b[0;34m)\u001b[0m\u001b[0;34m,\u001b[0m\u001b[0;34m\u001b[0m\u001b[0m\n\u001b[0;32m--> 466\u001b[0;31m           pywrap_tensorflow.TF_GetCode(status))\n\u001b[0m\u001b[1;32m    467\u001b[0m   \u001b[0;32mfinally\u001b[0m\u001b[0;34m:\u001b[0m\u001b[0;34m\u001b[0m\u001b[0m\n",
      "\u001b[0;31mInvalidArgumentError\u001b[0m: indices[6,15] = -1 is not in [0, 6634)\n\t [[Node: embedding_lookup = Gather[Tindices=DT_INT32, Tparams=DT_FLOAT, _class=[\"loc:@V\"], validate_indices=true, _device=\"/job:localhost/replica:0/task:0/cpu:0\"](V/read, _recv_x_0)]]",
      "\nDuring handling of the above exception, another exception occurred:\n",
      "\u001b[0;31mInvalidArgumentError\u001b[0m                      Traceback (most recent call last)",
      "\u001b[0;32m<ipython-input-17-3f8d81074508>\u001b[0m in \u001b[0;36m<module>\u001b[0;34m()\u001b[0m\n\u001b[1;32m      1\u001b[0m \u001b[0mvalid_X_mb\u001b[0m \u001b[0;34m=\u001b[0m \u001b[0mpad_sequences\u001b[0m\u001b[0;34m(\u001b[0m\u001b[0mvalid_X\u001b[0m\u001b[0;34m[\u001b[0m\u001b[0;34m:\u001b[0m\u001b[0;36m100\u001b[0m\u001b[0;34m]\u001b[0m\u001b[0;34m,\u001b[0m \u001b[0mpadding\u001b[0m\u001b[0;34m=\u001b[0m\u001b[0;34m'post'\u001b[0m\u001b[0;34m,\u001b[0m \u001b[0mvalue\u001b[0m\u001b[0;34m=\u001b[0m\u001b[0;34m-\u001b[0m\u001b[0;36m1\u001b[0m\u001b[0;34m)\u001b[0m\u001b[0;34m\u001b[0m\u001b[0m\n\u001b[1;32m      2\u001b[0m \u001b[0m_y_0\u001b[0m \u001b[0;34m=\u001b[0m \u001b[0mnp\u001b[0m\u001b[0;34m.\u001b[0m\u001b[0mzeros_like\u001b[0m\u001b[0;34m(\u001b[0m\u001b[0mvalid_X\u001b[0m\u001b[0;34m[\u001b[0m\u001b[0;34m:\u001b[0m\u001b[0;36m100\u001b[0m\u001b[0;34m]\u001b[0m\u001b[0;34m,\u001b[0m \u001b[0mdtype\u001b[0m\u001b[0;34m=\u001b[0m\u001b[0;34m'int32'\u001b[0m\u001b[0;34m)\u001b[0m\u001b[0;34m[\u001b[0m\u001b[0;34m:\u001b[0m\u001b[0;34m,\u001b[0m \u001b[0mnp\u001b[0m\u001b[0;34m.\u001b[0m\u001b[0mnewaxis\u001b[0m\u001b[0;34m]\u001b[0m\u001b[0;34m\u001b[0m\u001b[0m\n\u001b[0;32m----> 3\u001b[0;31m \u001b[0m_m_h_enc\u001b[0m\u001b[0;34m,\u001b[0m \u001b[0m_h_enc\u001b[0m\u001b[0;34m,\u001b[0m \u001b[0m_c_enc\u001b[0m \u001b[0;34m=\u001b[0m \u001b[0msess\u001b[0m\u001b[0;34m.\u001b[0m\u001b[0mrun\u001b[0m\u001b[0;34m(\u001b[0m\u001b[0;34m[\u001b[0m\u001b[0mm_h_enc\u001b[0m\u001b[0;34m,\u001b[0m \u001b[0mh_enc\u001b[0m\u001b[0;34m,\u001b[0m \u001b[0mc_enc\u001b[0m\u001b[0;34m]\u001b[0m\u001b[0;34m,\u001b[0m \u001b[0mfeed_dict\u001b[0m\u001b[0;34m=\u001b[0m\u001b[0;34m{\u001b[0m\u001b[0mx\u001b[0m\u001b[0;34m:\u001b[0m \u001b[0mvalid_X_mb\u001b[0m\u001b[0;34m}\u001b[0m\u001b[0;34m)\u001b[0m\u001b[0;34m\u001b[0m\u001b[0m\n\u001b[0m\u001b[1;32m      4\u001b[0m \u001b[0m_h_0\u001b[0m \u001b[0;34m=\u001b[0m \u001b[0m_h_enc\u001b[0m\u001b[0;34m[\u001b[0m\u001b[0;34m:\u001b[0m\u001b[0;34m,\u001b[0m \u001b[0;34m-\u001b[0m\u001b[0;36m1\u001b[0m\u001b[0;34m,\u001b[0m \u001b[0;34m:\u001b[0m\u001b[0;34m]\u001b[0m\u001b[0;34m\u001b[0m\u001b[0m\n\u001b[1;32m      5\u001b[0m \u001b[0m_c_0\u001b[0m \u001b[0;34m=\u001b[0m \u001b[0m_c_enc\u001b[0m\u001b[0;34m[\u001b[0m\u001b[0;34m:\u001b[0m\u001b[0;34m,\u001b[0m \u001b[0;34m-\u001b[0m\u001b[0;36m1\u001b[0m\u001b[0;34m,\u001b[0m \u001b[0;34m:\u001b[0m\u001b[0;34m]\u001b[0m\u001b[0;34m\u001b[0m\u001b[0m\n",
      "\u001b[0;32m~/.pyenv/versions/anaconda3-5.0.1/lib/python3.6/site-packages/tensorflow/python/client/session.py\u001b[0m in \u001b[0;36mrun\u001b[0;34m(self, fetches, feed_dict, options, run_metadata)\u001b[0m\n\u001b[1;32m    776\u001b[0m     \u001b[0;32mtry\u001b[0m\u001b[0;34m:\u001b[0m\u001b[0;34m\u001b[0m\u001b[0m\n\u001b[1;32m    777\u001b[0m       result = self._run(None, fetches, feed_dict, options_ptr,\n\u001b[0;32m--> 778\u001b[0;31m                          run_metadata_ptr)\n\u001b[0m\u001b[1;32m    779\u001b[0m       \u001b[0;32mif\u001b[0m \u001b[0mrun_metadata\u001b[0m\u001b[0;34m:\u001b[0m\u001b[0;34m\u001b[0m\u001b[0m\n\u001b[1;32m    780\u001b[0m         \u001b[0mproto_data\u001b[0m \u001b[0;34m=\u001b[0m \u001b[0mtf_session\u001b[0m\u001b[0;34m.\u001b[0m\u001b[0mTF_GetBuffer\u001b[0m\u001b[0;34m(\u001b[0m\u001b[0mrun_metadata_ptr\u001b[0m\u001b[0;34m)\u001b[0m\u001b[0;34m\u001b[0m\u001b[0m\n",
      "\u001b[0;32m~/.pyenv/versions/anaconda3-5.0.1/lib/python3.6/site-packages/tensorflow/python/client/session.py\u001b[0m in \u001b[0;36m_run\u001b[0;34m(self, handle, fetches, feed_dict, options, run_metadata)\u001b[0m\n\u001b[1;32m    980\u001b[0m     \u001b[0;32mif\u001b[0m \u001b[0mfinal_fetches\u001b[0m \u001b[0;32mor\u001b[0m \u001b[0mfinal_targets\u001b[0m\u001b[0;34m:\u001b[0m\u001b[0;34m\u001b[0m\u001b[0m\n\u001b[1;32m    981\u001b[0m       results = self._do_run(handle, final_targets, final_fetches,\n\u001b[0;32m--> 982\u001b[0;31m                              feed_dict_string, options, run_metadata)\n\u001b[0m\u001b[1;32m    983\u001b[0m     \u001b[0;32melse\u001b[0m\u001b[0;34m:\u001b[0m\u001b[0;34m\u001b[0m\u001b[0m\n\u001b[1;32m    984\u001b[0m       \u001b[0mresults\u001b[0m \u001b[0;34m=\u001b[0m \u001b[0;34m[\u001b[0m\u001b[0;34m]\u001b[0m\u001b[0;34m\u001b[0m\u001b[0m\n",
      "\u001b[0;32m~/.pyenv/versions/anaconda3-5.0.1/lib/python3.6/site-packages/tensorflow/python/client/session.py\u001b[0m in \u001b[0;36m_do_run\u001b[0;34m(self, handle, target_list, fetch_list, feed_dict, options, run_metadata)\u001b[0m\n\u001b[1;32m   1030\u001b[0m     \u001b[0;32mif\u001b[0m \u001b[0mhandle\u001b[0m \u001b[0;32mis\u001b[0m \u001b[0;32mNone\u001b[0m\u001b[0;34m:\u001b[0m\u001b[0;34m\u001b[0m\u001b[0m\n\u001b[1;32m   1031\u001b[0m       return self._do_call(_run_fn, self._session, feed_dict, fetch_list,\n\u001b[0;32m-> 1032\u001b[0;31m                            target_list, options, run_metadata)\n\u001b[0m\u001b[1;32m   1033\u001b[0m     \u001b[0;32melse\u001b[0m\u001b[0;34m:\u001b[0m\u001b[0;34m\u001b[0m\u001b[0m\n\u001b[1;32m   1034\u001b[0m       return self._do_call(_prun_fn, self._session, handle, feed_dict,\n",
      "\u001b[0;32m~/.pyenv/versions/anaconda3-5.0.1/lib/python3.6/site-packages/tensorflow/python/client/session.py\u001b[0m in \u001b[0;36m_do_call\u001b[0;34m(self, fn, *args)\u001b[0m\n\u001b[1;32m   1050\u001b[0m         \u001b[0;32mexcept\u001b[0m \u001b[0mKeyError\u001b[0m\u001b[0;34m:\u001b[0m\u001b[0;34m\u001b[0m\u001b[0m\n\u001b[1;32m   1051\u001b[0m           \u001b[0;32mpass\u001b[0m\u001b[0;34m\u001b[0m\u001b[0m\n\u001b[0;32m-> 1052\u001b[0;31m       \u001b[0;32mraise\u001b[0m \u001b[0mtype\u001b[0m\u001b[0;34m(\u001b[0m\u001b[0me\u001b[0m\u001b[0;34m)\u001b[0m\u001b[0;34m(\u001b[0m\u001b[0mnode_def\u001b[0m\u001b[0;34m,\u001b[0m \u001b[0mop\u001b[0m\u001b[0;34m,\u001b[0m \u001b[0mmessage\u001b[0m\u001b[0;34m)\u001b[0m\u001b[0;34m\u001b[0m\u001b[0m\n\u001b[0m\u001b[1;32m   1053\u001b[0m \u001b[0;34m\u001b[0m\u001b[0m\n\u001b[1;32m   1054\u001b[0m   \u001b[0;32mdef\u001b[0m \u001b[0m_extend_graph\u001b[0m\u001b[0;34m(\u001b[0m\u001b[0mself\u001b[0m\u001b[0;34m)\u001b[0m\u001b[0;34m:\u001b[0m\u001b[0;34m\u001b[0m\u001b[0m\n",
      "\u001b[0;31mInvalidArgumentError\u001b[0m: indices[6,15] = -1 is not in [0, 6634)\n\t [[Node: embedding_lookup = Gather[Tindices=DT_INT32, Tparams=DT_FLOAT, _class=[\"loc:@V\"], validate_indices=true, _device=\"/job:localhost/replica:0/task:0/cpu:0\"](V/read, _recv_x_0)]]\n\nCaused by op 'embedding_lookup', defined at:\n  File \"/Users/satoutakumi/.pyenv/versions/anaconda3-5.0.1/lib/python3.6/runpy.py\", line 193, in _run_module_as_main\n    \"__main__\", mod_spec)\n  File \"/Users/satoutakumi/.pyenv/versions/anaconda3-5.0.1/lib/python3.6/runpy.py\", line 85, in _run_code\n    exec(code, run_globals)\n  File \"/Users/satoutakumi/.pyenv/versions/anaconda3-5.0.1/lib/python3.6/site-packages/ipykernel_launcher.py\", line 16, in <module>\n    app.launch_new_instance()\n  File \"/Users/satoutakumi/.pyenv/versions/anaconda3-5.0.1/lib/python3.6/site-packages/traitlets/config/application.py\", line 658, in launch_instance\n    app.start()\n  File \"/Users/satoutakumi/.pyenv/versions/anaconda3-5.0.1/lib/python3.6/site-packages/ipykernel/kernelapp.py\", line 477, in start\n    ioloop.IOLoop.instance().start()\n  File \"/Users/satoutakumi/.pyenv/versions/anaconda3-5.0.1/lib/python3.6/site-packages/zmq/eventloop/ioloop.py\", line 177, in start\n    super(ZMQIOLoop, self).start()\n  File \"/Users/satoutakumi/.pyenv/versions/anaconda3-5.0.1/lib/python3.6/site-packages/tornado/ioloop.py\", line 888, in start\n    handler_func(fd_obj, events)\n  File \"/Users/satoutakumi/.pyenv/versions/anaconda3-5.0.1/lib/python3.6/site-packages/tornado/stack_context.py\", line 277, in null_wrapper\n    return fn(*args, **kwargs)\n  File \"/Users/satoutakumi/.pyenv/versions/anaconda3-5.0.1/lib/python3.6/site-packages/zmq/eventloop/zmqstream.py\", line 440, in _handle_events\n    self._handle_recv()\n  File \"/Users/satoutakumi/.pyenv/versions/anaconda3-5.0.1/lib/python3.6/site-packages/zmq/eventloop/zmqstream.py\", line 472, in _handle_recv\n    self._run_callback(callback, msg)\n  File \"/Users/satoutakumi/.pyenv/versions/anaconda3-5.0.1/lib/python3.6/site-packages/zmq/eventloop/zmqstream.py\", line 414, in _run_callback\n    callback(*args, **kwargs)\n  File \"/Users/satoutakumi/.pyenv/versions/anaconda3-5.0.1/lib/python3.6/site-packages/tornado/stack_context.py\", line 277, in null_wrapper\n    return fn(*args, **kwargs)\n  File \"/Users/satoutakumi/.pyenv/versions/anaconda3-5.0.1/lib/python3.6/site-packages/ipykernel/kernelbase.py\", line 283, in dispatcher\n    return self.dispatch_shell(stream, msg)\n  File \"/Users/satoutakumi/.pyenv/versions/anaconda3-5.0.1/lib/python3.6/site-packages/ipykernel/kernelbase.py\", line 235, in dispatch_shell\n    handler(stream, idents, msg)\n  File \"/Users/satoutakumi/.pyenv/versions/anaconda3-5.0.1/lib/python3.6/site-packages/ipykernel/kernelbase.py\", line 399, in execute_request\n    user_expressions, allow_stdin)\n  File \"/Users/satoutakumi/.pyenv/versions/anaconda3-5.0.1/lib/python3.6/site-packages/ipykernel/ipkernel.py\", line 196, in do_execute\n    res = shell.run_cell(code, store_history=store_history, silent=silent)\n  File \"/Users/satoutakumi/.pyenv/versions/anaconda3-5.0.1/lib/python3.6/site-packages/ipykernel/zmqshell.py\", line 533, in run_cell\n    return super(ZMQInteractiveShell, self).run_cell(*args, **kwargs)\n  File \"/Users/satoutakumi/.pyenv/versions/anaconda3-5.0.1/lib/python3.6/site-packages/IPython/core/interactiveshell.py\", line 2698, in run_cell\n    interactivity=interactivity, compiler=compiler, result=result)\n  File \"/Users/satoutakumi/.pyenv/versions/anaconda3-5.0.1/lib/python3.6/site-packages/IPython/core/interactiveshell.py\", line 2802, in run_ast_nodes\n    if self.run_code(code, result):\n  File \"/Users/satoutakumi/.pyenv/versions/anaconda3-5.0.1/lib/python3.6/site-packages/IPython/core/interactiveshell.py\", line 2862, in run_code\n    exec(code_obj, self.user_global_ns, self.user_ns)\n  File \"<ipython-input-13-95fe9cbdc7f0>\", line 36, in <module>\n    h_enc, c_enc = f_props(encoder, x)\n  File \"<ipython-input-13-95fe9cbdc7f0>\", line 28, in f_props\n    x = layer.f_prop(x)\n  File \"<ipython-input-7-026c194f0d54>\", line 6, in f_prop\n    return tf.nn.embedding_lookup(self.V, x)\n  File \"/Users/satoutakumi/.pyenv/versions/anaconda3-5.0.1/lib/python3.6/site-packages/tensorflow/python/ops/embedding_ops.py\", line 119, in embedding_lookup\n    params[0], ids, validate_indices=validate_indices, name=name))\n  File \"/Users/satoutakumi/.pyenv/versions/anaconda3-5.0.1/lib/python3.6/site-packages/tensorflow/python/ops/embedding_ops.py\", line 41, in _do_gather\n    params, ids, name=name, validate_indices=validate_indices)\n  File \"/Users/satoutakumi/.pyenv/versions/anaconda3-5.0.1/lib/python3.6/site-packages/tensorflow/python/ops/gen_array_ops.py\", line 1207, in gather\n    validate_indices=validate_indices, name=name)\n  File \"/Users/satoutakumi/.pyenv/versions/anaconda3-5.0.1/lib/python3.6/site-packages/tensorflow/python/framework/op_def_library.py\", line 768, in apply_op\n    op_def=op_def)\n  File \"/Users/satoutakumi/.pyenv/versions/anaconda3-5.0.1/lib/python3.6/site-packages/tensorflow/python/framework/ops.py\", line 2336, in create_op\n    original_op=self._default_original_op, op_def=op_def)\n  File \"/Users/satoutakumi/.pyenv/versions/anaconda3-5.0.1/lib/python3.6/site-packages/tensorflow/python/framework/ops.py\", line 1228, in __init__\n    self._traceback = _extract_stack()\n\nInvalidArgumentError (see above for traceback): indices[6,15] = -1 is not in [0, 6634)\n\t [[Node: embedding_lookup = Gather[Tindices=DT_INT32, Tparams=DT_FLOAT, _class=[\"loc:@V\"], validate_indices=true, _device=\"/job:localhost/replica:0/task:0/cpu:0\"](V/read, _recv_x_0)]]\n"
<<<<<<< HEAD
<<<<<<< HEAD
<<<<<<< HEAD
>>>>>>> 1c7d0f143dc936c9b28e0e156f720b0fce55eafd
=======
>>>>>>> 1c7d0f143dc936c9b28e0e156f720b0fce55eafd
=======
>>>>>>> 1c7d0f143dc936c9b28e0e156f720b0fce55eafd
=======
>>>>>>> 1c7d0f143dc936c9b28e0e156f720b0fce55eafd
     ]
    }
   ],
   "source": [
<<<<<<< HEAD
<<<<<<< HEAD
<<<<<<< HEAD
<<<<<<< HEAD
    "%%bash\n",
    "wget -q https://s3.amazonaws.com/ilect-public/ail/TakaoPGothic.ttf # Takaoフォント (https://launchpad.net/takao-fonts)\n",
    "mv TakaoPGothic.ttf /usr/local/share/fonts/"
   ]
  },
  {
   "cell_type": "markdown",
   "metadata": {},
   "source": [
    "アテンションで獲得した重み$a$を可視化してみます."
   ]
  },
  {
   "cell_type": "code",
   "execution_count": 243,
   "metadata": {},
   "outputs": [
    {
     "name": "stderr",
     "output_type": "stream",
     "text": [
      "/Users/satoutakumi/.pyenv/versions/anaconda3-5.0.1/lib/python3.6/site-packages/matplotlib/font_manager.py:1316: UserWarning: findfont: Font family ['TakaoPGothic'] not found. Falling back to DejaVu Sans\n",
      "  (prop.get_family(), self.defaultFamily[fontext]))\n"
     ]
    },
    {
     "data": {
      "image/png": "iVBORw0KGgoAAAANSUhEUgAAAnQAAAE1CAYAAABuhX2bAAAABHNCSVQICAgIfAhkiAAAAAlwSFlz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\nYII=\n",
      "text/plain": [
       "<matplotlib.figure.Figure at 0x1a349d7630>"
      ]
     },
     "metadata": {},
     "output_type": "display_data"
    }
   ],
   "source": [
    "a = att_weights[num][:len(origx), 1:len(predy)+1]\n",
    "\n",
    "xticks = [j_i2w[com] for com in predy]\n",
    "yticks = [e_i2w[com] for com in origx]\n",
    "fig = plt.figure(figsize=(10, 5))\n",
    "ax = fig.add_subplot(111, aspect='equal')\n",
    "ax.imshow(a, interpolation='nearest', cmap='Blues', aspect='auto', vmin=0, vmax=1)\n",
    "for (_y, _x), weight in np.ndenumerate(a):\n",
    "    ax.text(_x, _y, '{:.2f}'.format(weight), ha='center', va='center', color=str(weight), fontweight='bold')\n",
    "ax.set_yticks(np.arange(a.shape[0]))\n",
    "ax.set_xticks(np.arange(a.shape[1]))\n",
    "ax.set_yticklabels(yticks, fontweight='bold', fontsize='12', color='blue')\n",
    "ax.set_xticklabels(xticks, fontweight='bold', fontsize='12', color='red', fontdict={'family': 'TakaoPGothic'})\n",
    "ax.xaxis.tick_top()\n",
    "ax.yaxis.set_ticks_position('none')\n",
    "ax.xaxis.set_ticks_position('none')\n",
    "plt.show()"
   ]
  },
  {
   "cell_type": "code",
   "execution_count": 242,
   "metadata": {
    "collapsed": true
   },
   "outputs": [],
   "source": [
    "sess.close()"
=======
=======
>>>>>>> 1c7d0f143dc936c9b28e0e156f720b0fce55eafd
=======
>>>>>>> 1c7d0f143dc936c9b28e0e156f720b0fce55eafd
=======
>>>>>>> 1c7d0f143dc936c9b28e0e156f720b0fce55eafd
    "valid_X_mb = pad_sequences(valid_X[:100], padding='post', value=-1)\n",
    "_y_0 = np.zeros_like(valid_X[:100], dtype='int32')[:, np.newaxis]\n",
    "_m_h_enc, _h_enc, _c_enc = sess.run([m_h_enc, h_enc, c_enc], feed_dict={x: valid_X_mb})\n",
    "_h_0 = _h_enc[:, -1, :]\n",
    "_c_0 = _c_enc[:, -1, :]"
<<<<<<< HEAD
<<<<<<< HEAD
<<<<<<< HEAD
>>>>>>> 1c7d0f143dc936c9b28e0e156f720b0fce55eafd
=======
>>>>>>> 1c7d0f143dc936c9b28e0e156f720b0fce55eafd
=======
>>>>>>> 1c7d0f143dc936c9b28e0e156f720b0fce55eafd
=======
>>>>>>> 1c7d0f143dc936c9b28e0e156f720b0fce55eafd
   ]
  },
  {
   "cell_type": "code",
   "execution_count": null,
   "metadata": {
    "collapsed": true
   },
   "outputs": [],
   "source": []
<<<<<<< HEAD
<<<<<<< HEAD
<<<<<<< HEAD
<<<<<<< HEAD
  },
  {
   "cell_type": "code",
   "execution_count": null,
   "metadata": {
    "collapsed": true
   },
   "outputs": [],
   "source": []
=======
>>>>>>> 1c7d0f143dc936c9b28e0e156f720b0fce55eafd
=======
>>>>>>> 1c7d0f143dc936c9b28e0e156f720b0fce55eafd
=======
>>>>>>> 1c7d0f143dc936c9b28e0e156f720b0fce55eafd
=======
>>>>>>> 1c7d0f143dc936c9b28e0e156f720b0fce55eafd
  }
 ],
 "metadata": {
  "kernelspec": {
   "display_name": "Python 3",
   "language": "python",
   "name": "python3"
  },
  "language_info": {
   "codemirror_mode": {
    "name": "ipython",
    "version": 3
   },
   "file_extension": ".py",
   "mimetype": "text/x-python",
   "name": "python",
   "nbconvert_exporter": "python",
   "pygments_lexer": "ipython3",
   "version": "3.6.3"
  }
 },
 "nbformat": 4,
 "nbformat_minor": 2
}
