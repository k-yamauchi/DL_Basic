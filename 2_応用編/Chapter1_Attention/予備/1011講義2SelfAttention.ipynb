{
 "cells": [
  {
   "cell_type": "code",
   "execution_count": 4,
   "metadata": {
    "collapsed": false
   },
   "outputs": [],
   "source": [
    "from keras.models import Model\n",
    "from keras.layers import Input, Dense,Dot,Concatenate\n",
    "from keras.activations import softmax\n",
    "from keras import backend as K\n",
    "from keras.layers.core import Lambda"
   ]
  },
  {
   "cell_type": "code",
   "execution_count": 5,
   "metadata": {
    "collapsed": true
   },
   "outputs": [],
   "source": [
    "def SingleHeadSelfAttentionMudule():\n",
    "\n",
    "    x= Input(shape=(20,512))\n",
    "    \n",
    "    #QKV\n",
    "    Q = Dense(64,name='Q')(x)\n",
    "    K = Dense(64,name='K')(x)\n",
    "    V = Dense(64,name='V')(x)\n",
    "    \n",
    "    score = Dot(-1,name='score')([Q,K])\n",
    "    attention_weights=Lambda(lambda x: softmax(x/8,axis=2), name='attention_weights')(score)\n",
    "        \n",
    "    weighted_V = Dot(1,name='weighted_V')([V,attention_weights])\n",
    "\n",
    "    model = Model(inputs=x, outputs=weighted_V)\n",
    "    return model"
   ]
  },
  {
   "cell_type": "code",
   "execution_count": 6,
   "metadata": {
    "collapsed": false
   },
   "outputs": [
    {
     "name": "stdout",
     "output_type": "stream",
     "text": [
      "____________________________________________________________________________________________________\n",
      "Layer (type)                     Output Shape          Param #     Connected to                     \n",
      "====================================================================================================\n",
      "input_2 (InputLayer)             (None, 20, 512)       0                                            \n",
      "____________________________________________________________________________________________________\n",
      "Q (Dense)                        (None, 20, 64)        32832       input_2[0][0]                    \n",
      "____________________________________________________________________________________________________\n",
      "K (Dense)                        (None, 20, 64)        32832       input_2[0][0]                    \n",
      "____________________________________________________________________________________________________\n",
      "score (Dot)                      (None, 20, 20)        0           Q[0][0]                          \n",
      "                                                                   K[0][0]                          \n",
      "____________________________________________________________________________________________________\n",
      "V (Dense)                        (None, 20, 64)        32832       input_2[0][0]                    \n",
      "____________________________________________________________________________________________________\n",
      "attention_weights (Lambda)       (None, 20, 20)        0           score[0][0]                      \n",
      "____________________________________________________________________________________________________\n",
      "weighted_V (Dot)                 (None, 64, 20)        0           V[0][0]                          \n",
      "                                                                   attention_weights[0][0]          \n",
      "====================================================================================================\n",
      "Total params: 98,496\n",
      "Trainable params: 98,496\n",
      "Non-trainable params: 0\n",
      "____________________________________________________________________________________________________\n"
     ]
    }
   ],
   "source": [
    "model = SingleHeadSelfAttentionMudule()\n",
    "model.summary()"
   ]
  },
  {
   "cell_type": "code",
   "execution_count": null,
   "metadata": {
    "collapsed": true
   },
   "outputs": [],
   "source": []
  }
 ],
 "metadata": {
  "anaconda-cloud": {},
  "kernelspec": {
   "display_name": "Python [conda root]",
   "language": "python",
   "name": "conda-root-py"
  },
  "language_info": {
   "codemirror_mode": {
    "name": "ipython",
    "version": 3
   },
   "file_extension": ".py",
   "mimetype": "text/x-python",
   "name": "python",
   "nbconvert_exporter": "python",
   "pygments_lexer": "ipython3",
   "version": "3.5.2"
  }
 },
 "nbformat": 4,
 "nbformat_minor": 2
}
