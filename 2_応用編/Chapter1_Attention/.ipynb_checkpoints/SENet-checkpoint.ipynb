{
 "cells": [
  {
   "cell_type": "markdown",
   "metadata": {},
   "source": [
    "# Squeeze-and-Excitation Networks\n",
    "https://arxiv.org/pdf/1709.01507.pdf"
   ]
  },
  {
   "cell_type": "markdown",
   "metadata": {},
   "source": [
    "ILSVRC2017優勝モデル<br>\n",
    "**“Squeeze-and-Excitation”(SE) block**の提案<br>\n",
    "チャンネル間の相互依存性をはっきりとモデリングすることで、チャンネル面での特徴を再構成\n",
    "\n",
    "\n",
    "ResidualAttentionNetworkが**空間方向**へのAttentionだったのに対して、こちらは**チャンネル**へのAttention"
   ]
  },
  {
   "cell_type": "markdown",
   "metadata": {},
   "source": [
    "<img src='img/seblock.png'>"
   ]
  },
  {
   "cell_type": "markdown",
   "metadata": {},
   "source": [
    "## 1.構造"
   ]
  },
  {
   "cell_type": "markdown",
   "metadata": {},
   "source": [
    "### - Phase1(普通のConv)\n",
    "$F_{tr} : X → U,$　　($X ∈ R^{W'×H'×C'}$,$ U ∈ R^{W×H×C} $)\n",
    "\n",
    "### - Phase2(Squeeze operation)\n",
    "Uの特徴は次に** squeeze operation**に通される。<br>\n",
    "Global Average Poolingをして1x1xCに\n",
    "\n",
    "### - Phase3(Excitation operation)\n",
    "FC -> RELU -> FC ->sigmoidでどのチャンネルに注目したらいいのかAttentionMask（と解釈）を生成\n",
    "\n",
    "### - Phase4(Scale)\n",
    "$U$に得られた1x1xCの重みをかける\n",
    "\n"
   ]
  },
  {
   "cell_type": "markdown",
   "metadata": {},
   "source": [
    "# 2.SEBlockのkeras実装"
   ]
  },
  {
   "cell_type": "markdown",
   "metadata": {},
   "source": [
    "<img src='img/senet_resnet.png' width=400>"
   ]
  },
  {
   "cell_type": "markdown",
   "metadata": {},
   "source": [
    "<img src ='img/senet_results.png'>"
   ]
  },
  {
   "cell_type": "code",
   "execution_count": 1,
   "metadata": {
    "collapsed": false
   },
   "outputs": [
    {
     "name": "stderr",
     "output_type": "stream",
     "text": [
      "Using TensorFlow backend.\n"
     ]
    }
   ],
   "source": [
    "from keras.models import Model\n",
    "from keras.layers import Input\n",
    "from keras.layers import Dense\n",
    "from keras.layers import Reshape\n",
    "from keras.layers import Activation\n",
    "from keras.layers import BatchNormalization\n",
    "from keras.layers import MaxPooling2D\n",
    "from keras.layers import GlobalAveragePooling2D\n",
    "from keras.layers import GlobalMaxPooling2D\n",
    "from keras.layers import Conv2D\n",
    "from keras.layers import add\n",
    "from keras.layers import multiply\n",
    "from keras import backend as K\n",
    "from keras.layers.core import Flatten"
   ]
  },
  {
   "cell_type": "code",
   "execution_count": 2,
   "metadata": {
    "collapsed": true
   },
   "outputs": [],
   "source": [
    "def squeeze_excite_block(input, ratio=2):\n",
    "    init = input\n",
    "    channel_axis = 1 if K.image_data_format() == \"channels_first\" else -1\n",
    "    filters = init._keras_shape[channel_axis]\n",
    "    se_shape = (1, 1, filters)\n",
    "\n",
    "    se = GlobalAveragePooling2D()(init)\n",
    "    se = Reshape(se_shape)(se)\n",
    "    se = Dense(filters // ratio, activation='relu', kernel_initializer='he_normal', use_bias=False)(se)\n",
    "    se = Dense(filters, activation='sigmoid', kernel_initializer='he_normal', use_bias=False)(se)\n",
    "\n",
    "    if K.image_data_format() == 'channels_first':\n",
    "        se = Permute((3, 1, 2))(se)\n",
    "\n",
    "    x = multiply([init, se])\n",
    "    return x"
   ]
  },
  {
   "cell_type": "markdown",
   "metadata": {},
   "source": [
    "# Simple Structure"
   ]
  },
  {
   "cell_type": "code",
   "execution_count": 3,
   "metadata": {
    "collapsed": false
   },
   "outputs": [
    {
     "name": "stderr",
     "output_type": "stream",
     "text": [
      "/Users/tomoki/.pyenv/versions/anaconda3-4.2.0/lib/python3.5/site-packages/ipykernel/__main__.py:7: UserWarning: Update your `Model` call to the Keras 2 API: `Model(inputs=Tensor(\"in..., outputs=Tensor(\"fl...)`\n"
     ]
    }
   ],
   "source": [
    "inputs = Input(shape=(28,28,1))\n",
    "x = Conv2D(32, (3, 3), padding='same', strides=1,activation='relu')(inputs)\n",
    "x = squeeze_excite_block(x)\n",
    "x = Conv2D(1, (1, 1), padding='same', strides=1,activation='relu')(x)\n",
    "x = Flatten()(x)\n",
    "predictions = Dense(10, activation='softmax')(x)\n",
    "model = Model(input=inputs, output=x)"
   ]
  },
  {
   "cell_type": "code",
   "execution_count": 4,
   "metadata": {
    "collapsed": false
   },
   "outputs": [
    {
     "name": "stdout",
     "output_type": "stream",
     "text": [
      "____________________________________________________________________________________________________\n",
      "Layer (type)                     Output Shape          Param #     Connected to                     \n",
      "====================================================================================================\n",
      "input_1 (InputLayer)             (None, 28, 28, 1)     0                                            \n",
      "____________________________________________________________________________________________________\n",
      "conv2d_1 (Conv2D)                (None, 28, 28, 32)    320         input_1[0][0]                    \n",
      "____________________________________________________________________________________________________\n",
      "global_average_pooling2d_1 (Glob (None, 32)            0           conv2d_1[0][0]                   \n",
      "____________________________________________________________________________________________________\n",
      "reshape_1 (Reshape)              (None, 1, 1, 32)      0           global_average_pooling2d_1[0][0] \n",
      "____________________________________________________________________________________________________\n",
      "dense_1 (Dense)                  (None, 1, 1, 16)      512         reshape_1[0][0]                  \n",
      "____________________________________________________________________________________________________\n",
      "dense_2 (Dense)                  (None, 1, 1, 32)      512         dense_1[0][0]                    \n",
      "____________________________________________________________________________________________________\n",
      "multiply_1 (Multiply)            (None, 28, 28, 32)    0           conv2d_1[0][0]                   \n",
      "                                                                   dense_2[0][0]                    \n",
      "____________________________________________________________________________________________________\n",
      "conv2d_2 (Conv2D)                (None, 28, 28, 1)     33          multiply_1[0][0]                 \n",
      "____________________________________________________________________________________________________\n",
      "flatten_1 (Flatten)              (None, 784)           0           conv2d_2[0][0]                   \n",
      "====================================================================================================\n",
      "Total params: 1,377\n",
      "Trainable params: 1,377\n",
      "Non-trainable params: 0\n",
      "____________________________________________________________________________________________________\n"
     ]
    }
   ],
   "source": [
    "model.summary()"
   ]
  },
  {
   "cell_type": "markdown",
   "metadata": {
    "collapsed": true
   },
   "source": [
    "# SE-Residual Block "
   ]
  },
  {
   "cell_type": "code",
   "execution_count": 7,
   "metadata": {
    "collapsed": false
   },
   "outputs": [
    {
     "name": "stdout",
     "output_type": "stream",
     "text": [
      "____________________________________________________________________________________________________\n",
      "Layer (type)                     Output Shape          Param #     Connected to                     \n",
      "====================================================================================================\n",
      "input_4 (InputLayer)             (None, 28, 28, 1)     0                                            \n",
      "____________________________________________________________________________________________________\n",
      "conv2d_7 (Conv2D)                (None, 28, 28, 32)    320         input_4[0][0]                    \n",
      "____________________________________________________________________________________________________\n",
      "global_average_pooling2d_4 (Glob (None, 32)            0           conv2d_7[0][0]                   \n",
      "____________________________________________________________________________________________________\n",
      "reshape_4 (Reshape)              (None, 1, 1, 32)      0           global_average_pooling2d_4[0][0] \n",
      "____________________________________________________________________________________________________\n",
      "dense_8 (Dense)                  (None, 1, 1, 16)      512         reshape_4[0][0]                  \n",
      "____________________________________________________________________________________________________\n",
      "dense_9 (Dense)                  (None, 1, 1, 32)      512         dense_8[0][0]                    \n",
      "____________________________________________________________________________________________________\n",
      "multiply_4 (Multiply)            (None, 28, 28, 32)    0           conv2d_7[0][0]                   \n",
      "                                                                   dense_9[0][0]                    \n",
      "____________________________________________________________________________________________________\n",
      "conv2d_8 (Conv2D)                (None, 28, 28, 1)     33          multiply_4[0][0]                 \n",
      "____________________________________________________________________________________________________\n",
      "add_1 (Add)                      (None, 28, 28, 32)    0           conv2d_8[0][0]                   \n",
      "                                                                   conv2d_7[0][0]                   \n",
      "____________________________________________________________________________________________________\n",
      "flatten_2 (Flatten)              (None, 25088)         0           add_1[0][0]                      \n",
      "====================================================================================================\n",
      "Total params: 1,377\n",
      "Trainable params: 1,377\n",
      "Non-trainable params: 0\n",
      "____________________________________________________________________________________________________\n"
     ]
    },
    {
     "name": "stderr",
     "output_type": "stream",
     "text": [
      "/Users/tomoki/.pyenv/versions/anaconda3-4.2.0/lib/python3.5/site-packages/ipykernel/__main__.py:13: UserWarning: Update your `Model` call to the Keras 2 API: `Model(inputs=Tensor(\"in..., outputs=Tensor(\"fl...)`\n"
     ]
    }
   ],
   "source": [
    "inputs = Input(shape=(28,28,1))\n",
    "x = Conv2D(32, (3, 3), padding='same', strides=1,activation='relu')(inputs)\n",
    "\n",
    "residual =x\n",
    "\n",
    "x = squeeze_excite_block(x)\n",
    "x = add([x,residual])\n",
    "\n",
    "x = Conv2D(1, (1, 1), padding='same', strides=1,activation='relu')(x)\n",
    "\n",
    "x = Flatten()(x)\n",
    "predictions = Dense(10, activation='softmax')(x)\n",
    "model = Model(input=inputs, output=x)\n",
    "model.summary()"
   ]
  },
  {
   "cell_type": "markdown",
   "metadata": {},
   "source": [
    "## Visualize the Activatio  of Excitation"
   ]
  },
  {
   "cell_type": "markdown",
   "metadata": {},
   "source": [
    "<img src='img/SEchart.png'>"
   ]
  },
  {
   "cell_type": "markdown",
   "metadata": {},
   "source": [
    "最初の方は違いがないが、層を重ねるごとに重視する層の差が顕著になってくる。"
   ]
  },
  {
   "cell_type": "code",
   "execution_count": null,
   "metadata": {
    "collapsed": true
   },
   "outputs": [],
   "source": []
  }
 ],
 "metadata": {
  "anaconda-cloud": {},
  "kernelspec": {
   "display_name": "Python [conda root]",
   "language": "python",
   "name": "conda-root-py"
  },
  "language_info": {
   "codemirror_mode": {
    "name": "ipython",
    "version": 3
   },
   "file_extension": ".py",
   "mimetype": "text/x-python",
   "name": "python",
   "nbconvert_exporter": "python",
   "pygments_lexer": "ipython3",
   "version": "3.5.2"
  }
 },
 "nbformat": 4,
 "nbformat_minor": 1
}
