{
 "cells": [
  {
   "cell_type": "markdown",
   "metadata": {},
   "source": [
    "# 多層パーセプトロン"
   ]
  },
  {
   "cell_type": "markdown",
   "metadata": {},
   "source": [
    "<img src=\"ffnn.png\">"
   ]
  },
  {
   "cell_type": "markdown",
   "metadata": {},
   "source": [
    "## 誤差逆伝播法\n",
    "### ①与えられた入力，重みのまま順伝播させ,出力yを得る．\n",
    "### ②得られた出力を元に，出力層での重みの勾配を計算．\n",
    "### ③同様に，l+1層目,l-1層目の情報を用いてl層目の重みの勾配を計算\n",
    "### ④各層の重みの更新\n",
    "### ⑤①から④を繰り返す\n",
    "\n",
    "#### ②について\n",
    "出力層での重みの勾配は誤差関数を$E_n$,正解データを$\\boldsymbol d$とすると\n",
    "#### $$\\begin{align}\n",
    "\\frac{\\partial E_n}{\\partial \\omega_{ji}^{(L)}}&=\\frac{\\partial E_n}{\\partial y}\\frac{\\partial y}{\\partial \\omega_{ji}^{(L-1)}}\\\\\n",
    "&=(\\boldsymbol y(\\boldsymbol x)-\\boldsymbol d)^T\\frac{\\partial y}{\\partial \\omega_{ji}^{(L-1)}}\\\\\n",
    "&=(\\boldsymbol y(\\boldsymbol x)-\\boldsymbol d)^T\\boldsymbol z_i^{(L-1)}\n",
    "\\end{align}\\tag{1}$$\n",
    "となります．\n",
    "#### ③について\n",
    "l層での重みの勾配は，l+1層,l-1層の情報を用いて次のように記述されます．\n",
    "#### $$\\begin{align}\n",
    "\\frac{\\partial E_n}{\\partial \\omega_{ji}^{(l)}}&=\\frac{\\partial E_n}{\\partial u_j^{(l)}}\\frac{\\partial u_j^{(l)}}{\\partial \\omega_{ji}^{(L-1)}}\\\\\n",
    "&=\\bigl(f^{'}(u_j^{(l)})\\sum_{k}\\omega_{kj}^{(l+1)}(u_k^{(l+1)}-d_k)\\bigr)\\frac{\\partial y}{\\partial \\omega_{ji}^{(l)}}\\\\\n",
    "&=\\bigl(f^{'}(u_j^{(l)})\\sum_{k}\\omega_{kj}^{(l+1)}(u_k^{(l+1)}-d_k)\\bigr)\\boldsymbol z_i^{(l-1)}\n",
    "\\end{align}\\tag{2}$$\n",
    "#### ④について\n",
    "重みの更新は以下の式で行います\n",
    "#### $$\\omega^{(l)}:=\\omega^{(l)}-\\varepsilon \\frac{\\partial E_n}{\\partial \\omega^{(l)}}\\tag{3}$$"
   ]
  },
  {
   "cell_type": "markdown",
   "metadata": {},
   "source": [
    "## MNIST"
   ]
  },
  {
   "cell_type": "markdown",
   "metadata": {},
   "source": [
    "### 必要なライブラリのインポート"
   ]
  },
  {
   "cell_type": "code",
   "execution_count": 50,
   "metadata": {},
   "outputs": [],
   "source": [
    "from sklearn.utils import shuffle\n",
    "from sklearn.metrics import f1_score\n",
    "from sklearn.datasets import fetch_mldata\n",
    "from sklearn.model_selection import train_test_split\n",
    "import numpy as np"
   ]
  },
  {
   "cell_type": "code",
   "execution_count": 51,
   "metadata": {},
   "outputs": [],
   "source": [
    "#\n",
    "def load_mnist():\n",
    "    mnist = fetch_mldata('MNIST original')\n",
    "    mnist_X, mnist_y = shuffle(mnist.data.astype('float32'),\n",
    "                               mnist.target.astype('int32'), random_state=42)\n",
    "\n",
    "    mnist_X = mnist_X / 255.0\n",
    "\n",
    "    return train_test_split(mnist_X, mnist_y,\n",
    "                test_size=0.2,\n",
    "                random_state=42)\n",
    "\n",
    "def validate_homework():\n",
    "    train_X, test_X, train_y, test_y = load_mnist()\n",
    "\n",
    "    # validate for small dataset\n",
    "    train_X_mini = train_X[:100]\n",
    "    train_y_mini = train_y[:100]\n",
    "    test_X_mini = test_X[:100]\n",
    "    test_y_mini = test_y[:100]\n",
    "\n",
    "    pred_y = homework(train_X_mini, train_y_mini, test_X_mini)\n",
    "    print(f1_score(test_y_mini, pred_y, average='macro'))\n",
    "\n",
    "def score_homework():\n",
    "    train_X, test_X, train_y, test_y = load_mnist()\n",
    "    pred_y = homework(train_X, train_y, test_X)\n",
    "    print(f1_score(test_y, pred_y, average='macro'))"
   ]
  },
  {
   "cell_type": "code",
   "execution_count": 34,
   "metadata": {},
   "outputs": [],
   "source": [
    "#MNISTを分類するクラス\n",
    "#適切に編集してください\n",
    "\n",
    "class MLP_MNIST(object):\n",
    "        def __init__(self):\n",
    "            pass\n",
    "        \n",
    "        def fit(self,x,t):\n",
    "            \n",
    "\n",
    "            self.numInput = x.shape[1]  #入力次元\n",
    "            self.numHidden = 200  #隠れ層次元\n",
    "            self.numOutput = 10 #出力層次元\n",
    "            \n",
    "            # 入力層-隠れ層間の重み初期値\n",
    "            self.W1 = np.random.uniform(low=-0.08, high=0.08, size=(self.numInput, self.numHidden)).astype('float32')  \n",
    "            self.b1 = np.zeros(self.numHidden).astype('float32')\n",
    "\n",
    "            # 隠れ層-出力層間の重み初期値\n",
    "            self.W2 = np.random.uniform(low=-0.08, high=0.08, size=(self.numHidden, self.numOutput)).astype('float32')\n",
    "            self.b2 = np.zeros(self.numOutput).astype('float32')\n",
    "            \n",
    "            #one-hotベクトルに変換\n",
    "            t= self.onehot(t)\n",
    "            \n",
    "            \n",
    "            \"\"\"#通常の学習\n",
    "            #epoch数、学習を行う\n",
    "            epoch_number=10000\n",
    "            for epoch in range(epoch_number):\n",
    "                if epoch%1000==1:\n",
    "                        print(epoch)\n",
    "                        print(self.cost)\n",
    "                self.train(x, t)\n",
    "            \"\"\"\n",
    "            \n",
    "            #バッチ学習\n",
    "            epoch_number=25\n",
    "            batch_size = 10\n",
    "            n_batches = x.shape[0] // batch_size\n",
    "            random_state=42\n",
    "            \n",
    "            for epoch in range(epoch_number):\n",
    "                x, t = shuffle(x, t, random_state=random_state)\n",
    "                for i in range(n_batches):\n",
    "                    start = i * batch_size\n",
    "                    end = start + batch_size\n",
    "                \n",
    "                    self.train(x[start:end], t[start:end])\n",
    "                if epoch%10==1:\n",
    "                        print(\"EPOCH\",epoch)\n",
    "                        print(\"cost\",self.cost)\n",
    "            \n",
    "            \n",
    "            \n",
    "        def train(self, x, t,eps=0.01):\n",
    "            \n",
    "            # Forward Propagation Layer1\n",
    "            u1=np.matmul(x,self.W1)+self.b1\n",
    "            z1=sigmoid(u1)\n",
    "            # Forward Propagation Layer2\n",
    "            u2=np.matmul(z1,self.W2)+self.b2\n",
    "            y = softmax(u2)\n",
    "        \n",
    "            # 誤差（Cross Entropy）\n",
    "            self.cost =  -np.mean(np.sum(t*np.log(y)))\n",
    "            \n",
    "            \n",
    "            #Back Propagation\n",
    "            \n",
    "            #deltaの計算\n",
    "            delta_2 = y - t # Layer2 delta\n",
    "            delta_1 = deriv_sigmoid(u1) * np.matmul(delta_2, self.W2.T) # Layer1 delta\n",
    "            \n",
    "            #誤差を各重みで偏微分\n",
    "            dW1 = np.matmul(x.T, delta_1)\n",
    "            db1 = np.matmul(np.ones(len(x)), delta_1)        \n",
    "\n",
    "            dW2 = np.matmul(z1.T, delta_2)\n",
    "            db2 = np.matmul(np.ones(len(z1)), delta_2)\n",
    "            \n",
    "            # 重みの更新\n",
    "            self.W1 = self.W1 - eps*dW1\n",
    "            self.b1 = self.b1 - eps*db1\n",
    "           \n",
    "            self.W2 = self.W2 - eps*dW2\n",
    "            self.b2 = self.b2 - eps*db2      \n",
    "              \n",
    "        def predict(self,x):\n",
    "            \n",
    "            # Feed Forward Propagtion\n",
    "            u1=np.matmul(x,self.W1)+self.b1\n",
    "            z1=sigmoid(u1)\n",
    "            u2=np.matmul(z1,self.W2)+self.b2\n",
    "            y = softmax(u2)\n",
    "            \n",
    "            return  y.argmax(axis=1)\n",
    "\n",
    "\n",
    "        def onehot(self,y):\n",
    "            \"\"\"train_yをonehotに変換\"\"\"\n",
    "            Z = np.zeros((len(y), self.numOutput))\n",
    "            Z[np.arange(len(y)), y] = 1\n",
    "            return Z\n",
    "        \n",
    "def sigmoid(x):\n",
    "        return 1/(1 + np.exp(-x))\n",
    "def deriv_sigmoid(x):\n",
    "        return sigmoid(x)*(1 - sigmoid(x))\n",
    "def softmax(x):\n",
    "        exp_x = np.exp(x)\n",
    "        return exp_x/np.sum(exp_x, axis=1, keepdims=True)\n",
    "def deriv_softmax(x):\n",
    "        return softmax(x)*(1 - softmax(x))"
   ]
  },
  {
   "cell_type": "code",
   "execution_count": 35,
   "metadata": {},
   "outputs": [],
   "source": [
    "def homework(train_X, train_y, test_X):\n",
    "    model = MLP_MNIST()\n",
    "    model.fit(train_X,train_y)\n",
    "    ans=model.predict(test_X)\n",
    "    return ans "
   ]
  },
  {
   "cell_type": "code",
   "execution_count": 36,
   "metadata": {},
   "outputs": [
    {
     "ename": "OSError",
     "evalue": "could not read bytes",
     "output_type": "error",
     "traceback": [
      "\u001b[0;31m---------------------------------------------------------------------------\u001b[0m",
      "\u001b[0;31mOSError\u001b[0m                                   Traceback (most recent call last)",
      "\u001b[0;32m<ipython-input-36-11c823e3da27>\u001b[0m in \u001b[0;36m<module>\u001b[0;34m()\u001b[0m\n\u001b[0;32m----> 1\u001b[0;31m \u001b[0mvalidate_homework\u001b[0m\u001b[0;34m(\u001b[0m\u001b[0;34m)\u001b[0m\u001b[0;34m\u001b[0m\u001b[0m\n\u001b[0m\u001b[1;32m      2\u001b[0m \u001b[0;31m#score_homework()\u001b[0m\u001b[0;34m\u001b[0m\u001b[0;34m\u001b[0m\u001b[0m\n",
      "\u001b[0;32m<ipython-input-33-f09ea31fb172>\u001b[0m in \u001b[0;36mvalidate_homework\u001b[0;34m()\u001b[0m\n\u001b[1;32m     12\u001b[0m \u001b[0;34m\u001b[0m\u001b[0m\n\u001b[1;32m     13\u001b[0m \u001b[0;32mdef\u001b[0m \u001b[0mvalidate_homework\u001b[0m\u001b[0;34m(\u001b[0m\u001b[0;34m)\u001b[0m\u001b[0;34m:\u001b[0m\u001b[0;34m\u001b[0m\u001b[0m\n\u001b[0;32m---> 14\u001b[0;31m     \u001b[0mtrain_X\u001b[0m\u001b[0;34m,\u001b[0m \u001b[0mtest_X\u001b[0m\u001b[0;34m,\u001b[0m \u001b[0mtrain_y\u001b[0m\u001b[0;34m,\u001b[0m \u001b[0mtest_y\u001b[0m \u001b[0;34m=\u001b[0m \u001b[0mload_mnist\u001b[0m\u001b[0;34m(\u001b[0m\u001b[0;34m)\u001b[0m\u001b[0;34m\u001b[0m\u001b[0m\n\u001b[0m\u001b[1;32m     15\u001b[0m \u001b[0;34m\u001b[0m\u001b[0m\n\u001b[1;32m     16\u001b[0m     \u001b[0;31m# validate for small dataset\u001b[0m\u001b[0;34m\u001b[0m\u001b[0;34m\u001b[0m\u001b[0m\n",
      "\u001b[0;32m<ipython-input-33-f09ea31fb172>\u001b[0m in \u001b[0;36mload_mnist\u001b[0;34m()\u001b[0m\n\u001b[1;32m      1\u001b[0m \u001b[0;31m#\u001b[0m\u001b[0;34m\u001b[0m\u001b[0;34m\u001b[0m\u001b[0m\n\u001b[1;32m      2\u001b[0m \u001b[0;32mdef\u001b[0m \u001b[0mload_mnist\u001b[0m\u001b[0;34m(\u001b[0m\u001b[0;34m)\u001b[0m\u001b[0;34m:\u001b[0m\u001b[0;34m\u001b[0m\u001b[0m\n\u001b[0;32m----> 3\u001b[0;31m     \u001b[0mmnist\u001b[0m \u001b[0;34m=\u001b[0m \u001b[0mfetch_mldata\u001b[0m\u001b[0;34m(\u001b[0m\u001b[0;34m'MNIST original'\u001b[0m\u001b[0;34m)\u001b[0m\u001b[0;34m\u001b[0m\u001b[0m\n\u001b[0m\u001b[1;32m      4\u001b[0m     mnist_X, mnist_y = shuffle(mnist.data.astype('float32'),\n\u001b[1;32m      5\u001b[0m                                mnist.target.astype('int32'), random_state=42)\n",
      "\u001b[0;32m~/anaconda3/lib/python3.6/site-packages/sklearn/datasets/mldata.py\u001b[0m in \u001b[0;36mfetch_mldata\u001b[0;34m(dataname, target_name, data_name, transpose_data, data_home)\u001b[0m\n\u001b[1;32m    168\u001b[0m     \u001b[0;31m# load dataset matlab file\u001b[0m\u001b[0;34m\u001b[0m\u001b[0;34m\u001b[0m\u001b[0m\n\u001b[1;32m    169\u001b[0m     \u001b[0;32mwith\u001b[0m \u001b[0mopen\u001b[0m\u001b[0;34m(\u001b[0m\u001b[0mfilename\u001b[0m\u001b[0;34m,\u001b[0m \u001b[0;34m'rb'\u001b[0m\u001b[0;34m)\u001b[0m \u001b[0;32mas\u001b[0m \u001b[0mmatlab_file\u001b[0m\u001b[0;34m:\u001b[0m\u001b[0;34m\u001b[0m\u001b[0m\n\u001b[0;32m--> 170\u001b[0;31m         \u001b[0mmatlab_dict\u001b[0m \u001b[0;34m=\u001b[0m \u001b[0mio\u001b[0m\u001b[0;34m.\u001b[0m\u001b[0mloadmat\u001b[0m\u001b[0;34m(\u001b[0m\u001b[0mmatlab_file\u001b[0m\u001b[0;34m,\u001b[0m \u001b[0mstruct_as_record\u001b[0m\u001b[0;34m=\u001b[0m\u001b[0;32mTrue\u001b[0m\u001b[0;34m)\u001b[0m\u001b[0;34m\u001b[0m\u001b[0m\n\u001b[0m\u001b[1;32m    171\u001b[0m \u001b[0;34m\u001b[0m\u001b[0m\n\u001b[1;32m    172\u001b[0m     \u001b[0;31m# -- extract data from matlab_dict\u001b[0m\u001b[0;34m\u001b[0m\u001b[0;34m\u001b[0m\u001b[0m\n",
      "\u001b[0;32m~/anaconda3/lib/python3.6/site-packages/scipy/io/matlab/mio.py\u001b[0m in \u001b[0;36mloadmat\u001b[0;34m(file_name, mdict, appendmat, **kwargs)\u001b[0m\n\u001b[1;32m    140\u001b[0m     \u001b[0mvariable_names\u001b[0m \u001b[0;34m=\u001b[0m \u001b[0mkwargs\u001b[0m\u001b[0;34m.\u001b[0m\u001b[0mpop\u001b[0m\u001b[0;34m(\u001b[0m\u001b[0;34m'variable_names'\u001b[0m\u001b[0;34m,\u001b[0m \u001b[0;32mNone\u001b[0m\u001b[0;34m)\u001b[0m\u001b[0;34m\u001b[0m\u001b[0m\n\u001b[1;32m    141\u001b[0m     \u001b[0mMR\u001b[0m\u001b[0;34m,\u001b[0m \u001b[0mfile_opened\u001b[0m \u001b[0;34m=\u001b[0m \u001b[0mmat_reader_factory\u001b[0m\u001b[0;34m(\u001b[0m\u001b[0mfile_name\u001b[0m\u001b[0;34m,\u001b[0m \u001b[0mappendmat\u001b[0m\u001b[0;34m,\u001b[0m \u001b[0;34m**\u001b[0m\u001b[0mkwargs\u001b[0m\u001b[0;34m)\u001b[0m\u001b[0;34m\u001b[0m\u001b[0m\n\u001b[0;32m--> 142\u001b[0;31m     \u001b[0mmatfile_dict\u001b[0m \u001b[0;34m=\u001b[0m \u001b[0mMR\u001b[0m\u001b[0;34m.\u001b[0m\u001b[0mget_variables\u001b[0m\u001b[0;34m(\u001b[0m\u001b[0mvariable_names\u001b[0m\u001b[0;34m)\u001b[0m\u001b[0;34m\u001b[0m\u001b[0m\n\u001b[0m\u001b[1;32m    143\u001b[0m     \u001b[0;32mif\u001b[0m \u001b[0mmdict\u001b[0m \u001b[0;32mis\u001b[0m \u001b[0;32mnot\u001b[0m \u001b[0;32mNone\u001b[0m\u001b[0;34m:\u001b[0m\u001b[0;34m\u001b[0m\u001b[0m\n\u001b[1;32m    144\u001b[0m         \u001b[0mmdict\u001b[0m\u001b[0;34m.\u001b[0m\u001b[0mupdate\u001b[0m\u001b[0;34m(\u001b[0m\u001b[0mmatfile_dict\u001b[0m\u001b[0;34m)\u001b[0m\u001b[0;34m\u001b[0m\u001b[0m\n",
      "\u001b[0;32m~/anaconda3/lib/python3.6/site-packages/scipy/io/matlab/mio5.py\u001b[0m in \u001b[0;36mget_variables\u001b[0;34m(self, variable_names)\u001b[0m\n\u001b[1;32m    290\u001b[0m                 \u001b[0;32mcontinue\u001b[0m\u001b[0;34m\u001b[0m\u001b[0m\n\u001b[1;32m    291\u001b[0m             \u001b[0;32mtry\u001b[0m\u001b[0;34m:\u001b[0m\u001b[0;34m\u001b[0m\u001b[0m\n\u001b[0;32m--> 292\u001b[0;31m                 \u001b[0mres\u001b[0m \u001b[0;34m=\u001b[0m \u001b[0mself\u001b[0m\u001b[0;34m.\u001b[0m\u001b[0mread_var_array\u001b[0m\u001b[0;34m(\u001b[0m\u001b[0mhdr\u001b[0m\u001b[0;34m,\u001b[0m \u001b[0mprocess\u001b[0m\u001b[0;34m)\u001b[0m\u001b[0;34m\u001b[0m\u001b[0m\n\u001b[0m\u001b[1;32m    293\u001b[0m             \u001b[0;32mexcept\u001b[0m \u001b[0mMatReadError\u001b[0m \u001b[0;32mas\u001b[0m \u001b[0merr\u001b[0m\u001b[0;34m:\u001b[0m\u001b[0;34m\u001b[0m\u001b[0m\n\u001b[1;32m    294\u001b[0m                 warnings.warn(\n",
      "\u001b[0;32m~/anaconda3/lib/python3.6/site-packages/scipy/io/matlab/mio5.py\u001b[0m in \u001b[0;36mread_var_array\u001b[0;34m(self, header, process)\u001b[0m\n\u001b[1;32m    250\u001b[0m            \u001b[0;31m`\u001b[0m\u001b[0mprocess\u001b[0m\u001b[0;31m`\u001b[0m\u001b[0;34m.\u001b[0m\u001b[0;34m\u001b[0m\u001b[0m\n\u001b[1;32m    251\u001b[0m         '''\n\u001b[0;32m--> 252\u001b[0;31m         \u001b[0;32mreturn\u001b[0m \u001b[0mself\u001b[0m\u001b[0;34m.\u001b[0m\u001b[0m_matrix_reader\u001b[0m\u001b[0;34m.\u001b[0m\u001b[0marray_from_header\u001b[0m\u001b[0;34m(\u001b[0m\u001b[0mheader\u001b[0m\u001b[0;34m,\u001b[0m \u001b[0mprocess\u001b[0m\u001b[0;34m)\u001b[0m\u001b[0;34m\u001b[0m\u001b[0m\n\u001b[0m\u001b[1;32m    253\u001b[0m \u001b[0;34m\u001b[0m\u001b[0m\n\u001b[1;32m    254\u001b[0m     \u001b[0;32mdef\u001b[0m \u001b[0mget_variables\u001b[0m\u001b[0;34m(\u001b[0m\u001b[0mself\u001b[0m\u001b[0;34m,\u001b[0m \u001b[0mvariable_names\u001b[0m\u001b[0;34m=\u001b[0m\u001b[0;32mNone\u001b[0m\u001b[0;34m)\u001b[0m\u001b[0;34m:\u001b[0m\u001b[0;34m\u001b[0m\u001b[0m\n",
      "\u001b[0;32mmio5_utils.pyx\u001b[0m in \u001b[0;36mscipy.io.matlab.mio5_utils.VarReader5.array_from_header\u001b[0;34m()\u001b[0m\n",
      "\u001b[0;32mmio5_utils.pyx\u001b[0m in \u001b[0;36mscipy.io.matlab.mio5_utils.VarReader5.array_from_header\u001b[0;34m()\u001b[0m\n",
      "\u001b[0;32mmio5_utils.pyx\u001b[0m in \u001b[0;36mscipy.io.matlab.mio5_utils.VarReader5.read_real_complex\u001b[0;34m()\u001b[0m\n",
      "\u001b[0;32mmio5_utils.pyx\u001b[0m in \u001b[0;36mscipy.io.matlab.mio5_utils.VarReader5.read_numeric\u001b[0;34m()\u001b[0m\n",
      "\u001b[0;32mmio5_utils.pyx\u001b[0m in \u001b[0;36mscipy.io.matlab.mio5_utils.VarReader5.read_element\u001b[0;34m()\u001b[0m\n",
      "\u001b[0;32mstreams.pyx\u001b[0m in \u001b[0;36mscipy.io.matlab.streams.GenericStream.read_string\u001b[0;34m()\u001b[0m\n",
      "\u001b[0;32mstreams.pyx\u001b[0m in \u001b[0;36mscipy.io.matlab.streams.GenericStream.read_into\u001b[0;34m()\u001b[0m\n",
      "\u001b[0;31mOSError\u001b[0m: could not read bytes"
     ]
    }
   ],
   "source": [
    "validate_homework()\n",
    "#score_homework()"
   ]
  },
  {
   "cell_type": "markdown",
   "metadata": {},
   "source": [
    "## $f(x)=x+0.3\\sin(2\\pi x)$ に沿って生成したノイズを含むデータ点から，近似曲線を推定する"
   ]
  },
  {
   "cell_type": "markdown",
   "metadata": {},
   "source": [
    "<img src=\"neuron.png\">"
   ]
  },
  {
   "cell_type": "markdown",
   "metadata": {},
   "source": [
    "### 必要なライブラリのインポート "
   ]
  },
  {
   "cell_type": "code",
   "execution_count": 71,
   "metadata": {},
   "outputs": [],
   "source": [
    "import pylab as plt\n",
    "import numpy as np"
   ]
  },
  {
   "cell_type": "markdown",
   "metadata": {},
   "source": [
    "### データの作成"
   ]
  },
  {
   "cell_type": "code",
   "execution_count": 72,
   "metadata": {},
   "outputs": [],
   "source": [
    "def create_toy_dataset(func, n=100):\n",
    "    #サイズ(n,1)の配列に0~1の乱数を格納\n",
    "    x = np.random.uniform(size=(n, 1))\n",
    "    #関数の返り値にノイズを発生\n",
    "    t = func(x) + np.random.uniform(-0.1, 0.1, size=(n, 1))\n",
    "    return x, t\n",
    "\n",
    "#f(x)=x+0.3sin(2πx)を定義\n",
    "def func(x):\n",
    "        return x + 0.3 * np.sin(2 * np.pi * x)"
   ]
  },
  {
   "cell_type": "markdown",
   "metadata": {},
   "source": [
    "### 多層パーセプトロンによる回帰"
   ]
  },
  {
   "cell_type": "code",
   "execution_count": 67,
   "metadata": {},
   "outputs": [],
   "source": [
    "#回帰を行うクラス\n",
    "#適切に編集してください\n",
    "\n",
    "class MLP_regression(object):\n",
    "    def __init__(self):\n",
    "        pass\n",
    "        \n",
    "    def fit(self,x,t):\n",
    "        self.numInput = x.shape[1]  #入力次元\n",
    "        self.numHidden = 3  #隠れ層次元\n",
    "        self.numOutput = 1 #出力層次元\n",
    "            \n",
    "        # 入力層-隠れ層間の重み初期値\n",
    "        self.W1 = np.random.uniform(low=-2, high=2, size=(self.numInput, self.numHidden)).astype('float32')  \n",
    "        self.b1 = np.ones(self.numHidden) * 0.5\n",
    "        \n",
    "        # 隠れ層-出力層間の重み初期値\n",
    "        self.W2 = np.random.uniform(low=-2, high=2, size=(self.numHidden, self.numOutput)).astype('float32')\n",
    "        self.b2 = np.ones(self.numOutput) * 0.5\n",
    "        \n",
    "        #通常の学習\n",
    "        #epoch数、学習を行う\n",
    "        epoch_number=100000\n",
    "        for epoch in range(epoch_number):\n",
    "            if epoch%10000==1:\n",
    "                    print(\"EPOCH\",epoch)\n",
    "                    print(\"cost\",self.cost)\n",
    "            self.train(x, t)\n",
    "            \n",
    "    def train(self, x, t,eps=0.001):\n",
    "            \n",
    "            # Forward Propagation Layer1\n",
    "            u1=np.matmul(x,self.W1)+self.b1\n",
    "            z1=tanh(u1)\n",
    "            # Forward Propagation Layer2\n",
    "            u2=np.matmul(z1,self.W2)+self.b2\n",
    "            y = u2\n",
    "        \n",
    "            # 誤差（二乗誤差）\n",
    "            self.cost =  0.5 * np.sum((y-t) ** 2)\n",
    "           \n",
    "            #Back Propagation\n",
    "            #deltaの計算\n",
    "            delta_2 = y - t # Layer2 delta\n",
    "            delta_1 = deriv_tanh(u1) * np.matmul(delta_2, self.W2.T) # Layer1 delta\n",
    "            \n",
    "            #誤差を各重みで偏微分式(1)(2)\n",
    "            dW1 = np.matmul(x.T, delta_1)\n",
    "            db1 = np.matmul(np.ones(len(x)), delta_1)        \n",
    "            dW2 = np.matmul(z1.T, delta_2)\n",
    "            db2 = np.matmul(np.ones(len(z1)), delta_2)\n",
    "        \n",
    "            # 重みの更新式(3)\n",
    "            self.W1 = self.W1 - eps*dW1\n",
    "            self.b1 = self.b1 - eps*db1\n",
    "            self.W2 = self.W2 - eps*dW2\n",
    "            self.b2 = self.b2 - eps*db2 \n",
    "        \n",
    "        \n",
    "    def predict(self,x):\n",
    "        # Forward Propagation Layer1\n",
    "        u1=np.matmul(x,self.W1)+self.b1\n",
    "        z1=tanh(u1)\n",
    "        # Forward Propagation Layer2\n",
    "        u2=np.matmul(z1,self.W2)+self.b2\n",
    "        y = u2\n",
    "        return y\n"
   ]
  },
  {
   "cell_type": "markdown",
   "metadata": {},
   "source": [
    "### 諸関数の定義"
   ]
  },
  {
   "cell_type": "code",
   "execution_count": 73,
   "metadata": {},
   "outputs": [],
   "source": [
    "def sigmoid(x):\n",
    "        return 1/(1 + np.exp(-x))\n",
    "def deriv_sigmoid(x):\n",
    "        return sigmoid(x)*(1 - sigmoid(x))\n",
    "def softmax(x):\n",
    "        exp_x = np.exp(x)\n",
    "        return exp_x/np.sum(exp_x, axis=1, keepdims=True)\n",
    "def deriv_softmax(x):\n",
    "        return softmax(x)*(1 - softmax(x))\n",
    "def tanh(x):\n",
    "        return np.tanh(x)\n",
    "def deriv_tanh(x):\n",
    "        return 1 - tanh(x) ** 2"
   ]
  },
  {
   "cell_type": "markdown",
   "metadata": {},
   "source": [
    "### データの学習"
   ]
  },
  {
   "cell_type": "code",
   "execution_count": 74,
   "metadata": {},
   "outputs": [
    {
     "name": "stdout",
     "output_type": "stream",
     "text": [
      "EPOCH 1\n",
      "cost 57.809903835237755\n",
      "EPOCH 10001\n",
      "cost 0.45866105915271727\n",
      "EPOCH 20001\n",
      "cost 0.18445237285524851\n",
      "EPOCH 30001\n",
      "cost 0.17300294083226586\n",
      "EPOCH 40001\n",
      "cost 0.17029680914682846\n",
      "EPOCH 50001\n",
      "cost 0.16963178592206957\n",
      "EPOCH 60001\n",
      "cost 0.16943561766721638\n",
      "EPOCH 70001\n",
      "cost 0.16935107921753298\n",
      "EPOCH 80001\n",
      "cost 0.16929695115556487\n",
      "EPOCH 90001\n",
      "cost 0.16925417797550893\n"
     ]
    }
   ],
   "source": [
    "#学習データ\n",
    "x, t = create_toy_dataset(func)\n",
    "\n",
    "#モデルのインスタンス\n",
    "model=MLP_regression()\n",
    "\n",
    "#モデルの学習\n",
    "model.fit(x,t)"
   ]
  },
  {
   "cell_type": "markdown",
   "metadata": {},
   "source": [
    "### データのプロット"
   ]
  },
  {
   "cell_type": "code",
   "execution_count": 70,
   "metadata": {},
   "outputs": [
    {
     "data": {
      "image/png": "[encoded data removed]",
      "text/plain": [
       "<matplotlib.figure.Figure at 0x10973a198>"
      ]
     },
     "metadata": {},
     "output_type": "display_data"
    },
    {
     "name": "stdout",
     "output_type": "stream",
     "text": [
      "[[ 1.83907941  3.35932043 -2.28138962]]\n",
      "[-0.89042935 -0.25491622  2.29868813]\n",
      "[[-1.88462132]\n",
      " [ 1.38068538]\n",
      " [-2.08977161]]\n",
      "[1.03959438]\n"
     ]
    }
   ],
   "source": [
    "plt.scatter(x, t, alpha=0.5, label=\"observation\")\n",
    "x_test = np.linspace(0, 1, 1000)[:, np.newaxis]\n",
    "y = model.predict(x_test)\n",
    "plt.plot(x_test, func(x_test), color=\"blue\", label=\"$x+0.3\\sin(2\\pi x)$\")\n",
    "plt.plot(x_test, y, color=\"red\", label=\"regression\")\n",
    "plt.legend(loc=\"upper left\")\n",
    "plt.xlabel(\"x\")\n",
    "plt.ylabel(\"y\")\n",
    "plt.show()\n",
    "print(model.W1)\n",
    "print(model.b1)\n",
    "print(model.W2)\n",
    "print(model.b2)"
   ]
  },
  {
   "cell_type": "markdown",
   "metadata": {},
   "source": [
    "## 二値分類"
   ]
  },
  {
   "cell_type": "code",
   "execution_count": 42,
   "metadata": {},
   "outputs": [],
   "source": [
    "def create_toy_dataset2():\n",
    "    x = np.random.uniform(-1., 1., size=(1000, 2))\n",
    "    labels = (np.prod(x, axis=1) > 0).astype(np.float)\n",
    "    return x, labels.reshape(-1, 1)\n",
    "\n"
   ]
  },
  {
   "cell_type": "code",
   "execution_count": 45,
   "metadata": {},
   "outputs": [
    {
     "name": "stdout",
     "output_type": "stream",
     "text": [
      "(1000, 2)\n",
      "(1000, 1)\n"
     ]
    },
    {
     "data": {
      "image/png": "[encoded data removed]",
      "text/plain": [
       "<matplotlib.figure.Figure at 0x10968f9b0>"
      ]
     },
     "metadata": {},
     "output_type": "display_data"
    }
   ],
   "source": [
    "x, labels = create_toy_dataset2()\n",
    "print(x.shape)\n",
    "print(labels.shape)\n",
    "colors = [\"blue\", \"red\"]\n",
    "plt.scatter(x[:, 0], x[:, 1], c=[colors[int(label)] for label in labels])\n",
    "plt.show()"
   ]
  },
  {
   "cell_type": "code",
   "execution_count": 46,
   "metadata": {},
   "outputs": [],
   "source": [
    "class MLP_binary(object):\n",
    "    def __init__(self):\n",
    "        pass\n",
    "    \n",
    "    def fit(self,x,t):\n",
    "        self.numInput = x.shape[1]  #入力次元\n",
    "        self.numHidden = 4  #隠れ層次元\n",
    "        self.numOutput = 1 #出力層次元\n",
    "            \n",
    "        # 入力層-隠れ層間の重み初期値\n",
    "        self.W1 = np.random.uniform(low=-2, high=2, size=(self.numInput, self.numHidden)).astype('float32')  \n",
    "        self.b1 = np.ones(self.numHidden) * 0.5\n",
    "        \n",
    "        # 隠れ層-出力層間の重み初期値\n",
    "        self.W2 = np.random.uniform(low=-2, high=2, size=(self.numHidden, self.numOutput)).astype('float32')\n",
    "        self.b2 = np.ones(self.numOutput) * 0.5\n",
    "        \n",
    "        #通常の学習\n",
    "        #epoch数、学習を行う\n",
    "        epoch_number=1000\n",
    "        for epoch in range(epoch_number):\n",
    "            if epoch%1000==1:\n",
    "                    print(\"EPOCH\",epoch)\n",
    "                    print(\"cost\",self.cost)\n",
    "            self.train(x, t)\n",
    "            \n",
    "    def train(self, x, t,eps=0.001):\n",
    "\n",
    "            # Forward Propagation Layer1\n",
    "            u1=np.matmul(x,self.W1)+self.b1\n",
    "            z1=tanh(u1)\n",
    "            # Forward Propagation Layer2\n",
    "            u2=np.matmul(z1,self.W2)+self.b2\n",
    "            y = sigmoid(u2)\n",
    "        \n",
    "            \n",
    "            # 誤差（二乗誤差）\n",
    "            self.cost =  np.sum(-t * np.log(y) - (1 - t) * np.log(1 - y))\n",
    "           \n",
    "            #Back Propagation\n",
    "            #deltaの計算\n",
    "            delta_2 = y - t # Layer2 delta\n",
    "\n",
    "            delta_1 = deriv_tanh(u1) * np.matmul(delta_2, self.W2.T) # Layer1 delta\n",
    "\n",
    "            \n",
    "            \n",
    "            #誤差を各重みで偏微分\n",
    "            dW1 = np.matmul(x.T, delta_1)\n",
    "            db1 = np.matmul(np.ones(len(x)), delta_1)        \n",
    "            dW2 = np.matmul(z1.T, delta_2)\n",
    "            db2 = np.matmul(np.ones(len(z1)), delta_2)\n",
    "        \n",
    "            # 重みの更新\n",
    "            self.W1 = self.W1 - eps*dW1\n",
    "            self.b1 = self.b1 - eps*db1\n",
    "            self.W2 = self.W2 - eps*dW2\n",
    "            self.b2 = self.b2 - eps*db2 \n",
    "        \n",
    "        \n",
    "    def predict(self,x):\n",
    "        # Forward Propagation Layer1\n",
    "        u1=np.matmul(x,self.W1)+self.b1\n",
    "        z1=tanh(u1)\n",
    "        # Forward Propagation Layer2\n",
    "        u2=np.matmul(z1,self.W2)+self.b2\n",
    "        y = sigmoid(u2)\n",
    "        return y\n",
    "    \n",
    "def sigmoid(x):\n",
    "        return 1/(1 + np.exp(-x))\n",
    "def deriv_sigmoid(x):\n",
    "        return sigmoid(x)*(1 - sigmoid(x))\n",
    "def softmax(x):\n",
    "        exp_x = np.exp(x)\n",
    "        return exp_x/np.sum(exp_x, axis=1, keepdims=True)\n",
    "def deriv_softmax(x):\n",
    "        return softmax(x)*(1 - softmax(x))\n",
    "def tanh(x):\n",
    "        return np.tanh(x)\n",
    "def deriv_tanh(x):\n",
    "        return 1 - tanh(x) ** 2"
   ]
  },
  {
   "cell_type": "code",
   "execution_count": 47,
   "metadata": {},
   "outputs": [
    {
     "name": "stdout",
     "output_type": "stream",
     "text": [
      "EPOCH 1\n",
      "cost 1214.5988066127318\n"
     ]
    }
   ],
   "source": [
    "model=MLP_binary()\n",
    "model.fit(x,labels)\n",
    "\n"
   ]
  },
  {
   "cell_type": "code",
   "execution_count": 48,
   "metadata": {},
   "outputs": [],
   "source": [
    "X_test, Y_test = np.meshgrid(np.linspace(-1, 1, 100), np.linspace(-1, 1, 100))\n",
    "x_test = np.array([X_test, Y_test]).transpose(1, 2, 0).reshape(-1, 2)"
   ]
  },
  {
   "cell_type": "code",
   "execution_count": 49,
   "metadata": {},
   "outputs": [
    {
     "data": {
      "image/png": "[encoded data removed]",
      "text/plain": [
       "<matplotlib.figure.Figure at 0x109576898>"
      ]
     },
     "metadata": {},
     "output_type": "display_data"
    }
   ],
   "source": [
    "probs = model.predict(x_test)\n",
    "Probs = probs.reshape(100, 100)\n",
    "levels = np.linspace(0, 1, 11)\n",
    "plt.contourf(X_test, Y_test, Probs, levels, alpha=0.5)\n",
    "plt.colorbar()\n",
    "plt.xlim(-1, 1)\n",
    "plt.ylim(-1, 1)\n",
    "plt.show()"
   ]
  },
  {
   "cell_type": "code",
   "execution_count": null,
   "metadata": {},
   "outputs": [],
   "source": []
  },
  {
   "cell_type": "code",
   "execution_count": null,
   "metadata": {},
   "outputs": [],
   "source": []
  }
 ],
 "metadata": {
  "kernelspec": {
   "display_name": "Python 3",
   "language": "python",
   "name": "python3"
  },
  "language_info": {
   "codemirror_mode": {
    "name": "ipython",
    "version": 3
   },
   "file_extension": ".py",
   "mimetype": "text/x-python",
   "name": "python",
   "nbconvert_exporter": "python",
   "pygments_lexer": "ipython3",
   "version": "3.6.4"
  }
 },
 "nbformat": 4,
 "nbformat_minor": 2
}
