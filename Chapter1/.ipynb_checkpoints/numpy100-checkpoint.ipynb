{
 "cells": [
  {
   "cell_type": "markdown",
   "metadata": {},
   "source": [
    "## 100 numpy exercises"
   ]
  },
  {
   "cell_type": "markdown",
   "metadata": {},
   "source": [
    "# 初心者向けサイト\n",
    "http://wbhappy.hatenablog.jp/entry/2015/02/06/210000\n",
    "http://rest-term.com/archives/2999/\n",
    "https://qiita.com/takaaki5564/items/451d9d6c319f76758a9d"
   ]
  },
  {
   "cell_type": "markdown",
   "metadata": {},
   "source": [
    "## 1,numpyパッケージをnpの名前でインポート"
   ]
  },
  {
   "cell_type": "code",
   "execution_count": 2,
   "metadata": {},
   "outputs": [],
   "source": [
    "import numpy as np"
   ]
  },
  {
   "cell_type": "markdown",
   "metadata": {},
   "source": [
    "## 2,numpyのバージョンと構造を表示"
   ]
  },
  {
   "cell_type": "code",
   "execution_count": 4,
   "metadata": {},
   "outputs": [
    {
     "name": "stdout",
     "output_type": "stream",
     "text": [
      "1.14.0\n",
      "mkl_info:\n",
      "    libraries = ['mkl_rt', 'pthread']\n",
      "    library_dirs = ['/Users/satoutakumi/anaconda3/lib']\n",
      "    define_macros = [('SCIPY_MKL_H', None), ('HAVE_CBLAS', None)]\n",
      "    include_dirs = ['/Users/satoutakumi/anaconda3/include']\n",
      "blas_mkl_info:\n",
      "    libraries = ['mkl_rt', 'pthread']\n",
      "    library_dirs = ['/Users/satoutakumi/anaconda3/lib']\n",
      "    define_macros = [('SCIPY_MKL_H', None), ('HAVE_CBLAS', None)]\n",
      "    include_dirs = ['/Users/satoutakumi/anaconda3/include']\n",
      "blas_opt_info:\n",
      "    libraries = ['mkl_rt', 'pthread']\n",
      "    library_dirs = ['/Users/satoutakumi/anaconda3/lib']\n",
      "    define_macros = [('SCIPY_MKL_H', None), ('HAVE_CBLAS', None)]\n",
      "    include_dirs = ['/Users/satoutakumi/anaconda3/include']\n",
      "lapack_mkl_info:\n",
      "    libraries = ['mkl_rt', 'pthread']\n",
      "    library_dirs = ['/Users/satoutakumi/anaconda3/lib']\n",
      "    define_macros = [('SCIPY_MKL_H', None), ('HAVE_CBLAS', None)]\n",
      "    include_dirs = ['/Users/satoutakumi/anaconda3/include']\n",
      "lapack_opt_info:\n",
      "    libraries = ['mkl_rt', 'pthread']\n",
      "    library_dirs = ['/Users/satoutakumi/anaconda3/lib']\n",
      "    define_macros = [('SCIPY_MKL_H', None), ('HAVE_CBLAS', None)]\n",
      "    include_dirs = ['/Users/satoutakumi/anaconda3/include']\n"
     ]
    }
   ],
   "source": [
    "print(np.__version__)\n",
    "np.show_config()"
   ]
  },
  {
   "cell_type": "markdown",
   "metadata": {},
   "source": [
    "## 3,サイズ10のゼロベクトルを作成する"
   ]
  },
  {
   "cell_type": "code",
   "execution_count": 16,
   "metadata": {},
   "outputs": [
    {
     "name": "stdout",
     "output_type": "stream",
     "text": [
      "[0. 0. 0. 0. 0. 0. 0. 0. 0. 0.]\n"
     ]
    }
   ],
   "source": [
    "z=np.zeros(10)"
   ]
  },
  {
   "cell_type": "code",
   "execution_count": 17,
   "metadata": {},
   "outputs": [
    {
     "name": "stdout",
     "output_type": "stream",
     "text": [
      "[0. 0. 0. 0. 0. 0. 0. 0. 0. 0.]\n"
     ]
    }
   ],
   "source": [
    "print(z)"
   ]
  },
  {
   "cell_type": "markdown",
   "metadata": {},
   "source": [
    "## 4,配列のメモリ容量を見る"
   ]
  },
  {
   "cell_type": "code",
   "execution_count": 18,
   "metadata": {},
   "outputs": [],
   "source": [
    "Z=np.zeros((10,10))"
   ]
  },
  {
   "cell_type": "code",
   "execution_count": 19,
   "metadata": {},
   "outputs": [
    {
     "name": "stdout",
     "output_type": "stream",
     "text": [
      "800 bytes\n"
     ]
    }
   ],
   "source": [
    "print(\"%d bytes\"%(Z.size*Z.itemsize))"
   ]
  },
  {
   "cell_type": "markdown",
   "metadata": {},
   "source": [
    "## 5,コマンドラインからnumpy add関数のドキュメントを取得する方法は？"
   ]
  },
  {
   "cell_type": "code",
   "execution_count": 56,
   "metadata": {},
   "outputs": [
    {
     "name": "stderr",
     "output_type": "stream",
     "text": [
      "ERROR:root:File `'`python.py'` not found.\n"
     ]
    }
   ],
   "source": [
    "%run `python -c \"import numpy; numpy.info(numpy.add)\"`"
   ]
  },
  {
   "cell_type": "markdown",
   "metadata": {},
   "source": [
    "## 6,5つ目の要素が1で、他の値が0であるサイズ10のベクトルを作成する"
   ]
  },
  {
   "cell_type": "code",
   "execution_count": 23,
   "metadata": {},
   "outputs": [],
   "source": [
    "Z=np.zeros(10)\n",
    "Z[4]=1"
   ]
  },
  {
   "cell_type": "code",
   "execution_count": 24,
   "metadata": {},
   "outputs": [
    {
     "name": "stdout",
     "output_type": "stream",
     "text": [
      "[0. 0. 0. 0. 0. 0. 0. 0. 0. 0.]\n"
     ]
    }
   ],
   "source": [
    "print(z)"
   ]
  },
  {
   "cell_type": "markdown",
   "metadata": {},
   "source": [
    "## 7,10から49までの要素を持つベクトルを作成"
   ]
  },
  {
   "cell_type": "code",
   "execution_count": 25,
   "metadata": {},
   "outputs": [],
   "source": [
    "Z=np.arange(10,50)"
   ]
  },
  {
   "cell_type": "code",
   "execution_count": 26,
   "metadata": {},
   "outputs": [
    {
     "name": "stdout",
     "output_type": "stream",
     "text": [
      "[10 11 12 13 14 15 16 17 18 19 20 21 22 23 24 25 26 27 28 29 30 31 32 33\n",
      " 34 35 36 37 38 39 40 41 42 43 44 45 46 47 48 49]\n"
     ]
    }
   ],
   "source": [
    "print(Z)"
   ]
  },
  {
   "cell_type": "markdown",
   "metadata": {},
   "source": [
    "## 8,ベクトル要素を逆転させる"
   ]
  },
  {
   "cell_type": "code",
   "execution_count": 27,
   "metadata": {},
   "outputs": [],
   "source": [
    "Z=np.arange(50)\n",
    "Z=Z[::-1]"
   ]
  },
  {
   "cell_type": "code",
   "execution_count": 28,
   "metadata": {
    "scrolled": true
   },
   "outputs": [
    {
     "name": "stdout",
     "output_type": "stream",
     "text": [
      "[49 48 47 46 45 44 43 42 41 40 39 38 37 36 35 34 33 32 31 30 29 28 27 26\n",
      " 25 24 23 22 21 20 19 18 17 16 15 14 13 12 11 10  9  8  7  6  5  4  3  2\n",
      "  1  0]\n"
     ]
    }
   ],
   "source": [
    "print(Z)"
   ]
  },
  {
   "cell_type": "markdown",
   "metadata": {},
   "source": [
    "## 9,0から8を要素に持つ3×3の行列を作成する"
   ]
  },
  {
   "cell_type": "code",
   "execution_count": 30,
   "metadata": {},
   "outputs": [],
   "source": [
    "Z=np.arange(9).reshape(3,3)"
   ]
  },
  {
   "cell_type": "code",
   "execution_count": 31,
   "metadata": {},
   "outputs": [
    {
     "name": "stdout",
     "output_type": "stream",
     "text": [
      "[[0 1 2]\n",
      " [3 4 5]\n",
      " [6 7 8]]\n"
     ]
    }
   ],
   "source": [
    "print(Z)"
   ]
  },
  {
   "cell_type": "markdown",
   "metadata": {},
   "source": [
    "## 10,0ではない要素を検索する"
   ]
  },
  {
   "cell_type": "code",
   "execution_count": 32,
   "metadata": {},
   "outputs": [],
   "source": [
    "nz=np.nonzero([1,2,0,0,4,0])"
   ]
  },
  {
   "cell_type": "code",
   "execution_count": 33,
   "metadata": {},
   "outputs": [
    {
     "name": "stdout",
     "output_type": "stream",
     "text": [
      "(array([0, 1, 4]),)\n"
     ]
    }
   ],
   "source": [
    "print(nz)"
   ]
  },
  {
   "cell_type": "markdown",
   "metadata": {},
   "source": [
    "## 11,3×3の単位行列を作成する"
   ]
  },
  {
   "cell_type": "code",
   "execution_count": 35,
   "metadata": {},
   "outputs": [],
   "source": [
    "Z=np.eye(3)"
   ]
  },
  {
   "cell_type": "code",
   "execution_count": null,
   "metadata": {},
   "outputs": [],
   "source": [
    "print(Z)"
   ]
  },
  {
   "cell_type": "markdown",
   "metadata": {},
   "source": [
    "## 12,3×3×3の乱数要素の配列を作成する"
   ]
  },
  {
   "cell_type": "code",
   "execution_count": 37,
   "metadata": {},
   "outputs": [],
   "source": [
    "Z=np.random.random((3,3,3))"
   ]
  },
  {
   "cell_type": "code",
   "execution_count": 38,
   "metadata": {},
   "outputs": [
    {
     "name": "stdout",
     "output_type": "stream",
     "text": [
      "[[[0.49296474 0.88857457 0.44205907]\n",
      "  [0.94401511 0.2042374  0.41767786]\n",
      "  [0.14358995 0.12137678 0.82607988]]\n",
      "\n",
      " [[0.45353104 0.29218167 0.03297664]\n",
      "  [0.42830174 0.80190286 0.64163096]\n",
      "  [0.69013322 0.72972896 0.7669189 ]]\n",
      "\n",
      " [[0.48033225 0.3568582  0.78988607]\n",
      "  [0.3462539  0.66852932 0.36978115]\n",
      "  [0.98106431 0.17229289 0.67320306]]]\n"
     ]
    }
   ],
   "source": [
    "print(Z)"
   ]
  },
  {
   "cell_type": "markdown",
   "metadata": {},
   "source": [
    "## 13, 10×10の乱数要素配列を作成し、最大値、最小値を検索する"
   ]
  },
  {
   "cell_type": "code",
   "execution_count": 39,
   "metadata": {},
   "outputs": [],
   "source": [
    "Z=np.random.random((10,10))\n",
    "Zmin,Zmax=Z.min(),Z.max()"
   ]
  },
  {
   "cell_type": "code",
   "execution_count": 40,
   "metadata": {},
   "outputs": [
    {
     "name": "stdout",
     "output_type": "stream",
     "text": [
      "0.01029759587442447 0.9965922637791665\n"
     ]
    }
   ],
   "source": [
    "print(Zmin,Zmax)"
   ]
  },
  {
   "cell_type": "markdown",
   "metadata": {},
   "source": [
    "## 14,大きさ30の乱数ベクトルを作成し、その平均をとる"
   ]
  },
  {
   "cell_type": "code",
   "execution_count": 21,
   "metadata": {},
   "outputs": [
    {
     "name": "stdout",
     "output_type": "stream",
     "text": [
      "0.4739090952844566\n"
     ]
    }
   ],
   "source": [
    "Z=np.random.random(30)\n",
    "m=Z.mean()"
   ]
  },
  {
   "cell_type": "code",
   "execution_count": 41,
   "metadata": {},
   "outputs": [
    {
     "name": "stdout",
     "output_type": "stream",
     "text": [
      "0.4414994856476987\n"
     ]
    }
   ],
   "source": [
    "print(m)"
   ]
  },
  {
   "cell_type": "markdown",
   "metadata": {},
   "source": [
    "## 15, 縁が1 、内部が0の二次元配列を作成する"
   ]
  },
  {
   "cell_type": "code",
   "execution_count": 43,
   "metadata": {},
   "outputs": [],
   "source": [
    "Z=np.ones((10,10))\n",
    "Z[1:-1,1:-1]=0"
   ]
  },
  {
   "cell_type": "code",
   "execution_count": 44,
   "metadata": {},
   "outputs": [
    {
     "name": "stdout",
     "output_type": "stream",
     "text": [
      "[[1. 1. 1. 1. 1. 1. 1. 1. 1. 1.]\n",
      " [1. 0. 0. 0. 0. 0. 0. 0. 0. 1.]\n",
      " [1. 0. 0. 0. 0. 0. 0. 0. 0. 1.]\n",
      " [1. 0. 0. 0. 0. 0. 0. 0. 0. 1.]\n",
      " [1. 0. 0. 0. 0. 0. 0. 0. 0. 1.]\n",
      " [1. 0. 0. 0. 0. 0. 0. 0. 0. 1.]\n",
      " [1. 0. 0. 0. 0. 0. 0. 0. 0. 1.]\n",
      " [1. 0. 0. 0. 0. 0. 0. 0. 0. 1.]\n",
      " [1. 0. 0. 0. 0. 0. 0. 0. 0. 1.]\n",
      " [1. 1. 1. 1. 1. 1. 1. 1. 1. 1.]]\n"
     ]
    }
   ],
   "source": [
    "print(Z)"
   ]
  },
  {
   "cell_type": "markdown",
   "metadata": {},
   "source": [
    "## 16, 既存の配列の縁に0の縁を追加する"
   ]
  },
  {
   "cell_type": "code",
   "execution_count": 45,
   "metadata": {},
   "outputs": [],
   "source": [
    "Z=np.ones((5,5))\n",
    "Z=np.pad(Z,pad_width=1,mode='constant',constant_values=0)"
   ]
  },
  {
   "cell_type": "code",
   "execution_count": 46,
   "metadata": {},
   "outputs": [
    {
     "name": "stdout",
     "output_type": "stream",
     "text": [
      "[[0. 0. 0. 0. 0. 0. 0.]\n",
      " [0. 1. 1. 1. 1. 1. 0.]\n",
      " [0. 1. 1. 1. 1. 1. 0.]\n",
      " [0. 1. 1. 1. 1. 1. 0.]\n",
      " [0. 1. 1. 1. 1. 1. 0.]\n",
      " [0. 1. 1. 1. 1. 1. 0.]\n",
      " [0. 0. 0. 0. 0. 0. 0.]]\n"
     ]
    }
   ],
   "source": [
    "print(Z)"
   ]
  },
  {
   "cell_type": "markdown",
   "metadata": {},
   "source": [
    "## 17,以下の表記の結果は？"
   ]
  },
  {
   "cell_type": "code",
   "execution_count": 25,
   "metadata": {},
   "outputs": [
    {
     "name": "stdout",
     "output_type": "stream",
     "text": [
      "nan\n",
      "False\n",
      "False\n",
      "nan\n",
      "False\n"
     ]
    }
   ],
   "source": [
    "print(0*np.nan)\n",
    "print(np.nan==np.nan)\n",
    "print(np.inf>np.nan)\n",
    "print(np.nan-np.nan)\n",
    "print(0.3==3*0.1)"
   ]
  },
  {
   "cell_type": "markdown",
   "metadata": {},
   "source": [
    "## 18,対角項の一つ下の値が1,2,3,4である5×5の行列を作成する"
   ]
  },
  {
   "cell_type": "code",
   "execution_count": 47,
   "metadata": {},
   "outputs": [],
   "source": [
    "Z=np.diag(1+np.arange(4),k=-1)"
   ]
  },
  {
   "cell_type": "code",
   "execution_count": 48,
   "metadata": {},
   "outputs": [
    {
     "name": "stdout",
     "output_type": "stream",
     "text": [
      "[[0 0 0 0 0]\n",
      " [1 0 0 0 0]\n",
      " [0 2 0 0 0]\n",
      " [0 0 3 0 0]\n",
      " [0 0 0 4 0]]\n"
     ]
    }
   ],
   "source": [
    "print(Z)"
   ]
  },
  {
   "cell_type": "markdown",
   "metadata": {},
   "source": [
    "## 19, 8×8の行列を作成し、市松模様で埋める"
   ]
  },
  {
   "cell_type": "code",
   "execution_count": 49,
   "metadata": {},
   "outputs": [],
   "source": [
    "Z=np.zeros((8,8),dtype=int)\n",
    "Z[1::2,::2]=1\n",
    "Z[::2,1::2]=1"
   ]
  },
  {
   "cell_type": "code",
   "execution_count": 50,
   "metadata": {},
   "outputs": [
    {
     "name": "stdout",
     "output_type": "stream",
     "text": [
      "[[0 1 0 1 0 1 0 1]\n",
      " [1 0 1 0 1 0 1 0]\n",
      " [0 1 0 1 0 1 0 1]\n",
      " [1 0 1 0 1 0 1 0]\n",
      " [0 1 0 1 0 1 0 1]\n",
      " [1 0 1 0 1 0 1 0]\n",
      " [0 1 0 1 0 1 0 1]\n",
      " [1 0 1 0 1 0 1 0]]\n"
     ]
    }
   ],
   "source": [
    "print(Z)"
   ]
  },
  {
   "cell_type": "markdown",
   "metadata": {},
   "source": [
    "## 20,(6,7,8)の型の配列を考えた時、100番目の(x,y,z)の要素は？"
   ]
  },
  {
   "cell_type": "code",
   "execution_count": 10,
   "metadata": {},
   "outputs": [
    {
     "name": "stdout",
     "output_type": "stream",
     "text": [
      "(1, 5, 4)\n"
     ]
    }
   ],
   "source": [
    "print(np.unravel_index(100,(6,7,8)))"
   ]
  },
  {
   "cell_type": "markdown",
   "metadata": {},
   "source": [
    "## 21,tile関数を用いて8×8の市松模様行列を作る"
   ]
  },
  {
   "cell_type": "code",
   "execution_count": 51,
   "metadata": {},
   "outputs": [],
   "source": [
    "Z = np.tile( np.array([[0,1],[1,0]]), (4,4))"
   ]
  },
  {
   "cell_type": "code",
   "execution_count": 52,
   "metadata": {},
   "outputs": [
    {
     "name": "stdout",
     "output_type": "stream",
     "text": [
      "[[0 1 0 1 0 1 0 1]\n",
      " [1 0 1 0 1 0 1 0]\n",
      " [0 1 0 1 0 1 0 1]\n",
      " [1 0 1 0 1 0 1 0]\n",
      " [0 1 0 1 0 1 0 1]\n",
      " [1 0 1 0 1 0 1 0]\n",
      " [0 1 0 1 0 1 0 1]\n",
      " [1 0 1 0 1 0 1 0]]\n"
     ]
    }
   ],
   "source": [
    "print(Z)"
   ]
  },
  {
   "cell_type": "markdown",
   "metadata": {},
   "source": [
    "## 22,5×5の乱数行列を規格化する"
   ]
  },
  {
   "cell_type": "code",
   "execution_count": 54,
   "metadata": {},
   "outputs": [],
   "source": [
    "Z = np.random.random((5,5))\n",
    "Zmax, Zmin = Z.max(), Z.min()\n",
    "Z = (Z - Zmin)/(Zmax - Zmin)"
   ]
  },
  {
   "cell_type": "code",
   "execution_count": 55,
   "metadata": {},
   "outputs": [
    {
     "name": "stdout",
     "output_type": "stream",
     "text": [
      "[[0.04973902 0.78893962 0.2820745  0.31614178 0.4024656 ]\n",
      " [0.7326271  0.75887899 0.91094982 0.23679774 0.93713426]\n",
      " [0.98882328 1.         0.67955807 0.18641917 0.49830707]\n",
      " [0.03896016 0.         0.67224384 0.2683047  0.26557255]\n",
      " [0.96512898 0.93739637 0.3633263  0.11535098 0.11675175]]\n"
     ]
    }
   ],
   "source": [
    "print(Z)"
   ]
  },
  {
   "cell_type": "markdown",
   "metadata": {},
   "source": [
    "## 23,色を4つの符号なしバイト（RGBA）として記述するカスタムdtypeを作成"
   ]
  },
  {
   "cell_type": "code",
   "execution_count": 14,
   "metadata": {},
   "outputs": [],
   "source": [
    "color = np.dtype([(\"r\", np.ubyte, 1),\n",
    "                  (\"g\", np.ubyte, 1),\n",
    "                  (\"b\", np.ubyte, 1),\n",
    "                  (\"a\", np.ubyte, 1)])"
   ]
  },
  {
   "cell_type": "markdown",
   "metadata": {},
   "source": [
    "## 24,5×3の行列と3×2の行列をかける"
   ]
  },
  {
   "cell_type": "code",
   "execution_count": 57,
   "metadata": {},
   "outputs": [],
   "source": [
    "Z = np.dot(np.ones((5,3)), np.ones((3,2)))"
   ]
  },
  {
   "cell_type": "code",
   "execution_count": 58,
   "metadata": {},
   "outputs": [
    {
     "name": "stdout",
     "output_type": "stream",
     "text": [
      "[[3. 3.]\n",
      " [3. 3.]\n",
      " [3. 3.]\n",
      " [3. 3.]\n",
      " [3. 3.]]\n"
     ]
    }
   ],
   "source": [
    "print(Z)"
   ]
  },
  {
   "cell_type": "code",
   "execution_count": null,
   "metadata": {},
   "outputs": [],
   "source": [
    "# Alternative solution, in Python 3.5 and above\n",
    "Z = np.ones((5,3)) @ np.ones((3,2))"
   ]
  },
  {
   "cell_type": "markdown",
   "metadata": {},
   "source": [
    "##  25,与えられた一次元配列の3~8要素の符号を変える"
   ]
  },
  {
   "cell_type": "code",
   "execution_count": 62,
   "metadata": {},
   "outputs": [],
   "source": [
    "Z = np.arange(11)\n",
    "Z[(3 < Z) & (Z <= 8)] *= -1"
   ]
  },
  {
   "cell_type": "code",
   "execution_count": 63,
   "metadata": {},
   "outputs": [
    {
     "name": "stdout",
     "output_type": "stream",
     "text": [
      "[ 0  1  2  3 -4 -5 -6 -7 -8  9 10]\n"
     ]
    }
   ],
   "source": [
    "print(Z)"
   ]
  },
  {
   "cell_type": "markdown",
   "metadata": {},
   "source": [
    "## 26,以下のスクリプトの結果は？"
   ]
  },
  {
   "cell_type": "code",
   "execution_count": 77,
   "metadata": {},
   "outputs": [
    {
     "name": "stdout",
     "output_type": "stream",
     "text": [
      "10\n",
      "10\n"
     ]
    }
   ],
   "source": [
    "print(sum(range(5),-1))\n",
    "from numpy import *\n",
    "print(sum(range(5),-1))"
   ]
  },
  {
   "cell_type": "markdown",
   "metadata": {},
   "source": [
    "#https://stackoverflow.com/questions/42955201/python-numpy-range-and-sum-1?utm_medium=organic&utm_source=google_rich_qa&utm_campaign=google_rich_qa\n",
    "\n",
    "#最初の行は、0 + 1 + 2 + 3 + 4 +（ - 1）と等価です。 3行目は、軸= -1で0 + 1 + 2 + 3 + 4に相当します。"
   ]
  },
  {
   "cell_type": "markdown",
   "metadata": {},
   "source": [
    "## 27,整数ベクトルを考えた時、以下のどの表記が正しいか"
   ]
  },
  {
   "cell_type": "code",
   "execution_count": 78,
   "metadata": {},
   "outputs": [
    {
     "ename": "ValueError",
     "evalue": "Integers to negative integer powers are not allowed.",
     "output_type": "error",
     "traceback": [
      "\u001b[0;31m---------------------------------------------------------------------------\u001b[0m",
      "\u001b[0;31mValueError\u001b[0m                                Traceback (most recent call last)",
      "\u001b[0;32m<ipython-input-78-4e3654d03fce>\u001b[0m in \u001b[0;36m<module>\u001b[0;34m()\u001b[0m\n\u001b[0;32m----> 1\u001b[0;31m \u001b[0mZ\u001b[0m\u001b[0;34m**\u001b[0m\u001b[0mZ\u001b[0m\u001b[0;34m\u001b[0m\u001b[0m\n\u001b[0m\u001b[1;32m      2\u001b[0m \u001b[0;36m2\u001b[0m \u001b[0;34m<<\u001b[0m \u001b[0mZ\u001b[0m \u001b[0;34m>>\u001b[0m \u001b[0;36m2\u001b[0m\u001b[0;34m\u001b[0m\u001b[0m\n\u001b[1;32m      3\u001b[0m \u001b[0mZ\u001b[0m \u001b[0;34m<\u001b[0m\u001b[0;34m-\u001b[0m \u001b[0mZ\u001b[0m\u001b[0;34m\u001b[0m\u001b[0m\n\u001b[1;32m      4\u001b[0m \u001b[0;36m1j\u001b[0m\u001b[0;34m*\u001b[0m\u001b[0mZ\u001b[0m\u001b[0;34m\u001b[0m\u001b[0m\n\u001b[1;32m      5\u001b[0m \u001b[0mZ\u001b[0m\u001b[0;34m/\u001b[0m\u001b[0;36m1\u001b[0m\u001b[0;34m/\u001b[0m\u001b[0;36m1\u001b[0m\u001b[0;34m\u001b[0m\u001b[0m\n",
      "\u001b[0;31mValueError\u001b[0m: Integers to negative integer powers are not allowed."
     ]
    }
   ],
   "source": [
    "Z**Z\n",
    "2 << Z >> 2\n",
    "Z <- Z\n",
    "1j*Z\n",
    "Z/1/1\n",
    "Z<Z>Z"
   ]
  },
  {
   "cell_type": "code",
   "execution_count": 79,
   "metadata": {},
   "outputs": [
    {
     "ename": "ValueError",
     "evalue": "Integers to negative integer powers are not allowed.",
     "output_type": "error",
     "traceback": [
      "\u001b[0;31m---------------------------------------------------------------------------\u001b[0m",
      "\u001b[0;31mValueError\u001b[0m                                Traceback (most recent call last)",
      "\u001b[0;32m<ipython-input-79-8f6ea73f5220>\u001b[0m in \u001b[0;36m<module>\u001b[0;34m()\u001b[0m\n\u001b[0;32m----> 1\u001b[0;31m \u001b[0mZ\u001b[0m\u001b[0;34m**\u001b[0m\u001b[0mZ\u001b[0m\u001b[0;34m\u001b[0m\u001b[0m\n\u001b[0m",
      "\u001b[0;31mValueError\u001b[0m: Integers to negative integer powers are not allowed."
     ]
    }
   ],
   "source": [
    "Z**Z"
   ]
  },
  {
   "cell_type": "code",
   "execution_count": 80,
   "metadata": {},
   "outputs": [
    {
     "data": {
      "text/plain": [
       "array([                 0,                  1,                  2,\n",
       "                        4, 576460752303423488, 288230376151711744,\n",
       "       144115188075855872,  72057594037927936,  36028797018963968,\n",
       "                      256,                512])"
      ]
     },
     "execution_count": 80,
     "metadata": {},
     "output_type": "execute_result"
    }
   ],
   "source": [
    "2 << Z >> 2"
   ]
  },
  {
   "cell_type": "markdown",
   "metadata": {},
   "source": [
    "#https://stackoverflow.com/questions/38491204/numpy-and-operators\n",
    "#演算子<<と>>はビットシフト演算子です（それぞれ左と右です）。 特定の例（<<付き）では、配列要素ごとにx = x * 2 ^ zを実行しています。その結果、出力が変更されます。 同じ例の演算子>>は、各配列要素に対してx = x / 2 ^ zで表される出力を生成します。"
   ]
  },
  {
   "cell_type": "code",
   "execution_count": 81,
   "metadata": {},
   "outputs": [
    {
     "data": {
      "text/plain": [
       "array([False, False, False, False,  True,  True,  True,  True,  True,\n",
       "       False, False])"
      ]
     },
     "execution_count": 81,
     "metadata": {},
     "output_type": "execute_result"
    }
   ],
   "source": [
    "Z <- Z"
   ]
  },
  {
   "cell_type": "code",
   "execution_count": 82,
   "metadata": {},
   "outputs": [
    {
     "data": {
      "text/plain": [
       "array([ 0. +0.j,  0. +1.j,  0. +2.j,  0. +3.j, -0. -4.j, -0. -5.j,\n",
       "       -0. -6.j, -0. -7.j, -0. -8.j,  0. +9.j,  0.+10.j])"
      ]
     },
     "execution_count": 82,
     "metadata": {},
     "output_type": "execute_result"
    }
   ],
   "source": [
    "1j*Z"
   ]
  },
  {
   "cell_type": "code",
   "execution_count": 83,
   "metadata": {},
   "outputs": [
    {
     "data": {
      "text/plain": [
       "array([ 0.,  1.,  2.,  3., -4., -5., -6., -7., -8.,  9., 10.])"
      ]
     },
     "execution_count": 83,
     "metadata": {},
     "output_type": "execute_result"
    }
   ],
   "source": [
    "Z/1/1"
   ]
  },
  {
   "cell_type": "code",
   "execution_count": 84,
   "metadata": {},
   "outputs": [
    {
     "ename": "ValueError",
     "evalue": "The truth value of an array with more than one element is ambiguous. Use a.any() or a.all()",
     "output_type": "error",
     "traceback": [
      "\u001b[0;31m---------------------------------------------------------------------------\u001b[0m",
      "\u001b[0;31mValueError\u001b[0m                                Traceback (most recent call last)",
      "\u001b[0;32m<ipython-input-84-6d2bd9eb1fd1>\u001b[0m in \u001b[0;36m<module>\u001b[0;34m()\u001b[0m\n\u001b[0;32m----> 1\u001b[0;31m \u001b[0mZ\u001b[0m\u001b[0;34m<\u001b[0m\u001b[0mZ\u001b[0m\u001b[0;34m>\u001b[0m\u001b[0mZ\u001b[0m\u001b[0;34m\u001b[0m\u001b[0m\n\u001b[0m",
      "\u001b[0;31mValueError\u001b[0m: The truth value of an array with more than one element is ambiguous. Use a.any() or a.all()"
     ]
    }
   ],
   "source": [
    "Z<Z>Z"
   ]
  },
  {
   "cell_type": "markdown",
   "metadata": {},
   "source": [
    "## 28,以下の結果は？ "
   ]
  },
  {
   "cell_type": "code",
   "execution_count": 19,
   "metadata": {},
   "outputs": [
    {
     "name": "stdout",
     "output_type": "stream",
     "text": [
      "nan\n",
      "0\n",
      "[-9.22337204e+18]\n"
     ]
    },
    {
     "name": "stderr",
     "output_type": "stream",
     "text": [
      "/Users/satoutakumi/anaconda3/lib/python3.6/site-packages/ipykernel_launcher.py:1: RuntimeWarning: invalid value encountered in true_divide\n",
      "  \"\"\"Entry point for launching an IPython kernel.\n",
      "/Users/satoutakumi/anaconda3/lib/python3.6/site-packages/ipykernel_launcher.py:2: RuntimeWarning: divide by zero encountered in floor_divide\n",
      "  \n"
     ]
    }
   ],
   "source": [
    "print(np.array(0) / np.array(0))\n",
    "print(np.array(0) // np.array(0))\n",
    "print(np.array([np.nan]).astype(int).astype(float))"
   ]
  },
  {
   "cell_type": "markdown",
   "metadata": {},
   "source": [
    "## 29,float型の配列の小数点以下切り下げをする方法"
   ]
  },
  {
   "cell_type": "code",
   "execution_count": 20,
   "metadata": {},
   "outputs": [
    {
     "name": "stdout",
     "output_type": "stream",
     "text": [
      "[10. 10. -2. 10.  5. -4.  1.  2. -3. -3.]\n"
     ]
    }
   ],
   "source": [
    "# Author: Charles R Harris\n",
    "\n",
    "Z = np.random.uniform(-10,+10,10)\n",
    "print (np.copysign(np.ceil(np.abs(Z)), Z))"
   ]
  },
  {
   "cell_type": "markdown",
   "metadata": {},
   "source": [
    "#http://pppurple.hatenablog.com/entry/2016/04/24/230450"
   ]
  },
  {
   "cell_type": "markdown",
   "metadata": {},
   "source": [
    "## 30,二つの配列から同じ値を見つける方法"
   ]
  },
  {
   "cell_type": "code",
   "execution_count": 21,
   "metadata": {},
   "outputs": [
    {
     "name": "stdout",
     "output_type": "stream",
     "text": [
      "[0 1 3 4 7 8]\n"
     ]
    }
   ],
   "source": [
    "Z1 = np.random.randint(0,10,10)\n",
    "Z2 = np.random.randint(0,10,10)\n",
    "print(np.intersect1d(Z1,Z2))"
   ]
  },
  {
   "cell_type": "markdown",
   "metadata": {},
   "source": [
    "## 31,numpyの全ての警告を無視する方法"
   ]
  },
  {
   "cell_type": "code",
   "execution_count": 22,
   "metadata": {},
   "outputs": [
    {
     "ename": "SyntaxError",
     "evalue": "invalid syntax (<ipython-input-22-0437b6d2f8fa>, line 8)",
     "output_type": "error",
     "traceback": [
      "\u001b[0;36m  File \u001b[0;32m\"<ipython-input-22-0437b6d2f8fa>\"\u001b[0;36m, line \u001b[0;32m8\u001b[0m\n\u001b[0;31m    An equivalent way, with a context manager:\u001b[0m\n\u001b[0m                ^\u001b[0m\n\u001b[0;31mSyntaxError\u001b[0m\u001b[0;31m:\u001b[0m invalid syntax\n"
     ]
    }
   ],
   "source": [
    "# Suicide mode on\n",
    "defaults = np.seterr(all=\"ignore\")\n",
    "Z = np.ones(1) / 0\n",
    "\n",
    "# Back to sanity\n",
    "_ = np.seterr(**defaults)\n",
    "\n",
    "An equivalent way, with a context manager:\n",
    "\n",
    "with np.errstate(divide='ignore'):\n",
    "    Z = np.ones(1) / 0"
   ]
  },
  {
   "cell_type": "markdown",
   "metadata": {},
   "source": [
    "## 32,以下の表現は正しいか？"
   ]
  },
  {
   "cell_type": "code",
   "execution_count": 23,
   "metadata": {},
   "outputs": [
    {
     "name": "stderr",
     "output_type": "stream",
     "text": [
      "/Users/satoutakumi/anaconda3/lib/python3.6/site-packages/ipykernel_launcher.py:1: RuntimeWarning: invalid value encountered in sqrt\n",
      "  \"\"\"Entry point for launching an IPython kernel.\n"
     ]
    },
    {
     "data": {
      "text/plain": [
       "False"
      ]
     },
     "execution_count": 23,
     "metadata": {},
     "output_type": "execute_result"
    }
   ],
   "source": [
    "np.sqrt(-1) == np.emath.sqrt(-1)"
   ]
  },
  {
   "cell_type": "markdown",
   "metadata": {},
   "source": [
    "#https://qiita.com/adad/items/ef271572f31c9f256f24"
   ]
  },
  {
   "cell_type": "markdown",
   "metadata": {},
   "source": [
    "## 33,昨日、今日、明日の日にちを得る手法"
   ]
  },
  {
   "cell_type": "code",
   "execution_count": 25,
   "metadata": {},
   "outputs": [
    {
     "name": "stdout",
     "output_type": "stream",
     "text": [
      "2018-04-11\n",
      "2018-04-12\n",
      "2018-04-13\n"
     ]
    }
   ],
   "source": [
    "yesterday = np.datetime64('today', 'D') - np.timedelta64(1, 'D')\n",
    "today     = np.datetime64('today', 'D')\n",
    "tomorrow  = np.datetime64('today', 'D') + np.timedelta64(1, 'D')\n",
    "print(yesterday)\n",
    "print(today)\n",
    "print(tomorrow)"
   ]
  },
  {
   "cell_type": "markdown",
   "metadata": {},
   "source": [
    "## 34,2016年7月に対応する全ての日時を得る手法"
   ]
  },
  {
   "cell_type": "code",
   "execution_count": 87,
   "metadata": {},
   "outputs": [],
   "source": [
    "Z = np.arange('2016-07', '2016-08', dtype='datetime64[D]')"
   ]
  },
  {
   "cell_type": "code",
   "execution_count": 88,
   "metadata": {},
   "outputs": [
    {
     "name": "stdout",
     "output_type": "stream",
     "text": [
      "['2016-07-01' '2016-07-02' '2016-07-03' '2016-07-04' '2016-07-05'\n",
      " '2016-07-06' '2016-07-07' '2016-07-08' '2016-07-09' '2016-07-10'\n",
      " '2016-07-11' '2016-07-12' '2016-07-13' '2016-07-14' '2016-07-15'\n",
      " '2016-07-16' '2016-07-17' '2016-07-18' '2016-07-19' '2016-07-20'\n",
      " '2016-07-21' '2016-07-22' '2016-07-23' '2016-07-24' '2016-07-25'\n",
      " '2016-07-26' '2016-07-27' '2016-07-28' '2016-07-29' '2016-07-30'\n",
      " '2016-07-31']\n"
     ]
    }
   ],
   "source": [
    "print(Z)"
   ]
  },
  {
   "cell_type": "markdown",
   "metadata": {},
   "source": [
    "## 35, ((A+B)*(-A/2))の計算方法(コピーを使わない)"
   ]
  },
  {
   "cell_type": "code",
   "execution_count": 27,
   "metadata": {},
   "outputs": [
    {
     "data": {
      "text/plain": [
       "array([-1.5, -1.5, -1.5])"
      ]
     },
     "execution_count": 27,
     "metadata": {},
     "output_type": "execute_result"
    }
   ],
   "source": [
    "A = np.ones(3)*1\n",
    "B = np.ones(3)*2\n",
    "C = np.ones(3)*3\n",
    "np.add(A,B,out=B)\n",
    "np.divide(A,2,out=A)\n",
    "np.negative(A,out=A)\n",
    "np.multiply(A,B,out=A)"
   ]
  },
  {
   "cell_type": "markdown",
   "metadata": {},
   "source": [
    "## 36, 乱数配列から整数部分を抜き取る5つの方法"
   ]
  },
  {
   "cell_type": "code",
   "execution_count": 28,
   "metadata": {},
   "outputs": [
    {
     "name": "stdout",
     "output_type": "stream",
     "text": [
      "[2. 1. 0. 3. 6. 5. 3. 4. 8. 7.]\n",
      "[2. 1. 0. 3. 6. 5. 3. 4. 8. 7.]\n",
      "[2. 1. 0. 3. 6. 5. 3. 4. 8. 7.]\n",
      "[2 1 0 3 6 5 3 4 8 7]\n",
      "[2. 1. 0. 3. 6. 5. 3. 4. 8. 7.]\n"
     ]
    }
   ],
   "source": [
    "Z = np.random.uniform(0,10,10)\n",
    "\n",
    "print (Z - Z%1)\n",
    "print (np.floor(Z))\n",
    "print (np.ceil(Z)-1)\n",
    "print (Z.astype(int))\n",
    "print (np.trunc(Z))"
   ]
  },
  {
   "cell_type": "markdown",
   "metadata": {},
   "source": [
    "## 37,行の値が0~4の5×5行列を作成する "
   ]
  },
  {
   "cell_type": "code",
   "execution_count": 90,
   "metadata": {},
   "outputs": [],
   "source": [
    "Z = np.zeros((5,5))\n",
    "Z += np.arange(5)"
   ]
  },
  {
   "cell_type": "code",
   "execution_count": 91,
   "metadata": {},
   "outputs": [
    {
     "name": "stdout",
     "output_type": "stream",
     "text": [
      "[[0. 1. 2. 3. 4.]\n",
      " [0. 1. 2. 3. 4.]\n",
      " [0. 1. 2. 3. 4.]\n",
      " [0. 1. 2. 3. 4.]\n",
      " [0. 1. 2. 3. 4.]]\n"
     ]
    }
   ],
   "source": [
    "print(Z)"
   ]
  },
  {
   "cell_type": "markdown",
   "metadata": {},
   "source": [
    "#http://www.turbare.net/transl/scipy-lecture-notes/intro/numpy/operations.html"
   ]
  },
  {
   "cell_type": "markdown",
   "metadata": {},
   "source": [
    "## 38,10個の整数を生成する関数を作成し、配列を作る際に使う"
   ]
  },
  {
   "cell_type": "code",
   "execution_count": 93,
   "metadata": {},
   "outputs": [],
   "source": [
    "def generate():\n",
    "    for x in range(10):\n",
    "        yield x\n",
    "Z = np.fromiter(generate(),dtype=float,count=-1)"
   ]
  },
  {
   "cell_type": "code",
   "execution_count": 94,
   "metadata": {},
   "outputs": [
    {
     "name": "stdout",
     "output_type": "stream",
     "text": [
      "[0. 1. 2. 3. 4. 5. 6. 7. 8. 9.]\n"
     ]
    }
   ],
   "source": [
    "print(Z)"
   ]
  },
  {
   "cell_type": "markdown",
   "metadata": {},
   "source": [
    "#https://qiita.com/ysk24ok/items/6736c8d8cc6eb06c6aa1 "
   ]
  },
  {
   "cell_type": "markdown",
   "metadata": {},
   "source": [
    "## 39,0~1の値を格納したサイズ10のベクトルを作成する。（0,1は含まない）"
   ]
  },
  {
   "cell_type": "code",
   "execution_count": 97,
   "metadata": {},
   "outputs": [],
   "source": [
    "Z = np.linspace(0,1,11,endpoint=False)[1:]"
   ]
  },
  {
   "cell_type": "code",
   "execution_count": 98,
   "metadata": {},
   "outputs": [
    {
     "name": "stdout",
     "output_type": "stream",
     "text": [
      "[0.09090909 0.18181818 0.27272727 0.36363636 0.45454545 0.54545455\n",
      " 0.63636364 0.72727273 0.81818182 0.90909091]\n"
     ]
    }
   ],
   "source": [
    "print(Z)"
   ]
  },
  {
   "cell_type": "markdown",
   "metadata": {},
   "source": [
    "#https://deepage.net/features/numpy-linspace.html"
   ]
  },
  {
   "cell_type": "markdown",
   "metadata": {},
   "source": [
    "## 40,乱数を格納したサイズ10のベクトルを作成し、小さい順に並べる"
   ]
  },
  {
   "cell_type": "code",
   "execution_count": 100,
   "metadata": {},
   "outputs": [],
   "source": [
    "Z=np.random.random(10)\n",
    "Z.sort()"
   ]
  },
  {
   "cell_type": "code",
   "execution_count": 101,
   "metadata": {},
   "outputs": [
    {
     "name": "stdout",
     "output_type": "stream",
     "text": [
      "[0.06046249 0.06730981 0.38550556 0.39089805 0.44439181 0.48241541\n",
      " 0.49474272 0.64625732 0.91967863 0.99754993]\n"
     ]
    }
   ],
   "source": [
    "print(Z)"
   ]
  },
  {
   "cell_type": "markdown",
   "metadata": {},
   "source": [
    "## 41,np.sumよりも早く小さな配列要素を足し合わせる方法 "
   ]
  },
  {
   "cell_type": "code",
   "execution_count": 33,
   "metadata": {},
   "outputs": [
    {
     "data": {
      "text/plain": [
       "45"
      ]
     },
     "execution_count": 33,
     "metadata": {},
     "output_type": "execute_result"
    }
   ],
   "source": [
    "Z = np.arange(10)\n",
    "np.add.reduce(Z)"
   ]
  },
  {
   "cell_type": "markdown",
   "metadata": {},
   "source": [
    "##  42,二つの乱数配列A,Bが等しいか検討する"
   ]
  },
  {
   "cell_type": "code",
   "execution_count": 34,
   "metadata": {},
   "outputs": [
    {
     "name": "stdout",
     "output_type": "stream",
     "text": [
      "False\n",
      "False\n"
     ]
    }
   ],
   "source": [
    "A = np.random.randint(0,2,5)\n",
    "B = np.random.randint(0,2,5)\n",
    "\n",
    "# Assuming identical shape of the arrays and a tolerance for the comparison of values\n",
    "equal = np.allclose(A,B)\n",
    "print(equal)\n",
    "\n",
    "# Checking both the shape and the element values, no tolerance (values have to be exactly equal)\n",
    "equal = np.array_equal(A,B)\n",
    "print(equal)"
   ]
  },
  {
   "cell_type": "markdown",
   "metadata": {},
   "source": [
    "## 43,不変配列を作成する（読み取り専用）"
   ]
  },
  {
   "cell_type": "code",
   "execution_count": 35,
   "metadata": {},
   "outputs": [
    {
     "ename": "ValueError",
     "evalue": "assignment destination is read-only",
     "output_type": "error",
     "traceback": [
      "\u001b[0;31m---------------------------------------------------------------------------\u001b[0m",
      "\u001b[0;31mValueError\u001b[0m                                Traceback (most recent call last)",
      "\u001b[0;32m<ipython-input-35-dcc5e7f145b5>\u001b[0m in \u001b[0;36m<module>\u001b[0;34m()\u001b[0m\n\u001b[1;32m      1\u001b[0m \u001b[0mZ\u001b[0m \u001b[0;34m=\u001b[0m \u001b[0mnp\u001b[0m\u001b[0;34m.\u001b[0m\u001b[0mzeros\u001b[0m\u001b[0;34m(\u001b[0m\u001b[0;36m10\u001b[0m\u001b[0;34m)\u001b[0m\u001b[0;34m\u001b[0m\u001b[0m\n\u001b[1;32m      2\u001b[0m \u001b[0mZ\u001b[0m\u001b[0;34m.\u001b[0m\u001b[0mflags\u001b[0m\u001b[0;34m.\u001b[0m\u001b[0mwriteable\u001b[0m \u001b[0;34m=\u001b[0m \u001b[0;32mFalse\u001b[0m\u001b[0;34m\u001b[0m\u001b[0m\n\u001b[0;32m----> 3\u001b[0;31m \u001b[0mZ\u001b[0m\u001b[0;34m[\u001b[0m\u001b[0;36m0\u001b[0m\u001b[0;34m]\u001b[0m \u001b[0;34m=\u001b[0m \u001b[0;36m1\u001b[0m\u001b[0;34m\u001b[0m\u001b[0m\n\u001b[0m",
      "\u001b[0;31mValueError\u001b[0m: assignment destination is read-only"
     ]
    }
   ],
   "source": [
    "Z = np.zeros(10)\n",
    "Z.flags.writeable = False\n",
    "Z[0] = 1"
   ]
  },
  {
   "cell_type": "markdown",
   "metadata": {},
   "source": [
    "## 44, デカルト座標を表した10×2の乱数行列を極座標に変換する"
   ]
  },
  {
   "cell_type": "code",
   "execution_count": 104,
   "metadata": {},
   "outputs": [],
   "source": [
    "Z = np.random.random((10,2))\n",
    "X,Y = Z[:,0], Z[:,1]\n",
    "R = np.sqrt(X**2+Y**2)\n",
    "T = np.arctan2(Y,X)"
   ]
  },
  {
   "cell_type": "code",
   "execution_count": 105,
   "metadata": {},
   "outputs": [
    {
     "name": "stdout",
     "output_type": "stream",
     "text": [
      "[1.16791188 0.96178814 1.23498136 0.84304418 0.54835817 0.95446384\n",
      " 0.74088379 0.41953257 0.87888469 1.14124029]\n",
      "[0.92896744 0.24272769 0.92686252 1.56459797 0.51744512 1.24488689\n",
      " 0.83929569 0.42682024 1.06519202 0.77965263]\n"
     ]
    }
   ],
   "source": [
    "print(R)\n",
    "print(T)"
   ]
  },
  {
   "cell_type": "markdown",
   "metadata": {},
   "source": [
    "## 45,サイズ10の乱数ベクトルを作成し、最大値を0に置き換える"
   ]
  },
  {
   "cell_type": "code",
   "execution_count": 106,
   "metadata": {},
   "outputs": [],
   "source": [
    "Z = np.random.random(10)\n",
    "Z[Z.argmax()] = 0"
   ]
  },
  {
   "cell_type": "code",
   "execution_count": 107,
   "metadata": {},
   "outputs": [
    {
     "name": "stdout",
     "output_type": "stream",
     "text": [
      "[0.21943592 0.55042106 0.62510761 0.53908636 0.23883236 0.95202745\n",
      " 0.         0.92521857 0.90039051 0.94672124]\n"
     ]
    }
   ],
   "source": [
    "print(Z)"
   ]
  },
  {
   "cell_type": "markdown",
   "metadata": {},
   "source": [
    "##  46,[0,1]*[0,1]の範囲にあるx,y座標の格子配列を作成する"
   ]
  },
  {
   "cell_type": "code",
   "execution_count": 112,
   "metadata": {},
   "outputs": [],
   "source": [
    "Z = np.zeros((5,5), [('x',float),('y',float)])\n",
    "Z['x'], Z['y'] = np.meshgrid(np.linspace(0,1,5),\n",
    "                             np.linspace(0,1,5))"
   ]
  },
  {
   "cell_type": "code",
   "execution_count": 114,
   "metadata": {},
   "outputs": [
    {
     "name": "stdout",
     "output_type": "stream",
     "text": [
      "[[(0.  , 0.  ) (0.25, 0.  ) (0.5 , 0.  ) (0.75, 0.  ) (1.  , 0.  )]\n",
      " [(0.  , 0.25) (0.25, 0.25) (0.5 , 0.25) (0.75, 0.25) (1.  , 0.25)]\n",
      " [(0.  , 0.5 ) (0.25, 0.5 ) (0.5 , 0.5 ) (0.75, 0.5 ) (1.  , 0.5 )]\n",
      " [(0.  , 0.75) (0.25, 0.75) (0.5 , 0.75) (0.75, 0.75) (1.  , 0.75)]\n",
      " [(0.  , 1.  ) (0.25, 1.  ) (0.5 , 1.  ) (0.75, 1.  ) (1.  , 1.  )]]\n"
     ]
    }
   ],
   "source": [
    "print(Z)"
   ]
  },
  {
   "cell_type": "markdown",
   "metadata": {},
   "source": [
    "##  47,与えられた二つの配列X、Yについてコーシー行列C (Cij =1/(xi - yj))を作成する"
   ]
  },
  {
   "cell_type": "code",
   "execution_count": 39,
   "metadata": {},
   "outputs": [
    {
     "name": "stdout",
     "output_type": "stream",
     "text": [
      "3638.1636371179666\n"
     ]
    }
   ],
   "source": [
    "X = np.arange(8)\n",
    "Y = X + 0.5\n",
    "C = 1.0 / np.subtract.outer(X, Y)\n",
    "print(np.linalg.det(C))"
   ]
  },
  {
   "cell_type": "markdown",
   "metadata": {},
   "source": [
    "## 48, それぞれのスカラー型の記号表記できる最小値、最大値を表示する"
   ]
  },
  {
   "cell_type": "code",
   "execution_count": 40,
   "metadata": {},
   "outputs": [
    {
     "name": "stdout",
     "output_type": "stream",
     "text": [
      "-128\n",
      "127\n",
      "-2147483648\n",
      "2147483647\n",
      "-9223372036854775808\n",
      "9223372036854775807\n",
      "-3.4028235e+38\n",
      "3.4028235e+38\n",
      "1.1920929e-07\n",
      "-1.7976931348623157e+308\n",
      "1.7976931348623157e+308\n",
      "2.220446049250313e-16\n"
     ]
    }
   ],
   "source": [
    "for dtype in [np.int8, np.int32, np.int64]:\n",
    "   print(np.iinfo(dtype).min)\n",
    "   print(np.iinfo(dtype).max)\n",
    "for dtype in [np.float32, np.float64]:\n",
    "   print(np.finfo(dtype).min)\n",
    "   print(np.finfo(dtype).max)\n",
    "   print(np.finfo(dtype).eps)"
   ]
  },
  {
   "cell_type": "markdown",
   "metadata": {},
   "source": [
    "## 49,配列の全ての値を表示する方法"
   ]
  },
  {
   "cell_type": "code",
   "execution_count": 117,
   "metadata": {},
   "outputs": [],
   "source": [
    "np.set_printoptions(threshold=np.nan)\n",
    "Z = np.zeros((16,16))"
   ]
  },
  {
   "cell_type": "code",
   "execution_count": 118,
   "metadata": {},
   "outputs": [
    {
     "name": "stdout",
     "output_type": "stream",
     "text": [
      "[[0. 0. 0. 0. 0. 0. 0. 0. 0. 0. 0. 0. 0. 0. 0. 0.]\n",
      " [0. 0. 0. 0. 0. 0. 0. 0. 0. 0. 0. 0. 0. 0. 0. 0.]\n",
      " [0. 0. 0. 0. 0. 0. 0. 0. 0. 0. 0. 0. 0. 0. 0. 0.]\n",
      " [0. 0. 0. 0. 0. 0. 0. 0. 0. 0. 0. 0. 0. 0. 0. 0.]\n",
      " [0. 0. 0. 0. 0. 0. 0. 0. 0. 0. 0. 0. 0. 0. 0. 0.]\n",
      " [0. 0. 0. 0. 0. 0. 0. 0. 0. 0. 0. 0. 0. 0. 0. 0.]\n",
      " [0. 0. 0. 0. 0. 0. 0. 0. 0. 0. 0. 0. 0. 0. 0. 0.]\n",
      " [0. 0. 0. 0. 0. 0. 0. 0. 0. 0. 0. 0. 0. 0. 0. 0.]\n",
      " [0. 0. 0. 0. 0. 0. 0. 0. 0. 0. 0. 0. 0. 0. 0. 0.]\n",
      " [0. 0. 0. 0. 0. 0. 0. 0. 0. 0. 0. 0. 0. 0. 0. 0.]\n",
      " [0. 0. 0. 0. 0. 0. 0. 0. 0. 0. 0. 0. 0. 0. 0. 0.]\n",
      " [0. 0. 0. 0. 0. 0. 0. 0. 0. 0. 0. 0. 0. 0. 0. 0.]\n",
      " [0. 0. 0. 0. 0. 0. 0. 0. 0. 0. 0. 0. 0. 0. 0. 0.]\n",
      " [0. 0. 0. 0. 0. 0. 0. 0. 0. 0. 0. 0. 0. 0. 0. 0.]\n",
      " [0. 0. 0. 0. 0. 0. 0. 0. 0. 0. 0. 0. 0. 0. 0. 0.]\n",
      " [0. 0. 0. 0. 0. 0. 0. 0. 0. 0. 0. 0. 0. 0. 0. 0.]]\n"
     ]
    }
   ],
   "source": [
    "print(Z)"
   ]
  },
  {
   "cell_type": "markdown",
   "metadata": {},
   "source": [
    "## 50,ベクトル内の最も近い値（与えられたスカラー量）を見つける方法"
   ]
  },
  {
   "cell_type": "code",
   "execution_count": 119,
   "metadata": {},
   "outputs": [
    {
     "name": "stdout",
     "output_type": "stream",
     "text": [
      "94\n"
     ]
    }
   ],
   "source": [
    "Z = np.arange(100)\n",
    "v = np.random.uniform(0,100)\n",
    "index = (np.abs(Z-v)).argmin()\n",
    "print(Z[index])"
   ]
  },
  {
   "cell_type": "code",
   "execution_count": 120,
   "metadata": {},
   "outputs": [
    {
     "name": "stdout",
     "output_type": "stream",
     "text": [
      "94.35849287717247\n"
     ]
    }
   ],
   "source": [
    "print(v)"
   ]
  },
  {
   "cell_type": "markdown",
   "metadata": {},
   "source": [
    "#http://python-remrin.hatenadiary.jp/entry/2017/04/26/233717"
   ]
  },
  {
   "cell_type": "markdown",
   "metadata": {},
   "source": [
    "## 51,位置(x,y)色(r,g,b)を表す格子配列を作る方法"
   ]
  },
  {
   "cell_type": "code",
   "execution_count": 122,
   "metadata": {},
   "outputs": [],
   "source": [
    "Z = np.zeros(10, [ ('position', [ ('x', float, 1),\n",
    "                                  ('y', float, 1)]),\n",
    "                   ('color',    [ ('r', float, 1),\n",
    "                                  ('g', float, 1),\n",
    "                                  ('b', float, 1)])])"
   ]
  },
  {
   "cell_type": "code",
   "execution_count": 123,
   "metadata": {},
   "outputs": [
    {
     "name": "stdout",
     "output_type": "stream",
     "text": [
      "[((0., 0.), (0., 0., 0.)) ((0., 0.), (0., 0., 0.))\n",
      " ((0., 0.), (0., 0., 0.)) ((0., 0.), (0., 0., 0.))\n",
      " ((0., 0.), (0., 0., 0.)) ((0., 0.), (0., 0., 0.))\n",
      " ((0., 0.), (0., 0., 0.)) ((0., 0.), (0., 0., 0.))\n",
      " ((0., 0.), (0., 0., 0.)) ((0., 0.), (0., 0., 0.))]\n"
     ]
    }
   ],
   "source": [
    "print(Z)"
   ]
  },
  {
   "cell_type": "markdown",
   "metadata": {},
   "source": [
    "## 52,座標を表す100×2の乱数ベクトルを考え、それぞれの二点距離を測る"
   ]
  },
  {
   "cell_type": "code",
   "execution_count": 125,
   "metadata": {},
   "outputs": [
    {
     "name": "stdout",
     "output_type": "stream",
     "text": [
      "[[0.         0.66008301 0.30076694 0.64058125 0.46900277 0.65652926\n",
      "  0.20537084 0.4518021  0.340059   0.53722865]\n",
      " [0.66008301 0.         0.45673055 0.35775595 0.23204507 0.28892125\n",
      "  0.62940078 0.46156961 0.34370074 0.60065798]\n",
      " [0.30076694 0.45673055 0.         0.34196845 0.36179154 0.58099107\n",
      "  0.4165997  0.15839513 0.12657236 0.64277429]\n",
      " [0.64058125 0.35775595 0.34196845 0.         0.45712763 0.62143624\n",
      "  0.71950088 0.22180668 0.32961755 0.84354824]\n",
      " [0.46900277 0.23204507 0.36179154 0.45712763 0.         0.21930778\n",
      "  0.403152   0.44597672 0.23678123 0.39477355]\n",
      " [0.65652926 0.28892125 0.58099107 0.62143624 0.21930778 0.\n",
      "  0.53819047 0.65496584 0.45543052 0.36544804]\n",
      " [0.20537084 0.62940078 0.4165997  0.71950088 0.403152   0.53819047\n",
      "  0.         0.57434531 0.39001048 0.34064302]\n",
      " [0.4518021  0.46156961 0.15839513 0.22180668 0.44597672 0.65496584\n",
      "  0.57434531 0.         0.22648092 0.77837825]\n",
      " [0.340059   0.34370074 0.12657236 0.32961755 0.23678123 0.45543052\n",
      "  0.39001048 0.22648092 0.         0.55299866]\n",
      " [0.53722865 0.60065798 0.64277429 0.84354824 0.39477355 0.36544804\n",
      "  0.34064302 0.77837825 0.55299866 0.        ]]\n"
     ]
    }
   ],
   "source": [
    "Z = np.random.random((10,2))\n",
    "X,Y = np.atleast_2d(Z[:,0], Z[:,1])\n",
    "D = np.sqrt( (X-X.T)**2 + (Y-Y.T)**2)\n",
    "print(D)"
   ]
  },
  {
   "cell_type": "code",
   "execution_count": 126,
   "metadata": {},
   "outputs": [
    {
     "name": "stdout",
     "output_type": "stream",
     "text": [
      "[[0.         0.25980246 0.50650667 0.53210584 0.41484998 0.51643879\n",
      "  0.28640869 0.25094381 0.40060059 0.97123003]\n",
      " [0.25980246 0.         0.48262332 0.36299594 0.48631876 0.26050879\n",
      "  0.22123428 0.12253024 0.15351418 0.71686766]\n",
      " [0.50650667 0.48262332 0.         0.83722285 0.17985123 0.5325676\n",
      "  0.26471774 0.36160751 0.5923863  0.83850632]\n",
      " [0.53210584 0.36299594 0.83722285 0.         0.84850343 0.39871671\n",
      "  0.58254138 0.48451139 0.25105489 0.72884683]\n",
      " [0.41484998 0.48631876 0.17985123 0.84850343 0.         0.61681718\n",
      "  0.27695525 0.36834895 0.62500997 0.98140714]\n",
      " [0.51643879 0.26050879 0.5325676  0.39871671 0.61681718 0.\n",
      "  0.35171644 0.2952972  0.18279811 0.45636411]\n",
      " [0.28640869 0.22123428 0.26471774 0.58254138 0.27695525 0.35171644\n",
      "  0.         0.09871261 0.34947516 0.76381913]\n",
      " [0.25094381 0.12253024 0.36160751 0.48451139 0.36834895 0.2952972\n",
      "  0.09871261 0.         0.25742023 0.7359979 ]\n",
      " [0.40060059 0.15351418 0.5923863  0.25105489 0.62500997 0.18279811\n",
      "  0.34947516 0.25742023 0.         0.61404561]\n",
      " [0.97123003 0.71686766 0.83850632 0.72884683 0.98140714 0.45636411\n",
      "  0.76381913 0.7359979  0.61404561 0.        ]]\n"
     ]
    }
   ],
   "source": [
    "# Much faster with scipy\n",
    "import scipy\n",
    "# Thanks Gavin Heverly-Coulson (#issue 1)\n",
    "import scipy.spatial\n",
    "\n",
    "Z = np.random.random((10,2))\n",
    "D = scipy.spatial.distance.cdist(Z,Z)\n",
    "print(D)"
   ]
  },
  {
   "cell_type": "markdown",
   "metadata": {},
   "source": [
    "## 53,32ビットのfloat型の配列をその場で32ビットの整数配列に変更する方法"
   ]
  },
  {
   "cell_type": "code",
   "execution_count": 128,
   "metadata": {},
   "outputs": [],
   "source": [
    "Z = np.arange(10, dtype=np.float32)\n",
    "Z = Z.astype(np.int32, copy=False)"
   ]
  },
  {
   "cell_type": "code",
   "execution_count": 129,
   "metadata": {},
   "outputs": [
    {
     "name": "stdout",
     "output_type": "stream",
     "text": [
      "[0 1 2 3 4 5 6 7 8 9]\n"
     ]
    }
   ],
   "source": [
    "print(Z)"
   ]
  },
  {
   "cell_type": "markdown",
   "metadata": {},
   "source": [
    "## 54,以下のファイルはどうやって読む？"
   ]
  },
  {
   "cell_type": "code",
   "execution_count": 130,
   "metadata": {},
   "outputs": [
    {
     "name": "stdout",
     "output_type": "stream",
     "text": [
      "[[ 1  2  3  4  5]\n",
      " [ 6 -1 -1  7  8]\n",
      " [-1 -1  9 10 11]]\n"
     ]
    }
   ],
   "source": [
    "from io import StringIO\n",
    "\n",
    "# Fake file \n",
    "s = StringIO(\"\"\"1, 2, 3, 4, 5\\n\n",
    "                6,  ,  , 7, 8\\n\n",
    "                 ,  , 9,10,11\\n\"\"\")\n",
    "Z = np.genfromtxt(s, delimiter=\",\", dtype=np.int)\n",
    "print(Z)"
   ]
  },
  {
   "cell_type": "markdown",
   "metadata": {},
   "source": [
    "#http://www.mwsoft.jp/programming/numpy/csv.html"
   ]
  },
  {
   "cell_type": "markdown",
   "metadata": {},
   "source": [
    "## 55,numpy配列の列挙に相当するものは？"
   ]
  },
  {
   "cell_type": "code",
   "execution_count": 135,
   "metadata": {},
   "outputs": [
    {
     "name": "stdout",
     "output_type": "stream",
     "text": [
      "(0, 0) 0\n",
      "(0, 1) 1\n",
      "(0, 2) 2\n",
      "(1, 0) 3\n",
      "(1, 1) 4\n",
      "(1, 2) 5\n",
      "(2, 0) 6\n",
      "(2, 1) 7\n",
      "(2, 2) 8\n",
      "(0, 0) 0\n",
      "(0, 1) 1\n",
      "(0, 2) 2\n",
      "(1, 0) 3\n",
      "(1, 1) 4\n",
      "(1, 2) 5\n",
      "(2, 0) 6\n",
      "(2, 1) 7\n",
      "(2, 2) 8\n"
     ]
    }
   ],
   "source": [
    "Z = np.arange(9).reshape(3,3)\n",
    "for index, value in np.ndenumerate(Z):\n",
    "    print(index, value)\n",
    "for index in np.ndindex(Z.shape):\n",
    "    print(index, Z[index])"
   ]
  },
  {
   "cell_type": "markdown",
   "metadata": {},
   "source": [
    "## 56, ジェネリック2Dガウスのような配列を生成する"
   ]
  },
  {
   "cell_type": "code",
   "execution_count": 137,
   "metadata": {},
   "outputs": [],
   "source": [
    "X, Y = np.meshgrid(np.linspace(-1,1,10), np.linspace(-1,1,10))\n",
    "D = np.sqrt(X*X+Y*Y)\n",
    "sigma, mu = 1.0, 0.0\n",
    "G = np.exp(-( (D-mu)**2 / ( 2.0 * sigma**2 ) ) )"
   ]
  },
  {
   "cell_type": "code",
   "execution_count": 138,
   "metadata": {},
   "outputs": [
    {
     "name": "stdout",
     "output_type": "stream",
     "text": [
      "[[0.36787944 0.44822088 0.51979489 0.57375342 0.60279818 0.60279818\n",
      "  0.57375342 0.51979489 0.44822088 0.36787944]\n",
      " [0.44822088 0.54610814 0.63331324 0.69905581 0.73444367 0.73444367\n",
      "  0.69905581 0.63331324 0.54610814 0.44822088]\n",
      " [0.51979489 0.63331324 0.73444367 0.81068432 0.85172308 0.85172308\n",
      "  0.81068432 0.73444367 0.63331324 0.51979489]\n",
      " [0.57375342 0.69905581 0.81068432 0.89483932 0.9401382  0.9401382\n",
      "  0.89483932 0.81068432 0.69905581 0.57375342]\n",
      " [0.60279818 0.73444367 0.85172308 0.9401382  0.98773022 0.98773022\n",
      "  0.9401382  0.85172308 0.73444367 0.60279818]\n",
      " [0.60279818 0.73444367 0.85172308 0.9401382  0.98773022 0.98773022\n",
      "  0.9401382  0.85172308 0.73444367 0.60279818]\n",
      " [0.57375342 0.69905581 0.81068432 0.89483932 0.9401382  0.9401382\n",
      "  0.89483932 0.81068432 0.69905581 0.57375342]\n",
      " [0.51979489 0.63331324 0.73444367 0.81068432 0.85172308 0.85172308\n",
      "  0.81068432 0.73444367 0.63331324 0.51979489]\n",
      " [0.44822088 0.54610814 0.63331324 0.69905581 0.73444367 0.73444367\n",
      "  0.69905581 0.63331324 0.54610814 0.44822088]\n",
      " [0.36787944 0.44822088 0.51979489 0.57375342 0.60279818 0.60279818\n",
      "  0.57375342 0.51979489 0.44822088 0.36787944]]\n"
     ]
    }
   ],
   "source": [
    "print(G)"
   ]
  },
  {
   "cell_type": "markdown",
   "metadata": {},
   "source": [
    "## 57, 二次元配列にp個の要素をランダムに配置する方法"
   ]
  },
  {
   "cell_type": "code",
   "execution_count": 142,
   "metadata": {},
   "outputs": [],
   "source": [
    "n = 10\n",
    "p = 3\n",
    "Z = np.zeros((n,n))\n",
    "np.put(Z, np.random.choice(range(n*n), p, replace=False),1)"
   ]
  },
  {
   "cell_type": "code",
   "execution_count": 143,
   "metadata": {},
   "outputs": [
    {
     "name": "stdout",
     "output_type": "stream",
     "text": [
      "[[0. 0. 0. 0. 0. 0. 0. 0. 0. 0.]\n",
      " [0. 1. 0. 0. 0. 0. 0. 0. 0. 0.]\n",
      " [0. 0. 0. 0. 0. 0. 0. 0. 0. 0.]\n",
      " [0. 0. 0. 0. 0. 0. 0. 0. 0. 0.]\n",
      " [0. 0. 0. 0. 0. 0. 0. 0. 0. 0.]\n",
      " [0. 0. 0. 0. 0. 0. 0. 0. 0. 1.]\n",
      " [0. 0. 0. 0. 0. 0. 0. 0. 0. 0.]\n",
      " [0. 0. 0. 0. 0. 0. 0. 0. 1. 0.]\n",
      " [0. 0. 0. 0. 0. 0. 0. 0. 0. 0.]\n",
      " [0. 0. 0. 0. 0. 0. 0. 0. 0. 0.]]\n"
     ]
    }
   ],
   "source": [
    "print(Z)"
   ]
  },
  {
   "cell_type": "markdown",
   "metadata": {},
   "source": [
    "## 58,行列の各行の平均を引く"
   ]
  },
  {
   "cell_type": "code",
   "execution_count": 145,
   "metadata": {
    "scrolled": true
   },
   "outputs": [],
   "source": [
    "X = np.random.rand(5, 10)\n",
    "Y = X - X.mean(axis=1, keepdims=True)\n",
    "Y = X - X.mean(axis=1).reshape(-1, 1)"
   ]
  },
  {
   "cell_type": "code",
   "execution_count": 146,
   "metadata": {},
   "outputs": [
    {
     "name": "stdout",
     "output_type": "stream",
     "text": [
      "[[-0.27717946 -0.08770204  0.35817956 -0.40513409  0.38149202  0.2099032\n",
      "   0.1871897  -0.09094544  0.17118611 -0.44698955]\n",
      " [-0.02005134  0.26325792  0.1760898   0.25905879  0.20343017 -0.49723965\n",
      "   0.24051147  0.01570504 -0.53723087 -0.10353133]\n",
      " [ 0.10360615 -0.20229934  0.08220397  0.05524129  0.15778023  0.01156954\n",
      "  -0.03887656  0.20515434  0.10090949 -0.47528911]\n",
      " [ 0.33278974  0.00273491 -0.33867375  0.25826144 -0.46100305 -0.06573746\n",
      "   0.26893275  0.10633844 -0.42170079  0.31805777]\n",
      " [ 0.28533429  0.12404112  0.28766405 -0.20249511 -0.03210263 -0.49493054\n",
      "  -0.11046318 -0.06239136 -0.04598935  0.25133272]]\n"
     ]
    }
   ],
   "source": [
    "print(Y)"
   ]
  },
  {
   "cell_type": "markdown",
   "metadata": {},
   "source": [
    "## 59,n番目の列によって配列を並び替える方法"
   ]
  },
  {
   "cell_type": "code",
   "execution_count": 13,
   "metadata": {},
   "outputs": [
    {
     "name": "stdout",
     "output_type": "stream",
     "text": [
      "[[0 9 6]\n",
      " [2 3 4]\n",
      " [7 7 7]]\n",
      "[[2 3 4]\n",
      " [7 7 7]\n",
      " [0 9 6]]\n"
     ]
    }
   ],
   "source": [
    "Z = np.random.randint(0,10,(3,3))\n",
    "print(Z)\n",
    "print(Z[Z[:,1].argsort()])"
   ]
  },
  {
   "cell_type": "markdown",
   "metadata": {},
   "source": [
    "## 60,与えられた二次元配列にnull列があるかどうか知る方法 "
   ]
  },
  {
   "cell_type": "code",
   "execution_count": 3,
   "metadata": {},
   "outputs": [
    {
     "name": "stdout",
     "output_type": "stream",
     "text": [
      "False\n"
     ]
    }
   ],
   "source": [
    "Z = np.random.randint(0,3,(3,10))\n",
    "print((~Z.any(axis=0)).any())"
   ]
  },
  {
   "cell_type": "markdown",
   "metadata": {},
   "source": [
    "## 61, 配列内の与えられた値から最も近い値を探す"
   ]
  },
  {
   "cell_type": "code",
   "execution_count": 147,
   "metadata": {},
   "outputs": [],
   "source": [
    "Z = np.random.uniform(0,1,10)\n",
    "z = 0.5\n",
    "m = Z.flat[np.abs(Z - z).argmin()]"
   ]
  },
  {
   "cell_type": "code",
   "execution_count": 148,
   "metadata": {},
   "outputs": [
    {
     "name": "stdout",
     "output_type": "stream",
     "text": [
      "0.4802412799527497\n"
     ]
    }
   ],
   "source": [
    "print(m)"
   ]
  },
  {
   "cell_type": "markdown",
   "metadata": {},
   "source": [
    "## 62, (1,3)型と(3,1)型の配列を考え、イテレータを用いて足し算を行う"
   ]
  },
  {
   "cell_type": "code",
   "execution_count": 5,
   "metadata": {},
   "outputs": [
    {
     "name": "stdout",
     "output_type": "stream",
     "text": [
      "[[0 1 2]\n",
      " [1 2 3]\n",
      " [2 3 4]]\n"
     ]
    }
   ],
   "source": [
    "A = np.arange(3).reshape(3,1)\n",
    "B = np.arange(3).reshape(1,3)\n",
    "it = np.nditer([A,B,None])\n",
    "for x,y,z in it: z[...] = x + y\n",
    "print(it.operands[2])"
   ]
  },
  {
   "cell_type": "markdown",
   "metadata": {},
   "source": [
    "## 63,nameという名前の属性を持つ配列クラスを定義する"
   ]
  },
  {
   "cell_type": "code",
   "execution_count": 149,
   "metadata": {},
   "outputs": [
    {
     "name": "stdout",
     "output_type": "stream",
     "text": [
      "range_10\n"
     ]
    }
   ],
   "source": [
    "class NamedArray(np.ndarray):\n",
    "    def __new__(cls, array, name=\"no name\"):\n",
    "        obj = np.asarray(array).view(cls)\n",
    "        obj.name = name\n",
    "        return obj\n",
    "    def __array_finalize__(self, obj):\n",
    "        if obj is None: return\n",
    "        self.info = getattr(obj, 'name', \"no name\")\n",
    "\n",
    "Z = NamedArray(np.arange(10), \"range_10\")\n",
    "print (Z.name)"
   ]
  },
  {
   "cell_type": "markdown",
   "metadata": {},
   "source": [
    "# クラスについて\n",
    "http://diveintopython3-ja.rdy.jp/special-method-names.html"
   ]
  },
  {
   "cell_type": "markdown",
   "metadata": {},
   "source": [
    "## 64, 与えられたベクトルを考え、第2のベクトルによってインデックスされた各要素に1を加える方法は（繰り返しインデックスに注意してください）？"
   ]
  },
  {
   "cell_type": "code",
   "execution_count": 161,
   "metadata": {},
   "outputs": [
    {
     "name": "stdout",
     "output_type": "stream",
     "text": [
      "[3. 2. 7. 3. 3. 2. 2. 3. 3. 2.]\n"
     ]
    }
   ],
   "source": [
    "Z = np.ones(10)\n",
    "I = np.random.randint(0,len(Z),20)\n",
    "Z += np.bincount(I, minlength=len(Z))\n",
    "print(Z)"
   ]
  },
  {
   "cell_type": "code",
   "execution_count": 151,
   "metadata": {},
   "outputs": [
    {
     "name": "stdout",
     "output_type": "stream",
     "text": [
      "[3. 1. 5. 5. 5. 9. 5. 7. 5. 5.]\n"
     ]
    }
   ],
   "source": [
    "# Another solution\n",
    "np.add.at(Z, I, 1)\n",
    "print(Z)"
   ]
  },
  {
   "cell_type": "markdown",
   "metadata": {},
   "source": [
    "#http://python-remrin.hatenadiary.jp/entry/2017/05/22/131425"
   ]
  },
  {
   "cell_type": "markdown",
   "metadata": {},
   "source": [
    "## ＊65,Xベクトルの要素をIのリストのインデックスに基づいてF配列に累積する方法"
   ]
  },
  {
   "cell_type": "code",
   "execution_count": 12,
   "metadata": {},
   "outputs": [
    {
     "name": "stdout",
     "output_type": "stream",
     "text": [
      "[0. 7. 0. 6. 5. 0. 0. 0. 0. 3.]\n"
     ]
    }
   ],
   "source": [
    "\n",
    "# Author: Alan G Isaac\n",
    "\n",
    "X = [1,2,3,4,5,6]\n",
    "I = [1,3,9,3,4,1]\n",
    "F = np.bincount(I,X)\n",
    "print(F)"
   ]
  },
  {
   "cell_type": "markdown",
   "metadata": {},
   "source": [
    "## 66,（dtype = ubyte）の（w、h、3）画像を考慮して、固有色の数を計算する"
   ]
  },
  {
   "cell_type": "code",
   "execution_count": 152,
   "metadata": {},
   "outputs": [],
   "source": [
    "w,h = 16,16\n",
    "I = np.random.randint(0,2,(h,w,3)).astype(np.ubyte)\n",
    "#Note that we should compute 256*256 first. \n",
    "#Otherwise numpy will only promote F.dtype to 'uint16' and overfolw will occur\n",
    "F = I[...,0]*(256*256) + I[...,1]*256 +I[...,2]\n",
    "n = len(np.unique(F))"
   ]
  },
  {
   "cell_type": "code",
   "execution_count": 153,
   "metadata": {},
   "outputs": [
    {
     "name": "stdout",
     "output_type": "stream",
     "text": [
      "8\n"
     ]
    }
   ],
   "source": [
    "print(n)"
   ]
  },
  {
   "cell_type": "markdown",
   "metadata": {},
   "source": [
    "## 67,4次元配列を考える、一度に最後の2軸を合計する方法は？ "
   ]
  },
  {
   "cell_type": "code",
   "execution_count": 155,
   "metadata": {},
   "outputs": [
    {
     "name": "stdout",
     "output_type": "stream",
     "text": [
      "[[49 56 50 43]\n",
      " [39 55 68 37]\n",
      " [53 39 55 61]]\n"
     ]
    }
   ],
   "source": [
    "A = np.random.randint(0,10,(3,4,3,4))\n",
    "# solution by passing a tuple of axes (introduced in numpy 1.7.0)\n",
    "sum = A.sum(axis=(-2,-1))\n",
    "print(sum)"
   ]
  },
  {
   "cell_type": "code",
   "execution_count": 156,
   "metadata": {},
   "outputs": [
    {
     "name": "stdout",
     "output_type": "stream",
     "text": [
      "[[49 56 50 43]\n",
      " [39 55 68 37]\n",
      " [53 39 55 61]]\n"
     ]
    }
   ],
   "source": [
    "# solution by flattening the last two dimensions into one\n",
    "# (useful for functions that don't accept tuples for axis argument)\n",
    "sum = A.reshape(A.shape[:-2] + (-1,)).sum(axis=-1)\n",
    "print(sum)"
   ]
  },
  {
   "cell_type": "markdown",
   "metadata": {},
   "source": [
    "## 68, 1次元ベクトルDを考える、サブセットインデックスを記述する同じサイズのベクトルSを使用してDの平均をどのように計算するのか？"
   ]
  },
  {
   "cell_type": "code",
   "execution_count": 163,
   "metadata": {},
   "outputs": [
    {
     "name": "stdout",
     "output_type": "stream",
     "text": [
      "[0.06137041 0.88001499 0.09441073 0.60167497 0.44719407 0.35529496\n",
      " 0.27629237 0.39408453 0.46050032 0.91976303 0.6043148  0.82896728\n",
      " 0.12656435 0.57769984 0.10207464 0.73999831 0.23691037 0.48358641\n",
      " 0.71948825 0.78320427 0.62969842 0.60239248 0.1036232  0.90576211\n",
      " 0.66035614 0.27098025 0.57646796 0.60458456 0.66718572 0.19774137\n",
      " 0.72362383 0.82824683 0.45805024 0.82523307 0.91246445 0.15091313\n",
      " 0.65364925 0.16922755 0.46973927 0.60395717 0.51251136 0.81652843\n",
      " 0.65041972 0.32488635 0.70307458 0.96548832 0.27254566 0.78687975\n",
      " 0.25608291 0.06105133 0.43952307 0.36522445 0.58190512 0.47402675\n",
      " 0.10143686 0.96087071 0.66824724 0.2281756  0.59214328 0.61484125\n",
      " 0.24322748 0.56335684 0.04534432 0.36244259 0.75620488 0.11777541\n",
      " 0.39256924 0.89555546 0.1805178  0.44433228 0.94630113 0.92506233\n",
      " 0.93495088 0.42678254 0.79070793 0.73510681 0.37695056 0.3467984\n",
      " 0.24635508 0.07869973 0.50256915 0.16948496 0.7150101  0.29268697\n",
      " 0.89803181 0.2870579  0.69720207 0.03396369 0.20460133 0.90810579\n",
      " 0.23122785 0.06447839 0.93048248 0.50224211 0.17469724 0.04476939\n",
      " 0.29883017 0.37770725 0.77647482 0.44441069]\n",
      "[6 5 8 2 1 7 2 1 8 2 2 7 3 4 3 4 0 7 0 8 2 4 2 3 2 1 8 9 6 9 3 8 2 0 9 5 8\n",
      " 9 3 6 6 3 8 5 3 0 8 8 9 0 7 5 0 4 8 0 4 9 4 1 0 2 6 2 0 2 6 6 9 5 3 1 2 5\n",
      " 5 6 6 7 5 7 8 3 5 1 1 6 1 4 3 0 7 7 0 4 0 8 0 6 4 2]\n",
      "[7.66249521 4.54008329 6.67670959 5.16775462 4.96718851 4.34422683\n",
      " 4.95531621 2.82857608 5.75509989 2.54879424]\n",
      "[13  8 13 10  9  9 11  8 12  7]\n",
      "[0.58942271 0.56751041 0.51359305 0.51677546 0.55190983 0.48269187\n",
      " 0.45048329 0.35357201 0.47959166 0.36411346]\n"
     ]
    }
   ],
   "source": [
    "D = np.random.uniform(0,1,100)\n",
    "print(D)\n",
    "S = np.random.randint(0,10,100)\n",
    "print(S)\n",
    "D_sums = np.bincount(S, weights=D)\n",
    "print(D_sums)\n",
    "D_counts = np.bincount(S)\n",
    "print(D_counts)\n",
    "D_means = D_sums / D_counts\n",
    "print(D_means)"
   ]
  },
  {
   "cell_type": "code",
   "execution_count": 164,
   "metadata": {},
   "outputs": [
    {
     "name": "stdout",
     "output_type": "stream",
     "text": [
      "0    0.589423\n",
      "1    0.567510\n",
      "2    0.513593\n",
      "3    0.516775\n",
      "4    0.551910\n",
      "5    0.482692\n",
      "6    0.450483\n",
      "7    0.353572\n",
      "8    0.479592\n",
      "9    0.364113\n",
      "dtype: float64\n"
     ]
    }
   ],
   "source": [
    "# Pandas solution as a reference due to more intuitive code\n",
    "import pandas as pd\n",
    "print(pd.Series(D).groupby(S).mean())"
   ]
  },
  {
   "cell_type": "markdown",
   "metadata": {},
   "source": [
    "## 69,内積の対角をどうやって取得するか"
   ]
  },
  {
   "cell_type": "code",
   "execution_count": 165,
   "metadata": {},
   "outputs": [
    {
     "data": {
      "text/plain": [
       "array([1.81785546, 1.03366523, 0.63182738, 1.67085402, 1.34381058])"
      ]
     },
     "execution_count": 165,
     "metadata": {},
     "output_type": "execute_result"
    }
   ],
   "source": [
    "A = np.random.uniform(0,1,(5,5))\n",
    "B = np.random.uniform(0,1,(5,5))\n",
    "\n",
    "# Slow version  \n",
    "np.diag(np.dot(A, B))\n",
    "\n",
    "# Fast version\n",
    "np.sum(A * B.T, axis=1)\n",
    "\n",
    "# Faster version\n",
    "np.einsum(\"ij,ji->i\", A, B)"
   ]
  },
  {
   "cell_type": "markdown",
   "metadata": {},
   "source": [
    "## 70, ベクトル[1、2、3、4、5]、各値の間に3つの連続するゼロが挿入された新しいベクトルを構築する方法を考えてみましょう。"
   ]
  },
  {
   "cell_type": "code",
   "execution_count": 169,
   "metadata": {},
   "outputs": [],
   "source": [
    "Z = np.array([1,2,3,4,5])\n",
    "nz = 3\n",
    "Z0 = np.zeros(len(Z) + (len(Z)-1)*(nz))\n",
    "Z0[::nz+1] = Z"
   ]
  },
  {
   "cell_type": "code",
   "execution_count": 170,
   "metadata": {},
   "outputs": [
    {
     "name": "stdout",
     "output_type": "stream",
     "text": [
      "[1. 0. 0. 0. 2. 0. 0. 0. 3. 0. 0. 0. 4. 0. 0. 0. 5.]\n"
     ]
    }
   ],
   "source": [
    "print(Z0)"
   ]
  },
  {
   "cell_type": "markdown",
   "metadata": {},
   "source": [
    "## 71,次元（5,5,3）の配列を考えて、それを次元（5,5）の配列で掛けるにはどうするか？ \n"
   ]
  },
  {
   "cell_type": "code",
   "execution_count": 167,
   "metadata": {},
   "outputs": [
    {
     "name": "stdout",
     "output_type": "stream",
     "text": [
      "[[[2. 2. 2.]\n",
      "  [2. 2. 2.]\n",
      "  [2. 2. 2.]\n",
      "  [2. 2. 2.]\n",
      "  [2. 2. 2.]]\n",
      "\n",
      " [[2. 2. 2.]\n",
      "  [2. 2. 2.]\n",
      "  [2. 2. 2.]\n",
      "  [2. 2. 2.]\n",
      "  [2. 2. 2.]]\n",
      "\n",
      " [[2. 2. 2.]\n",
      "  [2. 2. 2.]\n",
      "  [2. 2. 2.]\n",
      "  [2. 2. 2.]\n",
      "  [2. 2. 2.]]\n",
      "\n",
      " [[2. 2. 2.]\n",
      "  [2. 2. 2.]\n",
      "  [2. 2. 2.]\n",
      "  [2. 2. 2.]\n",
      "  [2. 2. 2.]]\n",
      "\n",
      " [[2. 2. 2.]\n",
      "  [2. 2. 2.]\n",
      "  [2. 2. 2.]\n",
      "  [2. 2. 2.]\n",
      "  [2. 2. 2.]]]\n"
     ]
    }
   ],
   "source": [
    "A = np.ones((5,5,3))\n",
    "B = 2*np.ones((5,5))\n",
    "print(A * B[:,:,None])"
   ]
  },
  {
   "cell_type": "markdown",
   "metadata": {},
   "source": [
    "## 72, 配列の2つの行を交換するには？"
   ]
  },
  {
   "cell_type": "code",
   "execution_count": 171,
   "metadata": {},
   "outputs": [],
   "source": [
    "A = np.arange(25).reshape(5,5)\n",
    "A[[0,1]] = A[[1,0]]"
   ]
  },
  {
   "cell_type": "code",
   "execution_count": 172,
   "metadata": {},
   "outputs": [
    {
     "name": "stdout",
     "output_type": "stream",
     "text": [
      "[[ 5  6  7  8  9]\n",
      " [ 0  1  2  3  4]\n",
      " [10 11 12 13 14]\n",
      " [15 16 17 18 19]\n",
      " [20 21 22 23 24]]\n"
     ]
    }
   ],
   "source": [
    "print(A)"
   ]
  },
  {
   "cell_type": "markdown",
   "metadata": {},
   "source": [
    "## 73, 10個の三角形（共有された頂点を持つ）を記述する10個の三つ組の集合を考え、すべての三角形を構成する一意の線分の集合を見つける"
   ]
  },
  {
   "cell_type": "code",
   "execution_count": 183,
   "metadata": {},
   "outputs": [],
   "source": [
    "# Author: Nicolas P. Rougier\n",
    "\n",
    "faces = np.random.randint(0,100,(10,3))\n",
    "#print(faces)\n",
    "F = np.roll(faces.repeat(2,axis=1),-1,axis=1)\n",
    "#print(F)\n",
    "F = F.reshape(len(F)*3,2)\n",
    "#print(F)\n",
    "F = np.sort(F,axis=1)\n",
    "#print(F)\n",
    "G = F.view( dtype=[('p0',F.dtype),('p1',F.dtype)] )\n",
    "#print(G)\n",
    "G = np.unique(G)"
   ]
  },
  {
   "cell_type": "code",
   "execution_count": 184,
   "metadata": {},
   "outputs": [
    {
     "name": "stdout",
     "output_type": "stream",
     "text": [
      "[( 9, 27) ( 9, 29) (15, 28) (15, 81) (15, 98) (16, 41) (16, 57) (20, 34)\n",
      " (20, 44) (24, 27) (24, 48) (27, 29) (27, 48) (28, 98) (32, 38) (32, 44)\n",
      " (34, 44) (38, 44) (40, 44) (40, 95) (41, 57) (44, 95) (53, 59) (53, 76)\n",
      " (54, 57) (54, 82) (57, 82) (59, 76) (81, 98)]\n"
     ]
    }
   ],
   "source": [
    "print(G)"
   ]
  },
  {
   "cell_type": "markdown",
   "metadata": {},
   "source": [
    "#https://qiita.com/supersaiakujin/items/c580f2aae90818150b35"
   ]
  },
  {
   "cell_type": "markdown",
   "metadata": {},
   "source": [
    "## 74,与えられた配列Cがbincountである場合、np.bincount（A）== Cのような配列Aを生成する方法は？"
   ]
  },
  {
   "cell_type": "code",
   "execution_count": 185,
   "metadata": {
    "scrolled": true
   },
   "outputs": [
    {
     "name": "stdout",
     "output_type": "stream",
     "text": [
      "[1 1 2 3 4 4 6]\n"
     ]
    }
   ],
   "source": [
    "C = np.bincount([1,1,2,3,4,4,6])\n",
    "A = np.repeat(np.arange(len(C)), C)\n",
    "print(A)"
   ]
  },
  {
   "cell_type": "markdown",
   "metadata": {},
   "source": [
    "## 75,配列上のスライドウィンドウを使って平均を計算するには？ "
   ]
  },
  {
   "cell_type": "code",
   "execution_count": 7,
   "metadata": {},
   "outputs": [],
   "source": [
    "def moving_average(a, n=3) :\n",
    "    ret = np.cumsum(a, dtype=float)\n",
    "    print(ret)\n",
    "    ret[n:] = ret[n:] - ret[:-n]\n",
    "    print(ret)\n",
    "    return ret[n - 1:] / n\n",
    "Z = np.arange(20)\n"
   ]
  },
  {
   "cell_type": "code",
   "execution_count": 8,
   "metadata": {},
   "outputs": [
    {
     "name": "stdout",
     "output_type": "stream",
     "text": [
      "[  0.   1.   3.   6.  10.  15.  21.  28.  36.  45.  55.  66.  78.  91.\n",
      " 105. 120. 136. 153. 171. 190.]\n",
      "[ 0.  1.  3.  6.  9. 12. 15. 18. 21. 24. 27. 30. 33. 36. 39. 42. 45. 48.\n",
      " 51. 54.]\n",
      "[ 1.  2.  3.  4.  5.  6.  7.  8.  9. 10. 11. 12. 13. 14. 15. 16. 17. 18.]\n"
     ]
    }
   ],
   "source": [
    "print(moving_average(Z, n=3))"
   ]
  },
  {
   "cell_type": "markdown",
   "metadata": {},
   "source": [
    "#https://deepage.net/features/numpy-diff.html"
   ]
  },
  {
   "cell_type": "markdown",
   "metadata": {},
   "source": [
    "## 76,最初の行が（Z [0]、Z [1]、Z [2]）であり、後続の各行が1だけシフトされた2次元配列を構築する1次元配列Zを考える（最後の行は（Z [ -3]、Z [-2]、Z [-1]）"
   ]
  },
  {
   "cell_type": "code",
   "execution_count": 9,
   "metadata": {},
   "outputs": [
    {
     "name": "stdout",
     "output_type": "stream",
     "text": [
      "[[0 1 2]\n",
      " [1 2 3]\n",
      " [2 3 4]\n",
      " [3 4 5]\n",
      " [4 5 6]\n",
      " [5 6 7]\n",
      " [6 7 8]\n",
      " [7 8 9]]\n"
     ]
    }
   ],
   "source": [
    "from numpy.lib import stride_tricks\n",
    "\n",
    "def rolling(a, window):\n",
    "    shape = (a.size - window + 1, window)\n",
    "    strides = (a.itemsize, a.itemsize)\n",
    "    return stride_tricks.as_strided(a, shape=shape, strides=strides)\n",
    "Z = rolling(np.arange(10), 3)"
   ]
  },
  {
   "cell_type": "code",
   "execution_count": null,
   "metadata": {},
   "outputs": [],
   "source": [
    "print(Z)"
   ]
  },
  {
   "cell_type": "markdown",
   "metadata": {},
   "source": [
    "## 77,ブール値を無効にする方法、または浮動小数点数の符号を変更する方法は？"
   ]
  },
  {
   "cell_type": "code",
   "execution_count": 10,
   "metadata": {},
   "outputs": [
    {
     "data": {
      "text/plain": [
       "array([ 0.56329726,  0.08376292, -0.07873219, -0.37800645,  0.62313509,\n",
       "        0.949446  , -0.01806582, -0.43917162, -0.31229085, -0.70944057,\n",
       "       -0.1274189 ,  0.2493151 , -0.60376897,  0.61716735,  0.19122906,\n",
       "        0.48235944,  0.1201206 , -0.59323474, -0.58267146,  0.03026359,\n",
       "       -0.90751419, -0.67429633, -0.54781831, -0.11895245, -0.85921624,\n",
       "       -0.08228215,  0.90217716, -0.37959811, -0.60222382,  0.73789635,\n",
       "       -0.91319839, -0.3760673 ,  0.96753688, -0.8857721 ,  0.82838285,\n",
       "       -0.05888896, -0.15587256,  0.4908807 , -0.69340321, -0.56631586,\n",
       "       -0.83843254,  0.49529764,  0.58461124, -0.21198802, -0.69875596,\n",
       "        0.90495365,  0.73584772,  0.38943854, -0.1572756 ,  0.83455632,\n",
       "       -0.37023667, -0.51781727,  0.2198046 , -0.72416968,  0.09218538,\n",
       "        0.85416801,  0.51853554, -0.87657136, -0.93423398,  0.81570363,\n",
       "       -0.29565643, -0.50592779,  0.59304467, -0.00301665,  0.96364122,\n",
       "        0.45675096,  0.00940199,  0.45143442,  0.5273453 ,  0.13029156,\n",
       "       -0.38075288,  0.21369691,  0.16033645,  0.17192238,  0.48981705,\n",
       "       -0.38174681, -0.39806888, -0.50015217,  0.4092856 ,  0.78717483,\n",
       "       -0.63722546,  0.15048355, -0.32908591,  0.1103918 ,  0.52708843,\n",
       "       -0.43108808,  0.59948307, -0.51862112, -0.31287321,  0.65428209,\n",
       "        0.83588932, -0.47595063,  0.52394001,  0.49374264,  0.27374315,\n",
       "       -0.53326843,  0.45428172, -0.73426212,  0.05848019,  0.33685461])"
      ]
     },
     "execution_count": 10,
     "metadata": {},
     "output_type": "execute_result"
    }
   ],
   "source": [
    "Z = np.random.randint(0,2,100)\n",
    "np.logical_not(Z, out=Z)\n",
    "\n",
    "Z = np.random.uniform(-1.0,1.0,100)\n",
    "np.negative(Z, out=Z)"
   ]
  },
  {
   "cell_type": "markdown",
   "metadata": {},
   "source": [
    "## 78, 線（2d）と点pを記述する2組の点P0、P1を考える、pから各線i（P0 [i]、P1 [i]）までの距離を計算する方法を検討する。"
   ]
  },
  {
   "cell_type": "code",
   "execution_count": 13,
   "metadata": {},
   "outputs": [
    {
     "name": "stdout",
     "output_type": "stream",
     "text": [
      "[[ -0.15766751  14.23247387]\n",
      " [  4.80995123  -1.89880275]\n",
      " [ -4.12509853  17.28747619]\n",
      " [  3.1667154    8.3268416 ]\n",
      " [ -0.48071206  12.60784948]\n",
      " [  1.92840413   4.8005851 ]\n",
      " [ -1.05709994  -8.95644378]\n",
      " [-11.94412941  13.05312691]\n",
      " [-15.68011494   6.44318256]\n",
      " [ 15.55644597  15.99502058]]\n",
      "[202.58817164  26.74108273 315.87327081  79.36437746 159.18895248\n",
      "  26.76435981  81.33534538 313.04634956 287.38060612 497.84369437]\n",
      "[5.21129065 1.02022463 8.31450436 0.68851426 3.93727543 2.34131563\n",
      " 6.2706875  3.39242639 0.61097217 5.09999375]\n"
     ]
    }
   ],
   "source": [
    "def distance(P0, P1, p):\n",
    "    T = P1 - P0\n",
    "    print(T)\n",
    "    L = (T**2).sum(axis=1)\n",
    "    print(L)\n",
    "    U = -((P0[:,0]-p[...,0])*T[:,0] + (P0[:,1]-p[...,1])*T[:,1]) / L\n",
    "    U = U.reshape(len(U),1)\n",
    "    D = P0 + U*T - p\n",
    "    return np.sqrt((D**2).sum(axis=1))\n",
    "\n",
    "P0 = np.random.uniform(-10,10,(10,2))\n",
    "P1 = np.random.uniform(-10,10,(10,2))\n",
    "p  = np.random.uniform(-10,10,( 1,2))"
   ]
  },
  {
   "cell_type": "code",
   "execution_count": 14,
   "metadata": {},
   "outputs": [
    {
     "name": "stdout",
     "output_type": "stream",
     "text": [
      "[[ -0.15766751  14.23247387]\n",
      " [  4.80995123  -1.89880275]\n",
      " [ -4.12509853  17.28747619]\n",
      " [  3.1667154    8.3268416 ]\n",
      " [ -0.48071206  12.60784948]\n",
      " [  1.92840413   4.8005851 ]\n",
      " [ -1.05709994  -8.95644378]\n",
      " [-11.94412941  13.05312691]\n",
      " [-15.68011494   6.44318256]\n",
      " [ 15.55644597  15.99502058]]\n",
      "[202.58817164  26.74108273 315.87327081  79.36437746 159.18895248\n",
      "  26.76435981  81.33534538 313.04634956 287.38060612 497.84369437]\n",
      "[5.21129065 1.02022463 8.31450436 0.68851426 3.93727543 2.34131563\n",
      " 6.2706875  3.39242639 0.61097217 5.09999375]\n"
     ]
    }
   ],
   "source": [
    "print(distance(P0, P1, p))"
   ]
  },
  {
   "cell_type": "markdown",
   "metadata": {},
   "source": [
    "## 79,各点j（P [j]）から各線i（P0 [i]、P1 [i]）までの距離を計算する手法について、線（2d）および点の集合Pを記述する点P0、P1の2組を考える。"
   ]
  },
  {
   "cell_type": "code",
   "execution_count": 15,
   "metadata": {},
   "outputs": [
    {
     "name": "stdout",
     "output_type": "stream",
     "text": [
      "[[ -1.80594959   4.9453309 ]\n",
      " [  2.31687936 -14.17336813]\n",
      " [  4.71015494  10.78060115]\n",
      " [  0.668316     2.71417087]\n",
      " [  8.09542008  -3.91979954]\n",
      " [ -3.73175692  -2.55268059]\n",
      " [  6.70408152  -6.18989774]\n",
      " [  1.75231327  -3.19768677]\n",
      " [ -3.21663771 -10.12969648]\n",
      " [  4.66383164 -12.71795633]]\n",
      "[ 27.71775161 206.25229415 138.40692066   7.81336977  80.90065468\n",
      "  20.44218786  83.25954302  13.29580244 112.95750891 183.49773886]\n",
      "[[ -1.80594959   4.9453309 ]\n",
      " [  2.31687936 -14.17336813]\n",
      " [  4.71015494  10.78060115]\n",
      " [  0.668316     2.71417087]\n",
      " [  8.09542008  -3.91979954]\n",
      " [ -3.73175692  -2.55268059]\n",
      " [  6.70408152  -6.18989774]\n",
      " [  1.75231327  -3.19768677]\n",
      " [ -3.21663771 -10.12969648]\n",
      " [  4.66383164 -12.71795633]]\n",
      "[ 27.71775161 206.25229415 138.40692066   7.81336977  80.90065468\n",
      "  20.44218786  83.25954302  13.29580244 112.95750891 183.49773886]\n",
      "[[ -1.80594959   4.9453309 ]\n",
      " [  2.31687936 -14.17336813]\n",
      " [  4.71015494  10.78060115]\n",
      " [  0.668316     2.71417087]\n",
      " [  8.09542008  -3.91979954]\n",
      " [ -3.73175692  -2.55268059]\n",
      " [  6.70408152  -6.18989774]\n",
      " [  1.75231327  -3.19768677]\n",
      " [ -3.21663771 -10.12969648]\n",
      " [  4.66383164 -12.71795633]]\n",
      "[ 27.71775161 206.25229415 138.40692066   7.81336977  80.90065468\n",
      "  20.44218786  83.25954302  13.29580244 112.95750891 183.49773886]\n",
      "[[ -1.80594959   4.9453309 ]\n",
      " [  2.31687936 -14.17336813]\n",
      " [  4.71015494  10.78060115]\n",
      " [  0.668316     2.71417087]\n",
      " [  8.09542008  -3.91979954]\n",
      " [ -3.73175692  -2.55268059]\n",
      " [  6.70408152  -6.18989774]\n",
      " [  1.75231327  -3.19768677]\n",
      " [ -3.21663771 -10.12969648]\n",
      " [  4.66383164 -12.71795633]]\n",
      "[ 27.71775161 206.25229415 138.40692066   7.81336977  80.90065468\n",
      "  20.44218786  83.25954302  13.29580244 112.95750891 183.49773886]\n",
      "[[ -1.80594959   4.9453309 ]\n",
      " [  2.31687936 -14.17336813]\n",
      " [  4.71015494  10.78060115]\n",
      " [  0.668316     2.71417087]\n",
      " [  8.09542008  -3.91979954]\n",
      " [ -3.73175692  -2.55268059]\n",
      " [  6.70408152  -6.18989774]\n",
      " [  1.75231327  -3.19768677]\n",
      " [ -3.21663771 -10.12969648]\n",
      " [  4.66383164 -12.71795633]]\n",
      "[ 27.71775161 206.25229415 138.40692066   7.81336977  80.90065468\n",
      "  20.44218786  83.25954302  13.29580244 112.95750891 183.49773886]\n",
      "[[ -1.80594959   4.9453309 ]\n",
      " [  2.31687936 -14.17336813]\n",
      " [  4.71015494  10.78060115]\n",
      " [  0.668316     2.71417087]\n",
      " [  8.09542008  -3.91979954]\n",
      " [ -3.73175692  -2.55268059]\n",
      " [  6.70408152  -6.18989774]\n",
      " [  1.75231327  -3.19768677]\n",
      " [ -3.21663771 -10.12969648]\n",
      " [  4.66383164 -12.71795633]]\n",
      "[ 27.71775161 206.25229415 138.40692066   7.81336977  80.90065468\n",
      "  20.44218786  83.25954302  13.29580244 112.95750891 183.49773886]\n",
      "[[ -1.80594959   4.9453309 ]\n",
      " [  2.31687936 -14.17336813]\n",
      " [  4.71015494  10.78060115]\n",
      " [  0.668316     2.71417087]\n",
      " [  8.09542008  -3.91979954]\n",
      " [ -3.73175692  -2.55268059]\n",
      " [  6.70408152  -6.18989774]\n",
      " [  1.75231327  -3.19768677]\n",
      " [ -3.21663771 -10.12969648]\n",
      " [  4.66383164 -12.71795633]]\n",
      "[ 27.71775161 206.25229415 138.40692066   7.81336977  80.90065468\n",
      "  20.44218786  83.25954302  13.29580244 112.95750891 183.49773886]\n",
      "[[ -1.80594959   4.9453309 ]\n",
      " [  2.31687936 -14.17336813]\n",
      " [  4.71015494  10.78060115]\n",
      " [  0.668316     2.71417087]\n",
      " [  8.09542008  -3.91979954]\n",
      " [ -3.73175692  -2.55268059]\n",
      " [  6.70408152  -6.18989774]\n",
      " [  1.75231327  -3.19768677]\n",
      " [ -3.21663771 -10.12969648]\n",
      " [  4.66383164 -12.71795633]]\n",
      "[ 27.71775161 206.25229415 138.40692066   7.81336977  80.90065468\n",
      "  20.44218786  83.25954302  13.29580244 112.95750891 183.49773886]\n",
      "[[ -1.80594959   4.9453309 ]\n",
      " [  2.31687936 -14.17336813]\n",
      " [  4.71015494  10.78060115]\n",
      " [  0.668316     2.71417087]\n",
      " [  8.09542008  -3.91979954]\n",
      " [ -3.73175692  -2.55268059]\n",
      " [  6.70408152  -6.18989774]\n",
      " [  1.75231327  -3.19768677]\n",
      " [ -3.21663771 -10.12969648]\n",
      " [  4.66383164 -12.71795633]]\n",
      "[ 27.71775161 206.25229415 138.40692066   7.81336977  80.90065468\n",
      "  20.44218786  83.25954302  13.29580244 112.95750891 183.49773886]\n",
      "[[ -1.80594959   4.9453309 ]\n",
      " [  2.31687936 -14.17336813]\n",
      " [  4.71015494  10.78060115]\n",
      " [  0.668316     2.71417087]\n",
      " [  8.09542008  -3.91979954]\n",
      " [ -3.73175692  -2.55268059]\n",
      " [  6.70408152  -6.18989774]\n",
      " [  1.75231327  -3.19768677]\n",
      " [ -3.21663771 -10.12969648]\n",
      " [  4.66383164 -12.71795633]]\n",
      "[ 27.71775161 206.25229415 138.40692066   7.81336977  80.90065468\n",
      "  20.44218786  83.25954302  13.29580244 112.95750891 183.49773886]\n",
      "[[ 1.15147499 11.37618524 15.08157293 16.19789839  3.78406239  2.04200807\n",
      "   3.06128517 10.42725546 18.1490111   2.06746634]\n",
      " [ 9.05729177  2.26053562  5.62492704  3.03603701  2.31313804 19.17762364\n",
      "   3.31302298  3.24052308  1.72428002  8.11526361]\n",
      " [ 3.42335903  5.23504889  5.69112983  7.4887489   0.93956283  7.62328175\n",
      "   3.10036423  7.23095208  9.14471447  2.49548244]\n",
      " [ 7.65176644  1.49611536  6.88363966  3.70733921  5.61618767 22.02374765\n",
      "   0.55549455  5.12634898  2.62640412  6.70529361]\n",
      " [ 6.00430695  0.54379449  4.13556783  1.08279587  5.23047887 19.43231645\n",
      "   0.12164709  6.41557081  0.0552702   5.0608763 ]\n",
      " [ 1.85479255  9.02186568  4.34701656  7.70012963  8.05449795 13.56377435\n",
      "   5.01365709 13.57493721  8.75174712  2.79275089]\n",
      " [ 4.741894   12.12064257  7.40516192 10.87975905  9.15038657 11.489318\n",
      "   6.93857902 16.21763673 11.89511909  5.67795537]\n",
      " [ 3.83195451 11.23908506  6.7924216  10.16122195  8.45106763 11.65036537\n",
      "   6.09925951 15.30814323 11.21525078  4.76792774]\n",
      " [ 3.28589649  5.26875447  5.41644262  7.30065652  0.46372079  8.11437873\n",
      "   2.730239    7.44845187  8.92228647  2.35728904]\n",
      " [12.2530235   3.08707276  0.6024333   1.20865428  8.58940209  7.98314335\n",
      "  11.8126354   1.7813285   3.30634308 11.32767664]]\n"
     ]
    }
   ],
   "source": [
    "P0 = np.random.uniform(-10, 10, (10,2))\n",
    "P1 = np.random.uniform(-10,10,(10,2))\n",
    "p = np.random.uniform(-10, 10, (10,2))\n",
    "print(np.array([distance(P0,P1,p_i) for p_i in p]))\n"
   ]
  },
  {
   "cell_type": "markdown",
   "metadata": {},
   "source": [
    "## 80, 任意の配列を考えて、固定された形状を持つサブパーツを抽出し、与えられた要素の中央に置く（必要に応じて塗りつぶし値を持つパッド）関数を記述する。"
   ]
  },
  {
   "cell_type": "code",
   "execution_count": 16,
   "metadata": {},
   "outputs": [
    {
     "name": "stdout",
     "output_type": "stream",
     "text": [
      "[[8 0 4 8 1 7 0 9 8 0]\n",
      " [5 0 3 9 5 4 5 0 2 9]\n",
      " [0 7 4 8 3 0 1 6 3 4]\n",
      " [6 7 7 3 6 6 1 5 6 7]\n",
      " [9 1 2 5 8 9 8 0 2 5]\n",
      " [1 9 6 7 1 0 5 3 3 7]\n",
      " [1 8 5 0 4 4 7 1 2 8]\n",
      " [1 8 9 5 9 9 2 3 7 9]\n",
      " [9 2 0 2 4 9 3 9 1 7]\n",
      " [8 6 1 0 1 0 3 0 8 5]]\n",
      "[[0 0 0 0 0]\n",
      " [0 8 0 4 8]\n",
      " [0 5 0 3 9]\n",
      " [0 0 7 4 8]\n",
      " [0 6 7 7 3]]\n"
     ]
    }
   ],
   "source": [
    "\n",
    "# Author: Nicolas Rougier\n",
    "\n",
    "Z = np.random.randint(0,10,(10,10))\n",
    "shape = (5,5)\n",
    "fill  = 0\n",
    "position = (1,1)\n",
    "\n",
    "R = np.ones(shape, dtype=Z.dtype)*fill\n",
    "P  = np.array(list(position)).astype(int)\n",
    "Rs = np.array(list(R.shape)).astype(int)\n",
    "Zs = np.array(list(Z.shape)).astype(int)\n",
    "\n",
    "R_start = np.zeros((len(shape),)).astype(int)\n",
    "R_stop  = np.array(list(shape)).astype(int)\n",
    "Z_start = (P-Rs//2)\n",
    "Z_stop  = (P+Rs//2)+Rs%2\n",
    "\n",
    "R_start = (R_start - np.minimum(Z_start,0)).tolist()\n",
    "Z_start = (np.maximum(Z_start,0)).tolist()\n",
    "R_stop = np.maximum(R_start, (R_stop - np.maximum(Z_stop-Zs,0))).tolist()\n",
    "Z_stop = (np.minimum(Z_stop,Zs)).tolist()\n",
    "\n",
    "r = [slice(start,stop) for start,stop in zip(R_start,R_stop)]\n",
    "z = [slice(start,stop) for start,stop in zip(Z_start,Z_stop)]\n",
    "R[r] = Z[z]"
   ]
  },
  {
   "cell_type": "code",
   "execution_count": 17,
   "metadata": {},
   "outputs": [
    {
     "name": "stdout",
     "output_type": "stream",
     "text": [
      "[[8 0 4 8 1 7 0 9 8 0]\n",
      " [5 0 3 9 5 4 5 0 2 9]\n",
      " [0 7 4 8 3 0 1 6 3 4]\n",
      " [6 7 7 3 6 6 1 5 6 7]\n",
      " [9 1 2 5 8 9 8 0 2 5]\n",
      " [1 9 6 7 1 0 5 3 3 7]\n",
      " [1 8 5 0 4 4 7 1 2 8]\n",
      " [1 8 9 5 9 9 2 3 7 9]\n",
      " [9 2 0 2 4 9 3 9 1 7]\n",
      " [8 6 1 0 1 0 3 0 8 5]]\n",
      "[[0 0 0 0 0]\n",
      " [0 8 0 4 8]\n",
      " [0 5 0 3 9]\n",
      " [0 0 7 4 8]\n",
      " [0 6 7 7 3]]\n"
     ]
    }
   ],
   "source": [
    "print(Z)\n",
    "print(R)"
   ]
  },
  {
   "cell_type": "markdown",
   "metadata": {},
   "source": [
    "## 81,配列Z = [1,2,3,4,5,6,7,8,9,10,11,12,13,14]について、配列R = [[1,2,3、 4]、[2,3,4,5]、[3,4,5,6]、...、[11,12,13,14]]を作成する？"
   ]
  },
  {
   "cell_type": "code",
   "execution_count": 18,
   "metadata": {},
   "outputs": [
    {
     "name": "stdout",
     "output_type": "stream",
     "text": [
      "[[ 1  2  3  4]\n",
      " [ 2  3  4  5]\n",
      " [ 3  4  5  6]\n",
      " [ 4  5  6  7]\n",
      " [ 5  6  7  8]\n",
      " [ 6  7  8  9]\n",
      " [ 7  8  9 10]\n",
      " [ 8  9 10 11]\n",
      " [ 9 10 11 12]\n",
      " [10 11 12 13]\n",
      " [11 12 13 14]]\n"
     ]
    }
   ],
   "source": [
    "\n",
    "# Author: Stefan van der Walt\n",
    "\n",
    "Z = np.arange(1,15,dtype=np.uint32)\n",
    "R = stride_tricks.as_strided(Z,(11,4),(4,4))"
   ]
  },
  {
   "cell_type": "code",
   "execution_count": 19,
   "metadata": {},
   "outputs": [
    {
     "name": "stdout",
     "output_type": "stream",
     "text": [
      "[[ 1  2  3  4]\n",
      " [ 2  3  4  5]\n",
      " [ 3  4  5  6]\n",
      " [ 4  5  6  7]\n",
      " [ 5  6  7  8]\n",
      " [ 6  7  8  9]\n",
      " [ 7  8  9 10]\n",
      " [ 8  9 10 11]\n",
      " [ 9 10 11 12]\n",
      " [10 11 12 13]\n",
      " [11 12 13 14]]\n"
     ]
    }
   ],
   "source": [
    "print(R)"
   ]
  },
  {
   "cell_type": "markdown",
   "metadata": {},
   "source": [
    "#https://qiita.com/daimonji-bucket/items/7d04a9687e7714d6216b"
   ]
  },
  {
   "cell_type": "markdown",
   "metadata": {},
   "source": [
    "## 82,行列のランクを計算する "
   ]
  },
  {
   "cell_type": "code",
   "execution_count": 21,
   "metadata": {},
   "outputs": [],
   "source": [
    "Z = np.random.uniform(0,1,(10,10))\n",
    "U, S, V = np.linalg.svd(Z) # Singular Value Decomposition\n",
    "rank = np.sum(S > 1e-10)"
   ]
  },
  {
   "cell_type": "code",
   "execution_count": 22,
   "metadata": {},
   "outputs": [
    {
     "name": "stdout",
     "output_type": "stream",
     "text": [
      "10\n"
     ]
    }
   ],
   "source": [
    "print(rank)"
   ]
  },
  {
   "cell_type": "markdown",
   "metadata": {},
   "source": [
    "#https://qiita.com/kyoro1/items/4df11e933e737703d549 "
   ]
  },
  {
   "cell_type": "markdown",
   "metadata": {},
   "source": [
    "## 83, 配列内で最も含まれる値を見つける方法は？"
   ]
  },
  {
   "cell_type": "code",
   "execution_count": 23,
   "metadata": {},
   "outputs": [
    {
     "name": "stdout",
     "output_type": "stream",
     "text": [
      "3\n"
     ]
    }
   ],
   "source": [
    "Z = np.random.randint(0,10,50)\n",
    "print(np.bincount(Z).argmax())"
   ]
  },
  {
   "cell_type": "markdown",
   "metadata": {},
   "source": [
    "## 84,乱数の入った10x10行列からすべての連続した3x3ブロックを抽出する"
   ]
  },
  {
   "cell_type": "code",
   "execution_count": 25,
   "metadata": {},
   "outputs": [
    {
     "name": "stdout",
     "output_type": "stream",
     "text": [
      "[[3 0 0 3 1 3 2 4 1 4]\n",
      " [1 2 3 0 2 3 2 0 1 0]\n",
      " [1 3 2 4 2 2 3 1 0 0]\n",
      " [2 4 0 2 2 2 3 4 1 4]\n",
      " [2 2 1 3 1 1 2 4 0 3]\n",
      " [4 2 2 1 1 1 1 0 1 3]\n",
      " [4 3 0 0 1 0 4 2 1 3]\n",
      " [2 1 4 3 0 0 0 0 3 4]\n",
      " [1 3 4 0 0 2 2 4 1 4]\n",
      " [0 3 4 3 0 4 2 3 1 4]]\n"
     ]
    }
   ],
   "source": [
    "Z = np.random.randint(0,5,(10,10))\n",
    "print(Z)\n",
    "n = 3\n",
    "i = 1 + (Z.shape[0]-3)\n",
    "j = 1 + (Z.shape[1]-3)\n",
    "C = stride_tricks.as_strided(Z, shape=(i, j, n, n), strides=Z.strides + Z.strides)"
   ]
  },
  {
   "cell_type": "code",
   "execution_count": 26,
   "metadata": {},
   "outputs": [
    {
     "name": "stdout",
     "output_type": "stream",
     "text": [
      "[[[[3 0 0]\n",
      "   [1 2 3]\n",
      "   [1 3 2]]\n",
      "\n",
      "  [[0 0 3]\n",
      "   [2 3 0]\n",
      "   [3 2 4]]\n",
      "\n",
      "  [[0 3 1]\n",
      "   [3 0 2]\n",
      "   [2 4 2]]\n",
      "\n",
      "  [[3 1 3]\n",
      "   [0 2 3]\n",
      "   [4 2 2]]\n",
      "\n",
      "  [[1 3 2]\n",
      "   [2 3 2]\n",
      "   [2 2 3]]\n",
      "\n",
      "  [[3 2 4]\n",
      "   [3 2 0]\n",
      "   [2 3 1]]\n",
      "\n",
      "  [[2 4 1]\n",
      "   [2 0 1]\n",
      "   [3 1 0]]\n",
      "\n",
      "  [[4 1 4]\n",
      "   [0 1 0]\n",
      "   [1 0 0]]]\n",
      "\n",
      "\n",
      " [[[1 2 3]\n",
      "   [1 3 2]\n",
      "   [2 4 0]]\n",
      "\n",
      "  [[2 3 0]\n",
      "   [3 2 4]\n",
      "   [4 0 2]]\n",
      "\n",
      "  [[3 0 2]\n",
      "   [2 4 2]\n",
      "   [0 2 2]]\n",
      "\n",
      "  [[0 2 3]\n",
      "   [4 2 2]\n",
      "   [2 2 2]]\n",
      "\n",
      "  [[2 3 2]\n",
      "   [2 2 3]\n",
      "   [2 2 3]]\n",
      "\n",
      "  [[3 2 0]\n",
      "   [2 3 1]\n",
      "   [2 3 4]]\n",
      "\n",
      "  [[2 0 1]\n",
      "   [3 1 0]\n",
      "   [3 4 1]]\n",
      "\n",
      "  [[0 1 0]\n",
      "   [1 0 0]\n",
      "   [4 1 4]]]\n",
      "\n",
      "\n",
      " [[[1 3 2]\n",
      "   [2 4 0]\n",
      "   [2 2 1]]\n",
      "\n",
      "  [[3 2 4]\n",
      "   [4 0 2]\n",
      "   [2 1 3]]\n",
      "\n",
      "  [[2 4 2]\n",
      "   [0 2 2]\n",
      "   [1 3 1]]\n",
      "\n",
      "  [[4 2 2]\n",
      "   [2 2 2]\n",
      "   [3 1 1]]\n",
      "\n",
      "  [[2 2 3]\n",
      "   [2 2 3]\n",
      "   [1 1 2]]\n",
      "\n",
      "  [[2 3 1]\n",
      "   [2 3 4]\n",
      "   [1 2 4]]\n",
      "\n",
      "  [[3 1 0]\n",
      "   [3 4 1]\n",
      "   [2 4 0]]\n",
      "\n",
      "  [[1 0 0]\n",
      "   [4 1 4]\n",
      "   [4 0 3]]]\n",
      "\n",
      "\n",
      " [[[2 4 0]\n",
      "   [2 2 1]\n",
      "   [4 2 2]]\n",
      "\n",
      "  [[4 0 2]\n",
      "   [2 1 3]\n",
      "   [2 2 1]]\n",
      "\n",
      "  [[0 2 2]\n",
      "   [1 3 1]\n",
      "   [2 1 1]]\n",
      "\n",
      "  [[2 2 2]\n",
      "   [3 1 1]\n",
      "   [1 1 1]]\n",
      "\n",
      "  [[2 2 3]\n",
      "   [1 1 2]\n",
      "   [1 1 1]]\n",
      "\n",
      "  [[2 3 4]\n",
      "   [1 2 4]\n",
      "   [1 1 0]]\n",
      "\n",
      "  [[3 4 1]\n",
      "   [2 4 0]\n",
      "   [1 0 1]]\n",
      "\n",
      "  [[4 1 4]\n",
      "   [4 0 3]\n",
      "   [0 1 3]]]\n",
      "\n",
      "\n",
      " [[[2 2 1]\n",
      "   [4 2 2]\n",
      "   [4 3 0]]\n",
      "\n",
      "  [[2 1 3]\n",
      "   [2 2 1]\n",
      "   [3 0 0]]\n",
      "\n",
      "  [[1 3 1]\n",
      "   [2 1 1]\n",
      "   [0 0 1]]\n",
      "\n",
      "  [[3 1 1]\n",
      "   [1 1 1]\n",
      "   [0 1 0]]\n",
      "\n",
      "  [[1 1 2]\n",
      "   [1 1 1]\n",
      "   [1 0 4]]\n",
      "\n",
      "  [[1 2 4]\n",
      "   [1 1 0]\n",
      "   [0 4 2]]\n",
      "\n",
      "  [[2 4 0]\n",
      "   [1 0 1]\n",
      "   [4 2 1]]\n",
      "\n",
      "  [[4 0 3]\n",
      "   [0 1 3]\n",
      "   [2 1 3]]]\n",
      "\n",
      "\n",
      " [[[4 2 2]\n",
      "   [4 3 0]\n",
      "   [2 1 4]]\n",
      "\n",
      "  [[2 2 1]\n",
      "   [3 0 0]\n",
      "   [1 4 3]]\n",
      "\n",
      "  [[2 1 1]\n",
      "   [0 0 1]\n",
      "   [4 3 0]]\n",
      "\n",
      "  [[1 1 1]\n",
      "   [0 1 0]\n",
      "   [3 0 0]]\n",
      "\n",
      "  [[1 1 1]\n",
      "   [1 0 4]\n",
      "   [0 0 0]]\n",
      "\n",
      "  [[1 1 0]\n",
      "   [0 4 2]\n",
      "   [0 0 0]]\n",
      "\n",
      "  [[1 0 1]\n",
      "   [4 2 1]\n",
      "   [0 0 3]]\n",
      "\n",
      "  [[0 1 3]\n",
      "   [2 1 3]\n",
      "   [0 3 4]]]\n",
      "\n",
      "\n",
      " [[[4 3 0]\n",
      "   [2 1 4]\n",
      "   [1 3 4]]\n",
      "\n",
      "  [[3 0 0]\n",
      "   [1 4 3]\n",
      "   [3 4 0]]\n",
      "\n",
      "  [[0 0 1]\n",
      "   [4 3 0]\n",
      "   [4 0 0]]\n",
      "\n",
      "  [[0 1 0]\n",
      "   [3 0 0]\n",
      "   [0 0 2]]\n",
      "\n",
      "  [[1 0 4]\n",
      "   [0 0 0]\n",
      "   [0 2 2]]\n",
      "\n",
      "  [[0 4 2]\n",
      "   [0 0 0]\n",
      "   [2 2 4]]\n",
      "\n",
      "  [[4 2 1]\n",
      "   [0 0 3]\n",
      "   [2 4 1]]\n",
      "\n",
      "  [[2 1 3]\n",
      "   [0 3 4]\n",
      "   [4 1 4]]]\n",
      "\n",
      "\n",
      " [[[2 1 4]\n",
      "   [1 3 4]\n",
      "   [0 3 4]]\n",
      "\n",
      "  [[1 4 3]\n",
      "   [3 4 0]\n",
      "   [3 4 3]]\n",
      "\n",
      "  [[4 3 0]\n",
      "   [4 0 0]\n",
      "   [4 3 0]]\n",
      "\n",
      "  [[3 0 0]\n",
      "   [0 0 2]\n",
      "   [3 0 4]]\n",
      "\n",
      "  [[0 0 0]\n",
      "   [0 2 2]\n",
      "   [0 4 2]]\n",
      "\n",
      "  [[0 0 0]\n",
      "   [2 2 4]\n",
      "   [4 2 3]]\n",
      "\n",
      "  [[0 0 3]\n",
      "   [2 4 1]\n",
      "   [2 3 1]]\n",
      "\n",
      "  [[0 3 4]\n",
      "   [4 1 4]\n",
      "   [3 1 4]]]]\n"
     ]
    }
   ],
   "source": [
    "print(C)"
   ]
  },
  {
   "cell_type": "markdown",
   "metadata": {},
   "source": [
    "## 85, Z [i、j] == Z [j、i]となるような2次元配列サブクラスを作成する"
   ]
  },
  {
   "cell_type": "code",
   "execution_count": 27,
   "metadata": {},
   "outputs": [],
   "source": [
    "class Symetric(np.ndarray):\n",
    "    def __setitem__(self, index, value):\n",
    "        i,j = index\n",
    "        super(Symetric, self).__setitem__((i,j), value)\n",
    "        super(Symetric, self).__setitem__((j,i), value)\n",
    "\n",
    "def symetric(Z):\n",
    "    return np.asarray(Z + Z.T - np.diag(Z.diagonal())).view(Symetric)\n",
    "\n",
    "S = symetric(np.random.randint(0,10,(5,5)))\n",
    "S[2,3] = 42"
   ]
  },
  {
   "cell_type": "code",
   "execution_count": 28,
   "metadata": {},
   "outputs": [
    {
     "name": "stdout",
     "output_type": "stream",
     "text": [
      "[[ 3 13  6 10  7]\n",
      " [13  6  9  9  8]\n",
      " [ 6  9  1 42  2]\n",
      " [10  9 42  0 11]\n",
      " [ 7  8  2 11  2]]\n"
     ]
    }
   ],
   "source": [
    "print(S)"
   ]
  },
  {
   "cell_type": "markdown",
   "metadata": {},
   "source": [
    "## 86,形状（n、n）のp行列の集合と形状（n、1）のpベクトルの集合を考える。 一度にp個の行列積の総和を計算するには？ （結果は（n、1）型を持つ） "
   ]
  },
  {
   "cell_type": "code",
   "execution_count": 30,
   "metadata": {},
   "outputs": [],
   "source": [
    "# Author: Stefan van der Walt\n",
    "\n",
    "p, n = 10, 20\n",
    "M = np.ones((p,n,n))\n",
    "V = np.ones((p,n,1))\n",
    "S = np.tensordot(M, V, axes=[[0, 2], [0, 1]])\n",
    "# It works, because:\n",
    "# M is (p,n,n)\n",
    "# V is (p,n,1)\n",
    "# Thus, summing over the paired axes 0 and 0 (of M and V independently),\n",
    "# and 2 and 1, to remain with a (n,1) vector."
   ]
  },
  {
   "cell_type": "code",
   "execution_count": 31,
   "metadata": {},
   "outputs": [
    {
     "name": "stdout",
     "output_type": "stream",
     "text": [
      "[[200.]\n",
      " [200.]\n",
      " [200.]\n",
      " [200.]\n",
      " [200.]\n",
      " [200.]\n",
      " [200.]\n",
      " [200.]\n",
      " [200.]\n",
      " [200.]\n",
      " [200.]\n",
      " [200.]\n",
      " [200.]\n",
      " [200.]\n",
      " [200.]\n",
      " [200.]\n",
      " [200.]\n",
      " [200.]\n",
      " [200.]\n",
      " [200.]]\n"
     ]
    }
   ],
   "source": [
    "print(S)"
   ]
  },
  {
   "cell_type": "markdown",
   "metadata": {},
   "source": [
    "## 87,ブロック・サム（ブロック・サイズは4x4）を得るには、16x16配列を考えてみてください。"
   ]
  },
  {
   "cell_type": "code",
   "execution_count": 32,
   "metadata": {},
   "outputs": [
    {
     "name": "stdout",
     "output_type": "stream",
     "text": [
      "[[16. 16. 16. 16.]\n",
      " [16. 16. 16. 16.]\n",
      " [16. 16. 16. 16.]\n",
      " [16. 16. 16. 16.]]\n"
     ]
    }
   ],
   "source": [
    "Z = np.ones((16,16))\n",
    "k = 4\n",
    "S = np.add.reduceat(np.add.reduceat(Z, np.arange(0, Z.shape[0], k), axis=0),\n",
    "                                       np.arange(0, Z.shape[1], k), axis=1)\n",
    "print(S)"
   ]
  },
  {
   "cell_type": "code",
   "execution_count": 33,
   "metadata": {},
   "outputs": [
    {
     "name": "stdout",
     "output_type": "stream",
     "text": [
      "[[16. 16. 16. 16.]\n",
      " [16. 16. 16. 16.]\n",
      " [16. 16. 16. 16.]\n",
      " [16. 16. 16. 16.]]\n"
     ]
    }
   ],
   "source": [
    "print(S)"
   ]
  },
  {
   "cell_type": "markdown",
   "metadata": {},
   "source": [
    "## 88,numpy配列を使ってライフゲームを実装するには？ "
   ]
  },
  {
   "cell_type": "code",
   "execution_count": 5,
   "metadata": {},
   "outputs": [],
   "source": [
    "# Author: Nicolas Rougier\n",
    "\n",
    "def iterate(Z):\n",
    "    # Count neighbours\n",
    "    N = (Z[0:-2,0:-2] + Z[0:-2,1:-1] + Z[0:-2,2:] +\n",
    "         Z[1:-1,0:-2]                + Z[1:-1,2:] +\n",
    "         Z[2:  ,0:-2] + Z[2:  ,1:-1] + Z[2:  ,2:])\n",
    "\n",
    "    # Apply rules\n",
    "    birth = (N==3) & (Z[1:-1,1:-1]==0)\n",
    "    survive = ((N==2) | (N==3)) & (Z[1:-1,1:-1]==1)\n",
    "    Z[...] = 0\n",
    "    Z[1:-1,1:-1][birth | survive] = 1\n",
    "    return Z\n",
    "\n",
    "Z = np.random.randint(0,2,(50,50))\n",
    "for i in range(100): Z = iterate(Z)"
   ]
  },
  {
   "cell_type": "code",
   "execution_count": 6,
   "metadata": {},
   "outputs": [
    {
     "name": "stdout",
     "output_type": "stream",
     "text": [
      "[[0 0 0 ... 0 0 0]\n",
      " [0 0 0 ... 0 0 0]\n",
      " [0 0 0 ... 0 0 0]\n",
      " ...\n",
      " [0 0 0 ... 0 0 0]\n",
      " [0 0 0 ... 0 0 0]\n",
      " [0 0 0 ... 0 0 0]]\n"
     ]
    }
   ],
   "source": [
    "print(Z)"
   ]
  },
  {
   "cell_type": "markdown",
   "metadata": {},
   "source": [
    "#https://ja.wikipedia.org/wiki/ライフゲーム"
   ]
  },
  {
   "cell_type": "markdown",
   "metadata": {},
   "source": [
    "## 89,配列のn番目に大きい値までを取得する方法"
   ]
  },
  {
   "cell_type": "code",
   "execution_count": 8,
   "metadata": {},
   "outputs": [],
   "source": [
    "Z = np.arange(10000)\n",
    "np.random.shuffle(Z)\n",
    "n = 5"
   ]
  },
  {
   "cell_type": "code",
   "execution_count": 9,
   "metadata": {},
   "outputs": [
    {
     "name": "stdout",
     "output_type": "stream",
     "text": [
      "[9995 9996 9997 9998 9999]\n",
      "[9999 9998 9995 9996 9997]\n"
     ]
    }
   ],
   "source": [
    "# Slow\n",
    "print (Z[np.argsort(Z)[-n:]])\n",
    "\n",
    "# Fast\n",
    "print (Z[np.argpartition(-Z,n)[:n]])\n",
    "\n"
   ]
  },
  {
   "cell_type": "markdown",
   "metadata": {},
   "source": [
    "## 90, 任意の数のベクトルが与えられれば、デカルト積（すべてのアイテムのすべての組み合わせ）を構築する"
   ]
  },
  {
   "cell_type": "code",
   "execution_count": 12,
   "metadata": {},
   "outputs": [],
   "source": [
    "# Author: Stefan Van der Walt\n",
    "\n",
    "def cartesian(arrays):\n",
    "    arrays = [np.asarray(a) for a in arrays]\n",
    "    shape = (len(x) for x in arrays)\n",
    "\n",
    "    ix = np.indices(shape, dtype=int)\n",
    "    ix = ix.reshape(len(arrays), -1).T\n",
    "\n",
    "    for n, arr in enumerate(arrays):\n",
    "        ix[:, n] = arrays[n][ix[:, n]]\n",
    "\n",
    "    return ix\n"
   ]
  },
  {
   "cell_type": "code",
   "execution_count": 13,
   "metadata": {},
   "outputs": [
    {
     "name": "stdout",
     "output_type": "stream",
     "text": [
      "[[1 4 6]\n",
      " [1 4 7]\n",
      " [1 5 6]\n",
      " [1 5 7]\n",
      " [2 4 6]\n",
      " [2 4 7]\n",
      " [2 5 6]\n",
      " [2 5 7]\n",
      " [3 4 6]\n",
      " [3 4 7]\n",
      " [3 5 6]\n",
      " [3 5 7]]\n"
     ]
    }
   ],
   "source": [
    "print (cartesian(([1, 2, 3], [4, 5], [6, 7])))"
   ]
  },
  {
   "cell_type": "markdown",
   "metadata": {},
   "source": [
    "## 91,通常の配列からレコード配列を作成するには？"
   ]
  },
  {
   "cell_type": "code",
   "execution_count": 15,
   "metadata": {},
   "outputs": [],
   "source": [
    "Z = np.array([(\"Hello\", 2.5, 3),\n",
    "              (\"World\", 3.6, 2)])\n",
    "R = np.core.records.fromarrays(Z.T, \n",
    "                               names='col1, col2, col3',\n",
    "                               formats = 'S8, f8, i8')"
   ]
  },
  {
   "cell_type": "code",
   "execution_count": 16,
   "metadata": {},
   "outputs": [
    {
     "name": "stdout",
     "output_type": "stream",
     "text": [
      "[(b'Hello', 2.5, 3) (b'World', 3.6, 2)]\n"
     ]
    }
   ],
   "source": [
    "print(R)"
   ]
  },
  {
   "cell_type": "markdown",
   "metadata": {},
   "source": [
    "## 92,大きなベクトルZを考え、Zを3のべき乗に3つの異なる方法を使って計算する"
   ]
  },
  {
   "cell_type": "code",
   "execution_count": 19,
   "metadata": {},
   "outputs": [
    {
     "ename": "TypeError",
     "evalue": "'float' object cannot be interpreted as an integer",
     "output_type": "error",
     "traceback": [
      "\u001b[0;31m---------------------------------------------------------------------------\u001b[0m",
      "\u001b[0;31mTypeError\u001b[0m                                 Traceback (most recent call last)",
      "\u001b[0;32m<ipython-input-19-b0919783dfb5>\u001b[0m in \u001b[0;36m<module>\u001b[0;34m()\u001b[0m\n\u001b[1;32m      1\u001b[0m \u001b[0;31m# Author: Ryan G.\u001b[0m\u001b[0;34m\u001b[0m\u001b[0;34m\u001b[0m\u001b[0m\n\u001b[1;32m      2\u001b[0m \u001b[0;34m\u001b[0m\u001b[0m\n\u001b[0;32m----> 3\u001b[0;31m \u001b[0mx\u001b[0m \u001b[0;34m=\u001b[0m \u001b[0mnp\u001b[0m\u001b[0;34m.\u001b[0m\u001b[0mrandom\u001b[0m\u001b[0;34m.\u001b[0m\u001b[0mrand\u001b[0m\u001b[0;34m(\u001b[0m\u001b[0;36m5e+07\u001b[0m\u001b[0;34m)\u001b[0m\u001b[0;34m\u001b[0m\u001b[0m\n\u001b[0m\u001b[1;32m      4\u001b[0m \u001b[0;34m\u001b[0m\u001b[0m\n\u001b[1;32m      5\u001b[0m \u001b[0mget_ipython\u001b[0m\u001b[0;34m(\u001b[0m\u001b[0;34m)\u001b[0m\u001b[0;34m.\u001b[0m\u001b[0mrun_line_magic\u001b[0m\u001b[0;34m(\u001b[0m\u001b[0;34m'timeit'\u001b[0m\u001b[0;34m,\u001b[0m \u001b[0;34m'np.power(x,3)'\u001b[0m\u001b[0;34m)\u001b[0m\u001b[0;34m\u001b[0m\u001b[0m\n",
      "\u001b[0;32mmtrand.pyx\u001b[0m in \u001b[0;36mmtrand.RandomState.rand\u001b[0;34m()\u001b[0m\n",
      "\u001b[0;32mmtrand.pyx\u001b[0m in \u001b[0;36mmtrand.RandomState.random_sample\u001b[0;34m()\u001b[0m\n",
      "\u001b[0;32mmtrand.pyx\u001b[0m in \u001b[0;36mmtrand.cont0_array\u001b[0;34m()\u001b[0m\n",
      "\u001b[0;31mTypeError\u001b[0m: 'float' object cannot be interpreted as an integer"
     ]
    }
   ],
   "source": [
    "# Author: Ryan G.\n",
    "\n",
    "x = np.random.rand(5e+07)\n",
    "\n",
    "%timeit np.power(x,3)\n",
    "%timeit x*x*x\n",
    "%timeit np.einsum('i,i,i->i',x,x,x)"
   ]
  },
  {
   "cell_type": "code",
   "execution_count": null,
   "metadata": {},
   "outputs": [],
   "source": []
  }
 ],
 "metadata": {
  "kernelspec": {
   "display_name": "Python 3",
   "language": "python",
   "name": "python3"
  },
  "language_info": {
   "codemirror_mode": {
    "name": "ipython",
    "version": 3
   },
   "file_extension": ".py",
   "mimetype": "text/x-python",
   "name": "python",
   "nbconvert_exporter": "python",
   "pygments_lexer": "ipython3",
   "version": "3.6.4"
  }
 },
 "nbformat": 4,
 "nbformat_minor": 2
}
