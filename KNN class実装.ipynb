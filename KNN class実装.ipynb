{
 "cells": [
  {
   "cell_type": "code",
   "execution_count": 2,
   "metadata": {},
   "outputs": [
    {
     "name": "stderr",
     "output_type": "stream",
     "text": [
      "/Users/satoutakumi/anaconda3/lib/python3.6/site-packages/h5py/__init__.py:36: FutureWarning: Conversion of the second argument of issubdtype from `float` to `np.floating` is deprecated. In future, it will be treated as `np.float64 == np.dtype(float).type`.\n",
      "  from ._conv import register_converters as _register_converters\n",
      "Using TensorFlow backend.\n"
     ]
    }
   ],
   "source": [
    "#手書き文字のデータセット(mnist)をインポート\n",
    "from keras.datasets import mnist\n",
    "import numpy as np\n",
    "#データプロットのライブラリをインポート\n",
    "import matplotlib.pyplot as plt\n",
    "from collections import Counter"
   ]
  },
  {
   "cell_type": "code",
   "execution_count": 3,
   "metadata": {},
   "outputs": [],
   "source": [
    "class KNearestNeighbors(object):\n",
    "\n",
    "    def __init__(self, k=1):\n",
    "        self._train_data = None\n",
    "        self._target_data = None\n",
    "        self._k = k\n",
    "\n",
    "    def fit(self, train_data, target_data):\n",
    "        \"\"\"訓練データを学習する\"\"\"\n",
    "        # あらかじめ計算しておけるものが特にないので保存だけする\n",
    "        self._train_data = train_data\n",
    "        self._target_data = target_data\n",
    "\n",
    "    def predict(self, x):\n",
    "        \"\"\"訓練データから予測する\"\"\"\n",
    "        # 判別する点と教師データとのユークリッド距離を計算する\n",
    "        distances = np.array([self._distance(p, x) for p in self._train_data])\n",
    "        # ユークリッド距離の近い順でソートしたインデックスを得る\n",
    "        nearest_indexes = distances.argsort()[:self._k]\n",
    "        # 最も近い要素のラベルを返す\n",
    "        nearest_labels = self._target_data[nearest_indexes]\n",
    "        # 近傍のラベルで一番多いものを予測結果として返す\n",
    "        c = Counter(nearest_labels)\n",
    "        return c.most_common(1)[0][0]"
   ]
  },
  {
   "cell_type": "code",
   "execution_count": 4,
   "metadata": {},
   "outputs": [],
   "source": [
    "#テストデータと教師データのデータとindexを取得\n",
    "(X_train, y_train), (X_test, y_test) = mnist.load_data()\n",
    "\n",
    "X_train = X_train.astype('float32') / 255.\n",
    "X_test = X_test.astype('float32') / 255.\n",
    "X_train = np.reshape(X_train, (len(X_train), 28, 28, 1))  # adapt this if using `channels_first` image data format\n",
    "X_test = np.reshape(X_test, (len(X_test), 28, 28, 1))  # adapt this if using `channels_first` image data format"
   ]
  },
  {
   "cell_type": "code",
   "execution_count": 5,
   "metadata": {},
   "outputs": [
    {
     "name": "stdout",
     "output_type": "stream",
     "text": [
      "(60000, 784)\n",
      "(10000, 784)\n"
     ]
    }
   ],
   "source": [
    "X_train = X_train.reshape(X_train.shape[0],-1)\n",
    "X_test = X_test.reshape(X_test.shape[0],-1)\n",
    "\n",
    "print(X_train.shape)\n",
    "print(X_test.shape)"
   ]
  },
  {
   "cell_type": "markdown",
   "metadata": {},
   "source": [
    "## sklearnを用いた実装"
   ]
  },
  {
   "cell_type": "code",
   "execution_count": 8,
   "metadata": {},
   "outputs": [],
   "source": [
    "from sklearn.neighbors import KNeighborsClassifier\n",
    "\n",
    "\n",
    "model = KNeighborsClassifier(n_neighbors=6)"
   ]
  },
  {
   "cell_type": "code",
   "execution_count": 9,
   "metadata": {},
   "outputs": [
    {
     "data": {
      "text/plain": [
       "KNeighborsClassifier(algorithm='auto', leaf_size=30, metric='minkowski',\n",
       "           metric_params=None, n_jobs=1, n_neighbors=6, p=2,\n",
       "           weights='uniform')"
      ]
     },
     "execution_count": 9,
     "metadata": {},
     "output_type": "execute_result"
    }
   ],
   "source": [
    "model.fit(X_train, y_train)"
   ]
  },
  {
   "cell_type": "code",
   "execution_count": 10,
   "metadata": {},
   "outputs": [
    {
     "data": {
      "text/plain": [
       "array([7, 2, 1, 0, 4, 1, 4, 9, 5, 9], dtype=uint8)"
      ]
     },
     "execution_count": 10,
     "metadata": {},
     "output_type": "execute_result"
    }
   ],
   "source": [
    "model.predict(X_test[:10])"
   ]
  },
  {
   "cell_type": "markdown",
   "metadata": {},
   "source": [
    "## フルスクラッチ"
   ]
  },
  {
   "cell_type": "code",
   "execution_count": 6,
   "metadata": {},
   "outputs": [],
   "source": [
    "class KNN(object):\n",
    "    def __init__(self, k):\n",
    "        self.k = k\n",
    "                \n",
    "    def fit(self, X, y):\n",
    "        self.X = X\n",
    "        self.y = y\n",
    "        \n",
    "    def predict(self,X_test):\n",
    "        ret = []\n",
    "        for d in X_test:\n",
    "            distance = np.linalg.norm(self.X-d ,axis=1)\n",
    "\n",
    "            #距離が近い順に配列を並び替える\n",
    "            sorted_label = self.y[np.argsort(distance)]\n",
    "\n",
    "            #距離が近い順にk個調べ多数決をとり、数字を決定する\n",
    "            pred_y = Counter(sorted_label[:self.k]).most_common()[0][0]\n",
    "            ret.append(pred_y)\n",
    "        return ret\n"
   ]
  },
  {
   "cell_type": "code",
   "execution_count": 7,
   "metadata": {},
   "outputs": [],
   "source": [
    "model=KNN(k=1)"
   ]
  },
  {
   "cell_type": "code",
   "execution_count": 8,
   "metadata": {},
   "outputs": [],
   "source": [
    "model.fit(X_train[:10000],y_train[:10000])"
   ]
  },
  {
   "cell_type": "code",
   "execution_count": 9,
   "metadata": {
    "scrolled": true
   },
   "outputs": [
    {
     "name": "stdout",
     "output_type": "stream",
     "text": [
      "[7, 2, 1, 0, 9, 1, 9, 9, 5, 9, 0, 6, 9, 0, 1, 5, 4, 7, 3, 4, 9, 6, 6, 5, 9, 0, 7, 4, 0, 1, 3, 1, 3, 4, 7, 2, 7, 1, 2, 1, 1, 7, 4, 1, 3, 5, 1, 2, 4, 4, 6, 3, 5, 5, 6, 0, 4, 1, 9, 5, 7, 8, 9, 3, 7, 4, 6, 4, 3, 0, 7, 0, 2, 7, 1, 7, 3, 7, 9, 7, 7, 6, 2, 7, 8, 4, 7, 3, 6, 1, 3, 6, 4, 3, 1, 4, 1, 7, 6, 9, 6, 0, 5, 4, 9, 9, 2, 1, 9, 4, 8, 7, 3, 9, 7, 9, 4, 4, 9, 2, 5, 4, 7, 6, 7, 9, 0, 5, 8, 5, 6, 6, 5, 7, 8, 1, 0, 1, 6, 4, 6, 7, 3, 1, 7, 1, 8, 2, 0, 1, 9, 8, 5, 5, 1, 5, 6, 0, 3, 4, 4, 6, 5, 4, 6, 5, 4, 5, 1, 4, 4, 7, 2, 3, 2, 1, 1, 8, 1, 8, 1, 8, 5, 0, 8, 9, 2, 5, 0, 1, 1, 1, 0, 4, 0, 1, 1, 6, 4, 2, 3, 6, 1, 1, 1, 3, 9, 5, 2, 9, 4, 5, 9, 3, 9, 0, 3, 6, 5, 3, 7, 2, 2, 7, 1, 2, 8, 4, 1, 7, 3, 3, 8, 7, 7, 9, 2, 2, 4, 1, 5, 8, 8, 7, 2, 6, 0, 6, 4, 2, 4, 1, 9, 5, 7, 7, 2, 1, 2, 6, 8, 5, 7, 7, 9, 1, 8, 1, 3, 0, 3, 0, 1, 9, 9, 4, 1, 8, 2, 1, 2, 9, 7, 5, 9, 2, 6, 4, 1, 5, 9, 2, 9, 2, 0, 4, 0, 0, 2, 8, 1, 7, 1, 2, 4, 0, 2, 7, 4, 3, 3, 0, 0, 3, 1, 9, 6, 5, 0, 5, 1, 7, 9, 3, 0, 4, 6, 0, 7, 1, 1, 2, 1, 5, 3, 3, 9, 7, 8, 6, 5, 4, 1, 3, 8, 1, 0, 5, 1, 9, 1, 5, 5, 6, 1, 8, 5, 1, 4, 4, 4, 6, 2, 2, 5, 0, 6, 5, 6, 3, 7, 2, 0, 8, 8, 5, 9, 1, 1, 4, 0, 7, 3, 7, 6, 1, 6, 2, 1, 9, 2, 8, 6, 1, 9, 5, 2, 5, 4, 4, 2, 8, 3, 8, 2, 4, 5, 0, 3, 1, 7, 7, 3, 7, 9, 7, 1, 9, 2, 1, 4, 2, 9, 2, 0, 4, 9, 1, 4, 8, 1, 8, 4, 5, 9, 8, 8, 3, 7, 6, 0, 0, 3, 0, 2, 0, 6, 4, 9, 3, 3, 3, 2, 3, 9, 1, 2, 6, 8, 0, 5, 6, 6, 6, 7, 8, 8, 2, 7, 5, 8, 9, 6, 1, 8, 4, 1, 2, 5, 3, 1, 9, 7, 5, 4, 0, 8, 9, 9, 1, 0, 5, 8, 3, 7, 0, 9, 4, 0, 6, 3, 9, 5, 2, 1, 3, 1, 3, 6, 5, 7, 4, 2, 2, 6, 3, 2, 6, 5, 4, 8, 9, 9, 1, 3, 0, 3, 8, 3, 1, 9, 6, 4, 4, 6, 4, 2, 1, 8, 2, 5, 4, 1, 8, 4, 0, 0, 2, 3, 2, 7, 1, 0, 8, 7, 4, 4, 7, 9, 6, 9, 0, 4, 8, 0, 4, 6, 0, 6, 3, 5, 9, 8, 3, 3, 9, 3, 3, 7, 7, 8, 0, 2, 7, 1, 7, 0, 6, 5, 4, 3, 8, 0, 9, 6, 3, 8, 0, 9, 9, 6, 8, 6, 5, 5, 7, 8, 6, 0, 2, 4, 0, 2, 2, 3, 1, 9, 7, 5, 1, 0, 8, 4, 6, 2, 6, 7, 4, 9, 2, 9, 8, 2, 2, 9, 1, 7, 3, 5, 9, 1, 8, 0, 2, 0, 5, 4, 1, 3, 7, 6, 7, 1, 2, 0, 8, 0, 3, 7, 7, 4, 0, 9, 1, 8, 6, 7, 1, 4, 3, 4, 9, 1, 9, 5, 1, 7, 3, 9, 7, 6, 9, 1, 3, 1, 8, 3, 3, 6, 7, 2, 8, 5, 8, 5, 1, 1, 4, 4, 3, 1, 0, 7, 7, 0, 7, 9, 9, 4, 8, 3, 5, 4, 0, 8, 2, 1, 0, 8, 4, 5, 0, 4, 0, 6, 1, 5, 3, 2, 6, 7, 2, 6, 9, 3, 1, 4, 6, 2, 5, 9, 2, 0, 6, 2, 1, 7, 3, 4, 1, 0, 5, 4, 3, 1, 1, 7, 4, 9, 9, 9, 8, 4, 0, 2, 4, 5, 1, 1, 6, 4, 7, 1, 9, 4, 2, 4, 1, 5, 5, 3, 8, 3, 1, 4, 3, 6, 8, 9, 4, 1, 5, 3, 8, 0, 3, 2, 1, 1, 2, 8, 3, 4, 4, 0, 8, 8, 3, 3, 1, 7, 3, 5, 9, 6, 3, 2, 6, 1, 3, 6, 0, 7, 2, 1, 7, 1, 4, 2, 8, 2, 1, 7, 9, 6, 1, 1, 2, 4, 3, 1, 7, 7, 4, 3, 0, 7, 3, 1, 3, 1, 0, 7, 7, 0, 3, 5, 5, 2, 7, 6, 6, 9, 2, 8, 3, 5, 2, 2, 5, 6, 0, 8, 2, 9, 2, 8, 2, 8, 8, 7, 4, 7, 5, 0, 6, 6, 3, 2, 1, 3, 2, 2, 9, 3, 0, 0, 5, 7, 8, 1, 4, 9, 6, 0, 2, 9, 1, 4, 7, 4, 7, 3, 9, 8, 8, 4, 7, 1, 2, 1, 2, 2, 3, 7, 3, 0, 3, 9, 1, 7, 4, 0, 3, 5, 5, 6, 6, 5, 2, 6, 7, 6, 6, 3, 2, 7, 8, 1, 1, 7, 7, 6, 4, 9, 5, 6, 3, 3, 4, 7, 8, 9, 1, 1, 0, 9, 1, 4, 4, 5, 4, 0, 6, 2, 3, 8, 1, 5, 1, 2, 0, 3, 8, 1, 2, 6, 7, 1, 6, 2, 3, 9, 0, 1, 2, 2, 0, 8, 9]\n"
     ]
    }
   ],
   "source": [
    "pred_y = model.predict(X_test[:1000])\n",
    "print(pred_y)"
   ]
  },
  {
   "cell_type": "code",
   "execution_count": 13,
   "metadata": {},
   "outputs": [
    {
     "data": {
      "text/plain": [
       "0.92"
      ]
     },
     "execution_count": 13,
     "metadata": {},
     "output_type": "execute_result"
    }
   ],
   "source": [
    "## precision, recall, f-scoreの計算\n",
    "# accuracy\n",
    "\n",
    "from sklearn.metrics import accuracy_score\n",
    "\n",
    "accuracy_score(y_test[:1000], pred_y)"
   ]
  },
  {
   "cell_type": "code",
   "execution_count": 14,
   "metadata": {},
   "outputs": [
    {
     "data": {
      "text/plain": [
       "(array([0.93406593, 0.9057971 , 0.98076923, 0.91428571, 0.91509434,\n",
       "        0.95238095, 0.93333333, 0.88461538, 0.93902439, 0.85416667]),\n",
       " array([1.        , 0.99206349, 0.87931034, 0.89719626, 0.88181818,\n",
       "        0.91954023, 0.96551724, 0.92929293, 0.86516854, 0.87234043]),\n",
       " array([0.96590909, 0.9469697 , 0.92727273, 0.90566038, 0.89814815,\n",
       "        0.93567251, 0.94915254, 0.90640394, 0.9005848 , 0.86315789]),\n",
       " array([ 85, 126, 116, 107, 110,  87,  87,  99,  89,  94]))"
      ]
     },
     "execution_count": 14,
     "metadata": {},
     "output_type": "execute_result"
    }
   ],
   "source": [
    "from sklearn.metrics import precision_recall_fscore_support\n",
    "\n",
    "precision_recall_fscore_support(y_test[:1000], pred_y)"
   ]
  },
  {
   "cell_type": "code",
   "execution_count": null,
   "metadata": {},
   "outputs": [],
   "source": []
  },
  {
   "cell_type": "code",
   "execution_count": null,
   "metadata": {},
   "outputs": [],
   "source": []
  }
 ],
 "metadata": {
  "kernelspec": {
   "display_name": "Python 3",
   "language": "python",
   "name": "python3"
  },
  "language_info": {
   "codemirror_mode": {
    "name": "ipython",
    "version": 3
   },
   "file_extension": ".py",
   "mimetype": "text/x-python",
   "name": "python",
   "nbconvert_exporter": "python",
   "pygments_lexer": "ipython3",
   "version": "3.6.4"
  }
 },
 "nbformat": 4,
 "nbformat_minor": 2
}
