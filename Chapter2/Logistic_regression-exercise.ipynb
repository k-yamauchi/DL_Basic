{
 "cells": [
  {
   "cell_type": "markdown",
   "metadata": {},
   "source": [
    "# ロジスティック回帰"
   ]
  },
  {
   "cell_type": "markdown",
   "metadata": {},
   "source": [
    "## 初心者向けロジスティック回帰解説サイト\n",
    "http://tkengo.github.io/blog/2016/06/04/yaruo-machine-learning5/"
   ]
  },
  {
   "cell_type": "markdown",
   "metadata": {},
   "source": [
    "## 必要なライブラリのインポート"
   ]
  },
  {
   "cell_type": "code",
   "execution_count": null,
   "metadata": {
    "collapsed": true
   },
   "outputs": [],
   "source": [
    "from sklearn.cross_validation import train_test_split\n",
    "from sklearn.preprocessing import StandardScaler\n",
    "import matplotlib.pyplot as plt\n",
    "import numpy as np\n",
    "%matplotlib inline"
   ]
  },
  {
   "cell_type": "markdown",
   "metadata": {},
   "source": [
    "## 区分が 0 のデータを 50個、1 のデータを 50個 用意し、訓練データとテストデータを 7:3 に分割"
   ]
  },
  {
   "cell_type": "code",
   "execution_count": null,
   "metadata": {
    "collapsed": true
   },
   "outputs": [],
   "source": [
    "np.random.seed(seed=0)\n",
    "#二次元正規分のかたまりを 2 組作成\n",
    "#二次元正規分布　https://mathtrain.jp/tahenryogauss\n",
    "X_0 = np.random.multivariate_normal( [2,2],  [[2,0],[0,2]],  50 )\n",
    "y_0 = np.zeros(len(X_0))\n",
    " \n",
    "X_1 = np.random.multivariate_normal( [6,7],  [[3,0],[0,3]],  50 )\n",
    "y_1 = np.ones(len(X_1))\n",
    "\n",
    "#X_0,X_1および、y_0,y_1を結合し、X,yに格納\n",
    "X = np.vstack((X_0, X_1))\n",
    "y = np.append(y_0, y_1)\n",
    "\n",
    "#訓練データとテストデータを 7:3 に分割\n",
    "X_train, X_test, y_train, y_test = train_test_split(X, y, test_size=0.3)\n",
    " "
   ]
  },
  {
   "cell_type": "code",
   "execution_count": null,
   "metadata": {
    "collapsed": true
   },
   "outputs": [],
   "source": [
    "# 特徴データを標準化(平均 0、標準偏差 1)\n",
    "sc = StandardScaler()\n",
    "X_train_std = sc.fit_transform(X_train)\n",
    "X_test_std = sc.transform(X_test)\n",
    "\n",
    "#データのプロット\n",
    "plt.scatter(X_train_std[y_train==0, 0], X_train_std[y_train==0, 1], c='red', marker='x', label='train 0')\n",
    "plt.scatter(X_train_std[y_train==1, 0], X_train_std[y_train==1, 1], c='blue', marker='x', label='train 1')\n",
    "plt.scatter(X_test_std[y_test==0, 0], X_test_std[y_test==0, 1], c='red', marker='o', s=60, label='test 0')\n",
    "plt.scatter(X_test_std[y_test==1, 0], X_test_std[y_test==1, 1], c='blue', marker='o', s=60, label='test 1')\n",
    " \n",
    "plt.legend(loc='upper left')"
   ]
  },
  {
   "cell_type": "markdown",
   "metadata": {},
   "source": [
    "## sklearnによるロジスティック回帰実装"
   ]
  },
  {
   "cell_type": "code",
   "execution_count": null,
   "metadata": {
    "collapsed": true
   },
   "outputs": [],
   "source": [
    "from sklearn.linear_model import LogisticRegression\n",
    " \n",
    "# 訓練\n",
    "lr = LogisticRegression()\n",
    "print(lr.fit(X_train_std, y_train))\n"
   ]
  },
  {
   "cell_type": "code",
   "execution_count": null,
   "metadata": {
    "collapsed": true
   },
   "outputs": [],
   "source": [
    "# テストデータ 30個を分類\n",
    "print (lr.predict(X_test_std))\n",
    "#-------------------------------------------------------------------------\n",
    "# [ 0.  0.  0.  1.  1.  0.  0.  1.  0.  0.  1.  0.  1.  1.  1.  0.  1.  1.\n",
    "#   1.  1.  1.  0.  0.  0.  0.  0.  0.  0.  0.  1.]\n",
    "#-------------------------------------------------------------------------\n",
    " \n",
    "# 精度を確認\n",
    "print (lr.score(X_test_std, y_test))\n",
    "#----------------\n",
    "# 0.966666666667\n",
    "#----------------"
   ]
  },
  {
   "cell_type": "code",
   "execution_count": null,
   "metadata": {
    "collapsed": true
   },
   "outputs": [],
   "source": [
    "print (lr.intercept_)\n",
    "#-----------------------------\n",
    "# [ 0.13310259]\n",
    "#-----------------------------\n",
    " \n",
    "print (lr.coef_)\n",
    "#-----------------------------\n",
    "# [[ 1.82092295  2.26785197]]\n",
    "#-----------------------------\n",
    " \n",
    "w_0 = lr.intercept_[0]\n",
    "w_1 = lr.coef_[0,0]\n",
    "w_2 = lr.coef_[0,1]\n",
    " \n",
    "# \n",
    "# 境界線の式\n",
    "#   w_1・x + w_2・y + w_0 = 0\n",
    "#   ⇒ y = (-w_1・x - w_0) / w_2\n",
    " \n",
    "# 境界線 プロット\n",
    "plt.plot($$$)\n",
    "\n",
    " \n",
    "# データを重ねる\n",
    "plt.scatter(X_train_std[y_train==0, 0], X_train_std[y_train==0, 1], c='red', marker='x', label='train 0')\n",
    "plt.scatter(X_train_std[y_train==1, 0], X_train_std[y_train==1, 1], c='blue', marker='x', label='train 1')\n",
    "plt.scatter(X_test_std[y_test==0, 0], X_test_std[y_test==0, 1], c='red', marker='o', s=60, label='test 0')\n",
    "plt.scatter(X_test_std[y_test==1, 0], X_test_std[y_test==1, 1], c='blue', marker='o', s=60, label='test 1')\n"
   ]
  },
  {
   "cell_type": "markdown",
   "metadata": {},
   "source": [
    "## ロジスティック回帰理論"
   ]
  },
  {
   "cell_type": "markdown",
   "metadata": {},
   "source": [
    "### 準備"
   ]
  },
  {
   "cell_type": "code",
   "execution_count": null,
   "metadata": {
    "collapsed": true
   },
   "outputs": [],
   "source": [
    "# sigmoid関数の可視化\n",
    "# sigmoid関数の微分の可視化\n",
    "def sigmoid(x):\n",
    "    return $$$\n",
    "\n",
    "def deriv_sigmoid(x):\n",
    "    return$$$\n",
    "\n",
    "x = np.linspace(-10,10,100)\n",
    "plt.plot(x,sigmoid(x))\n",
    "plt.plot(x,deriv_sigmoid(x))"
   ]
  },
  {
   "cell_type": "markdown",
   "metadata": {},
   "source": [
    "\n",
    "シグモイド関数を用いて\n",
    "#### $$f_\\theta(\\boldsymbol{x})=\\frac{1}{1+\\exp(-\\boldsymbol{\\theta}^T\\boldsymbol{x})}\\tag{1}$$\n",
    "とすると\n",
    "#### $$ \\begin{align}\n",
    "y &= \\left\\{\n",
    "\\begin{array}{ll}\n",
    "1 & (\\boldsymbol{\\theta}^T\\boldsymbol{x} \\geq 0) \\\\\n",
    "0 & (\\boldsymbol{\\theta}^T\\boldsymbol{x} \\lt 0)\n",
    "\\end{array}\n",
    "\\right.\\\\\n",
    "&= \\left\\{\n",
    "\\begin{array}{ll}\n",
    "1 & (f_\\theta(\\boldsymbol{x})\\geq 0.5) \\\\\n",
    "0 & (f_\\theta(\\boldsymbol{x}) \\lt 0.5)\n",
    "\\end{array}\n",
    "\\right.\n",
    "\\end{align}\\tag{2}\n",
    "$$\n",
    "と分類されます．従って，$\\boldsymbol{x}$の分類が1である確率を\n",
    "#### $$f_\\theta(\\boldsymbol{x})=P(y=1|\\boldsymbol{x})\\tag{3}$$\n",
    "と表せます．この時尤度関数は\n",
    "#### $$ L(\\theta)=\\prod_{i=1}^{n} P(y^{(i)}=1|\\boldsymbol{x})^{y^{(i)}}P(y^{(i)}=0|\\boldsymbol{x})^{1-y^{(i)}}\\tag{4}$$ \n",
    "となります．この尤度関数を最大にすることが目的です．この関数の対数尤度は\n",
    "#### $$ \\log L(\\theta)=\\sum_{i=1}^{n} \\bigl\\{y^{(i)}\\log P(y^{(i)}=1|\\boldsymbol{x})+(1-y^{(i)})\\log P(y^{(i)}=0|\\boldsymbol{x}) \n",
    "\\bigr\\}\\tag{5}$$\n",
    "#### $$ =\\sum_{i=1}^{n} \\bigl\\{y^{(i)}\\log f_\\theta(\\boldsymbol{x})+(1-y^{(i)})\\log (1-f_\\theta(\\boldsymbol{x} )\n",
    "\\bigr\\}\\tag{5}$$\n",
    "となります．この関数の重みによる微分は\n",
    "#### $$ \\frac{\\partial \\log L(\\theta)}{\\partial \\theta_j}= \\sum_{i=1}^{n}\\bigl(y^{(i)}-f_\\theta(\\boldsymbol{x}) \\bigr)x_j^{(i)}\\tag{6}$$\n",
    "（式展開詳細：http://tkengo.github.io/blog/2016/06/16/yaruo-machine-learning6/）\n",
    "\n",
    "この関数の最大値を求める問題から，最小値を求める問題にするために，この偏微分のマイナスをとると（$L^-(\\theta)=-log L(\\theta)$）\n",
    "#### $$ \\frac{\\partial  L^-(\\theta)}{\\partial \\theta_j}= \\sum_{i=1}^{n}\\bigl(f_\\theta(\\boldsymbol{x})-y^{(i)}\\bigr)x_j^{(i)}\\tag{7}$$\n",
    "従って，パラメータ更新は\n",
    "#### $$\\theta_j:=\\theta_j-C\\sum_{i=1}^{n}\\bigl(f_\\theta(\\boldsymbol{x})-y^{(i)}\\bigr)x_j^{(i)}\\tag{8}$$\n",
    "となります．"
   ]
  },
  {
   "cell_type": "markdown",
   "metadata": {},
   "source": [
    "## ロジスティック回帰フルスクラッチ"
   ]
  },
  {
   "cell_type": "code",
   "execution_count": null,
   "metadata": {
    "collapsed": true
   },
   "outputs": [],
   "source": [
    "class LogisticRegression(object):\n",
    "    def __init__(self,C=0.0001,epoch=10000):\n",
    "        #式(8)中のC\n",
    "        self.C=C\n",
    "        #実行回数\n",
    "        self.epoch=epoch\n",
    "        \n",
    "    #シグモイド関数の定義 式(1)\n",
    "    def sigmoid(self,x):\n",
    "        return $$$\n",
    "    \n",
    "    #データの学習    \n",
    "    def fit(self,X_train,y_train):\n",
    "        #式中のx\n",
    "        self.X_train=$$$\n",
    "        #式中のy\n",
    "        self.y_train=$$$\n",
    "        \n",
    "        #weightを定義 式中のθ\n",
    "        self.weight = np.ones((self.X_train.shape[1], 1)).astype('float32')\n",
    "        self.b = np.zeros(1).astype('float32')\n",
    "        \n",
    "        for i in range($$$):\n",
    "            #シグモイド関数によるフィッティング\n",
    "            y = $$$\n",
    "            delta = $$$\n",
    "        \n",
    "            #パラメータの更新 式(7),(8)\n",
    "            dW = $$$\n",
    "            db = $$$\n",
    "            self.weight = $$$\n",
    "            self.b = $$$\n",
    "        \n",
    "    #データの予想　式(2)    \n",
    "    def predict(self,X_test):\n",
    "        t = $$$\n",
    "        return $$$\n",
    "    \n",
    "    #w_0\n",
    "    def intercept(self):\n",
    "        return $$$\n",
    "    \n",
    "    #w_1,w_2\n",
    "    def coef(self):\n",
    "        return $$$ "
   ]
  },
  {
   "cell_type": "code",
   "execution_count": null,
   "metadata": {
    "collapsed": true
   },
   "outputs": [],
   "source": [
    "log=LogisticRegression()\n",
    "log.fit(X_train_std, y_train)"
   ]
  },
  {
   "cell_type": "code",
   "execution_count": null,
   "metadata": {
    "collapsed": true
   },
   "outputs": [],
   "source": [
    "pred=log.predict(X_test_std)\n",
    "print(pred)"
   ]
  },
  {
   "cell_type": "markdown",
   "metadata": {},
   "source": [
    "### 精度評価 "
   ]
  },
  {
   "cell_type": "code",
   "execution_count": null,
   "metadata": {
    "collapsed": true
   },
   "outputs": [],
   "source": [
    "# accuracy\n",
    "from sklearn.metrics import accuracy_score\n",
    "accuracy_score(pred, y_test)"
   ]
  },
  {
   "cell_type": "code",
   "execution_count": null,
   "metadata": {
    "collapsed": true
   },
   "outputs": [],
   "source": [
    "# precision, recall, f-scoreの計算\n",
    "from sklearn.metrics import precision_recall_fscore_support\n",
    "precision_recall_fscore_support(y_test, pred)"
   ]
  },
  {
   "cell_type": "code",
   "execution_count": null,
   "metadata": {
    "collapsed": true
   },
   "outputs": [],
   "source": [
    "print(log.intercept())\n",
    "print(log.coef())"
   ]
  },
  {
   "cell_type": "code",
   "execution_count": null,
   "metadata": {
    "collapsed": true
   },
   "outputs": [],
   "source": [
    "w0 = log.intercept()[0]\n",
    "w1 = log.coef()[0,0]\n",
    "w2 = log.coef()[1,]"
   ]
  },
  {
   "cell_type": "code",
   "execution_count": null,
   "metadata": {
    "collapsed": true
   },
   "outputs": [],
   "source": [
    "# 境界線 プロット\n",
    "plt.plot([-2,2], list(map(lambda x: (-w1 * x - w0)/w2, [-2,2])))\n",
    "\n",
    "# データを重ねる\n",
    "plt.scatter(X_train_std[y_train==0, 0], X_train_std[y_train==0, 1], c='red', marker='x', label='train 0')\n",
    "plt.scatter(X_train_std[y_train==1, 0], X_train_std[y_train==1, 1], c='blue', marker='x', label='train 1')\n",
    "plt.scatter(X_test_std[y_test==0, 0], X_test_std[y_test==0, 1], c='red', marker='o', s=60, label='test 0')\n",
    "plt.scatter(X_test_std[y_test==1, 0], X_test_std[y_test==1, 1], c='blue', marker='o', s=60, label='test 1')\n",
    "\n"
   ]
  },
  {
   "cell_type": "code",
   "execution_count": null,
   "metadata": {
    "collapsed": true
   },
   "outputs": [],
   "source": []
  },
  {
   "cell_type": "code",
   "execution_count": null,
   "metadata": {
    "collapsed": true
   },
   "outputs": [],
   "source": []
  },
  {
   "cell_type": "code",
   "execution_count": null,
   "metadata": {
    "collapsed": true
   },
   "outputs": [],
   "source": []
  },
  {
   "cell_type": "code",
   "execution_count": null,
   "metadata": {
    "collapsed": true
   },
   "outputs": [],
   "source": []
  }
 ],
 "metadata": {
  "anaconda-cloud": {},
  "kernelspec": {
   "display_name": "Python 3",
   "language": "python",
   "name": "python3"
  },
  "language_info": {
   "codemirror_mode": {
    "name": "ipython",
    "version": 3
   },
   "file_extension": ".py",
   "mimetype": "text/x-python",
   "name": "python",
   "nbconvert_exporter": "python",
   "pygments_lexer": "ipython3",
   "version": "3.6.3"
  }
 },
 "nbformat": 4,
 "nbformat_minor": 2
}
