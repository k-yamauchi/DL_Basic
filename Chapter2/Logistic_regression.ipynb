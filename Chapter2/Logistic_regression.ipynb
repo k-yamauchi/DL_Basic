{
 "cells": [
  {
   "cell_type": "markdown",
   "metadata": {},
   "source": [
    "# ロジスティック回帰"
   ]
  },
  {
   "cell_type": "markdown",
   "metadata": {},
   "source": [
    "## 初心者向けロジスティック回帰解説サイト\n",
    "http://tkengo.github.io/blog/2016/06/04/yaruo-machine-learning5/"
   ]
  },
  {
   "cell_type": "markdown",
   "metadata": {},
   "source": [
    "## 必要なライブラリのインポート"
   ]
  },
  {
   "cell_type": "code",
   "execution_count": 6,
   "metadata": {},
   "outputs": [
    {
     "name": "stderr",
     "output_type": "stream",
     "text": [
      "/Users/satoutakumi/anaconda3/lib/python3.6/site-packages/sklearn/cross_validation.py:41: DeprecationWarning: This module was deprecated in version 0.18 in favor of the model_selection module into which all the refactored classes and functions are moved. Also note that the interface of the new CV iterators are different from that of this module. This module will be removed in 0.20.\n",
      "  \"This module will be removed in 0.20.\", DeprecationWarning)\n"
     ]
    }
   ],
   "source": [
    "from sklearn.cross_validation import train_test_split\n",
    "from sklearn.preprocessing import StandardScaler\n",
    "import matplotlib.pyplot as plt\n",
    "import numpy as np"
   ]
  },
  {
   "cell_type": "markdown",
   "metadata": {},
   "source": [
    "## 区分が 0 のデータを 50個、1 のデータを 50個 用意し、訓練データとテストデータを 7:3 に分割"
   ]
  },
  {
   "cell_type": "code",
   "execution_count": 7,
   "metadata": {},
   "outputs": [],
   "source": [
    "np.random.seed(seed=0)\n",
    "#二次元正規分のかたまりを 2 組作成\n",
    "#二次元正規分布　https://mathtrain.jp/tahenryogauss\n",
    "X_0 = np.random.multivariate_normal( [2,2],  [[2,0],[0,2]],  50 )\n",
    "y_0 = np.zeros(len(X_0))\n",
    " \n",
    "X_1 = np.random.multivariate_normal( [6,7],  [[3,0],[0,3]],  50 )\n",
    "y_1 = np.ones(len(X_1))\n",
    "\n",
    "#X_0,X_1および、y_0,y_1を結合し、X,yに格納\n",
    "X = np.vstack((X_0, X_1))\n",
    "y = np.append(y_0, y_1)\n",
    "\n",
    "#訓練データとテストデータを 7:3 に分割\n",
    "X_train, X_test, y_train, y_test = train_test_split(X, y, test_size=0.3)\n",
    " "
   ]
  },
  {
   "cell_type": "code",
   "execution_count": 8,
   "metadata": {},
   "outputs": [
    {
     "data": {
      "text/plain": [
       "<matplotlib.legend.Legend at 0x114d03160>"
      ]
     },
     "execution_count": 8,
     "metadata": {},
     "output_type": "execute_result"
    },
    {
     "data": {
      "image/png": "[encoded data removed]",
      "text/plain": [
       "<matplotlib.figure.Figure at 0x10d21a080>"
      ]
     },
     "metadata": {},
     "output_type": "display_data"
    }
   ],
   "source": [
    "# 特徴データを標準化(平均 0、標準偏差 1)\n",
    "sc = StandardScaler()\n",
    "X_train_std = sc.fit_transform(X_train)\n",
    "X_test_std = sc.transform(X_test)\n",
    "\n",
    "#データのプロット\n",
    "plt.scatter(X_train_std[y_train==0, 0], X_train_std[y_train==0, 1], c='red', marker='x', label='train 0')\n",
    "plt.scatter(X_train_std[y_train==1, 0], X_train_std[y_train==1, 1], c='blue', marker='x', label='train 1')\n",
    "plt.scatter(X_test_std[y_test==0, 0], X_test_std[y_test==0, 1], c='red', marker='o', s=60, label='test 0')\n",
    "plt.scatter(X_test_std[y_test==1, 0], X_test_std[y_test==1, 1], c='blue', marker='o', s=60, label='test 1')\n",
    " \n",
    "plt.legend(loc='upper left')"
   ]
  },
  {
   "cell_type": "markdown",
   "metadata": {},
   "source": [
    "## sklearnによるロジスティック回帰実装"
   ]
  },
  {
   "cell_type": "code",
   "execution_count": 9,
   "metadata": {},
   "outputs": [
    {
     "name": "stdout",
     "output_type": "stream",
     "text": [
      "LogisticRegression(C=1.0, class_weight=None, dual=False, fit_intercept=True,\n",
      "          intercept_scaling=1, max_iter=100, multi_class='ovr', n_jobs=1,\n",
      "          penalty='l2', random_state=None, solver='liblinear', tol=0.0001,\n",
      "          verbose=0, warm_start=False)\n"
     ]
    }
   ],
   "source": [
    "from sklearn.linear_model import LogisticRegression\n",
    " \n",
    "# 訓練\n",
    "lr = LogisticRegression()\n",
    "print(lr.fit(X_train_std, y_train))\n"
   ]
  },
  {
   "cell_type": "code",
   "execution_count": 10,
   "metadata": {},
   "outputs": [
    {
     "name": "stdout",
     "output_type": "stream",
     "text": [
      "[0. 0. 0. 1. 1. 0. 0. 1. 0. 0. 1. 0. 1. 1. 1. 0. 1. 1. 1. 1. 1. 0. 0. 0.\n",
      " 0. 0. 0. 0. 0. 1.]\n",
      "0.9666666666666667\n"
     ]
    }
   ],
   "source": [
    "# テストデータ 30個を分類\n",
    "print (lr.predict(X_test_std))\n",
    "#-------------------------------------------------------------------------\n",
    "# [ 0.  0.  0.  1.  1.  0.  0.  1.  0.  0.  1.  0.  1.  1.  1.  0.  1.  1.\n",
    "#   1.  1.  1.  0.  0.  0.  0.  0.  0.  0.  0.  1.]\n",
    "#-------------------------------------------------------------------------\n",
    " \n",
    "# 精度を確認\n",
    "print (lr.score(X_test_std, y_test))\n",
    "#----------------\n",
    "# 0.966666666667\n",
    "#----------------"
   ]
  },
  {
   "cell_type": "code",
   "execution_count": 11,
   "metadata": {},
   "outputs": [
    {
     "name": "stdout",
     "output_type": "stream",
     "text": [
      "[0.13310259]\n",
      "[[1.82092295 2.26785197]]\n"
     ]
    },
    {
     "data": {
      "text/plain": [
       "<matplotlib.collections.PathCollection at 0x115204ba8>"
      ]
     },
     "execution_count": 11,
     "metadata": {},
     "output_type": "execute_result"
    },
    {
     "data": {
      "image/png": "[encoded data removed]",
      "text/plain": [
       "<matplotlib.figure.Figure at 0x1151c4b00>"
      ]
     },
     "metadata": {},
     "output_type": "display_data"
    }
   ],
   "source": [
    "print (lr.intercept_)\n",
    "#-----------------------------\n",
    "# [ 0.13310259]\n",
    "#-----------------------------\n",
    " \n",
    "print (lr.coef_)\n",
    "#-----------------------------\n",
    "# [[ 1.82092295  2.26785197]]\n",
    "#-----------------------------\n",
    " \n",
    "w_0 = lr.intercept_[0]\n",
    "w_1 = lr.coef_[0,0]\n",
    "w_2 = lr.coef_[0,1]\n",
    " \n",
    "# \n",
    "# 境界線の式\n",
    "#   w_1・x + w_2・y + w_0 = 0\n",
    "#   ⇒ y = (-w_1・x - w_0) / w_2\n",
    " \n",
    "# 境界線 プロット\n",
    "plt.plot([-2,2], list(map(lambda x: (-w_1 * x - w_0)/w_2, [-2,2])))\n",
    "\n",
    " \n",
    "# データを重ねる\n",
    "plt.scatter(X_train_std[y_train==0, 0], X_train_std[y_train==0, 1], c='red', marker='x', label='train 0')\n",
    "plt.scatter(X_train_std[y_train==1, 0], X_train_std[y_train==1, 1], c='blue', marker='x', label='train 1')\n",
    "plt.scatter(X_test_std[y_test==0, 0], X_test_std[y_test==0, 1], c='red', marker='o', s=60, label='test 0')\n",
    "plt.scatter(X_test_std[y_test==1, 0], X_test_std[y_test==1, 1], c='blue', marker='o', s=60, label='test 1')\n"
   ]
  },
  {
   "cell_type": "markdown",
   "metadata": {},
   "source": [
    "## ロジスティック回帰理論\n",
    "シグモイド関数を用いて\n",
    "#### $$f_\\theta(\\boldsymbol{x})=\\frac{1}{1+\\exp(\\boldsymbol{\\theta}^T\\boldsymbol{x})}\\tag{1}$$\n",
    "とすると\n",
    "#### $$ \\begin{align}\n",
    "y &= \\left\\{\n",
    "\\begin{array}{ll}\n",
    "1 & (\\boldsymbol{\\theta}^T\\boldsymbol{x} \\geq 0) \\\\\n",
    "0 & (\\boldsymbol{\\theta}^T\\boldsymbol{x} \\lt 0)\n",
    "\\end{array}\n",
    "\\right.\\\\\n",
    "&= \\left\\{\n",
    "\\begin{array}{ll}\n",
    "1 & (f_\\theta(\\boldsymbol{x})\\geq 0.5) \\\\\n",
    "0 & (f_\\theta(\\boldsymbol{x}) \\lt 0.5)\n",
    "\\end{array}\n",
    "\\right.\n",
    "\\end{align}\\tag{2}\n",
    "$$\n",
    "と分類されます．従って，$\\boldsymbol{x}$の分類が1である確率を\n",
    "#### $$f_\\theta(\\boldsymbol{x})=P(y=1|\\boldsymbol{x})\\tag{3}$$\n",
    "と表せます．この時尤度関数は\n",
    "#### $$ L(\\theta)=\\prod_{i=1}^{n} P(y^{(i)}=1|\\boldsymbol{x})^{y^{(i)}}P(y^{(i)}=0|\\boldsymbol{x})^{1-y^{(i)}}\\tag{4}$$ \n",
    "となります．この尤度関数を最大にすることが目的です．この関数の対数尤度は\n",
    "#### $$ \\log L(\\theta)=\\sum_{i=1}^{n} \\bigl\\{y^{(i)}\\log P(y^{(i)}=1|\\boldsymbol{x})+(1-y^{(i)})\\log P(y^{(i)}=0|\\boldsymbol{x})  \\bigr\\}\\tag{5}$$\n",
    "となります．この関数の重みによる微分は\n",
    "#### $$ \\frac{\\partial \\log L(\\theta)}{\\partial \\theta_j}= \\sum_{i=1}^{n}\\bigl(y^{(i)}-f_\\theta(\\boldsymbol{x}) \\bigr)x_j^{(i)}\\tag{6}$$\n",
    "この関数の最大値を求める問題から，最小値を求めるために，この偏微分のマイナスをとると\n",
    "#### $$ \\frac{\\partial  L^-(\\theta)}{\\partial \\theta_j}= \\sum_{i=1}^{n}\\bigl(f_\\theta(\\boldsymbol{x})-y^{(i)}\\bigr)x_j^{(i)}\\tag{7}$$\n",
    "従って，パラメータ更新は\n",
    "#### $$\\theta_j:=\\theta_j-C\\sum_{i=1}^{n}\\bigl(f_\\theta(\\boldsymbol{x})-y^{(i)}\\bigr)x_j^{(i)}\\tag{8}$$\n",
    "となります．"
   ]
  },
  {
   "cell_type": "markdown",
   "metadata": {},
   "source": [
    "## ロジスティック回帰フルスクラッチ"
   ]
  },
  {
   "cell_type": "code",
   "execution_count": 12,
   "metadata": {},
   "outputs": [],
   "source": [
    "class LogisticRegression(object):\n",
    "    def __init__(self,C=0.0001,epoch=10000):\n",
    "        #式(8)中のC\n",
    "        self.C=C\n",
    "        #実行回数\n",
    "        self.epoch=epoch\n",
    "        \n",
    "    #シグモイド関数の定義 式(1)\n",
    "    def sigmoid(self,x):\n",
    "        return 1/(1+np.exp(-x))\n",
    "    \n",
    "    #データの学習    \n",
    "    def fit(self,X_train,y_train):\n",
    "        #式中のx\n",
    "        self.X_train=X_train\n",
    "        #式中のy\n",
    "        self.y_train=y_train.reshape(len(y_train),-1)\n",
    "        \n",
    "        #weightを定義 式中のθ\n",
    "        self.weight = np.ones((self.X_train.shape[1], 1)).astype('float32')\n",
    "        self.b = np.zeros(1).astype('float32')\n",
    "        \n",
    "        for i in range(self.epoch):\n",
    "            #シグモイド関数によるフィッティング\n",
    "            y = self.sigmoid(np.matmul(self.X_train, self.weight) + self.b)\n",
    "            delta = y-self.y_train\n",
    "        \n",
    "            #パラメータの更新 式(7),(8)\n",
    "            dW = np.matmul(self.X_train.T, delta)\n",
    "            db = np.matmul(np.ones(len(self.X_train)), delta)\n",
    "            self.weight = self.weight - self.C*dW\n",
    "            self.b = self.b - self.C*db\n",
    "        \n",
    "    #データの予想　式(2)    \n",
    "    def predict(self,X_test):\n",
    "        t = self.sigmoid(np.matmul(X_test, self.weight) + self.b)>=0.5\n",
    "        return t*1\n",
    "    \n",
    "    #w_0\n",
    "    def intercept(self):\n",
    "        return self.b\n",
    "    \n",
    "    #w_1,w_2\n",
    "    def coef(self):\n",
    "        return self.weight "
   ]
  },
  {
   "cell_type": "code",
   "execution_count": 13,
   "metadata": {},
   "outputs": [],
   "source": [
    "log=LogisticRegression()\n",
    "log.fit(X_train_std, y_train)"
   ]
  },
  {
   "cell_type": "code",
   "execution_count": 14,
   "metadata": {},
   "outputs": [
    {
     "name": "stdout",
     "output_type": "stream",
     "text": [
      "[[0]\n",
      " [0]\n",
      " [0]\n",
      " [1]\n",
      " [1]\n",
      " [0]\n",
      " [0]\n",
      " [1]\n",
      " [0]\n",
      " [0]\n",
      " [1]\n",
      " [0]\n",
      " [1]\n",
      " [1]\n",
      " [1]\n",
      " [0]\n",
      " [1]\n",
      " [1]\n",
      " [1]\n",
      " [1]\n",
      " [1]\n",
      " [0]\n",
      " [0]\n",
      " [0]\n",
      " [0]\n",
      " [0]\n",
      " [0]\n",
      " [0]\n",
      " [0]\n",
      " [1]]\n"
     ]
    }
   ],
   "source": [
    "pred=log.predict(X_test_std)\n",
    "print(pred)"
   ]
  },
  {
   "cell_type": "markdown",
   "metadata": {},
   "source": [
    "### 精度評価 "
   ]
  },
  {
   "cell_type": "code",
   "execution_count": 15,
   "metadata": {},
   "outputs": [
    {
     "data": {
      "text/plain": [
       "0.9666666666666667"
      ]
     },
     "execution_count": 15,
     "metadata": {},
     "output_type": "execute_result"
    }
   ],
   "source": [
    "# accuracy\n",
    "from sklearn.metrics import accuracy_score\n",
    "accuracy_score(pred, y_test)"
   ]
  },
  {
   "cell_type": "code",
   "execution_count": 16,
   "metadata": {},
   "outputs": [
    {
     "data": {
      "text/plain": [
       "(array([0.94117647, 1.        ]),\n",
       " array([1.        , 0.92857143]),\n",
       " array([0.96969697, 0.96296296]),\n",
       " array([16, 14]))"
      ]
     },
     "execution_count": 16,
     "metadata": {},
     "output_type": "execute_result"
    }
   ],
   "source": [
    "# precision, recall, f-scoreの計算\n",
    "from sklearn.metrics import precision_recall_fscore_support\n",
    "precision_recall_fscore_support(y_test, pred)"
   ]
  },
  {
   "cell_type": "code",
   "execution_count": 17,
   "metadata": {},
   "outputs": [
    {
     "name": "stdout",
     "output_type": "stream",
     "text": [
      "[0.13425787]\n",
      "[[2.6698498 ]\n",
      " [3.20034837]]\n"
     ]
    }
   ],
   "source": [
    "print(log.intercept())\n",
    "print(log.coef())"
   ]
  },
  {
   "cell_type": "code",
   "execution_count": 18,
   "metadata": {},
   "outputs": [],
   "source": [
    "w0 = log.intercept()[0]\n",
    "w1 = log.coef()[0,0]\n",
    "w2 = log.coef()[1,]"
   ]
  },
  {
   "cell_type": "code",
   "execution_count": 19,
   "metadata": {},
   "outputs": [
    {
     "data": {
      "text/plain": [
       "<matplotlib.collections.PathCollection at 0x1152da748>"
      ]
     },
     "execution_count": 19,
     "metadata": {},
     "output_type": "execute_result"
    },
    {
     "data": {
      "image/png": "[encoded data removed]",
      "text/plain": [
       "<matplotlib.figure.Figure at 0x11520c198>"
      ]
     },
     "metadata": {},
     "output_type": "display_data"
    }
   ],
   "source": [
    "# 境界線 プロット\n",
    "plt.plot([-2,2], list(map(lambda x: (-w1 * x - w0)/w2, [-2,2])))\n",
    "\n",
    "# データを重ねる\n",
    "plt.scatter(X_train_std[y_train==0, 0], X_train_std[y_train==0, 1], c='red', marker='x', label='train 0')\n",
    "plt.scatter(X_train_std[y_train==1, 0], X_train_std[y_train==1, 1], c='blue', marker='x', label='train 1')\n",
    "plt.scatter(X_test_std[y_test==0, 0], X_test_std[y_test==0, 1], c='red', marker='o', s=60, label='test 0')\n",
    "plt.scatter(X_test_std[y_test==1, 0], X_test_std[y_test==1, 1], c='blue', marker='o', s=60, label='test 1')\n",
    "\n"
   ]
  },
  {
   "cell_type": "code",
   "execution_count": null,
   "metadata": {},
   "outputs": [],
   "source": []
  },
  {
   "cell_type": "code",
   "execution_count": null,
   "metadata": {},
   "outputs": [],
   "source": []
  },
  {
   "cell_type": "code",
   "execution_count": null,
   "metadata": {},
   "outputs": [],
   "source": []
  },
  {
   "cell_type": "code",
   "execution_count": null,
   "metadata": {},
   "outputs": [],
   "source": []
  }
 ],
 "metadata": {
  "kernelspec": {
   "display_name": "Python 3",
   "language": "python",
   "name": "python3"
  },
  "language_info": {
   "codemirror_mode": {
    "name": "ipython",
    "version": 3
   },
   "file_extension": ".py",
   "mimetype": "text/x-python",
   "name": "python",
   "nbconvert_exporter": "python",
   "pygments_lexer": "ipython3",
   "version": "3.6.4"
  }
 },
 "nbformat": 4,
 "nbformat_minor": 2
}
