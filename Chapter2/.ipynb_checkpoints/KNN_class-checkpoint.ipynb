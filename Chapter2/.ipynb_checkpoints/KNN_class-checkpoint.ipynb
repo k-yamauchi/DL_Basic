{
 "cells": [
  {
   "cell_type": "markdown",
   "metadata": {},
   "source": [
    "# k-nearest-neighbor"
   ]
  },
  {
   "cell_type": "markdown",
   "metadata": {},
   "source": [
    "## 必要なライブラリをインポート"
   ]
  },
  {
   "cell_type": "code",
   "execution_count": 183,
   "metadata": {},
   "outputs": [],
   "source": [
    "#手書き文字のデータセット(mnist)をインポート\n",
    "from keras.datasets import mnist\n",
    "import numpy as np\n",
    "#データプロットのライブラリをインポート\n",
    "import matplotlib.pyplot as plt\n",
    "from collections import Counter"
   ]
  },
  {
   "cell_type": "markdown",
   "metadata": {},
   "source": [
    "##  教師データとテストデータの取得"
   ]
  },
  {
   "cell_type": "code",
   "execution_count": 184,
   "metadata": {},
   "outputs": [],
   "source": [
    "#テストデータと教師データのデータとindexを取得\n",
    "(X_train, y_train), (X_test, y_test) = mnist.load_data()\n",
    "\n",
    "X_train = X_train.astype('float32') / 255.\n",
    "X_test = X_test.astype('float32') / 255.\n",
    "X_train = np.reshape(X_train, (len(X_train), 28, 28, 1))  # adapt this if using `channels_first` image data format\n",
    "X_test = np.reshape(X_test, (len(X_test), 28, 28, 1))  # adapt this if using `channels_first` image data format"
   ]
  },
  {
   "cell_type": "markdown",
   "metadata": {},
   "source": [
    "##  教師データ、テストデータを(データ数,28,28,1)型から(データ数,784)型に変換"
   ]
  },
  {
   "cell_type": "code",
   "execution_count": 185,
   "metadata": {},
   "outputs": [
    {
     "name": "stdout",
     "output_type": "stream",
     "text": [
      "(60000, 784)\n",
      "(10000, 784)\n"
     ]
    }
   ],
   "source": [
    "X_train = X_train.reshape(X_train.shape[0],-1)\n",
    "X_test = X_test.reshape(X_test.shape[0],-1)\n",
    "\n",
    "print(X_train.shape)\n",
    "print(X_test.shape)"
   ]
  },
  {
   "cell_type": "markdown",
   "metadata": {},
   "source": [
    "## KNN実装の前に... "
   ]
  },
  {
   "cell_type": "markdown",
   "metadata": {},
   "source": [
    "### sklearnを用いた実装"
   ]
  },
  {
   "cell_type": "code",
   "execution_count": 156,
   "metadata": {},
   "outputs": [],
   "source": [
    "from sklearn.neighbors import KNeighborsClassifier\n",
    "model = KNeighborsClassifier(n_neighbors=6)"
   ]
  },
  {
   "cell_type": "markdown",
   "metadata": {},
   "source": [
    "### 教師データを学習"
   ]
  },
  {
   "cell_type": "code",
   "execution_count": 157,
   "metadata": {},
   "outputs": [
    {
     "data": {
      "text/plain": [
       "KNeighborsClassifier(algorithm='auto', leaf_size=30, metric='minkowski',\n",
       "           metric_params=None, n_jobs=1, n_neighbors=6, p=2,\n",
       "           weights='uniform')"
      ]
     },
     "execution_count": 157,
     "metadata": {},
     "output_type": "execute_result"
    }
   ],
   "source": [
    "model.fit(X_train, y_train)"
   ]
  },
  {
   "cell_type": "markdown",
   "metadata": {},
   "source": [
    "### テストデータの予想"
   ]
  },
  {
   "cell_type": "code",
   "execution_count": 182,
   "metadata": {},
   "outputs": [
    {
     "data": {
      "text/plain": [
       "array([7, 2, 1, 0, 4, 1, 4, 9, 5, 9, 0, 6, 9, 0, 1, 5, 9, 7, 3, 4, 9, 6,\n",
       "       6, 5, 4, 0, 7, 4, 0, 1, 3, 1, 3, 0, 7, 2, 7, 1, 2, 1, 1, 7, 4, 2,\n",
       "       3, 5, 1, 2, 4, 4, 6, 3, 5, 5, 6, 0, 4, 1, 9, 5, 7, 8, 9, 3, 7, 4,\n",
       "       6, 4, 3, 0, 7, 0, 2, 9, 1, 7, 3, 2, 9, 7, 7, 6, 2, 7, 8, 4, 7, 3,\n",
       "       6, 1, 3, 6, 9, 3, 1, 4, 1, 7, 6, 9], dtype=uint8)"
      ]
     },
     "execution_count": 182,
     "metadata": {},
     "output_type": "execute_result"
    }
   ],
   "source": [
    "model.predict(X_test[:100])"
   ]
  },
  {
   "cell_type": "markdown",
   "metadata": {},
   "source": [
    "## つまり、データを学習し、テストデータを予想する２工程でKNNを扱えるようになりたい！"
   ]
  },
  {
   "cell_type": "markdown",
   "metadata": {},
   "source": [
    "## KNNの実装"
   ]
  },
  {
   "cell_type": "code",
   "execution_count": 186,
   "metadata": {},
   "outputs": [],
   "source": [
    "class KNN(object):\n",
    "    def __init__(self,k):\n",
    "        self.k=k\n",
    "    #教師データの学習\n",
    "    def fit(self,X_train,y_train):\n",
    "        self.train_data=X_train\n",
    "        self.target_data=y_train\n",
    "    #テストデータの予想\n",
    "    def predict(self,X_test):\n",
    "        ret=[]\n",
    "        for d in X_test:\n",
    "            #全てのデータに対して距離を計算する\n",
    "            distance = np.linalg.norm(self.train_data-d,axis=1)\n",
    "            \n",
    "            #距離が近い順に配列を並び替える\n",
    "            sorted_label = self.target_data[np.argsort(distance)]\n",
    "            \n",
    "            #距離が近い順にk個調べ多数決をとり、数字を決定する\n",
    "            pred_y = Counter(sorted_label[:self.k]).most_common()[0][0]\n",
    "            \n",
    "            ret.append(pred_y)\n",
    "        return ret"
   ]
  },
  {
   "cell_type": "code",
   "execution_count": 187,
   "metadata": {},
   "outputs": [],
   "source": [
    "f=KNN(k=1)"
   ]
  },
  {
   "cell_type": "code",
   "execution_count": 188,
   "metadata": {},
   "outputs": [],
   "source": [
    "f.fit(X_train[:10000],y_train[:10000])"
   ]
  },
  {
   "cell_type": "code",
   "execution_count": 189,
   "metadata": {},
   "outputs": [
    {
     "name": "stdout",
     "output_type": "stream",
     "text": [
      "[7, 2, 1, 0, 9, 1, 9, 9, 5, 9, 0, 6, 9, 0, 1, 5, 4, 7, 3, 4, 9, 6, 6, 5, 9, 0, 7, 4, 0, 1, 3, 1, 3, 4, 7, 2, 7, 1, 2, 1, 1, 7, 4, 1, 3, 5, 1, 2, 4, 4, 6, 3, 5, 5, 6, 0, 4, 1, 9, 5, 7, 8, 9, 3, 7, 4, 6, 4, 3, 0, 7, 0, 2, 7, 1, 7, 3, 7, 9, 7, 7, 6, 2, 7, 8, 4, 7, 3, 6, 1, 3, 6, 4, 3, 1, 4, 1, 7, 6, 9]\n"
     ]
    }
   ],
   "source": [
    "pred=f.predict(X_test[:100])\n",
    "print(pred)"
   ]
  },
  {
   "cell_type": "markdown",
   "metadata": {},
   "source": [
    "## 精度評価 "
   ]
  },
  {
   "cell_type": "markdown",
   "metadata": {},
   "source": [
    "||**実際が正例**|**実際が負例**|\n",
    "|:---------:|:---------:|:---------:|\n",
    "|**予測が正例**|True Positive (TP)|False Positive (FP)|\n",
    "|**予測が負例**|False Negative (FN)|True Negative (TN)|"
   ]
  },
  {
   "cell_type": "markdown",
   "metadata": {},
   "source": [
    "- 正解率 (Accuracy): 全データのうち, 予測が当たったものの割合\n",
    "    $$ \\text{Accuracy} = \\frac{\\text{TP} + \\text{TN}}{\\text{TP} + \\text{FP} + \\text{FN} + \\text{TN}} $$\n",
    "- 適合率 (Precision): 正と予測したデータのうち, 実際に正であるものの割合\n",
    "    $$ \\text{Precision} = \\frac{\\text{TP}}{\\text{TP} + \\text{FP}} $$\n",
    "- 再現率 (Recall): 実際に正であるもののうち, 正であると予測されたものの割合\n",
    "    $$ \\text{Recall} = \\frac{\\text{TP}}{\\text{TP} + \\text{FN}} $$\n",
    "- F値 (F-measure): 精度と再現率の調和平均\n",
    "    $$ \\text{F-measure} = \\frac{2 \\cdot \\text{Precision} \\cdot \\text{Recall}}{\\text{Precision} + \\text{Recall}} $$"
   ]
  },
  {
   "cell_type": "markdown",
   "metadata": {},
   "source": [
    "## 精度評価実装"
   ]
  },
  {
   "cell_type": "code",
   "execution_count": 192,
   "metadata": {},
   "outputs": [],
   "source": [
    "class evaluation(object):\n",
    "    def __init__(self,pred,y_test):\n",
    "        self.pred=pred\n",
    "        self.y_test=y_test\n",
    "        self.TP={}\n",
    "        self.FP={}\n",
    "        self.FN={}\n",
    "        self.TN={}\n",
    "        for i in np.arange(min(self.pred),max(self.pred)+1):\n",
    "            self.TP.setdefault(i,0)\n",
    "        for i in np.arange(min(self.pred),max(self.pred)+1):\n",
    "            self.FP.setdefault(i,0)\n",
    "        for i in np.arange(min(self.pred),max(self.pred)+1):\n",
    "            self.FN.setdefault(i,0)\n",
    "        for i in np.arange(min(self.pred),max(self.pred)+1):\n",
    "            self.TN.setdefault(i,0)\n",
    "    #TP,FP,FN,TNの分類\n",
    "    def classify(self):\n",
    "        #クラスiについて分類する\n",
    "        for i in np.arange(min(self.pred),max(self.pred)+1):\n",
    "            for j in range(len(self.pred)):\n",
    "                #iであると予想され、かつ正解がiであるものをTPに分類\n",
    "                if (self.pred[j] == i)and(y_test[j] == i):\n",
    "                    self.TP[i]+=1\n",
    "                #iであると予想されたが、正解がiでないものをFPに分類    \n",
    "                elif (self.pred[j] == i)and(y_test[j] != i):\n",
    "                    self.FP[i]+=1\n",
    "                #iであると予想されなかったが、正解はiであるものをFNに分類\n",
    "                elif (self.pred[j] != i)and(y_test[j] == i):\n",
    "                    self.FN[i]+=1\n",
    "                #iであると予想されず、かつ正解もiでないものをTNに分類\n",
    "                else:\n",
    "                    self.TN[i]+=1\n",
    "    #正解率を表示\n",
    "    def accuracy(self):\n",
    "        acc={}\n",
    "        for i in np.arange(min(self.pred),max(self.pred)+1):\n",
    "            acc[i]=(self.TP[i]+self.TN[i])/(self.TP[i]+self.FP[i]+self.FN[i]+self.TN[i])\n",
    "        return sorted(acc.items())\n",
    "    #適合率を表示     \n",
    "    def precision(self):\n",
    "        self.prec={}\n",
    "        for i in np.arange(min(self.pred),max(self.pred)+1):\n",
    "            self.prec[i]=self.TP[i]/(self.TP[i]+self.FP[i])\n",
    "        return sorted(self.prec.items())\n",
    "    #再現率を表示\n",
    "    def recall(self):\n",
    "        self.rec={}\n",
    "        for i in np.arange(min(self.pred),max(self.pred)+1):\n",
    "            self.rec[i]=self.TP[i]/(self.TP[i]+self.FN[i])\n",
    "        return sorted(self.rec.items())\n",
    "    #F値を表示\n",
    "    def F_measure(self):\n",
    "        F={}\n",
    "        for i in np.arange(min(self.pred),max(self.pred)+1):\n",
    "            F[i]=2*self.prec[i]*self.rec[i]/(self.prec[i]+self.rec[i])\n",
    "        return sorted(F.items())\n",
    "    \n",
    "    "
   ]
  },
  {
   "cell_type": "code",
   "execution_count": 193,
   "metadata": {},
   "outputs": [],
   "source": [
    "eva=evaluation(pred,y_test)"
   ]
  },
  {
   "cell_type": "code",
   "execution_count": 195,
   "metadata": {},
   "outputs": [],
   "source": [
    "eva.classify()"
   ]
  },
  {
   "cell_type": "code",
   "execution_count": 196,
   "metadata": {},
   "outputs": [
    {
     "data": {
      "text/plain": [
       "[(0, 1.0),\n",
       " (1, 0.99),\n",
       " (2, 0.98),\n",
       " (3, 1.0),\n",
       " (4, 0.95),\n",
       " (5, 1.0),\n",
       " (6, 1.0),\n",
       " (7, 0.98),\n",
       " (8, 1.0),\n",
       " (9, 0.94)]"
      ]
     },
     "execution_count": 196,
     "metadata": {},
     "output_type": "execute_result"
    }
   ],
   "source": [
    "eva.accuracy()"
   ]
  },
  {
   "cell_type": "code",
   "execution_count": 197,
   "metadata": {},
   "outputs": [
    {
     "data": {
      "text/plain": [
       "[(0, 1.0),\n",
       " (1, 0.9333333333333333),\n",
       " (2, 1.0),\n",
       " (3, 1.0),\n",
       " (4, 0.8461538461538461),\n",
       " (5, 1.0),\n",
       " (6, 1.0),\n",
       " (7, 0.8823529411764706),\n",
       " (8, 1.0),\n",
       " (9, 0.7272727272727273)]"
      ]
     },
     "execution_count": 197,
     "metadata": {},
     "output_type": "execute_result"
    }
   ],
   "source": [
    "eva.precision()"
   ]
  },
  {
   "cell_type": "code",
   "execution_count": 198,
   "metadata": {},
   "outputs": [
    {
     "data": {
      "text/plain": [
       "[(0, 1.0),\n",
       " (1, 1.0),\n",
       " (2, 0.75),\n",
       " (3, 1.0),\n",
       " (4, 0.7857142857142857),\n",
       " (5, 1.0),\n",
       " (6, 1.0),\n",
       " (7, 1.0),\n",
       " (8, 1.0),\n",
       " (9, 0.7272727272727273)]"
      ]
     },
     "execution_count": 198,
     "metadata": {},
     "output_type": "execute_result"
    }
   ],
   "source": [
    "eva.recall()"
   ]
  },
  {
   "cell_type": "code",
   "execution_count": 199,
   "metadata": {},
   "outputs": [
    {
     "data": {
      "text/plain": [
       "[(0, 1.0),\n",
       " (1, 0.9655172413793104),\n",
       " (2, 0.8571428571428571),\n",
       " (3, 1.0),\n",
       " (4, 0.8148148148148148),\n",
       " (5, 1.0),\n",
       " (6, 1.0),\n",
       " (7, 0.9375),\n",
       " (8, 1.0),\n",
       " (9, 0.7272727272727273)]"
      ]
     },
     "execution_count": 199,
     "metadata": {},
     "output_type": "execute_result"
    }
   ],
   "source": [
    "eva.F_measure()"
   ]
  },
  {
   "cell_type": "markdown",
   "metadata": {},
   "source": [
    "## 参考:sklearnによる精度評価実装"
   ]
  },
  {
   "cell_type": "code",
   "execution_count": 206,
   "metadata": {},
   "outputs": [
    {
     "data": {
      "text/plain": [
       "0.92"
      ]
     },
     "execution_count": 206,
     "metadata": {},
     "output_type": "execute_result"
    }
   ],
   "source": [
    "# accuracy\n",
    "from sklearn.metrics import accuracy_score\n",
    "accuracy_score(y_test[:100], pred)"
   ]
  },
  {
   "cell_type": "code",
   "execution_count": 207,
   "metadata": {},
   "outputs": [
    {
     "data": {
      "text/plain": [
       "(array([1.        , 0.93333333, 1.        , 1.        , 0.84615385,\n",
       "        1.        , 1.        , 0.88235294, 1.        , 0.72727273]),\n",
       " array([1.        , 1.        , 0.75      , 1.        , 0.78571429,\n",
       "        1.        , 1.        , 1.        , 1.        , 0.72727273]),\n",
       " array([1.        , 0.96551724, 0.85714286, 1.        , 0.81481481,\n",
       "        1.        , 1.        , 0.9375    , 1.        , 0.72727273]),\n",
       " array([ 8, 14,  8, 11, 14,  7, 10, 15,  2, 11]))"
      ]
     },
     "execution_count": 207,
     "metadata": {},
     "output_type": "execute_result"
    }
   ],
   "source": [
    "# precision, recall, f-scoreの計算\n",
    "from sklearn.metrics import precision_recall_fscore_support\n",
    "precision_recall_fscore_support(y_test[:100], pred)"
   ]
  }
 ],
 "metadata": {
  "kernelspec": {
   "display_name": "Python 3",
   "language": "python",
   "name": "python3"
  },
  "language_info": {
   "codemirror_mode": {
    "name": "ipython",
    "version": 3
   },
   "file_extension": ".py",
   "mimetype": "text/x-python",
   "name": "python",
   "nbconvert_exporter": "python",
   "pygments_lexer": "ipython3",
   "version": "3.6.4"
  }
 },
 "nbformat": 4,
 "nbformat_minor": 2
}
