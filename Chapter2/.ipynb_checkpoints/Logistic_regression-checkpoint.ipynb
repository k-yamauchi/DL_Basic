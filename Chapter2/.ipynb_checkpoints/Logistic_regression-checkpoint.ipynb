{
 "cells": [
  {
   "cell_type": "markdown",
   "metadata": {},
   "source": [
    "# ロジスティック回帰"
   ]
  },
  {
   "cell_type": "markdown",
   "metadata": {},
   "source": [
    "## 初心者向けロジスティック回帰解説サイト\n",
    "http://tkengo.github.io/blog/2016/06/04/yaruo-machine-learning5/"
   ]
  },
  {
   "cell_type": "markdown",
   "metadata": {},
   "source": [
    "## 必要なライブラリのインポート"
   ]
  },
  {
   "cell_type": "code",
   "execution_count": 274,
   "metadata": {},
   "outputs": [],
   "source": [
    "from sklearn.cross_validation import train_test_split\n",
    "from sklearn.preprocessing import StandardScaler\n",
    "import matplotlib.pyplot as plt\n",
    "import numpy as np"
   ]
  },
  {
   "cell_type": "markdown",
   "metadata": {},
   "source": [
    "## 区分が 0 のデータを 50個、1 のデータを 50個 用意し、訓練データとテストデータを 7:3 に分割"
   ]
  },
  {
   "cell_type": "code",
   "execution_count": 275,
   "metadata": {},
   "outputs": [],
   "source": [
    "np.random.seed(seed=0)\n",
    "#二次元正規分のかたまりを 2 組作成\n",
    "#二次元正規分布　https://mathtrain.jp/tahenryogauss\n",
    "X_0 = np.random.multivariate_normal( [2,2],  [[2,0],[0,2]],  50 )\n",
    "y_0 = np.zeros(len(X_0))\n",
    " \n",
    "X_1 = np.random.multivariate_normal( [6,7],  [[3,0],[0,3]],  50 )\n",
    "y_1 = np.ones(len(X_1))\n",
    "\n",
    "#X_0,X_1および、y_0,y_1を結合し、X,yに格納\n",
    "X = np.vstack((X_0, X_1))\n",
    "y = np.append(y_0, y_1)\n",
    "\n",
    "#訓練データとテストデータを 7:3 に分割\n",
    "X_train, X_test, y_train, y_test = train_test_split(X, y, test_size=0.3)\n",
    " "
   ]
  },
  {
   "cell_type": "code",
   "execution_count": 276,
   "metadata": {},
   "outputs": [
    {
     "data": {
      "text/plain": [
       "<matplotlib.legend.Legend at 0x1a1c0490f0>"
      ]
     },
     "execution_count": 276,
     "metadata": {},
     "output_type": "execute_result"
    },
    {
     "data": {
      "image/png": "[encoded data removed]",
      "text/plain": [
       "<matplotlib.figure.Figure at 0x1a1c9478d0>"
      ]
     },
     "metadata": {},
     "output_type": "display_data"
    }
   ],
   "source": [
    "# 特徴データを標準化(平均 0、標準偏差 1)\n",
    "sc = StandardScaler()\n",
    "X_train_std = sc.fit_transform(X_train)\n",
    "X_test_std = sc.transform(X_test)\n",
    "\n",
    "#データのプロット\n",
    "plt.scatter(X_train_std[y_train==0, 0], X_train_std[y_train==0, 1], c='red', marker='x', label='train 0')\n",
    "plt.scatter(X_train_std[y_train==1, 0], X_train_std[y_train==1, 1], c='blue', marker='x', label='train 1')\n",
    "plt.scatter(X_test_std[y_test==0, 0], X_test_std[y_test==0, 1], c='red', marker='o', s=60, label='test 0')\n",
    "plt.scatter(X_test_std[y_test==1, 0], X_test_std[y_test==1, 1], c='blue', marker='o', s=60, label='test 1')\n",
    " \n",
    "plt.legend(loc='upper left')"
   ]
  },
  {
   "cell_type": "markdown",
   "metadata": {},
   "source": [
    "## sklearnによるロジスティック回帰実装"
   ]
  },
  {
   "cell_type": "code",
   "execution_count": 277,
   "metadata": {},
   "outputs": [
    {
     "name": "stdout",
     "output_type": "stream",
     "text": [
      "LogisticRegression(C=1.0, class_weight=None, dual=False, fit_intercept=True,\n",
      "          intercept_scaling=1, max_iter=100, multi_class='ovr', n_jobs=1,\n",
      "          penalty='l2', random_state=None, solver='liblinear', tol=0.0001,\n",
      "          verbose=0, warm_start=False)\n"
     ]
    }
   ],
   "source": [
    "from sklearn.linear_model import LogisticRegression\n",
    " \n",
    "# 訓練\n",
    "lr = LogisticRegression()\n",
    "print(lr.fit(X_train_std, y_train))\n"
   ]
  },
  {
   "cell_type": "code",
   "execution_count": 90,
   "metadata": {},
   "outputs": [
    {
     "name": "stdout",
     "output_type": "stream",
     "text": [
      "[0. 0. 0. 1. 1. 0. 0. 1. 0. 0. 1. 0. 1. 1. 1. 0. 1. 1. 1. 1. 1. 0. 0. 0.\n",
      " 0. 0. 0. 0. 0. 1.]\n",
      "0.9666666666666667\n"
     ]
    }
   ],
   "source": [
    "# テストデータ 30個を分類\n",
    "print (lr.predict(X_test_std))\n",
    "#-------------------------------------------------------------------------\n",
    "# [ 0.  0.  0.  1.  1.  0.  0.  1.  0.  0.  1.  0.  1.  1.  1.  0.  1.  1.\n",
    "#   1.  1.  1.  0.  0.  0.  0.  0.  0.  0.  0.  1.]\n",
    "#-------------------------------------------------------------------------\n",
    " \n",
    "# 精度を確認\n",
    "print (lr.score(X_test_std, y_test))\n",
    "#----------------\n",
    "# 0.966666666667\n",
    "#----------------"
   ]
  },
  {
   "cell_type": "code",
   "execution_count": 144,
   "metadata": {},
   "outputs": [
    {
     "name": "stdout",
     "output_type": "stream",
     "text": [
      "[0.13310259]\n",
      "[[1.82092295 2.26785197]]\n"
     ]
    },
    {
     "data": {
      "text/plain": [
       "<matplotlib.collections.PathCollection at 0x1a1c5eecc0>"
      ]
     },
     "execution_count": 144,
     "metadata": {},
     "output_type": "execute_result"
    },
    {
     "data": {
      "image/png": "[encoded data removed]",
      "text/plain": [
       "<matplotlib.figure.Figure at 0x1a1c26c5f8>"
      ]
     },
     "metadata": {},
     "output_type": "display_data"
    }
   ],
   "source": [
    "print (lr.intercept_)\n",
    "#-----------------------------\n",
    "# [ 0.13310259]\n",
    "#-----------------------------\n",
    " \n",
    "print (lr.coef_)\n",
    "#-----------------------------\n",
    "# [[ 1.82092295  2.26785197]]\n",
    "#-----------------------------\n",
    " \n",
    "w_0 = lr.intercept_[0]\n",
    "w_1 = lr.coef_[0,0]\n",
    "w_2 = lr.coef_[0,1]\n",
    " \n",
    "# \n",
    "# 境界線の式\n",
    "#   w_1・x + w_2・y + w_0 = 0\n",
    "#   ⇒ y = (-w_1・x - w_0) / w_2\n",
    " \n",
    "# 境界線 プロット\n",
    "plt.plot([-2,2], list(map(lambda x: (-w_1 * x - w_0)/w_2, [-2,2])))\n",
    " \n",
    "# データを重ねる\n",
    "plt.scatter(X_train_std[y_train==0, 0], X_train_std[y_train==0, 1], c='red', marker='x', label='train 0')\n",
    "plt.scatter(X_train_std[y_train==1, 0], X_train_std[y_train==1, 1], c='blue', marker='x', label='train 1')\n",
    "plt.scatter(X_test_std[y_test==0, 0], X_test_std[y_test==0, 1], c='red', marker='o', s=60, label='test 0')\n",
    "plt.scatter(X_test_std[y_test==1, 0], X_test_std[y_test==1, 1], c='blue', marker='o', s=60, label='test 1')\n"
   ]
  },
  {
   "cell_type": "markdown",
   "metadata": {},
   "source": [
    "## ロジスティック回帰フルスクラッチ"
   ]
  },
  {
   "cell_type": "code",
   "execution_count": 293,
   "metadata": {},
   "outputs": [],
   "source": [
    "class LogisticRegression(object):\n",
    "    def __init__(self,C=1.0):\n",
    "        self.C=C\n",
    "        self.weight=None\n",
    "        self.X_train=None\n",
    "        self.y_train=None\n",
    "        self.X_test=None\n",
    "        self.y_test=None\n",
    "        \n",
    "    #データの学習    \n",
    "    def fit(self,X_train,y_train):\n",
    "        self.X_train=X_train\n",
    "        self.y_train=y_train.reshape(len(y_train),-1)\n",
    "        \n",
    "        #シグモイド関数の定義\n",
    "        def sigmoid(x):\n",
    "            return 1/(1+np.exp(-x))\n",
    "        \n",
    "        #weightを定義\n",
    "        self.weight = np.ones((2, 1)).astype('float32')\n",
    "        self.b = np.zeros(1).astype('float32')\n",
    "\n",
    "        #シグモイド関数によるフィッティング\n",
    "        y = sigmoid(np.matmul(self.X_train, self.weight) + self.b)\n",
    "        delta = y-self.y_train\n",
    "        \n",
    "        #パラメータの更新\n",
    "        dW = np.matmul(self.X_train.T, delta)\n",
    "        db = np.matmul(np.ones(len(self.X_train)), delta)\n",
    "        self.weight = self.weight - self.C*dW\n",
    "        self.b = self.b - self.C*db\n",
    "    \n",
    "    #データの予想    \n",
    "    def predict(self,X_test):\n",
    "        self.X_test=X_test\n",
    "        self.pred=[]\n",
    "        for i in self.X_test:\n",
    "            if np.sum(np.matmul(i,self.weight)+self.b)>=0:\n",
    "                self.pred.append(1)\n",
    "            else :\n",
    "                self.pred.append(0)\n",
    "        return self.pred\n",
    "    \n",
    "    #精度\n",
    "    def score(self,X_test,y_test):\n",
    "        self.TP={}\n",
    "        self.FP={}\n",
    "        self.FN={}\n",
    "        self.TN={}\n",
    "        for i in np.arange(min(self.pred),max(self.pred)+1):\n",
    "            self.TP.setdefault(i,0)\n",
    "        for i in np.arange(min(self.pred),max(self.pred)+1):\n",
    "            self.FP.setdefault(i,0)\n",
    "        for i in np.arange(min(self.pred),max(self.pred)+1):\n",
    "            self.FN.setdefault(i,0)\n",
    "        for i in np.arange(min(self.pred),max(self.pred)+1):\n",
    "            self.TN.setdefault(i,0)\n",
    "        #クラスiについて分類する\n",
    "        for i in np.arange(min(self.pred),max(self.pred)+1):\n",
    "            for j in range(len(self.pred)):\n",
    "                #iであると予想され、かつ正解がiであるものをTPに分類\n",
    "                if (self.pred[j] == i)and(y_test[j] == i):\n",
    "                    self.TP[i]+=1\n",
    "                #iであると予想されたが、正解がiでないものをFPに分類    \n",
    "                elif (self.pred[j] == i)and(y_test[j] != i):\n",
    "                    self.FP[i]+=1\n",
    "                #iであると予想されなかったが、正解はiであるものをFNに分類\n",
    "                elif (self.pred[j] != i)and(y_test[j] == i):\n",
    "                    self.FN[i]+=1\n",
    "                #iであると予想されず、かつ正解もiでないものをTNに分類\n",
    "                else:\n",
    "                    self.TN[i]+=1\n",
    "        acc={}\n",
    "        for i in np.arange(min(self.pred),max(self.pred)+1):\n",
    "            acc[i]=(self.TP[i]+self.TN[i])/(self.TP[i]+self.FP[i]+self.FN[i]+self.TN[i])\n",
    "        return sorted(acc.items())\n",
    "    \n",
    "    #w_0\n",
    "    def intercept(self):\n",
    "        return self.b\n",
    "    #w_1,w_2\n",
    "    def coef(self):\n",
    "        return self.weight "
   ]
  },
  {
   "cell_type": "code",
   "execution_count": 294,
   "metadata": {},
   "outputs": [],
   "source": [
    "log=LogisticRegression()\n",
    "log.fit(X_train_std, y_train)"
   ]
  },
  {
   "cell_type": "code",
   "execution_count": 295,
   "metadata": {},
   "outputs": [
    {
     "name": "stdout",
     "output_type": "stream",
     "text": [
      "[0, 0, 0, 1, 1, 0, 0, 1, 0, 0, 1, 0, 1, 1, 1, 0, 1, 1, 1, 1, 1, 0, 0, 0, 0, 0, 0, 0, 0, 1]\n"
     ]
    }
   ],
   "source": [
    "print(log.predict(X_test_std))"
   ]
  },
  {
   "cell_type": "code",
   "execution_count": 296,
   "metadata": {},
   "outputs": [
    {
     "name": "stdout",
     "output_type": "stream",
     "text": [
      "[1.06079545]\n",
      "[[7.59687147]\n",
      " [9.81278024]]\n"
     ]
    }
   ],
   "source": [
    "print(log.intercept())\n",
    "print(log.coef())"
   ]
  },
  {
   "cell_type": "code",
   "execution_count": 297,
   "metadata": {},
   "outputs": [],
   "source": [
    "w0 = log.intercept()[0]\n",
    "w1 = log.coef()[0,0]\n",
    "w2 = log.coef()[1,]"
   ]
  },
  {
   "cell_type": "code",
   "execution_count": 298,
   "metadata": {},
   "outputs": [
    {
     "data": {
      "text/plain": [
       "<matplotlib.collections.PathCollection at 0x1a1d292518>"
      ]
     },
     "execution_count": 298,
     "metadata": {},
     "output_type": "execute_result"
    },
    {
     "data": {
      "image/png": "[encoded data removed]",
      "text/plain": [
       "<matplotlib.figure.Figure at 0x1a1c63ec50>"
      ]
     },
     "metadata": {},
     "output_type": "display_data"
    }
   ],
   "source": [
    "# 境界線 プロット\n",
    "plt.plot([-2,2], list(map(lambda x: (-w1 * x - w0)/w2, [-2,2])))\n",
    "\n",
    "# データを重ねる\n",
    "plt.scatter(X_train_std[y_train==0, 0], X_train_std[y_train==0, 1], c='red', marker='x', label='train 0')\n",
    "plt.scatter(X_train_std[y_train==1, 0], X_train_std[y_train==1, 1], c='blue', marker='x', label='train 1')\n",
    "plt.scatter(X_test_std[y_test==0, 0], X_test_std[y_test==0, 1], c='red', marker='o', s=60, label='test 0')\n",
    "plt.scatter(X_test_std[y_test==1, 0], X_test_std[y_test==1, 1], c='blue', marker='o', s=60, label='test 1')\n",
    "\n"
   ]
  },
  {
   "cell_type": "code",
   "execution_count": 300,
   "metadata": {},
   "outputs": [
    {
     "data": {
      "text/plain": [
       "[(0, 0.9666666666666667), (1, 0.9666666666666667)]"
      ]
     },
     "execution_count": 300,
     "metadata": {},
     "output_type": "execute_result"
    }
   ],
   "source": [
    "log.score(X_train_std,y_test)"
   ]
  },
  {
   "cell_type": "code",
   "execution_count": null,
   "metadata": {},
   "outputs": [],
   "source": []
  },
  {
   "cell_type": "code",
   "execution_count": null,
   "metadata": {},
   "outputs": [],
   "source": []
  }
 ],
 "metadata": {
  "kernelspec": {
   "display_name": "Python 3",
   "language": "python",
   "name": "python3"
  },
  "language_info": {
   "codemirror_mode": {
    "name": "ipython",
    "version": 3
   },
   "file_extension": ".py",
   "mimetype": "text/x-python",
   "name": "python",
   "nbconvert_exporter": "python",
   "pygments_lexer": "ipython3",
   "version": "3.6.4"
  }
 },
 "nbformat": 4,
 "nbformat_minor": 2
}
