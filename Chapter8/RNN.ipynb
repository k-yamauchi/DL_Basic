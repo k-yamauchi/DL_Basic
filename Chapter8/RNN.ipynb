{
 "cells": [
  {
   "cell_type": "markdown",
   "metadata": {},
   "source": [
    "# RNNの基礎"
   ]
  },
  {
   "cell_type": "markdown",
   "metadata": {},
   "source": [
    "本章では時系列間の依存性も学習するモデルとして**RNN(Reccurrent Neural Network)**について学んでいきます。"
   ]
  },
  {
   "cell_type": "markdown",
   "metadata": {},
   "source": [
    "# 1. RNNの構造"
   ]
  },
  {
   "cell_type": "markdown",
   "metadata": {},
   "source": [
    "## 1-1.RNNの基礎\n",
    "\n",
    "RNNは入力を逐次的に処理する機構となっています。<br>\n",
    "RNN内には**隠れ層**と呼ばれる部分(ベクトル)が存在し、入力ごとに変化していきます。<br>\n",
    "\n",
    "初期状態を$h_0$とし、以下のように入力$X=(x_0,...x_N)$と一つ前の隠れ層に対し、重みを乗ずることで、隠れ層$h_t$は時事刻々と変化していきます。\n",
    "\n"
   ]
  },
  {
   "cell_type": "markdown",
   "metadata": {},
   "source": [
    "<img src='img/rnn.png' >"
   ]
  },
  {
   "cell_type": "markdown",
   "metadata": {},
   "source": [
    "**隠れ層$h_t$はそれまでの情報をEncodeしたベクトル**だと解釈できます。<br>\n",
    "そのため、RNNから何かしら予測を行う際（例は後に説明します）は、この隠れ層$h_t$を特徴量とし、重みを乗ずることでその時刻$t$での出力とします。<br>\n",
    "\n",
    "多くの場合**最後の時刻での隠れ層を用います。**\n",
    "\n",
    "上記理由としてRNNは時系列性のある可変長なデータを**固定次元に埋め込める**ためです。"
   ]
  },
  {
   "cell_type": "markdown",
   "metadata": {},
   "source": [
    "## 1-2.RNNの擬似的実装\n",
    "\n",
    "以下擬似的練習です。\n",
    "入力系列をX=[1,2,3,4,5]とし、<br>\n",
    "入力から隠れ層への重みをW_xh=0.3<br>\n",
    "隠れ層から隠れ層への重みをW_hh=0.2<br>\n",
    "隠れ層から出力への重みをW_ho=0.4<br>\n",
    "とした時の出力Yを求めなさい。<br>"
   ]
  },
  {
   "cell_type": "code",
   "execution_count": 1,
   "metadata": {
    "collapsed": true
   },
   "outputs": [],
   "source": [
    "import numpy as np\n",
    "\n",
    "X=[1,2,3,4,5]\n",
    "\n",
    "W_xh=0.3\n",
    "W_hh=0.2\n",
    "W_ho=0.4"
   ]
  },
  {
   "cell_type": "code",
   "execution_count": 294,
   "metadata": {},
   "outputs": [
    {
     "name": "stdout",
     "output_type": "stream",
     "text": [
      "[0.11942729853438588, 0.25803304608944516, 0.39084753995383925, 0.50987437678079595, 0.61224962621213852]\n"
     ]
    }
   ],
   "source": [
    "Y=[]\n",
    "\n",
    "h=0 #隠れ層の初期化\n",
    "for x in X:\n",
    "    h=W_hh*h + W_xh*x #隠れ層の更新\n",
    "    y=np.tanh(W_ho*h)   #出力\n",
    "    Y.append(y)\n",
    "\n",
    "print(Y)"
   ]
  },
  {
   "cell_type": "markdown",
   "metadata": {},
   "source": [
    "## 1-3.RNNの学習するもの\n",
    "RNN自体が学習する重みは**隠れ層間の重み**と、**入力と隠れ層間の重み**の二つです。<br>\n",
    "RNNを時系列方向に展開することで、今まで学んだBack Propagationで誤差を伝搬させていくことで学習します。"
   ]
  },
  {
   "cell_type": "markdown",
   "metadata": {},
   "source": [
    "# 2.kerasによるRNNを用いたsin曲線予測"
   ]
  },
  {
   "cell_type": "markdown",
   "metadata": {},
   "source": [
    "\n",
    "本節ではkerasを用いて、RNNを実装し、sin曲線を予測します。<br>\n",
    "今回作成するモデルは，$y[i]$から$y[i+maxlen-1]$の値から$y[i+maxlen]$の値を予想するモデルです"
   ]
  },
  {
   "cell_type": "code",
   "execution_count": 15,
   "metadata": {
    "collapsed": true
   },
   "outputs": [],
   "source": [
    "import numpy as np\n",
    "import matplotlib.pyplot as plt\n",
    "import tensorflow as tf\n",
    "from keras.models import Model\n",
    "from keras.layers.core import Dense, Activation\n",
    "from keras.layers.recurrent import SimpleRNN\n",
    "from keras.layers import Input\n",
    "from keras.optimizers import Adam\n",
    "from sklearn.model_selection import train_test_split\n",
    "from sklearn.utils import shuffle\n",
    "\n",
    "np.random.seed(0)"
   ]
  },
  {
   "cell_type": "markdown",
   "metadata": {},
   "source": [
    "## 2-1.データの作成\n",
    "$y=sin(x) $  $(0<x<2π)$"
   ]
  },
  {
   "cell_type": "code",
   "execution_count": 16,
   "metadata": {
    "collapsed": true
   },
   "outputs": [],
   "source": [
    "def sin(x, T=100):\n",
    "    return np.sin(2.0 * np.pi * x / T)\n",
    "\n",
    "\n",
    "def toy_problem(T=100, ampl=0.05):\n",
    "    x = np.arange(0, 2 * T + 1)\n",
    "    noise = ampl * np.random.uniform(low=-1.0, high=1.0, size=len(x))\n",
    "    return sin(x) + noise"
   ]
  },
  {
   "cell_type": "code",
   "execution_count": 17,
   "metadata": {},
   "outputs": [
    {
     "data": {
      "image/png": "[encoded data removed]",
      "text/plain": [
       "<matplotlib.figure.Figure at 0x1a1ed44780>"
      ]
     },
     "metadata": {},
     "output_type": "display_data"
    }
   ],
   "source": [
    "T = 100\n",
    "f = toy_problem(T)\n",
    "\n",
    "# 学習させるデータ\n",
    "plt.plot(f)\n",
    "plt.show()"
   ]
  },
  {
   "cell_type": "code",
   "execution_count": 18,
   "metadata": {
    "collapsed": true
   },
   "outputs": [],
   "source": [
    "length_of_sequences = 2 * T\n",
    "maxlen = 25  #　学習させる時刻数\n",
    "\n",
    "data = []\n",
    "target = []\n",
    "\n",
    "for i in range(0, length_of_sequences - maxlen + 1):\n",
    "    data.append(f[i: i + maxlen])#f[i]からf[i+maxlen-1]の値を格納\n",
    "    target.append(f[i + maxlen])#f[i+maxlen]の値を格納"
   ]
  },
  {
   "cell_type": "code",
   "execution_count": 19,
   "metadata": {
    "collapsed": true
   },
   "outputs": [],
   "source": [
    "#kerasのRNNへの入力のshapeが(batch_size, timesteps, input_dim)の3階テンソルなのでレイヤーを末に足します\n",
    "X = np.array(data).reshape(len(data), maxlen, 1)\n",
    "Y = np.array(target).reshape(len(data), 1)\n",
    "\n",
    "X_train, X_validation, Y_train, Y_validation = train_test_split(X, Y, test_size=0.1)"
   ]
  },
  {
   "cell_type": "markdown",
   "metadata": {},
   "source": [
    "## 2-2.入力と出力\n",
    "今回はyの値を直近25stepを入力とし、次時刻の値を予測するモデルを作ります。<br>\n",
    "なので、学習に用いるデータは以下のようになります。\n",
    "\n",
    "- X_train: shape (None, 25,1)\n",
    "- Y_train: shape (None, 1)\n",
    "\n",
    "\n"
   ]
  },
  {
   "cell_type": "markdown",
   "metadata": {},
   "source": [
    "# 2-3.kerasによるRNNの実装"
   ]
  },
  {
   "cell_type": "markdown",
   "metadata": {},
   "source": [
    "## モデルの定義"
   ]
  },
  {
   "cell_type": "code",
   "execution_count": 8,
   "metadata": {
    "collapsed": true
   },
   "outputs": [],
   "source": [
    "n_hidden = 20 # RNNの隠れ層次元\n",
    "\n",
    "inp = Input(shape=(maxlen,1))\n",
    "out = SimpleRNN(n_hidden, kernel_initializer='random_uniform')(inp)    #return_sequence=Trueの場合、各timeごとの隠れ層が返り値となります\n",
    "out = Dense(1,activation='linear',kernel_initializer='random_uniform',)(out)   #次の値を予測するので出力は1  \n",
    "\n",
    "model = Model(inputs=inp, outputs=out)\n",
    "\n",
    "\n",
    "optimizer = Adam(lr=0.001, beta_1=0.9, beta_2=0.999)\n",
    "model.compile(loss='mean_squared_error',\n",
    "              optimizer=optimizer)"
   ]
  },
  {
   "cell_type": "code",
   "execution_count": 9,
   "metadata": {},
   "outputs": [
    {
     "name": "stdout",
     "output_type": "stream",
     "text": [
      "_________________________________________________________________\n",
      "Layer (type)                 Output Shape              Param #   \n",
      "=================================================================\n",
      "input_1 (InputLayer)         (None, 25, 1)             0         \n",
      "_________________________________________________________________\n",
      "simple_rnn_1 (SimpleRNN)     (None, 20)                440       \n",
      "_________________________________________________________________\n",
      "dense_1 (Dense)              (None, 1)                 21        \n",
      "=================================================================\n",
      "Total params: 461\n",
      "Trainable params: 461\n",
      "Non-trainable params: 0\n",
      "_________________________________________________________________\n"
     ]
    }
   ],
   "source": [
    "model.summary()"
   ]
  },
  {
   "cell_type": "markdown",
   "metadata": {},
   "source": [
    "### 学習"
   ]
  },
  {
   "cell_type": "code",
   "execution_count": 10,
   "metadata": {},
   "outputs": [
    {
     "name": "stdout",
     "output_type": "stream",
     "text": [
      "Train on 158 samples, validate on 18 samples\n",
      "Epoch 1/50\n",
      "158/158 [==============================] - 0s 2ms/step - loss: 0.4665 - val_loss: 0.3239\n",
      "Epoch 2/50\n",
      "158/158 [==============================] - 0s 1ms/step - loss: 0.3429 - val_loss: 0.2092\n",
      "Epoch 3/50\n",
      "158/158 [==============================] - 0s 1ms/step - loss: 0.1714 - val_loss: 0.0851\n",
      "Epoch 4/50\n",
      "158/158 [==============================] - 0s 1ms/step - loss: 0.0704 - val_loss: 0.0388\n",
      "Epoch 5/50\n",
      "158/158 [==============================] - 0s 1ms/step - loss: 0.0429 - val_loss: 0.0390\n",
      "Epoch 6/50\n",
      "158/158 [==============================] - 0s 1ms/step - loss: 0.0356 - val_loss: 0.0422\n",
      "Epoch 7/50\n",
      "158/158 [==============================] - 0s 1ms/step - loss: 0.0295 - val_loss: 0.0269\n",
      "Epoch 8/50\n",
      "158/158 [==============================] - 0s 1ms/step - loss: 0.0235 - val_loss: 0.0216\n",
      "Epoch 9/50\n",
      "158/158 [==============================] - 0s 1ms/step - loss: 0.0193 - val_loss: 0.0194\n",
      "Epoch 10/50\n",
      "158/158 [==============================] - 0s 1ms/step - loss: 0.0161 - val_loss: 0.0147\n",
      "Epoch 11/50\n",
      "158/158 [==============================] - 0s 1ms/step - loss: 0.0136 - val_loss: 0.0209\n",
      "Epoch 12/50\n",
      "158/158 [==============================] - 0s 1ms/step - loss: 0.0124 - val_loss: 0.0172\n",
      "Epoch 13/50\n",
      "158/158 [==============================] - 0s 1ms/step - loss: 0.0100 - val_loss: 0.0203\n",
      "Epoch 14/50\n",
      "158/158 [==============================] - 0s 1ms/step - loss: 0.0081 - val_loss: 0.0189\n",
      "Epoch 15/50\n",
      "158/158 [==============================] - 0s 1ms/step - loss: 0.0079 - val_loss: 0.0066\n",
      "Epoch 16/50\n",
      "158/158 [==============================] - 0s 1ms/step - loss: 0.0053 - val_loss: 0.0071\n",
      "Epoch 17/50\n",
      "158/158 [==============================] - 0s 1ms/step - loss: 0.0052 - val_loss: 0.0037\n",
      "Epoch 18/50\n",
      "158/158 [==============================] - 0s 1ms/step - loss: 0.0044 - val_loss: 0.0035\n",
      "Epoch 19/50\n",
      "158/158 [==============================] - 0s 1ms/step - loss: 0.0037 - val_loss: 0.0039\n",
      "Epoch 20/50\n",
      "158/158 [==============================] - 0s 1ms/step - loss: 0.0038 - val_loss: 0.0027\n",
      "Epoch 21/50\n",
      "158/158 [==============================] - 0s 1ms/step - loss: 0.0039 - val_loss: 0.0032\n",
      "Epoch 22/50\n",
      "158/158 [==============================] - 0s 1ms/step - loss: 0.0037 - val_loss: 0.0073\n",
      "Epoch 23/50\n",
      "158/158 [==============================] - 0s 1ms/step - loss: 0.0051 - val_loss: 0.0027\n",
      "Epoch 24/50\n",
      "158/158 [==============================] - 0s 1ms/step - loss: 0.0038 - val_loss: 0.0038\n",
      "Epoch 25/50\n",
      "158/158 [==============================] - 0s 1ms/step - loss: 0.0039 - val_loss: 0.0031\n",
      "Epoch 26/50\n",
      "158/158 [==============================] - 0s 1ms/step - loss: 0.0032 - val_loss: 0.0039\n",
      "Epoch 27/50\n",
      "158/158 [==============================] - 0s 1ms/step - loss: 0.0026 - val_loss: 0.0070\n",
      "Epoch 28/50\n",
      "158/158 [==============================] - 0s 1ms/step - loss: 0.0037 - val_loss: 0.0058\n",
      "Epoch 29/50\n",
      "158/158 [==============================] - 0s 2ms/step - loss: 0.0034 - val_loss: 0.0064\n",
      "Epoch 30/50\n",
      "158/158 [==============================] - 0s 1ms/step - loss: 0.0037 - val_loss: 0.0021\n",
      "Epoch 31/50\n",
      "158/158 [==============================] - 0s 1ms/step - loss: 0.0025 - val_loss: 0.0020\n",
      "Epoch 32/50\n",
      "158/158 [==============================] - 0s 1ms/step - loss: 0.0027 - val_loss: 0.0021\n",
      "Epoch 33/50\n",
      "158/158 [==============================] - 0s 1ms/step - loss: 0.0027 - val_loss: 0.0020\n",
      "Epoch 34/50\n",
      "158/158 [==============================] - 0s 1ms/step - loss: 0.0022 - val_loss: 0.0022\n",
      "Epoch 35/50\n",
      "158/158 [==============================] - 0s 1ms/step - loss: 0.0023 - val_loss: 0.0021\n",
      "Epoch 36/50\n",
      "158/158 [==============================] - 0s 1ms/step - loss: 0.0024 - val_loss: 0.0025\n",
      "Epoch 37/50\n",
      "158/158 [==============================] - 0s 1ms/step - loss: 0.0021 - val_loss: 0.0025\n",
      "Epoch 38/50\n",
      "158/158 [==============================] - 0s 1ms/step - loss: 0.0023 - val_loss: 0.0021\n",
      "Epoch 39/50\n",
      "158/158 [==============================] - 0s 1ms/step - loss: 0.0019 - val_loss: 0.0017\n",
      "Epoch 40/50\n",
      "158/158 [==============================] - 0s 1ms/step - loss: 0.0021 - val_loss: 0.0018\n",
      "Epoch 41/50\n",
      "158/158 [==============================] - 0s 1ms/step - loss: 0.0019 - val_loss: 0.0024\n",
      "Epoch 42/50\n",
      "158/158 [==============================] - 0s 1ms/step - loss: 0.0017 - val_loss: 0.0020\n",
      "Epoch 43/50\n",
      "158/158 [==============================] - 0s 1ms/step - loss: 0.0016 - val_loss: 0.0027\n",
      "Epoch 44/50\n",
      "158/158 [==============================] - 0s 1ms/step - loss: 0.0016 - val_loss: 0.0019\n",
      "Epoch 45/50\n",
      "158/158 [==============================] - 0s 1ms/step - loss: 0.0016 - val_loss: 0.0018\n",
      "Epoch 46/50\n",
      "158/158 [==============================] - 0s 1ms/step - loss: 0.0015 - val_loss: 0.0021\n",
      "Epoch 47/50\n",
      "158/158 [==============================] - 0s 1ms/step - loss: 0.0016 - val_loss: 0.0029\n",
      "Epoch 48/50\n",
      "158/158 [==============================] - 0s 1ms/step - loss: 0.0017 - val_loss: 0.0027\n",
      "Epoch 49/50\n",
      "158/158 [==============================] - 0s 1ms/step - loss: 0.0015 - val_loss: 0.0016\n",
      "Epoch 50/50\n",
      "158/158 [==============================] - 0s 1ms/step - loss: 0.0015 - val_loss: 0.0015\n"
     ]
    },
    {
     "data": {
      "text/plain": [
       "<keras.callbacks.History at 0x1a1b38fcc0>"
      ]
     },
     "execution_count": 10,
     "metadata": {},
     "output_type": "execute_result"
    }
   ],
   "source": [
    "epochs = 50\n",
    "batch_size = 10\n",
    "\n",
    "model.fit(X_train, Y_train,\n",
    "          batch_size=batch_size,\n",
    "          epochs=epochs,\n",
    "          validation_data=(X_validation, Y_validation),\n",
    "          )\n",
    "\n"
   ]
  },
  {
   "cell_type": "markdown",
   "metadata": {},
   "source": [
    "# 2-4.学習結果の可視化\n",
    "\n",
    "前時刻の出力を次の入力とすることで再帰的に出力する。"
   ]
  },
  {
   "cell_type": "code",
   "execution_count": 11,
   "metadata": {
    "collapsed": true
   },
   "outputs": [],
   "source": [
    "truncate = maxlen\n",
    "Z = X[:1]  # 元データの最初の一部だけ切り出し\n",
    "original = [f[i] for i in range(maxlen)]\n",
    "predicted = [None for i in range(maxlen)]\n",
    "timesteps=250\n",
    "\n",
    "for i in range(timesteps):\n",
    "    z_ = Z[-1:]#f[i]からf[i+maxlen-1]までの値\n",
    "    y_ = model.predict(z_)#予想したf[i+maxlen]の値\n",
    "    sequence_ = np.concatenate(\n",
    "        (z_.reshape(maxlen, 1)[1:], y_),\n",
    "        axis=0).reshape(1, maxlen, 1)#f[i+1]からf[i+maxlen]までの値\n",
    "    Z = np.append(Z, sequence_, axis=0)\n",
    "    predicted.append(y_.reshape(-1))#\n",
    "\n"
   ]
  },
  {
   "cell_type": "code",
   "execution_count": 20,
   "metadata": {},
   "outputs": [
    {
     "data": {
      "text/plain": [
       "(251, 25, 1)"
      ]
     },
     "execution_count": 20,
     "metadata": {},
     "output_type": "execute_result"
    }
   ],
   "source": [
    "Z.shape"
   ]
  },
  {
   "cell_type": "code",
   "execution_count": 21,
   "metadata": {},
   "outputs": [
    {
     "data": {
      "text/plain": [
       "(176, 25, 1)"
      ]
     },
     "execution_count": 21,
     "metadata": {},
     "output_type": "execute_result"
    }
   ],
   "source": [
    "X.shape"
   ]
  },
  {
   "cell_type": "code",
   "execution_count": 219,
   "metadata": {},
   "outputs": [
    {
     "data": {
      "image/png": "[encoded data removed]",
      "text/plain": [
       "<matplotlib.figure.Figure at 0x1a1f150c88>"
      ]
     },
     "metadata": {},
     "output_type": "display_data"
    }
   ],
   "source": [
    "plt.plot(predicted)\n",
    "plt.show()"
   ]
  },
  {
   "cell_type": "markdown",
   "metadata": {},
   "source": [
    "# 3,RNNフルスクラッチ"
   ]
  },
  {
   "cell_type": "code",
   "execution_count": 279,
   "metadata": {
    "collapsed": true
   },
   "outputs": [],
   "source": [
    "#  Random orthogonal initializer (see [Saxe et al. 2013])\n",
    "def orthogonal_initializer(shape, scale = 1.0):\n",
    "    a = np.random.normal(0.0, 1.0, shape).astype(np.float32)\n",
    "    u, _, v = np.linalg.svd(a, full_matrices=False)\n",
    "    q = u if u.shape == shape else v\n",
    "    return scale * q\n",
    "\n"
   ]
  },
  {
   "cell_type": "code",
   "execution_count": 280,
   "metadata": {
    "collapsed": true
   },
   "outputs": [],
   "source": [
    "rng = np.random.RandomState(1234)\n",
    "\n",
    "class RNN:\n",
    "    def __init__(self, in_dim, hid_dim):\n",
    "        self.in_dim = in_dim\n",
    "        self.hid_dim = hid_dim\n",
    "        # Xavier initializer\n",
    "        self.W_in = tf.Variable(rng.uniform(\n",
    "                        low=-np.sqrt(6/(in_dim + hid_dim)),\n",
    "                        high=np.sqrt(6/(in_dim + hid_dim)),\n",
    "                        size=(in_dim, hid_dim)\n",
    "                    ).astype('float32'), name='W_in')\n",
    "        # Random orthogonal initializer\n",
    "        self.W_re = tf.Variable(orthogonal_initializer((hid_dim, hid_dim)), name='W_re')\n",
    "        self.b_re = tf.Variable(tf.zeros([hid_dim], dtype=tf.float32), name='b_re')\n",
    "        \n",
    "\n",
    "    def f_prop(self, x):\n",
    "        def fn(h_tm1, x):\n",
    "            h_t = tf.nn.tanh(tf.matmul(h_tm1, self.W_re) + tf.matmul(x, self.W_in) + self.b_re)\n",
    "            return h_t \n",
    "        \n",
    "        # shape: [batch_size, sentence_length, in_dim] -> shape: [sentence_length, batch_size, in_dim]\n",
    "        _x = tf.transpose(x, perm=[1, 0, 2])\n",
    "        \n",
    "        # shape: [batch_size, sentence_length] -> shape: [sentence_length, batch_size]\n",
    "        h_0 = tf.matmul(x[:, 0, :], tf.zeros([self.in_dim, self.hid_dim])) # Initial state\n",
    "        \n",
    "        h = tf.scan(fn=fn, elems=_x, initializer=h_0)\n",
    "        \n",
    "        return h[-1] # Take the last state\n",
    "\n"
   ]
  },
  {
   "cell_type": "markdown",
   "metadata": {},
   "source": [
    "## 補足：グラフ上でのLoop"
   ]
  },
  {
   "cell_type": "markdown",
   "metadata": {},
   "source": [
    "tensorflowの計算グラフ上でloop構造を実現するには, `tf.scan`関数を使用します"
   ]
  },
  {
   "cell_type": "markdown",
   "metadata": {},
   "source": [
    "#### tf.scan関数\n",
    "- 主な引数\n",
    "    - fn: 入力系列に適用する関数\n",
    "    - elems: 入力系列 (第0軸方向に走査していく)\n",
    "    - initializer: 最初の引数\n",
    "    \n",
    "参考:\n",
    "https://www.tensorflow.org/api_docs/python/tf/scan"
   ]
  },
  {
   "cell_type": "markdown",
   "metadata": {},
   "source": [
    "#### tf.scanの機能と注意事項\n",
    "\n",
    "まず, 入力系列に対して適用する関数fnは, fn(a, x)といった様に, 2つの引数を持つものである必要があります.\n",
    "\n",
    "この2つの引数にはそれぞれ役割があり, 次のようになっています.\n",
    "  - 第1引数: 前ステップのfnの出力\n",
    "  - 第2引数: 今ステップの入力(elems)\n",
    "  \n",
    "つまり, 出力される系列は, 例えばelemsの長さがNであれば,\n",
    "\n",
    "$f_1={\\rm fn}(initializer, elems[0])$\n",
    "\n",
    "$f_2={\\rm fn}(f_1, elems[1])$\n",
    "\n",
    "$f_3={\\rm fn}(f_2, elems[2])$\n",
    "\n",
    "$\\vdots$\n",
    "\n",
    "$f_N={\\rm fn}(f_{N-1}, elems[N-1])$\n",
    "\n",
    "ということになります."
   ]
  },
  {
   "cell_type": "markdown",
   "metadata": {},
   "source": [
    "#### 例: initializer\n",
    "* tf.scanのinitializerという引数で，loop構造の初期値を明示的に指定します．特にinitializerが指定されない場合は，上記のように入力系列の最初が初期値となります．"
   ]
  },
  {
   "cell_type": "code",
   "execution_count": 281,
   "metadata": {
    "collapsed": true
   },
   "outputs": [],
   "source": [
    "x = (tf.placeholder(tf.float32), tf.placeholder(tf.float32))\n",
    "init = tf.placeholder(tf.float32)\n",
    "\n",
    "def fn(a, x):\n",
    "    return x[0] - x[1] + a\n",
    "\n",
    "res = tf.scan(fn=fn, elems=x, initializer=init)"
   ]
  },
  {
   "cell_type": "code",
   "execution_count": 282,
   "metadata": {},
   "outputs": [
    {
     "name": "stdout",
     "output_type": "stream",
     "text": [
      "[ 1.  2.  3.  4.  5.  6.]\n"
     ]
    }
   ],
   "source": [
    "elems = np.array([1, 2, 3, 4, 5, 6])\n",
    "with tf.Session() as sess:\n",
    "    print(sess.run(res, feed_dict={\n",
    "            x: (elems+1, elems),\n",
    "            init: np.array(0)\n",
    "    }))"
   ]
  },
  {
   "cell_type": "code",
   "execution_count": null,
   "metadata": {
    "collapsed": true
   },
   "outputs": [],
   "source": []
  },
  {
   "cell_type": "code",
   "execution_count": null,
   "metadata": {
    "collapsed": true
   },
   "outputs": [],
   "source": []
  },
  {
   "cell_type": "code",
   "execution_count": 283,
   "metadata": {
    "collapsed": true
   },
   "outputs": [],
   "source": [
    "class Dense:\n",
    "    def __init__(self, in_dim, out_dim, function=lambda x: x):\n",
    "        # Xavier initializer\n",
    "        self.W = tf.Variable(rng.uniform(\n",
    "                        low=-np.sqrt(6/(in_dim + out_dim)),\n",
    "                        high=np.sqrt(6/(in_dim + out_dim)),\n",
    "                        size=(in_dim, out_dim)\n",
    "                    ).astype('float32'), name='W')\n",
    "        self.b = tf.Variable(np.zeros([out_dim]).astype('float32'))\n",
    "        self.function = function\n",
    "\n",
    "    def f_prop(self, x):\n",
    "        #return self.function(tf.matmul(x, self.W) + self.b)\n",
    "        return tf.matmul(x, self.W) + self.b"
   ]
  },
  {
   "cell_type": "markdown",
   "metadata": {},
   "source": [
    "#### 計算グラフの構築"
   ]
  },
  {
   "cell_type": "code",
   "execution_count": 284,
   "metadata": {
    "collapsed": true
   },
   "outputs": [],
   "source": [
    "hist_steps=25\n",
    "x = tf.placeholder(tf.float32, [None, hist_steps,1], name=\"input_x\")\n",
    "t = tf.placeholder(tf.float32, [None, 1], name=\"input_y\")\n",
    "\n",
    "layers = [\n",
    "    RNN(1, 20),\n",
    "    Dense(20, 1)\n",
    "]\n",
    "\n",
    "def f_props(layers, x):\n",
    "    for i, layer in enumerate(layers):\n",
    "        x = layer.f_prop(x)\n",
    "    return x\n",
    "\n",
    "y = f_props(layers, x)"
   ]
  },
  {
   "cell_type": "code",
   "execution_count": 285,
   "metadata": {
    "collapsed": true
   },
   "outputs": [],
   "source": [
    "cost =  tf.reduce_mean(tf.square(y - t))\n",
    "train = tf.train.AdamOptimizer().minimize(cost)\n",
    "\n"
   ]
  },
  {
   "cell_type": "code",
   "execution_count": 286,
   "metadata": {
    "collapsed": true
   },
   "outputs": [],
   "source": [
    "train_y=Y_train[:,np.newaxis]"
   ]
  },
  {
   "cell_type": "code",
   "execution_count": 290,
   "metadata": {},
   "outputs": [
    {
     "name": "stdout",
     "output_type": "stream",
     "text": [
      "学習開始\n",
      " epoch 1\n",
      "0.0591665\n",
      " epoch 11\n",
      "0.00227107\n",
      " epoch 21\n",
      "0.00171229\n",
      " epoch 31\n",
      "0.00156141\n",
      " epoch 41\n",
      "0.00132832\n"
     ]
    }
   ],
   "source": [
    "n_epochs = 50\n",
    "batch_size = 10\n",
    "n_batches = X_train.shape[0]//batch_size\n",
    "\n",
    "sess = tf.Session()\n",
    "init = tf.global_variables_initializer()\n",
    "sess.run(init)\n",
    "\n",
    "print(\"学習開始\")    \n",
    "for epoch in range(n_epochs):\n",
    "    x_train, y_train = shuffle(X_train, train_y)\n",
    "    \n",
    "    for i in range(n_batches):\n",
    "       \n",
    "        start = i * batch_size\n",
    "        end = start + batch_size\n",
    "        \n",
    "        x_batch = X_train[start:end]\n",
    "        y_batch = Y_train[start:end]\n",
    "        \n",
    "        \n",
    "        _, train_cost = sess.run([train, cost], feed_dict={x:x_batch, t: y_batch})\n",
    "      \n",
    "    if epoch%10==0:     \n",
    "        print(\" epoch \"+str(epoch+1))\n",
    "        print(train_cost)\n",
    "    "
   ]
  },
  {
   "cell_type": "code",
   "execution_count": 291,
   "metadata": {
    "collapsed": true
   },
   "outputs": [],
   "source": [
    "truncate = maxlen\n",
    "Z = X[:1]  # 元データの最初の一部だけ切り出し\n",
    "original = [f[i] for i in range(maxlen)]\n",
    "predicted = [None for i in range(maxlen)]\n",
    "timesteps=250\n",
    "\n",
    "for i in range(timesteps):\n",
    "    z_ = Z[-1:]#f[i]からf[i+maxlen-1]までの値\n",
    "    y_ = sess.run(y, feed_dict={x:z_})#予想したf[i+maxlen]の値\n",
    "    sequence_ = np.concatenate(\n",
    "        (z_.reshape(maxlen, 1)[1:], y_),\n",
    "        axis=0).reshape(1, maxlen, 1)#f[i+1]からf[i+maxlen]までの値\n",
    "    Z = np.append(Z, sequence_, axis=0)\n",
    "    predicted.append(y_.reshape(-1))#\n",
    "\n",
    "\n"
   ]
  },
  {
   "cell_type": "code",
   "execution_count": 292,
   "metadata": {},
   "outputs": [
    {
     "data": {
      "image/png": "[encoded data removed]",
      "text/plain": [
       "<matplotlib.figure.Figure at 0x1a1f37a5f8>"
      ]
     },
     "metadata": {},
     "output_type": "display_data"
    }
   ],
   "source": [
    "plt.plot(predicted)\n",
    "plt.show()"
   ]
  },
  {
   "cell_type": "code",
   "execution_count": null,
   "metadata": {
    "collapsed": true
   },
   "outputs": [],
   "source": []
  }
 ],
 "metadata": {
  "kernelspec": {
   "display_name": "Python 3",
   "language": "python",
   "name": "python3"
  },
  "language_info": {
   "codemirror_mode": {
    "name": "ipython",
    "version": 3
   },
   "file_extension": ".py",
   "mimetype": "text/x-python",
   "name": "python",
   "nbconvert_exporter": "python",
   "pygments_lexer": "ipython3",
   "version": "3.6.3"
  }
 },
 "nbformat": 4,
 "nbformat_minor": 2
}
